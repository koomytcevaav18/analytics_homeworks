{
 "cells": [
  {
   "cell_type": "markdown",
   "metadata": {},
   "source": [
    "# <center> Индивидуальное задание по модулю 5\n",
    "# <center> «Python для автоматизации анализа данных»\n",
    "\n",
    "Выполнила: **Коломыцева Анна**"
   ]
  },
  {
   "cell_type": "markdown",
   "metadata": {},
   "source": [
    "## Описание задачи:\n",
    "**Датасет:** Список лэптопов с параметрами для выбора\n",
    "https://www.kaggle.com/datasets/rajugc/laptop-selection-dataset\n",
    "\n",
    "Этот набор данных содержит информацию о 1000 ноутбуках, доступных на индийском веб-сайте электронной коммерции Flipkart. Данные включают технические характеристики, такие как тип процессора, объем оперативной памяти, емкость жесткого диска, размер экрана, а также операционную систему. Кроме того, набор данных включает рейтинги клиентов и отзывы, а также информацию о ценах. \n",
    "\n",
    "**Цель:** мы хотим выпустить ноутбук, но для этого нам нужно понимать оптимальные параметры для него, следовательно основываясь на пользовательском рейтинге нам нужно выбрать оптимальную ОС, размер хранилища и т.п.\n",
    "\n",
    "**Гипотеза:** если мы выпустим ноутбук с наиболее востребованными характеристиками, то он будет лучше продаваться."
   ]
  },
  {
   "cell_type": "markdown",
   "metadata": {},
   "source": [
    "## План работы:\n",
    "1. Проверить качество данных:\n",
    "    - проверить типы данных колонок и приведите их к нужному типу;\n",
    "    - проверить наличие пропущенных значений и обработайте их;\n",
    "    - проверить данные на наличие дубликатов, и, если необходимо, вычистить их.\n",
    "2. Рассчитать основные статистические показатели для числовых переменных, такие как среднее, медиана и стандартное отклонение. Другие статистические показатели также могут быть рассчитаны в зависимости от конкретных целей и задач анализа данных. Сделать вывод по результатам.\n",
    "3. Построить графики, наиболее релевантные для анализа данных. Графики должны быть информативными и помочь лучше понять данные. При необходимости ввести дополнительные колонки в исходный датафрейм.\n",
    "После построения графиков проанализировать полученные результаты и сделать выводы (например, какие данные имеют наибольшую\n",
    "значимость, какие переменные влияют на результаты). Если это необходимо, доработать с данными на этом этапе.\n",
    "4. Вычислить матрицу корреляции и построть heatmap для нее. Сделать выводы о взаимосвязях, обнаруженных в данных.\n",
    "5. Сделать общий вывод по исследуемому датасету. Предложить возможные способы применения полученных результатов анализа данных. "
   ]
  },
  {
   "cell_type": "code",
   "execution_count": 1,
   "metadata": {},
   "outputs": [],
   "source": [
    "#импорт библиотек\n",
    "import numpy as np #для матричных вычислений\n",
    "import pandas as pd #для анализа и предобработки данных\n",
    "import matplotlib.pyplot as plt #для визуализации\n",
    "import seaborn as sns #для визуализации\n",
    "import plotly.express as px #для визуализации\n",
    "import re # регулярные выражения для преобразования данных"
   ]
  },
  {
   "cell_type": "code",
   "execution_count": 2,
   "metadata": {},
   "outputs": [
    {
     "data": {
      "text/html": [
       "<div>\n",
       "<style scoped>\n",
       "    .dataframe tbody tr th:only-of-type {\n",
       "        vertical-align: middle;\n",
       "    }\n",
       "\n",
       "    .dataframe tbody tr th {\n",
       "        vertical-align: top;\n",
       "    }\n",
       "\n",
       "    .dataframe thead th {\n",
       "        text-align: right;\n",
       "    }\n",
       "</style>\n",
       "<table border=\"1\" class=\"dataframe\">\n",
       "  <thead>\n",
       "    <tr style=\"text-align: right;\">\n",
       "      <th></th>\n",
       "      <th>img_link</th>\n",
       "      <th>name</th>\n",
       "      <th>price(in Rs.)</th>\n",
       "      <th>processor</th>\n",
       "      <th>ram</th>\n",
       "      <th>os</th>\n",
       "      <th>storage</th>\n",
       "      <th>display(in inch)</th>\n",
       "      <th>rating</th>\n",
       "      <th>no_of_ratings</th>\n",
       "      <th>no_of_reviews</th>\n",
       "    </tr>\n",
       "  </thead>\n",
       "  <tbody>\n",
       "    <tr>\n",
       "      <th>631</th>\n",
       "      <td>https://rukminim1.flixcart.com/image/312/312/x...</td>\n",
       "      <td>Lenovo V15 G2 Core i3 11th Gen</td>\n",
       "      <td>37500</td>\n",
       "      <td>Intel Core i3 Processor (11th Gen)</td>\n",
       "      <td>8 GB DDR4 RAM</td>\n",
       "      <td>64 bit Windows 11 Operating System</td>\n",
       "      <td>1 TB HDD|256 GB SSD</td>\n",
       "      <td>15.6</td>\n",
       "      <td>4.4</td>\n",
       "      <td>53.0</td>\n",
       "      <td>3.0</td>\n",
       "    </tr>\n",
       "    <tr>\n",
       "      <th>226</th>\n",
       "      <td>https://rukminim1.flixcart.com/image/312/312/x...</td>\n",
       "      <td>ASUS Vivobook 15 Ryzen 3 Dual Core AMD R3</td>\n",
       "      <td>34990</td>\n",
       "      <td>AMD Ryzen 3 Dual Core Processor</td>\n",
       "      <td>8 GB DDR4 RAM</td>\n",
       "      <td>Windows 11 Operating System</td>\n",
       "      <td>512 GB SSD</td>\n",
       "      <td>15.6</td>\n",
       "      <td>4.4</td>\n",
       "      <td>405.0</td>\n",
       "      <td>48.0</td>\n",
       "    </tr>\n",
       "    <tr>\n",
       "      <th>678</th>\n",
       "      <td>https://rukminim1.flixcart.com/image/312/312/x...</td>\n",
       "      <td>MSI Core i7 13th Gen</td>\n",
       "      <td>147990</td>\n",
       "      <td>Intel Core i7 Processor (13th Gen)</td>\n",
       "      <td>16 GB DDR5 RAM</td>\n",
       "      <td>Windows 11 Operating System</td>\n",
       "      <td>1 TB SSD</td>\n",
       "      <td>17.3</td>\n",
       "      <td>NaN</td>\n",
       "      <td>NaN</td>\n",
       "      <td>NaN</td>\n",
       "    </tr>\n",
       "  </tbody>\n",
       "</table>\n",
       "</div>"
      ],
      "text/plain": [
       "                                              img_link  \\\n",
       "631  https://rukminim1.flixcart.com/image/312/312/x...   \n",
       "226  https://rukminim1.flixcart.com/image/312/312/x...   \n",
       "678  https://rukminim1.flixcart.com/image/312/312/x...   \n",
       "\n",
       "                                          name  price(in Rs.)  \\\n",
       "631             Lenovo V15 G2 Core i3 11th Gen          37500   \n",
       "226  ASUS Vivobook 15 Ryzen 3 Dual Core AMD R3          34990   \n",
       "678                       MSI Core i7 13th Gen         147990   \n",
       "\n",
       "                              processor             ram  \\\n",
       "631  Intel Core i3 Processor (11th Gen)   8 GB DDR4 RAM   \n",
       "226     AMD Ryzen 3 Dual Core Processor   8 GB DDR4 RAM   \n",
       "678  Intel Core i7 Processor (13th Gen)  16 GB DDR5 RAM   \n",
       "\n",
       "                                     os              storage  \\\n",
       "631  64 bit Windows 11 Operating System  1 TB HDD|256 GB SSD   \n",
       "226         Windows 11 Operating System           512 GB SSD   \n",
       "678         Windows 11 Operating System             1 TB SSD   \n",
       "\n",
       "     display(in inch)  rating  no_of_ratings  no_of_reviews  \n",
       "631              15.6     4.4           53.0            3.0  \n",
       "226              15.6     4.4          405.0           48.0  \n",
       "678              17.3     NaN            NaN            NaN  "
      ]
     },
     "metadata": {},
     "output_type": "display_data"
    }
   ],
   "source": [
    "# чтение датасета\n",
    "data = pd.read_csv('laptops.csv', index_col='Unnamed: 0')\n",
    "display(data.sample(3))"
   ]
  },
  {
   "cell_type": "markdown",
   "metadata": {},
   "source": [
    "## 1. Проверка качества данных"
   ]
  },
  {
   "cell_type": "code",
   "execution_count": 3,
   "metadata": {},
   "outputs": [
    {
     "name": "stdout",
     "output_type": "stream",
     "text": [
      "<class 'pandas.core.frame.DataFrame'>\n",
      "Int64Index: 984 entries, 0 to 983\n",
      "Data columns (total 11 columns):\n",
      " #   Column            Non-Null Count  Dtype  \n",
      "---  ------            --------------  -----  \n",
      " 0   img_link          984 non-null    object \n",
      " 1   name              984 non-null    object \n",
      " 2   price(in Rs.)     984 non-null    int64  \n",
      " 3   processor         984 non-null    object \n",
      " 4   ram               984 non-null    object \n",
      " 5   os                984 non-null    object \n",
      " 6   storage           984 non-null    object \n",
      " 7   display(in inch)  984 non-null    float64\n",
      " 8   rating            688 non-null    float64\n",
      " 9   no_of_ratings     688 non-null    float64\n",
      " 10  no_of_reviews     688 non-null    float64\n",
      "dtypes: float64(4), int64(1), object(6)\n",
      "memory usage: 92.2+ KB\n"
     ]
    }
   ],
   "source": [
    "data.info()"
   ]
  },
  {
   "cell_type": "markdown",
   "metadata": {},
   "source": [
    "Данные содержат столбцы:\n",
    "- тип object:\n",
    "    - ссылка\n",
    "    - название\n",
    "    - тип процессора\n",
    "    - емкость жесткого диска (storage)\n",
    "    - объем оперативной памяти (ram)\n",
    "    - операционная система\n",
    "- числовые типы:\n",
    "    - цена\n",
    "    - рейтинг\n",
    "    - размер экрана\n",
    "    - число оценок\n",
    "    - число отзывов\n",
    "\n",
    "Можно из ram и storage выделить численные значения объемов памяти. "
   ]
  },
  {
   "cell_type": "markdown",
   "metadata": {},
   "source": [
    "### Преобразование типов данных"
   ]
  },
  {
   "cell_type": "code",
   "execution_count": 4,
   "metadata": {},
   "outputs": [
    {
     "data": {
      "text/plain": [
       "8 GB DDR4 RAM               463\n",
       "16 GB DDR4 RAM              235\n",
       "16 GB DDR5 RAM               72\n",
       "4 GB DDR4 RAM                45\n",
       "8 GB LPDDR4X RAM             23\n",
       "16 GB LPDDR5 RAM             22\n",
       "32 GB DDR5 RAM               21\n",
       "16 GB LPDDR4X RAM            18\n",
       "4 GB LPDDR4 RAM              14\n",
       "16 GB Unified Memory RAM     13\n",
       "8 GB DDR5 RAM                12\n",
       "8 GB Unified Memory RAM       9\n",
       "32 GB DDR4 RAM                7\n",
       "8 GB DDR3 RAM                 7\n",
       "32 GB LPDDR5 RAM              5\n",
       "4 GB LPDDR4X RAM              5\n",
       "16 GB LPDDR3 RAM              5\n",
       "8 GB LPDDR3 RAM               4\n",
       "32 GB Unified Memory RAM      1\n",
       "16 GB LPDDR4 RAM              1\n",
       "32 GB LPDDR4X RAM             1\n",
       "16 GB DDR3 RAM                1\n",
       "Name: ram, dtype: int64"
      ]
     },
     "execution_count": 4,
     "metadata": {},
     "output_type": "execute_result"
    }
   ],
   "source": [
    "data['ram'].value_counts()"
   ]
  },
  {
   "cell_type": "markdown",
   "metadata": {},
   "source": [
    "Оставим в столбце ram только информацию о числе Гб"
   ]
  },
  {
   "cell_type": "code",
   "execution_count": 5,
   "metadata": {},
   "outputs": [
    {
     "data": {
      "text/plain": [
       "array([16,  8,  4, 32], dtype=int64)"
      ]
     },
     "execution_count": 5,
     "metadata": {},
     "output_type": "execute_result"
    }
   ],
   "source": [
    "data['ram (GB)'] = data['ram'].apply(lambda x: int(x.split()[0]))\n",
    "data = data.drop('ram', axis=1)\n",
    "data['ram (GB)'].unique()"
   ]
  },
  {
   "cell_type": "code",
   "execution_count": 6,
   "metadata": {},
   "outputs": [
    {
     "data": {
      "text/plain": [
       "512 GB SSD                                                                                                                                                                                                              575\n",
       "1 TB SSD                                                                                                                                                                                                                154\n",
       "256 GB SSD                                                                                                                                                                                                              123\n",
       "1 TB HDD|256 GB SSD                                                                                                                                                                                                      63\n",
       "1 TB HDD                                                                                                                                                                                                                 33\n",
       "2 TB SSD                                                                                                                                                                                                                 11\n",
       "128 GB SSD                                                                                                                                                                                                                8\n",
       "1 TB HDD|512 GB SSD                                                                                                                                                                                                       4\n",
       "512 GB HDD|512 GB SSD                                                                                                                                                                                                     3\n",
       "1 TB HDD|128 GB SSD                                                                                                                                                                                                       3\n",
       "256 GB HDD|256 GB SSD                                                                                                                                                                                                     2\n",
       "4 TB SSD                                                                                                                                                                                                                  1\n",
       "PCI-e SSD (NVMe) ready,Silver-Lining Print Keyboard,Matrix Display (Extend),Cooler Boost 5,Hi-Res Audio,Nahimic 3,144Hz Panel,Thin Bezel,RGB Gaming Keyboard,Speaker Tuning Engine,MSI Center                             1\n",
       "PCI-e Gen4 SSD?SHIFT?Matrix Display (Extend)?Cooler Boost 3?Thunderbolt 4?Finger Print Security?True Color 2.0?Hi-Res Audio?Nahimic 3? 4-Sided Thin bezel?MSI Center?Silky Smooth Touchpad?Military-Grade Durability      1\n",
       "2 TB HDD                                                                                                                                                                                                                  1\n",
       "256 GB HDD                                                                                                                                                                                                                1\n",
       "Name: storage, dtype: int64"
      ]
     },
     "execution_count": 6,
     "metadata": {},
     "output_type": "execute_result"
    }
   ],
   "source": [
    "data['storage'].value_counts()"
   ]
  },
  {
   "cell_type": "markdown",
   "metadata": {},
   "source": [
    "Из данных столбца storage создадим столбцы HDD и SSD, где укажем наличие (True) или отсутствие (False) жесткого диска и твердотельного накопителя соответственно, и столбец суммарной системной памяти в Гб."
   ]
  },
  {
   "cell_type": "code",
   "execution_count": 7,
   "metadata": {},
   "outputs": [],
   "source": [
    "def storage_GB(storage):\n",
    "    gb_hdd = re.search(r'\\d+ GB HDD', storage)\n",
    "    tb_hdd = re.search(r'\\d+ TB HDD', storage)\n",
    "    gb_hdd = int(gb_hdd[0].split()[0]) if gb_hdd else 0 # количество GB жесткого диска\n",
    "    tb_hdd = int(tb_hdd[0].split()[0]) if tb_hdd else 0 # количество TB жесткого диска\n",
    "    gb_ssd = re.search(r'\\d+ GB SSD', storage)\n",
    "    tb_ssd = re.search(r'\\d+ TB SSD', storage)\n",
    "    gb_ssd = int(gb_ssd[0].split()[0]) if gb_ssd else 0 # количество GB твердотельного накопителя\n",
    "    tb_ssd = int(tb_ssd[0].split()[0]) if tb_ssd else 0 # количество TB твердотельного накопителя\n",
    "    return gb_hdd + gb_ssd + 1024*(tb_hdd + tb_ssd) if gb_hdd + gb_ssd + tb_ssd + tb_hdd>0 else None\n",
    "\n",
    "data['HDD'] = data['storage'].apply(lambda x: 'HDD' in x)\n",
    "data['SSD'] = data['storage'].apply(lambda x: 'SSD' in x)\n",
    "data['storage (GB)'] = data['storage'].apply(storage_GB)\n",
    "data = data.drop('storage', axis=1)"
   ]
  },
  {
   "cell_type": "markdown",
   "metadata": {},
   "source": [
    "Посмотрим на число уникальных значений в колонках датасета"
   ]
  },
  {
   "cell_type": "code",
   "execution_count": 8,
   "metadata": {},
   "outputs": [
    {
     "data": {
      "text/plain": [
       "img_link            584\n",
       "name                506\n",
       "price(in Rs.)       449\n",
       "processor            59\n",
       "os                   11\n",
       "display(in inch)     21\n",
       "rating               20\n",
       "no_of_ratings       273\n",
       "no_of_reviews       147\n",
       "ram (GB)              4\n",
       "HDD                   2\n",
       "SSD                   2\n",
       "storage (GB)          9\n",
       "dtype: int64"
      ]
     },
     "execution_count": 8,
     "metadata": {},
     "output_type": "execute_result"
    }
   ],
   "source": [
    "data.nunique()"
   ]
  },
  {
   "cell_type": "code",
   "execution_count": 9,
   "metadata": {},
   "outputs": [
    {
     "data": {
      "text/plain": [
       "64 bit Windows 11 Operating System    527\n",
       "64 bit Windows 10 Operating System    195\n",
       "Windows 11 Operating System           183\n",
       "Mac OS Operating System                38\n",
       "Windows 10 Operating System            16\n",
       "Chrome Operating System                 8\n",
       "DOS Operating System                    6\n",
       "64 bit Chrome Operating System          6\n",
       "32 bit Windows 11 Operating System      3\n",
       "64 bit DOS Operating System             1\n",
       "64 bit Windows 8 Operating System       1\n",
       "Name: os, dtype: int64"
      ]
     },
     "execution_count": 9,
     "metadata": {},
     "output_type": "execute_result"
    }
   ],
   "source": [
    "data['os'].value_counts()"
   ]
  },
  {
   "cell_type": "markdown",
   "metadata": {},
   "source": [
    "Среди непреобразованных категориальных переменных меньше всего типов для операционной системы. В части записей отсутствует информация о разрядной архитектуре (bit - 32 или 64), причем 32 bit присутстсвует только в 3 записях, поэтому удалим эту информацию из os. В дальнейшем будем считать будем считать предпочтительным 64 bit, поскольку этот вариант более распростроненный."
   ]
  },
  {
   "cell_type": "code",
   "execution_count": 10,
   "metadata": {},
   "outputs": [
    {
     "data": {
      "text/html": [
       "<div>\n",
       "<style scoped>\n",
       "    .dataframe tbody tr th:only-of-type {\n",
       "        vertical-align: middle;\n",
       "    }\n",
       "\n",
       "    .dataframe tbody tr th {\n",
       "        vertical-align: top;\n",
       "    }\n",
       "\n",
       "    .dataframe thead th {\n",
       "        text-align: right;\n",
       "    }\n",
       "</style>\n",
       "<table border=\"1\" class=\"dataframe\">\n",
       "  <thead>\n",
       "    <tr style=\"text-align: right;\">\n",
       "      <th></th>\n",
       "      <th>img_link</th>\n",
       "      <th>name</th>\n",
       "      <th>price(in Rs.)</th>\n",
       "      <th>processor</th>\n",
       "      <th>os</th>\n",
       "      <th>display(in inch)</th>\n",
       "      <th>rating</th>\n",
       "      <th>no_of_ratings</th>\n",
       "      <th>no_of_reviews</th>\n",
       "      <th>ram (GB)</th>\n",
       "      <th>HDD</th>\n",
       "      <th>SSD</th>\n",
       "      <th>storage (GB)</th>\n",
       "    </tr>\n",
       "  </thead>\n",
       "  <tbody>\n",
       "    <tr>\n",
       "      <th>177</th>\n",
       "      <td>https://rukminim1.flixcart.com/image/312/312/x...</td>\n",
       "      <td>Lenovo IdeaPad Ryzen 5 Hexa Core 5500U</td>\n",
       "      <td>47990</td>\n",
       "      <td>AMD Ryzen 5 Hexa Core Processor</td>\n",
       "      <td>Windows 11 Operating System</td>\n",
       "      <td>15.6</td>\n",
       "      <td>4.6</td>\n",
       "      <td>8.0</td>\n",
       "      <td>0.0</td>\n",
       "      <td>8</td>\n",
       "      <td>False</td>\n",
       "      <td>True</td>\n",
       "      <td>512.0</td>\n",
       "    </tr>\n",
       "    <tr>\n",
       "      <th>815</th>\n",
       "      <td>https://rukminim1.flixcart.com/image/312/312/l...</td>\n",
       "      <td>ASUS TUF Gaming A17 Ryzen 7 Octa Core AMD R7</td>\n",
       "      <td>85990</td>\n",
       "      <td>AMD Ryzen 7 Octa Core Processor</td>\n",
       "      <td>Windows 10 Operating System</td>\n",
       "      <td>17.3</td>\n",
       "      <td>4.5</td>\n",
       "      <td>1468.0</td>\n",
       "      <td>194.0</td>\n",
       "      <td>16</td>\n",
       "      <td>False</td>\n",
       "      <td>True</td>\n",
       "      <td>512.0</td>\n",
       "    </tr>\n",
       "    <tr>\n",
       "      <th>720</th>\n",
       "      <td>https://rukminim1.flixcart.com/image/312/312/x...</td>\n",
       "      <td>HP 15s Intel Core i5 12th Gen</td>\n",
       "      <td>63290</td>\n",
       "      <td>Intel Core i5 Processor (12th Gen)</td>\n",
       "      <td>Windows 11 Operating System</td>\n",
       "      <td>15.6</td>\n",
       "      <td>4.1</td>\n",
       "      <td>125.0</td>\n",
       "      <td>9.0</td>\n",
       "      <td>16</td>\n",
       "      <td>False</td>\n",
       "      <td>True</td>\n",
       "      <td>512.0</td>\n",
       "    </tr>\n",
       "  </tbody>\n",
       "</table>\n",
       "</div>"
      ],
      "text/plain": [
       "                                              img_link  \\\n",
       "177  https://rukminim1.flixcart.com/image/312/312/x...   \n",
       "815  https://rukminim1.flixcart.com/image/312/312/l...   \n",
       "720  https://rukminim1.flixcart.com/image/312/312/x...   \n",
       "\n",
       "                                             name  price(in Rs.)  \\\n",
       "177        Lenovo IdeaPad Ryzen 5 Hexa Core 5500U          47990   \n",
       "815  ASUS TUF Gaming A17 Ryzen 7 Octa Core AMD R7          85990   \n",
       "720                 HP 15s Intel Core i5 12th Gen          63290   \n",
       "\n",
       "                              processor                           os  \\\n",
       "177     AMD Ryzen 5 Hexa Core Processor  Windows 11 Operating System   \n",
       "815     AMD Ryzen 7 Octa Core Processor  Windows 10 Operating System   \n",
       "720  Intel Core i5 Processor (12th Gen)  Windows 11 Operating System   \n",
       "\n",
       "     display(in inch)  rating  no_of_ratings  no_of_reviews  ram (GB)    HDD  \\\n",
       "177              15.6     4.6            8.0            0.0         8  False   \n",
       "815              17.3     4.5         1468.0          194.0        16  False   \n",
       "720              15.6     4.1          125.0            9.0        16  False   \n",
       "\n",
       "      SSD  storage (GB)  \n",
       "177  True         512.0  \n",
       "815  True         512.0  \n",
       "720  True         512.0  "
      ]
     },
     "metadata": {},
     "output_type": "display_data"
    }
   ],
   "source": [
    "data['os'] = data['os'].apply(lambda x: x.strip('3264 bit'))\n",
    "display(data.sample(3))"
   ]
  },
  {
   "cell_type": "markdown",
   "metadata": {},
   "source": [
    "### Обработка пропусков"
   ]
  },
  {
   "cell_type": "code",
   "execution_count": 11,
   "metadata": {},
   "outputs": [
    {
     "data": {
      "text/plain": [
       "rating           30.081301\n",
       "no_of_ratings    30.081301\n",
       "no_of_reviews    30.081301\n",
       "storage (GB)      0.203252\n",
       "dtype: float64"
      ]
     },
     "metadata": {},
     "output_type": "display_data"
    },
    {
     "data": {
      "application/vnd.plotly.v1+json": {
       "config": {
        "plotlyServerURL": "https://plot.ly"
       },
       "data": [
        {
         "alignmentgroup": "True",
         "hovertemplate": "variable=0<br>Колонки с пропусками=%{x}<br>Процент пропущенных значений=%{y}<extra></extra>",
         "legendgroup": "0",
         "marker": {
          "color": "rgb(0, 147, 146)",
          "pattern": {
           "shape": ""
          }
         },
         "name": "0",
         "offsetgroup": "0",
         "orientation": "v",
         "showlegend": true,
         "textposition": "auto",
         "type": "bar",
         "x": [
          "rating",
          "no_of_ratings",
          "no_of_reviews",
          "storage (GB)"
         ],
         "xaxis": "x",
         "y": [
          30.081300813008134,
          30.081300813008134,
          30.081300813008134,
          0.20325203252032523
         ],
         "yaxis": "y"
        }
       ],
       "layout": {
        "barmode": "relative",
        "legend": {
         "title": {
          "text": "variable"
         },
         "tracegroupgap": 0
        },
        "template": {
         "data": {
          "bar": [
           {
            "error_x": {
             "color": "#2a3f5f"
            },
            "error_y": {
             "color": "#2a3f5f"
            },
            "marker": {
             "line": {
              "color": "#E5ECF6",
              "width": 0.5
             },
             "pattern": {
              "fillmode": "overlay",
              "size": 10,
              "solidity": 0.2
             }
            },
            "type": "bar"
           }
          ],
          "barpolar": [
           {
            "marker": {
             "line": {
              "color": "#E5ECF6",
              "width": 0.5
             },
             "pattern": {
              "fillmode": "overlay",
              "size": 10,
              "solidity": 0.2
             }
            },
            "type": "barpolar"
           }
          ],
          "carpet": [
           {
            "aaxis": {
             "endlinecolor": "#2a3f5f",
             "gridcolor": "white",
             "linecolor": "white",
             "minorgridcolor": "white",
             "startlinecolor": "#2a3f5f"
            },
            "baxis": {
             "endlinecolor": "#2a3f5f",
             "gridcolor": "white",
             "linecolor": "white",
             "minorgridcolor": "white",
             "startlinecolor": "#2a3f5f"
            },
            "type": "carpet"
           }
          ],
          "choropleth": [
           {
            "colorbar": {
             "outlinewidth": 0,
             "ticks": ""
            },
            "type": "choropleth"
           }
          ],
          "contour": [
           {
            "colorbar": {
             "outlinewidth": 0,
             "ticks": ""
            },
            "colorscale": [
             [
              0,
              "#0d0887"
             ],
             [
              0.1111111111111111,
              "#46039f"
             ],
             [
              0.2222222222222222,
              "#7201a8"
             ],
             [
              0.3333333333333333,
              "#9c179e"
             ],
             [
              0.4444444444444444,
              "#bd3786"
             ],
             [
              0.5555555555555556,
              "#d8576b"
             ],
             [
              0.6666666666666666,
              "#ed7953"
             ],
             [
              0.7777777777777778,
              "#fb9f3a"
             ],
             [
              0.8888888888888888,
              "#fdca26"
             ],
             [
              1,
              "#f0f921"
             ]
            ],
            "type": "contour"
           }
          ],
          "contourcarpet": [
           {
            "colorbar": {
             "outlinewidth": 0,
             "ticks": ""
            },
            "type": "contourcarpet"
           }
          ],
          "heatmap": [
           {
            "colorbar": {
             "outlinewidth": 0,
             "ticks": ""
            },
            "colorscale": [
             [
              0,
              "#0d0887"
             ],
             [
              0.1111111111111111,
              "#46039f"
             ],
             [
              0.2222222222222222,
              "#7201a8"
             ],
             [
              0.3333333333333333,
              "#9c179e"
             ],
             [
              0.4444444444444444,
              "#bd3786"
             ],
             [
              0.5555555555555556,
              "#d8576b"
             ],
             [
              0.6666666666666666,
              "#ed7953"
             ],
             [
              0.7777777777777778,
              "#fb9f3a"
             ],
             [
              0.8888888888888888,
              "#fdca26"
             ],
             [
              1,
              "#f0f921"
             ]
            ],
            "type": "heatmap"
           }
          ],
          "heatmapgl": [
           {
            "colorbar": {
             "outlinewidth": 0,
             "ticks": ""
            },
            "colorscale": [
             [
              0,
              "#0d0887"
             ],
             [
              0.1111111111111111,
              "#46039f"
             ],
             [
              0.2222222222222222,
              "#7201a8"
             ],
             [
              0.3333333333333333,
              "#9c179e"
             ],
             [
              0.4444444444444444,
              "#bd3786"
             ],
             [
              0.5555555555555556,
              "#d8576b"
             ],
             [
              0.6666666666666666,
              "#ed7953"
             ],
             [
              0.7777777777777778,
              "#fb9f3a"
             ],
             [
              0.8888888888888888,
              "#fdca26"
             ],
             [
              1,
              "#f0f921"
             ]
            ],
            "type": "heatmapgl"
           }
          ],
          "histogram": [
           {
            "marker": {
             "pattern": {
              "fillmode": "overlay",
              "size": 10,
              "solidity": 0.2
             }
            },
            "type": "histogram"
           }
          ],
          "histogram2d": [
           {
            "colorbar": {
             "outlinewidth": 0,
             "ticks": ""
            },
            "colorscale": [
             [
              0,
              "#0d0887"
             ],
             [
              0.1111111111111111,
              "#46039f"
             ],
             [
              0.2222222222222222,
              "#7201a8"
             ],
             [
              0.3333333333333333,
              "#9c179e"
             ],
             [
              0.4444444444444444,
              "#bd3786"
             ],
             [
              0.5555555555555556,
              "#d8576b"
             ],
             [
              0.6666666666666666,
              "#ed7953"
             ],
             [
              0.7777777777777778,
              "#fb9f3a"
             ],
             [
              0.8888888888888888,
              "#fdca26"
             ],
             [
              1,
              "#f0f921"
             ]
            ],
            "type": "histogram2d"
           }
          ],
          "histogram2dcontour": [
           {
            "colorbar": {
             "outlinewidth": 0,
             "ticks": ""
            },
            "colorscale": [
             [
              0,
              "#0d0887"
             ],
             [
              0.1111111111111111,
              "#46039f"
             ],
             [
              0.2222222222222222,
              "#7201a8"
             ],
             [
              0.3333333333333333,
              "#9c179e"
             ],
             [
              0.4444444444444444,
              "#bd3786"
             ],
             [
              0.5555555555555556,
              "#d8576b"
             ],
             [
              0.6666666666666666,
              "#ed7953"
             ],
             [
              0.7777777777777778,
              "#fb9f3a"
             ],
             [
              0.8888888888888888,
              "#fdca26"
             ],
             [
              1,
              "#f0f921"
             ]
            ],
            "type": "histogram2dcontour"
           }
          ],
          "mesh3d": [
           {
            "colorbar": {
             "outlinewidth": 0,
             "ticks": ""
            },
            "type": "mesh3d"
           }
          ],
          "parcoords": [
           {
            "line": {
             "colorbar": {
              "outlinewidth": 0,
              "ticks": ""
             }
            },
            "type": "parcoords"
           }
          ],
          "pie": [
           {
            "automargin": true,
            "type": "pie"
           }
          ],
          "scatter": [
           {
            "fillpattern": {
             "fillmode": "overlay",
             "size": 10,
             "solidity": 0.2
            },
            "type": "scatter"
           }
          ],
          "scatter3d": [
           {
            "line": {
             "colorbar": {
              "outlinewidth": 0,
              "ticks": ""
             }
            },
            "marker": {
             "colorbar": {
              "outlinewidth": 0,
              "ticks": ""
             }
            },
            "type": "scatter3d"
           }
          ],
          "scattercarpet": [
           {
            "marker": {
             "colorbar": {
              "outlinewidth": 0,
              "ticks": ""
             }
            },
            "type": "scattercarpet"
           }
          ],
          "scattergeo": [
           {
            "marker": {
             "colorbar": {
              "outlinewidth": 0,
              "ticks": ""
             }
            },
            "type": "scattergeo"
           }
          ],
          "scattergl": [
           {
            "marker": {
             "colorbar": {
              "outlinewidth": 0,
              "ticks": ""
             }
            },
            "type": "scattergl"
           }
          ],
          "scattermapbox": [
           {
            "marker": {
             "colorbar": {
              "outlinewidth": 0,
              "ticks": ""
             }
            },
            "type": "scattermapbox"
           }
          ],
          "scatterpolar": [
           {
            "marker": {
             "colorbar": {
              "outlinewidth": 0,
              "ticks": ""
             }
            },
            "type": "scatterpolar"
           }
          ],
          "scatterpolargl": [
           {
            "marker": {
             "colorbar": {
              "outlinewidth": 0,
              "ticks": ""
             }
            },
            "type": "scatterpolargl"
           }
          ],
          "scatterternary": [
           {
            "marker": {
             "colorbar": {
              "outlinewidth": 0,
              "ticks": ""
             }
            },
            "type": "scatterternary"
           }
          ],
          "surface": [
           {
            "colorbar": {
             "outlinewidth": 0,
             "ticks": ""
            },
            "colorscale": [
             [
              0,
              "#0d0887"
             ],
             [
              0.1111111111111111,
              "#46039f"
             ],
             [
              0.2222222222222222,
              "#7201a8"
             ],
             [
              0.3333333333333333,
              "#9c179e"
             ],
             [
              0.4444444444444444,
              "#bd3786"
             ],
             [
              0.5555555555555556,
              "#d8576b"
             ],
             [
              0.6666666666666666,
              "#ed7953"
             ],
             [
              0.7777777777777778,
              "#fb9f3a"
             ],
             [
              0.8888888888888888,
              "#fdca26"
             ],
             [
              1,
              "#f0f921"
             ]
            ],
            "type": "surface"
           }
          ],
          "table": [
           {
            "cells": {
             "fill": {
              "color": "#EBF0F8"
             },
             "line": {
              "color": "white"
             }
            },
            "header": {
             "fill": {
              "color": "#C8D4E3"
             },
             "line": {
              "color": "white"
             }
            },
            "type": "table"
           }
          ]
         },
         "layout": {
          "annotationdefaults": {
           "arrowcolor": "#2a3f5f",
           "arrowhead": 0,
           "arrowwidth": 1
          },
          "autotypenumbers": "strict",
          "coloraxis": {
           "colorbar": {
            "outlinewidth": 0,
            "ticks": ""
           }
          },
          "colorscale": {
           "diverging": [
            [
             0,
             "#8e0152"
            ],
            [
             0.1,
             "#c51b7d"
            ],
            [
             0.2,
             "#de77ae"
            ],
            [
             0.3,
             "#f1b6da"
            ],
            [
             0.4,
             "#fde0ef"
            ],
            [
             0.5,
             "#f7f7f7"
            ],
            [
             0.6,
             "#e6f5d0"
            ],
            [
             0.7,
             "#b8e186"
            ],
            [
             0.8,
             "#7fbc41"
            ],
            [
             0.9,
             "#4d9221"
            ],
            [
             1,
             "#276419"
            ]
           ],
           "sequential": [
            [
             0,
             "#0d0887"
            ],
            [
             0.1111111111111111,
             "#46039f"
            ],
            [
             0.2222222222222222,
             "#7201a8"
            ],
            [
             0.3333333333333333,
             "#9c179e"
            ],
            [
             0.4444444444444444,
             "#bd3786"
            ],
            [
             0.5555555555555556,
             "#d8576b"
            ],
            [
             0.6666666666666666,
             "#ed7953"
            ],
            [
             0.7777777777777778,
             "#fb9f3a"
            ],
            [
             0.8888888888888888,
             "#fdca26"
            ],
            [
             1,
             "#f0f921"
            ]
           ],
           "sequentialminus": [
            [
             0,
             "#0d0887"
            ],
            [
             0.1111111111111111,
             "#46039f"
            ],
            [
             0.2222222222222222,
             "#7201a8"
            ],
            [
             0.3333333333333333,
             "#9c179e"
            ],
            [
             0.4444444444444444,
             "#bd3786"
            ],
            [
             0.5555555555555556,
             "#d8576b"
            ],
            [
             0.6666666666666666,
             "#ed7953"
            ],
            [
             0.7777777777777778,
             "#fb9f3a"
            ],
            [
             0.8888888888888888,
             "#fdca26"
            ],
            [
             1,
             "#f0f921"
            ]
           ]
          },
          "colorway": [
           "#636efa",
           "#EF553B",
           "#00cc96",
           "#ab63fa",
           "#FFA15A",
           "#19d3f3",
           "#FF6692",
           "#B6E880",
           "#FF97FF",
           "#FECB52"
          ],
          "font": {
           "color": "#2a3f5f"
          },
          "geo": {
           "bgcolor": "white",
           "lakecolor": "white",
           "landcolor": "#E5ECF6",
           "showlakes": true,
           "showland": true,
           "subunitcolor": "white"
          },
          "hoverlabel": {
           "align": "left"
          },
          "hovermode": "closest",
          "mapbox": {
           "style": "light"
          },
          "paper_bgcolor": "white",
          "plot_bgcolor": "#E5ECF6",
          "polar": {
           "angularaxis": {
            "gridcolor": "white",
            "linecolor": "white",
            "ticks": ""
           },
           "bgcolor": "#E5ECF6",
           "radialaxis": {
            "gridcolor": "white",
            "linecolor": "white",
            "ticks": ""
           }
          },
          "scene": {
           "xaxis": {
            "backgroundcolor": "#E5ECF6",
            "gridcolor": "white",
            "gridwidth": 2,
            "linecolor": "white",
            "showbackground": true,
            "ticks": "",
            "zerolinecolor": "white"
           },
           "yaxis": {
            "backgroundcolor": "#E5ECF6",
            "gridcolor": "white",
            "gridwidth": 2,
            "linecolor": "white",
            "showbackground": true,
            "ticks": "",
            "zerolinecolor": "white"
           },
           "zaxis": {
            "backgroundcolor": "#E5ECF6",
            "gridcolor": "white",
            "gridwidth": 2,
            "linecolor": "white",
            "showbackground": true,
            "ticks": "",
            "zerolinecolor": "white"
           }
          },
          "shapedefaults": {
           "line": {
            "color": "#2a3f5f"
           }
          },
          "ternary": {
           "aaxis": {
            "gridcolor": "white",
            "linecolor": "white",
            "ticks": ""
           },
           "baxis": {
            "gridcolor": "white",
            "linecolor": "white",
            "ticks": ""
           },
           "bgcolor": "#E5ECF6",
           "caxis": {
            "gridcolor": "white",
            "linecolor": "white",
            "ticks": ""
           }
          },
          "title": {
           "x": 0.05
          },
          "xaxis": {
           "automargin": true,
           "gridcolor": "white",
           "linecolor": "white",
           "ticks": "",
           "title": {
            "standoff": 15
           },
           "zerolinecolor": "white",
           "zerolinewidth": 2
          },
          "yaxis": {
           "automargin": true,
           "gridcolor": "white",
           "linecolor": "white",
           "ticks": "",
           "title": {
            "standoff": 15
           },
           "zerolinecolor": "white",
           "zerolinewidth": 2
          }
         }
        },
        "title": {
         "text": "Распределение пропусков в данных в процентах"
        },
        "xaxis": {
         "anchor": "y",
         "domain": [
          0,
          1
         ],
         "title": {
          "text": "Колонки с пропусками"
         }
        },
        "yaxis": {
         "anchor": "x",
         "domain": [
          0,
          1
         ],
         "title": {
          "text": "Процент пропущенных значений"
         }
        }
       }
      }
     },
     "metadata": {},
     "output_type": "display_data"
    }
   ],
   "source": [
    "# Распределение пропусков в данных в процентах\n",
    "cols_null = data.isnull().mean() * 100\n",
    "# колонки с пропусками\n",
    "cols_with_null = cols_null[cols_null>0].sort_values(ascending=False)\n",
    "display(cols_with_null)\n",
    "# построим столбчатую диаграмму\n",
    "fig = px.bar(cols_with_null,\n",
    "             labels={'index': 'Колонки с пропусками', 'value': 'Процент пропущенных значений'},\n",
    "             title='Распределение пропусков в данных в процентах',\n",
    "             color_discrete_sequence=px.colors.diverging.Tealrose\n",
    ");\n",
    "fig.show()"
   ]
  },
  {
   "cell_type": "markdown",
   "metadata": {},
   "source": [
    "По постановке задачи, рейтинг - основополагающая информация для анализа наиболее востребованных ноутбуков. Поэтому удалим записи, где пропущен рейтинг. После этого пропушенные значения остаются только в колонке storage: заполним из медианным значением."
   ]
  },
  {
   "cell_type": "code",
   "execution_count": 12,
   "metadata": {},
   "outputs": [
    {
     "data": {
      "text/plain": [
       "img_link            0.000000\n",
       "name                0.000000\n",
       "price(in Rs.)       0.000000\n",
       "processor           0.000000\n",
       "os                  0.000000\n",
       "display(in inch)    0.000000\n",
       "rating              0.000000\n",
       "no_of_ratings       0.000000\n",
       "no_of_reviews       0.000000\n",
       "ram (GB)            0.000000\n",
       "HDD                 0.000000\n",
       "SSD                 0.000000\n",
       "storage (GB)        0.002907\n",
       "dtype: float64"
      ]
     },
     "metadata": {},
     "output_type": "display_data"
    },
    {
     "data": {
      "text/plain": [
       "0.0"
      ]
     },
     "metadata": {},
     "output_type": "display_data"
    }
   ],
   "source": [
    "data_cleaned = data.copy()\n",
    "data_cleaned = data_cleaned.dropna(subset='rating')\n",
    "display(data_cleaned.isnull().mean())\n",
    "data_cleaned['storage (GB)'] = data_cleaned['storage (GB)'].fillna(data_cleaned['storage (GB)'].median())\n",
    "display(data_cleaned.isnull().mean().mean())"
   ]
  },
  {
   "cell_type": "markdown",
   "metadata": {},
   "source": [
    "### Обработка дубликатов"
   ]
  },
  {
   "cell_type": "code",
   "execution_count": 13,
   "metadata": {},
   "outputs": [
    {
     "name": "stdout",
     "output_type": "stream",
     "text": [
      "Число найденных дубликатов: 157\n",
      "Результирующее число записей: 531\n"
     ]
    }
   ],
   "source": [
    "dupl_columns = list(data_cleaned.columns)\n",
    "\n",
    "mask = data_cleaned.duplicated(subset=dupl_columns)\n",
    "df_duplicates = data_cleaned[mask]\n",
    "print(f'Число найденных дубликатов: {df_duplicates.shape[0]}')\n",
    "\n",
    "data_cleaned = data_cleaned.drop_duplicates(subset=dupl_columns)\n",
    "print(f'Результирующее число записей: {data_cleaned.shape[0]}')"
   ]
  },
  {
   "cell_type": "markdown",
   "metadata": {},
   "source": [
    "## 2.  Расчет основных статистических показателей"
   ]
  },
  {
   "cell_type": "code",
   "execution_count": 14,
   "metadata": {},
   "outputs": [
    {
     "data": {
      "text/html": [
       "<div>\n",
       "<style scoped>\n",
       "    .dataframe tbody tr th:only-of-type {\n",
       "        vertical-align: middle;\n",
       "    }\n",
       "\n",
       "    .dataframe tbody tr th {\n",
       "        vertical-align: top;\n",
       "    }\n",
       "\n",
       "    .dataframe thead th {\n",
       "        text-align: right;\n",
       "    }\n",
       "</style>\n",
       "<table border=\"1\" class=\"dataframe\">\n",
       "  <thead>\n",
       "    <tr style=\"text-align: right;\">\n",
       "      <th></th>\n",
       "      <th>price(in Rs.)</th>\n",
       "      <th>ram (GB)</th>\n",
       "      <th>storage (GB)</th>\n",
       "      <th>display(in inch)</th>\n",
       "      <th>rating</th>\n",
       "      <th>no_of_ratings</th>\n",
       "      <th>no_of_reviews</th>\n",
       "    </tr>\n",
       "  </thead>\n",
       "  <tbody>\n",
       "    <tr>\n",
       "      <th>count</th>\n",
       "      <td>531.000000</td>\n",
       "      <td>531.000000</td>\n",
       "      <td>531.000000</td>\n",
       "      <td>531.000000</td>\n",
       "      <td>531.000000</td>\n",
       "      <td>531.000000</td>\n",
       "      <td>531.000000</td>\n",
       "    </tr>\n",
       "    <tr>\n",
       "      <th>mean</th>\n",
       "      <td>70958.193974</td>\n",
       "      <td>10.538606</td>\n",
       "      <td>617.581921</td>\n",
       "      <td>15.087458</td>\n",
       "      <td>4.273446</td>\n",
       "      <td>688.165725</td>\n",
       "      <td>82.702448</td>\n",
       "    </tr>\n",
       "    <tr>\n",
       "      <th>std</th>\n",
       "      <td>44831.132621</td>\n",
       "      <td>4.856033</td>\n",
       "      <td>317.780651</td>\n",
       "      <td>1.577175</td>\n",
       "      <td>0.359863</td>\n",
       "      <td>1766.214946</td>\n",
       "      <td>212.978655</td>\n",
       "    </tr>\n",
       "    <tr>\n",
       "      <th>min</th>\n",
       "      <td>15990.000000</td>\n",
       "      <td>4.000000</td>\n",
       "      <td>128.000000</td>\n",
       "      <td>11.600000</td>\n",
       "      <td>1.600000</td>\n",
       "      <td>1.000000</td>\n",
       "      <td>0.000000</td>\n",
       "    </tr>\n",
       "    <tr>\n",
       "      <th>50%</th>\n",
       "      <td>59990.000000</td>\n",
       "      <td>8.000000</td>\n",
       "      <td>512.000000</td>\n",
       "      <td>15.600000</td>\n",
       "      <td>4.300000</td>\n",
       "      <td>87.000000</td>\n",
       "      <td>11.000000</td>\n",
       "    </tr>\n",
       "    <tr>\n",
       "      <th>90%</th>\n",
       "      <td>127000.000000</td>\n",
       "      <td>16.000000</td>\n",
       "      <td>1024.000000</td>\n",
       "      <td>15.600000</td>\n",
       "      <td>4.700000</td>\n",
       "      <td>1779.000000</td>\n",
       "      <td>226.000000</td>\n",
       "    </tr>\n",
       "    <tr>\n",
       "      <th>max</th>\n",
       "      <td>345390.000000</td>\n",
       "      <td>32.000000</td>\n",
       "      <td>2048.000000</td>\n",
       "      <td>35.000000</td>\n",
       "      <td>5.000000</td>\n",
       "      <td>15492.000000</td>\n",
       "      <td>2054.000000</td>\n",
       "    </tr>\n",
       "  </tbody>\n",
       "</table>\n",
       "</div>"
      ],
      "text/plain": [
       "       price(in Rs.)    ram (GB)  storage (GB)  display(in inch)      rating  \\\n",
       "count     531.000000  531.000000    531.000000        531.000000  531.000000   \n",
       "mean    70958.193974   10.538606    617.581921         15.087458    4.273446   \n",
       "std     44831.132621    4.856033    317.780651          1.577175    0.359863   \n",
       "min     15990.000000    4.000000    128.000000         11.600000    1.600000   \n",
       "50%     59990.000000    8.000000    512.000000         15.600000    4.300000   \n",
       "90%    127000.000000   16.000000   1024.000000         15.600000    4.700000   \n",
       "max    345390.000000   32.000000   2048.000000         35.000000    5.000000   \n",
       "\n",
       "       no_of_ratings  no_of_reviews  \n",
       "count     531.000000     531.000000  \n",
       "mean      688.165725      82.702448  \n",
       "std      1766.214946     212.978655  \n",
       "min         1.000000       0.000000  \n",
       "50%        87.000000      11.000000  \n",
       "90%      1779.000000     226.000000  \n",
       "max     15492.000000    2054.000000  "
      ]
     },
     "execution_count": 14,
     "metadata": {},
     "output_type": "execute_result"
    }
   ],
   "source": [
    "# числовые переменные\n",
    "cols_numeric = ['price(in Rs.)', 'ram (GB)', 'storage (GB)',  'display(in inch)', 'rating', 'no_of_ratings', 'no_of_reviews']\n",
    "data_cleaned[cols_numeric].describe(percentiles=[0.50, 0.90])"
   ]
  },
  {
   "cell_type": "markdown",
   "metadata": {},
   "source": [
    "Можно отметить большой разброс значений *цены* и *количества оценок/отзывов* (min, max, стандартное отклонение), причем максимальные значения в разы превышают соответствующие значения большинства (90%) записей. Также средние для *цены, числа оценок и отзывов, объемов оперативной и системной памяти* больше медиан, то есть распределения этих переменных  ассиметричны и являются “правосторонними” распределениями. А размер дисплея и рейтинг имеют “левосторонние” распределения, так как их медианы больше их средних."
   ]
  },
  {
   "cell_type": "markdown",
   "metadata": {},
   "source": [
    "## 3. Визуализация"
   ]
  },
  {
   "cell_type": "markdown",
   "metadata": {},
   "source": [
    "Построим гистограммы и боксплоты распределений цены и рейтинга"
   ]
  },
  {
   "cell_type": "code",
   "execution_count": 15,
   "metadata": {},
   "outputs": [
    {
     "data": {
      "application/vnd.plotly.v1+json": {
       "config": {
        "plotlyServerURL": "https://plot.ly"
       },
       "data": [
        {
         "alignmentgroup": "True",
         "bingroup": "x",
         "hovertemplate": "price(in Rs.)=%{x}<br>count=%{y}<extra></extra>",
         "legendgroup": "",
         "marker": {
          "color": "rgb(0, 147, 146)",
          "pattern": {
           "shape": ""
          }
         },
         "name": "",
         "offsetgroup": "",
         "orientation": "v",
         "showlegend": false,
         "type": "histogram",
         "x": [
          62990,
          37500,
          49990,
          33990,
          18990,
          86990,
          23990,
          33999,
          38990,
          26990,
          66990,
          37990,
          56990,
          39990,
          46990,
          37990,
          49123,
          47990,
          86500,
          86990,
          44990,
          52990,
          38990,
          33890,
          33990,
          26990,
          38500,
          45909,
          49990,
          40950,
          52890,
          99990,
          59990,
          58018,
          38699,
          32990,
          53990,
          64990,
          52990,
          46990,
          109990,
          68114,
          56049,
          25990,
          33990,
          38990,
          47039,
          67990,
          40990,
          49990,
          159990,
          74990,
          61990,
          46990,
          57990,
          51990,
          86990,
          64990,
          64990,
          35990,
          38290,
          17990,
          15990,
          42990,
          54990,
          30990,
          50990,
          79990,
          22900,
          33751,
          50990,
          45990,
          62499,
          76999,
          51990,
          32990,
          45990,
          88499,
          65990,
          85990,
          139990,
          113490,
          113990,
          74990,
          89990,
          41990,
          63990,
          86990,
          61990,
          88990,
          76990,
          104990,
          78990,
          63990,
          68990,
          57990,
          95990,
          59990,
          61400,
          37990,
          77070,
          56990,
          56990,
          42490,
          95990,
          44290,
          63550,
          119990,
          129990,
          161990,
          47990,
          73990,
          307990,
          45990,
          27990,
          62050,
          52990,
          65990,
          56990,
          41190,
          57990,
          85990,
          55990,
          44990,
          32000,
          89990,
          88900,
          41990,
          44490,
          47990,
          72990,
          44990,
          65990,
          56990,
          34690,
          213894,
          35990,
          50499,
          40990,
          78190,
          43490,
          49990,
          99990,
          36990,
          56990,
          121990,
          87990,
          42900,
          88490,
          46990,
          89990,
          140990,
          106490,
          25990,
          89990,
          79990,
          72990,
          76519,
          34990,
          38029,
          104990,
          25990,
          23990,
          31990,
          49890,
          74990,
          60290,
          126990,
          60990,
          64990,
          41490,
          77990,
          94500,
          154990,
          74990,
          65990,
          114990,
          63990,
          80990,
          39490,
          281990,
          31561,
          48990,
          54990,
          243990,
          41890,
          42990,
          104990,
          86490,
          129990,
          52890,
          146990,
          77990,
          31490,
          61500,
          228928,
          345390,
          62990,
          75990,
          129989,
          139990,
          68990,
          62490,
          109990,
          61990,
          60990,
          110000,
          76990,
          33990,
          109990,
          129990,
          51532,
          144100,
          20990,
          65999,
          129990,
          19990,
          67990,
          64590,
          115300,
          61990,
          26490,
          114990,
          114990,
          59990,
          40990,
          109990,
          46040,
          55990,
          24999,
          76990,
          40390,
          20990,
          61990,
          68400,
          39490,
          241990,
          114990,
          52490,
          139990,
          59990,
          70900,
          35699,
          84990,
          43500,
          60990,
          39990,
          139999,
          156490,
          16490,
          250000,
          57990,
          46990,
          88990,
          145499,
          33990,
          39990,
          58800,
          101490,
          219894,
          69990,
          41990,
          57990,
          72790,
          60130,
          74990,
          157990,
          59490,
          58490,
          87390,
          214790,
          199990,
          61990,
          59990,
          46990,
          42690,
          59990,
          222990,
          42990,
          156090,
          69890,
          63990,
          108990,
          58500,
          33200,
          41890,
          35990,
          71990,
          105990,
          58900,
          210990,
          65990,
          150490,
          42490,
          18990,
          78190,
          34990,
          119990,
          18990,
          39490,
          64990,
          30990,
          163990,
          41999,
          55990,
          88890,
          40690,
          24290,
          74990,
          37990,
          37890,
          127490,
          129999,
          185790,
          41290,
          38690,
          71990,
          72490,
          61999,
          105990,
          62990,
          42690,
          73990,
          93900,
          58499,
          50983,
          47090,
          66990,
          40200,
          47990,
          59990,
          51890,
          35500,
          28490,
          64990,
          146490,
          40699,
          69990,
          63090,
          98990,
          57890,
          40890,
          40690,
          154990,
          79990,
          27990,
          98990,
          42990,
          44190,
          79990,
          42990,
          22990,
          107331,
          38990,
          37990,
          150990,
          76990,
          79000,
          62490,
          79990,
          30990,
          37490,
          39990,
          66990,
          40788,
          42500,
          58990,
          119990,
          38999,
          135990,
          88390,
          113104,
          114990,
          56000,
          16990,
          44900,
          98990,
          46990,
          60490,
          62490,
          20990,
          41990,
          76490,
          42890,
          49890,
          69490,
          110990,
          62990,
          28990,
          42990,
          74990,
          59990,
          209690,
          74990,
          42990,
          81600,
          122990,
          47990,
          30650,
          52575,
          37890,
          39890,
          37990,
          33990,
          24490,
          63290,
          54960,
          67990,
          99990,
          94990,
          26990,
          41960,
          68990,
          149610,
          63990,
          27990,
          68990,
          60490,
          69351,
          79000,
          64000,
          269990,
          25990,
          50600,
          108290,
          37990,
          38990,
          35960,
          80000,
          30990,
          45990,
          85990,
          73990,
          39990,
          43490,
          25990,
          119990,
          79990,
          59990,
          84990,
          74990,
          68690,
          180990,
          40250,
          61890,
          97500,
          74490,
          73990,
          149990,
          85990,
          59000,
          129990,
          52990,
          59990,
          61000,
          31490,
          99990,
          59990,
          22990,
          85499,
          152124,
          206490,
          28490,
          45126,
          144990,
          65990,
          66490,
          43090,
          33490,
          47130,
          39999,
          99900,
          68290,
          68990,
          105890,
          54990,
          57990,
          54450,
          107990,
          44990,
          64821,
          163990,
          68990,
          105990,
          76990,
          52490,
          66990,
          55190,
          62890,
          24800,
          80590,
          63490,
          73990,
          44990,
          59990,
          39690,
          149990,
          64990,
          27990,
          65200,
          39643,
          34990,
          20990,
          43500,
          56990,
          36600,
          40499,
          56900,
          79258,
          69890,
          127000,
          57090,
          50490,
          67990,
          81998,
          187990,
          45990,
          88990,
          66890,
          47990,
          16990,
          27990,
          41990,
          73490,
          51990,
          46990,
          21990,
          37990,
          22670,
          54990,
          40990
         ],
         "xaxis": "x",
         "yaxis": "y"
        }
       ],
       "layout": {
        "barmode": "relative",
        "legend": {
         "tracegroupgap": 0
        },
        "template": {
         "data": {
          "bar": [
           {
            "error_x": {
             "color": "#2a3f5f"
            },
            "error_y": {
             "color": "#2a3f5f"
            },
            "marker": {
             "line": {
              "color": "#E5ECF6",
              "width": 0.5
             },
             "pattern": {
              "fillmode": "overlay",
              "size": 10,
              "solidity": 0.2
             }
            },
            "type": "bar"
           }
          ],
          "barpolar": [
           {
            "marker": {
             "line": {
              "color": "#E5ECF6",
              "width": 0.5
             },
             "pattern": {
              "fillmode": "overlay",
              "size": 10,
              "solidity": 0.2
             }
            },
            "type": "barpolar"
           }
          ],
          "carpet": [
           {
            "aaxis": {
             "endlinecolor": "#2a3f5f",
             "gridcolor": "white",
             "linecolor": "white",
             "minorgridcolor": "white",
             "startlinecolor": "#2a3f5f"
            },
            "baxis": {
             "endlinecolor": "#2a3f5f",
             "gridcolor": "white",
             "linecolor": "white",
             "minorgridcolor": "white",
             "startlinecolor": "#2a3f5f"
            },
            "type": "carpet"
           }
          ],
          "choropleth": [
           {
            "colorbar": {
             "outlinewidth": 0,
             "ticks": ""
            },
            "type": "choropleth"
           }
          ],
          "contour": [
           {
            "colorbar": {
             "outlinewidth": 0,
             "ticks": ""
            },
            "colorscale": [
             [
              0,
              "#0d0887"
             ],
             [
              0.1111111111111111,
              "#46039f"
             ],
             [
              0.2222222222222222,
              "#7201a8"
             ],
             [
              0.3333333333333333,
              "#9c179e"
             ],
             [
              0.4444444444444444,
              "#bd3786"
             ],
             [
              0.5555555555555556,
              "#d8576b"
             ],
             [
              0.6666666666666666,
              "#ed7953"
             ],
             [
              0.7777777777777778,
              "#fb9f3a"
             ],
             [
              0.8888888888888888,
              "#fdca26"
             ],
             [
              1,
              "#f0f921"
             ]
            ],
            "type": "contour"
           }
          ],
          "contourcarpet": [
           {
            "colorbar": {
             "outlinewidth": 0,
             "ticks": ""
            },
            "type": "contourcarpet"
           }
          ],
          "heatmap": [
           {
            "colorbar": {
             "outlinewidth": 0,
             "ticks": ""
            },
            "colorscale": [
             [
              0,
              "#0d0887"
             ],
             [
              0.1111111111111111,
              "#46039f"
             ],
             [
              0.2222222222222222,
              "#7201a8"
             ],
             [
              0.3333333333333333,
              "#9c179e"
             ],
             [
              0.4444444444444444,
              "#bd3786"
             ],
             [
              0.5555555555555556,
              "#d8576b"
             ],
             [
              0.6666666666666666,
              "#ed7953"
             ],
             [
              0.7777777777777778,
              "#fb9f3a"
             ],
             [
              0.8888888888888888,
              "#fdca26"
             ],
             [
              1,
              "#f0f921"
             ]
            ],
            "type": "heatmap"
           }
          ],
          "heatmapgl": [
           {
            "colorbar": {
             "outlinewidth": 0,
             "ticks": ""
            },
            "colorscale": [
             [
              0,
              "#0d0887"
             ],
             [
              0.1111111111111111,
              "#46039f"
             ],
             [
              0.2222222222222222,
              "#7201a8"
             ],
             [
              0.3333333333333333,
              "#9c179e"
             ],
             [
              0.4444444444444444,
              "#bd3786"
             ],
             [
              0.5555555555555556,
              "#d8576b"
             ],
             [
              0.6666666666666666,
              "#ed7953"
             ],
             [
              0.7777777777777778,
              "#fb9f3a"
             ],
             [
              0.8888888888888888,
              "#fdca26"
             ],
             [
              1,
              "#f0f921"
             ]
            ],
            "type": "heatmapgl"
           }
          ],
          "histogram": [
           {
            "marker": {
             "pattern": {
              "fillmode": "overlay",
              "size": 10,
              "solidity": 0.2
             }
            },
            "type": "histogram"
           }
          ],
          "histogram2d": [
           {
            "colorbar": {
             "outlinewidth": 0,
             "ticks": ""
            },
            "colorscale": [
             [
              0,
              "#0d0887"
             ],
             [
              0.1111111111111111,
              "#46039f"
             ],
             [
              0.2222222222222222,
              "#7201a8"
             ],
             [
              0.3333333333333333,
              "#9c179e"
             ],
             [
              0.4444444444444444,
              "#bd3786"
             ],
             [
              0.5555555555555556,
              "#d8576b"
             ],
             [
              0.6666666666666666,
              "#ed7953"
             ],
             [
              0.7777777777777778,
              "#fb9f3a"
             ],
             [
              0.8888888888888888,
              "#fdca26"
             ],
             [
              1,
              "#f0f921"
             ]
            ],
            "type": "histogram2d"
           }
          ],
          "histogram2dcontour": [
           {
            "colorbar": {
             "outlinewidth": 0,
             "ticks": ""
            },
            "colorscale": [
             [
              0,
              "#0d0887"
             ],
             [
              0.1111111111111111,
              "#46039f"
             ],
             [
              0.2222222222222222,
              "#7201a8"
             ],
             [
              0.3333333333333333,
              "#9c179e"
             ],
             [
              0.4444444444444444,
              "#bd3786"
             ],
             [
              0.5555555555555556,
              "#d8576b"
             ],
             [
              0.6666666666666666,
              "#ed7953"
             ],
             [
              0.7777777777777778,
              "#fb9f3a"
             ],
             [
              0.8888888888888888,
              "#fdca26"
             ],
             [
              1,
              "#f0f921"
             ]
            ],
            "type": "histogram2dcontour"
           }
          ],
          "mesh3d": [
           {
            "colorbar": {
             "outlinewidth": 0,
             "ticks": ""
            },
            "type": "mesh3d"
           }
          ],
          "parcoords": [
           {
            "line": {
             "colorbar": {
              "outlinewidth": 0,
              "ticks": ""
             }
            },
            "type": "parcoords"
           }
          ],
          "pie": [
           {
            "automargin": true,
            "type": "pie"
           }
          ],
          "scatter": [
           {
            "fillpattern": {
             "fillmode": "overlay",
             "size": 10,
             "solidity": 0.2
            },
            "type": "scatter"
           }
          ],
          "scatter3d": [
           {
            "line": {
             "colorbar": {
              "outlinewidth": 0,
              "ticks": ""
             }
            },
            "marker": {
             "colorbar": {
              "outlinewidth": 0,
              "ticks": ""
             }
            },
            "type": "scatter3d"
           }
          ],
          "scattercarpet": [
           {
            "marker": {
             "colorbar": {
              "outlinewidth": 0,
              "ticks": ""
             }
            },
            "type": "scattercarpet"
           }
          ],
          "scattergeo": [
           {
            "marker": {
             "colorbar": {
              "outlinewidth": 0,
              "ticks": ""
             }
            },
            "type": "scattergeo"
           }
          ],
          "scattergl": [
           {
            "marker": {
             "colorbar": {
              "outlinewidth": 0,
              "ticks": ""
             }
            },
            "type": "scattergl"
           }
          ],
          "scattermapbox": [
           {
            "marker": {
             "colorbar": {
              "outlinewidth": 0,
              "ticks": ""
             }
            },
            "type": "scattermapbox"
           }
          ],
          "scatterpolar": [
           {
            "marker": {
             "colorbar": {
              "outlinewidth": 0,
              "ticks": ""
             }
            },
            "type": "scatterpolar"
           }
          ],
          "scatterpolargl": [
           {
            "marker": {
             "colorbar": {
              "outlinewidth": 0,
              "ticks": ""
             }
            },
            "type": "scatterpolargl"
           }
          ],
          "scatterternary": [
           {
            "marker": {
             "colorbar": {
              "outlinewidth": 0,
              "ticks": ""
             }
            },
            "type": "scatterternary"
           }
          ],
          "surface": [
           {
            "colorbar": {
             "outlinewidth": 0,
             "ticks": ""
            },
            "colorscale": [
             [
              0,
              "#0d0887"
             ],
             [
              0.1111111111111111,
              "#46039f"
             ],
             [
              0.2222222222222222,
              "#7201a8"
             ],
             [
              0.3333333333333333,
              "#9c179e"
             ],
             [
              0.4444444444444444,
              "#bd3786"
             ],
             [
              0.5555555555555556,
              "#d8576b"
             ],
             [
              0.6666666666666666,
              "#ed7953"
             ],
             [
              0.7777777777777778,
              "#fb9f3a"
             ],
             [
              0.8888888888888888,
              "#fdca26"
             ],
             [
              1,
              "#f0f921"
             ]
            ],
            "type": "surface"
           }
          ],
          "table": [
           {
            "cells": {
             "fill": {
              "color": "#EBF0F8"
             },
             "line": {
              "color": "white"
             }
            },
            "header": {
             "fill": {
              "color": "#C8D4E3"
             },
             "line": {
              "color": "white"
             }
            },
            "type": "table"
           }
          ]
         },
         "layout": {
          "annotationdefaults": {
           "arrowcolor": "#2a3f5f",
           "arrowhead": 0,
           "arrowwidth": 1
          },
          "autotypenumbers": "strict",
          "coloraxis": {
           "colorbar": {
            "outlinewidth": 0,
            "ticks": ""
           }
          },
          "colorscale": {
           "diverging": [
            [
             0,
             "#8e0152"
            ],
            [
             0.1,
             "#c51b7d"
            ],
            [
             0.2,
             "#de77ae"
            ],
            [
             0.3,
             "#f1b6da"
            ],
            [
             0.4,
             "#fde0ef"
            ],
            [
             0.5,
             "#f7f7f7"
            ],
            [
             0.6,
             "#e6f5d0"
            ],
            [
             0.7,
             "#b8e186"
            ],
            [
             0.8,
             "#7fbc41"
            ],
            [
             0.9,
             "#4d9221"
            ],
            [
             1,
             "#276419"
            ]
           ],
           "sequential": [
            [
             0,
             "#0d0887"
            ],
            [
             0.1111111111111111,
             "#46039f"
            ],
            [
             0.2222222222222222,
             "#7201a8"
            ],
            [
             0.3333333333333333,
             "#9c179e"
            ],
            [
             0.4444444444444444,
             "#bd3786"
            ],
            [
             0.5555555555555556,
             "#d8576b"
            ],
            [
             0.6666666666666666,
             "#ed7953"
            ],
            [
             0.7777777777777778,
             "#fb9f3a"
            ],
            [
             0.8888888888888888,
             "#fdca26"
            ],
            [
             1,
             "#f0f921"
            ]
           ],
           "sequentialminus": [
            [
             0,
             "#0d0887"
            ],
            [
             0.1111111111111111,
             "#46039f"
            ],
            [
             0.2222222222222222,
             "#7201a8"
            ],
            [
             0.3333333333333333,
             "#9c179e"
            ],
            [
             0.4444444444444444,
             "#bd3786"
            ],
            [
             0.5555555555555556,
             "#d8576b"
            ],
            [
             0.6666666666666666,
             "#ed7953"
            ],
            [
             0.7777777777777778,
             "#fb9f3a"
            ],
            [
             0.8888888888888888,
             "#fdca26"
            ],
            [
             1,
             "#f0f921"
            ]
           ]
          },
          "colorway": [
           "#636efa",
           "#EF553B",
           "#00cc96",
           "#ab63fa",
           "#FFA15A",
           "#19d3f3",
           "#FF6692",
           "#B6E880",
           "#FF97FF",
           "#FECB52"
          ],
          "font": {
           "color": "#2a3f5f"
          },
          "geo": {
           "bgcolor": "white",
           "lakecolor": "white",
           "landcolor": "#E5ECF6",
           "showlakes": true,
           "showland": true,
           "subunitcolor": "white"
          },
          "hoverlabel": {
           "align": "left"
          },
          "hovermode": "closest",
          "mapbox": {
           "style": "light"
          },
          "paper_bgcolor": "white",
          "plot_bgcolor": "#E5ECF6",
          "polar": {
           "angularaxis": {
            "gridcolor": "white",
            "linecolor": "white",
            "ticks": ""
           },
           "bgcolor": "#E5ECF6",
           "radialaxis": {
            "gridcolor": "white",
            "linecolor": "white",
            "ticks": ""
           }
          },
          "scene": {
           "xaxis": {
            "backgroundcolor": "#E5ECF6",
            "gridcolor": "white",
            "gridwidth": 2,
            "linecolor": "white",
            "showbackground": true,
            "ticks": "",
            "zerolinecolor": "white"
           },
           "yaxis": {
            "backgroundcolor": "#E5ECF6",
            "gridcolor": "white",
            "gridwidth": 2,
            "linecolor": "white",
            "showbackground": true,
            "ticks": "",
            "zerolinecolor": "white"
           },
           "zaxis": {
            "backgroundcolor": "#E5ECF6",
            "gridcolor": "white",
            "gridwidth": 2,
            "linecolor": "white",
            "showbackground": true,
            "ticks": "",
            "zerolinecolor": "white"
           }
          },
          "shapedefaults": {
           "line": {
            "color": "#2a3f5f"
           }
          },
          "ternary": {
           "aaxis": {
            "gridcolor": "white",
            "linecolor": "white",
            "ticks": ""
           },
           "baxis": {
            "gridcolor": "white",
            "linecolor": "white",
            "ticks": ""
           },
           "bgcolor": "#E5ECF6",
           "caxis": {
            "gridcolor": "white",
            "linecolor": "white",
            "ticks": ""
           }
          },
          "title": {
           "x": 0.05
          },
          "xaxis": {
           "automargin": true,
           "gridcolor": "white",
           "linecolor": "white",
           "ticks": "",
           "title": {
            "standoff": 15
           },
           "zerolinecolor": "white",
           "zerolinewidth": 2
          },
          "yaxis": {
           "automargin": true,
           "gridcolor": "white",
           "linecolor": "white",
           "ticks": "",
           "title": {
            "standoff": 15
           },
           "zerolinecolor": "white",
           "zerolinewidth": 2
          }
         }
        },
        "title": {
         "text": "Распределение переменной цена"
        },
        "xaxis": {
         "anchor": "y",
         "domain": [
          0,
          1
         ],
         "title": {
          "text": "price(in Rs.)"
         }
        },
        "yaxis": {
         "anchor": "x",
         "domain": [
          0,
          1
         ],
         "title": {
          "text": "count"
         }
        }
       }
      }
     },
     "metadata": {},
     "output_type": "display_data"
    },
    {
     "data": {
      "application/vnd.plotly.v1+json": {
       "config": {
        "plotlyServerURL": "https://plot.ly"
       },
       "data": [
        {
         "alignmentgroup": "True",
         "hovertemplate": "price(in Rs.)=%{x}<extra></extra>",
         "legendgroup": "",
         "marker": {
          "color": "rgb(0, 147, 146)"
         },
         "name": "",
         "notched": false,
         "offsetgroup": "",
         "orientation": "h",
         "showlegend": false,
         "type": "box",
         "x": [
          62990,
          37500,
          49990,
          33990,
          18990,
          86990,
          23990,
          33999,
          38990,
          26990,
          66990,
          37990,
          56990,
          39990,
          46990,
          37990,
          49123,
          47990,
          86500,
          86990,
          44990,
          52990,
          38990,
          33890,
          33990,
          26990,
          38500,
          45909,
          49990,
          40950,
          52890,
          99990,
          59990,
          58018,
          38699,
          32990,
          53990,
          64990,
          52990,
          46990,
          109990,
          68114,
          56049,
          25990,
          33990,
          38990,
          47039,
          67990,
          40990,
          49990,
          159990,
          74990,
          61990,
          46990,
          57990,
          51990,
          86990,
          64990,
          64990,
          35990,
          38290,
          17990,
          15990,
          42990,
          54990,
          30990,
          50990,
          79990,
          22900,
          33751,
          50990,
          45990,
          62499,
          76999,
          51990,
          32990,
          45990,
          88499,
          65990,
          85990,
          139990,
          113490,
          113990,
          74990,
          89990,
          41990,
          63990,
          86990,
          61990,
          88990,
          76990,
          104990,
          78990,
          63990,
          68990,
          57990,
          95990,
          59990,
          61400,
          37990,
          77070,
          56990,
          56990,
          42490,
          95990,
          44290,
          63550,
          119990,
          129990,
          161990,
          47990,
          73990,
          307990,
          45990,
          27990,
          62050,
          52990,
          65990,
          56990,
          41190,
          57990,
          85990,
          55990,
          44990,
          32000,
          89990,
          88900,
          41990,
          44490,
          47990,
          72990,
          44990,
          65990,
          56990,
          34690,
          213894,
          35990,
          50499,
          40990,
          78190,
          43490,
          49990,
          99990,
          36990,
          56990,
          121990,
          87990,
          42900,
          88490,
          46990,
          89990,
          140990,
          106490,
          25990,
          89990,
          79990,
          72990,
          76519,
          34990,
          38029,
          104990,
          25990,
          23990,
          31990,
          49890,
          74990,
          60290,
          126990,
          60990,
          64990,
          41490,
          77990,
          94500,
          154990,
          74990,
          65990,
          114990,
          63990,
          80990,
          39490,
          281990,
          31561,
          48990,
          54990,
          243990,
          41890,
          42990,
          104990,
          86490,
          129990,
          52890,
          146990,
          77990,
          31490,
          61500,
          228928,
          345390,
          62990,
          75990,
          129989,
          139990,
          68990,
          62490,
          109990,
          61990,
          60990,
          110000,
          76990,
          33990,
          109990,
          129990,
          51532,
          144100,
          20990,
          65999,
          129990,
          19990,
          67990,
          64590,
          115300,
          61990,
          26490,
          114990,
          114990,
          59990,
          40990,
          109990,
          46040,
          55990,
          24999,
          76990,
          40390,
          20990,
          61990,
          68400,
          39490,
          241990,
          114990,
          52490,
          139990,
          59990,
          70900,
          35699,
          84990,
          43500,
          60990,
          39990,
          139999,
          156490,
          16490,
          250000,
          57990,
          46990,
          88990,
          145499,
          33990,
          39990,
          58800,
          101490,
          219894,
          69990,
          41990,
          57990,
          72790,
          60130,
          74990,
          157990,
          59490,
          58490,
          87390,
          214790,
          199990,
          61990,
          59990,
          46990,
          42690,
          59990,
          222990,
          42990,
          156090,
          69890,
          63990,
          108990,
          58500,
          33200,
          41890,
          35990,
          71990,
          105990,
          58900,
          210990,
          65990,
          150490,
          42490,
          18990,
          78190,
          34990,
          119990,
          18990,
          39490,
          64990,
          30990,
          163990,
          41999,
          55990,
          88890,
          40690,
          24290,
          74990,
          37990,
          37890,
          127490,
          129999,
          185790,
          41290,
          38690,
          71990,
          72490,
          61999,
          105990,
          62990,
          42690,
          73990,
          93900,
          58499,
          50983,
          47090,
          66990,
          40200,
          47990,
          59990,
          51890,
          35500,
          28490,
          64990,
          146490,
          40699,
          69990,
          63090,
          98990,
          57890,
          40890,
          40690,
          154990,
          79990,
          27990,
          98990,
          42990,
          44190,
          79990,
          42990,
          22990,
          107331,
          38990,
          37990,
          150990,
          76990,
          79000,
          62490,
          79990,
          30990,
          37490,
          39990,
          66990,
          40788,
          42500,
          58990,
          119990,
          38999,
          135990,
          88390,
          113104,
          114990,
          56000,
          16990,
          44900,
          98990,
          46990,
          60490,
          62490,
          20990,
          41990,
          76490,
          42890,
          49890,
          69490,
          110990,
          62990,
          28990,
          42990,
          74990,
          59990,
          209690,
          74990,
          42990,
          81600,
          122990,
          47990,
          30650,
          52575,
          37890,
          39890,
          37990,
          33990,
          24490,
          63290,
          54960,
          67990,
          99990,
          94990,
          26990,
          41960,
          68990,
          149610,
          63990,
          27990,
          68990,
          60490,
          69351,
          79000,
          64000,
          269990,
          25990,
          50600,
          108290,
          37990,
          38990,
          35960,
          80000,
          30990,
          45990,
          85990,
          73990,
          39990,
          43490,
          25990,
          119990,
          79990,
          59990,
          84990,
          74990,
          68690,
          180990,
          40250,
          61890,
          97500,
          74490,
          73990,
          149990,
          85990,
          59000,
          129990,
          52990,
          59990,
          61000,
          31490,
          99990,
          59990,
          22990,
          85499,
          152124,
          206490,
          28490,
          45126,
          144990,
          65990,
          66490,
          43090,
          33490,
          47130,
          39999,
          99900,
          68290,
          68990,
          105890,
          54990,
          57990,
          54450,
          107990,
          44990,
          64821,
          163990,
          68990,
          105990,
          76990,
          52490,
          66990,
          55190,
          62890,
          24800,
          80590,
          63490,
          73990,
          44990,
          59990,
          39690,
          149990,
          64990,
          27990,
          65200,
          39643,
          34990,
          20990,
          43500,
          56990,
          36600,
          40499,
          56900,
          79258,
          69890,
          127000,
          57090,
          50490,
          67990,
          81998,
          187990,
          45990,
          88990,
          66890,
          47990,
          16990,
          27990,
          41990,
          73490,
          51990,
          46990,
          21990,
          37990,
          22670,
          54990,
          40990
         ],
         "x0": " ",
         "xaxis": "x",
         "y0": " ",
         "yaxis": "y"
        }
       ],
       "layout": {
        "boxmode": "group",
        "legend": {
         "tracegroupgap": 0
        },
        "template": {
         "data": {
          "bar": [
           {
            "error_x": {
             "color": "#2a3f5f"
            },
            "error_y": {
             "color": "#2a3f5f"
            },
            "marker": {
             "line": {
              "color": "#E5ECF6",
              "width": 0.5
             },
             "pattern": {
              "fillmode": "overlay",
              "size": 10,
              "solidity": 0.2
             }
            },
            "type": "bar"
           }
          ],
          "barpolar": [
           {
            "marker": {
             "line": {
              "color": "#E5ECF6",
              "width": 0.5
             },
             "pattern": {
              "fillmode": "overlay",
              "size": 10,
              "solidity": 0.2
             }
            },
            "type": "barpolar"
           }
          ],
          "carpet": [
           {
            "aaxis": {
             "endlinecolor": "#2a3f5f",
             "gridcolor": "white",
             "linecolor": "white",
             "minorgridcolor": "white",
             "startlinecolor": "#2a3f5f"
            },
            "baxis": {
             "endlinecolor": "#2a3f5f",
             "gridcolor": "white",
             "linecolor": "white",
             "minorgridcolor": "white",
             "startlinecolor": "#2a3f5f"
            },
            "type": "carpet"
           }
          ],
          "choropleth": [
           {
            "colorbar": {
             "outlinewidth": 0,
             "ticks": ""
            },
            "type": "choropleth"
           }
          ],
          "contour": [
           {
            "colorbar": {
             "outlinewidth": 0,
             "ticks": ""
            },
            "colorscale": [
             [
              0,
              "#0d0887"
             ],
             [
              0.1111111111111111,
              "#46039f"
             ],
             [
              0.2222222222222222,
              "#7201a8"
             ],
             [
              0.3333333333333333,
              "#9c179e"
             ],
             [
              0.4444444444444444,
              "#bd3786"
             ],
             [
              0.5555555555555556,
              "#d8576b"
             ],
             [
              0.6666666666666666,
              "#ed7953"
             ],
             [
              0.7777777777777778,
              "#fb9f3a"
             ],
             [
              0.8888888888888888,
              "#fdca26"
             ],
             [
              1,
              "#f0f921"
             ]
            ],
            "type": "contour"
           }
          ],
          "contourcarpet": [
           {
            "colorbar": {
             "outlinewidth": 0,
             "ticks": ""
            },
            "type": "contourcarpet"
           }
          ],
          "heatmap": [
           {
            "colorbar": {
             "outlinewidth": 0,
             "ticks": ""
            },
            "colorscale": [
             [
              0,
              "#0d0887"
             ],
             [
              0.1111111111111111,
              "#46039f"
             ],
             [
              0.2222222222222222,
              "#7201a8"
             ],
             [
              0.3333333333333333,
              "#9c179e"
             ],
             [
              0.4444444444444444,
              "#bd3786"
             ],
             [
              0.5555555555555556,
              "#d8576b"
             ],
             [
              0.6666666666666666,
              "#ed7953"
             ],
             [
              0.7777777777777778,
              "#fb9f3a"
             ],
             [
              0.8888888888888888,
              "#fdca26"
             ],
             [
              1,
              "#f0f921"
             ]
            ],
            "type": "heatmap"
           }
          ],
          "heatmapgl": [
           {
            "colorbar": {
             "outlinewidth": 0,
             "ticks": ""
            },
            "colorscale": [
             [
              0,
              "#0d0887"
             ],
             [
              0.1111111111111111,
              "#46039f"
             ],
             [
              0.2222222222222222,
              "#7201a8"
             ],
             [
              0.3333333333333333,
              "#9c179e"
             ],
             [
              0.4444444444444444,
              "#bd3786"
             ],
             [
              0.5555555555555556,
              "#d8576b"
             ],
             [
              0.6666666666666666,
              "#ed7953"
             ],
             [
              0.7777777777777778,
              "#fb9f3a"
             ],
             [
              0.8888888888888888,
              "#fdca26"
             ],
             [
              1,
              "#f0f921"
             ]
            ],
            "type": "heatmapgl"
           }
          ],
          "histogram": [
           {
            "marker": {
             "pattern": {
              "fillmode": "overlay",
              "size": 10,
              "solidity": 0.2
             }
            },
            "type": "histogram"
           }
          ],
          "histogram2d": [
           {
            "colorbar": {
             "outlinewidth": 0,
             "ticks": ""
            },
            "colorscale": [
             [
              0,
              "#0d0887"
             ],
             [
              0.1111111111111111,
              "#46039f"
             ],
             [
              0.2222222222222222,
              "#7201a8"
             ],
             [
              0.3333333333333333,
              "#9c179e"
             ],
             [
              0.4444444444444444,
              "#bd3786"
             ],
             [
              0.5555555555555556,
              "#d8576b"
             ],
             [
              0.6666666666666666,
              "#ed7953"
             ],
             [
              0.7777777777777778,
              "#fb9f3a"
             ],
             [
              0.8888888888888888,
              "#fdca26"
             ],
             [
              1,
              "#f0f921"
             ]
            ],
            "type": "histogram2d"
           }
          ],
          "histogram2dcontour": [
           {
            "colorbar": {
             "outlinewidth": 0,
             "ticks": ""
            },
            "colorscale": [
             [
              0,
              "#0d0887"
             ],
             [
              0.1111111111111111,
              "#46039f"
             ],
             [
              0.2222222222222222,
              "#7201a8"
             ],
             [
              0.3333333333333333,
              "#9c179e"
             ],
             [
              0.4444444444444444,
              "#bd3786"
             ],
             [
              0.5555555555555556,
              "#d8576b"
             ],
             [
              0.6666666666666666,
              "#ed7953"
             ],
             [
              0.7777777777777778,
              "#fb9f3a"
             ],
             [
              0.8888888888888888,
              "#fdca26"
             ],
             [
              1,
              "#f0f921"
             ]
            ],
            "type": "histogram2dcontour"
           }
          ],
          "mesh3d": [
           {
            "colorbar": {
             "outlinewidth": 0,
             "ticks": ""
            },
            "type": "mesh3d"
           }
          ],
          "parcoords": [
           {
            "line": {
             "colorbar": {
              "outlinewidth": 0,
              "ticks": ""
             }
            },
            "type": "parcoords"
           }
          ],
          "pie": [
           {
            "automargin": true,
            "type": "pie"
           }
          ],
          "scatter": [
           {
            "fillpattern": {
             "fillmode": "overlay",
             "size": 10,
             "solidity": 0.2
            },
            "type": "scatter"
           }
          ],
          "scatter3d": [
           {
            "line": {
             "colorbar": {
              "outlinewidth": 0,
              "ticks": ""
             }
            },
            "marker": {
             "colorbar": {
              "outlinewidth": 0,
              "ticks": ""
             }
            },
            "type": "scatter3d"
           }
          ],
          "scattercarpet": [
           {
            "marker": {
             "colorbar": {
              "outlinewidth": 0,
              "ticks": ""
             }
            },
            "type": "scattercarpet"
           }
          ],
          "scattergeo": [
           {
            "marker": {
             "colorbar": {
              "outlinewidth": 0,
              "ticks": ""
             }
            },
            "type": "scattergeo"
           }
          ],
          "scattergl": [
           {
            "marker": {
             "colorbar": {
              "outlinewidth": 0,
              "ticks": ""
             }
            },
            "type": "scattergl"
           }
          ],
          "scattermapbox": [
           {
            "marker": {
             "colorbar": {
              "outlinewidth": 0,
              "ticks": ""
             }
            },
            "type": "scattermapbox"
           }
          ],
          "scatterpolar": [
           {
            "marker": {
             "colorbar": {
              "outlinewidth": 0,
              "ticks": ""
             }
            },
            "type": "scatterpolar"
           }
          ],
          "scatterpolargl": [
           {
            "marker": {
             "colorbar": {
              "outlinewidth": 0,
              "ticks": ""
             }
            },
            "type": "scatterpolargl"
           }
          ],
          "scatterternary": [
           {
            "marker": {
             "colorbar": {
              "outlinewidth": 0,
              "ticks": ""
             }
            },
            "type": "scatterternary"
           }
          ],
          "surface": [
           {
            "colorbar": {
             "outlinewidth": 0,
             "ticks": ""
            },
            "colorscale": [
             [
              0,
              "#0d0887"
             ],
             [
              0.1111111111111111,
              "#46039f"
             ],
             [
              0.2222222222222222,
              "#7201a8"
             ],
             [
              0.3333333333333333,
              "#9c179e"
             ],
             [
              0.4444444444444444,
              "#bd3786"
             ],
             [
              0.5555555555555556,
              "#d8576b"
             ],
             [
              0.6666666666666666,
              "#ed7953"
             ],
             [
              0.7777777777777778,
              "#fb9f3a"
             ],
             [
              0.8888888888888888,
              "#fdca26"
             ],
             [
              1,
              "#f0f921"
             ]
            ],
            "type": "surface"
           }
          ],
          "table": [
           {
            "cells": {
             "fill": {
              "color": "#EBF0F8"
             },
             "line": {
              "color": "white"
             }
            },
            "header": {
             "fill": {
              "color": "#C8D4E3"
             },
             "line": {
              "color": "white"
             }
            },
            "type": "table"
           }
          ]
         },
         "layout": {
          "annotationdefaults": {
           "arrowcolor": "#2a3f5f",
           "arrowhead": 0,
           "arrowwidth": 1
          },
          "autotypenumbers": "strict",
          "coloraxis": {
           "colorbar": {
            "outlinewidth": 0,
            "ticks": ""
           }
          },
          "colorscale": {
           "diverging": [
            [
             0,
             "#8e0152"
            ],
            [
             0.1,
             "#c51b7d"
            ],
            [
             0.2,
             "#de77ae"
            ],
            [
             0.3,
             "#f1b6da"
            ],
            [
             0.4,
             "#fde0ef"
            ],
            [
             0.5,
             "#f7f7f7"
            ],
            [
             0.6,
             "#e6f5d0"
            ],
            [
             0.7,
             "#b8e186"
            ],
            [
             0.8,
             "#7fbc41"
            ],
            [
             0.9,
             "#4d9221"
            ],
            [
             1,
             "#276419"
            ]
           ],
           "sequential": [
            [
             0,
             "#0d0887"
            ],
            [
             0.1111111111111111,
             "#46039f"
            ],
            [
             0.2222222222222222,
             "#7201a8"
            ],
            [
             0.3333333333333333,
             "#9c179e"
            ],
            [
             0.4444444444444444,
             "#bd3786"
            ],
            [
             0.5555555555555556,
             "#d8576b"
            ],
            [
             0.6666666666666666,
             "#ed7953"
            ],
            [
             0.7777777777777778,
             "#fb9f3a"
            ],
            [
             0.8888888888888888,
             "#fdca26"
            ],
            [
             1,
             "#f0f921"
            ]
           ],
           "sequentialminus": [
            [
             0,
             "#0d0887"
            ],
            [
             0.1111111111111111,
             "#46039f"
            ],
            [
             0.2222222222222222,
             "#7201a8"
            ],
            [
             0.3333333333333333,
             "#9c179e"
            ],
            [
             0.4444444444444444,
             "#bd3786"
            ],
            [
             0.5555555555555556,
             "#d8576b"
            ],
            [
             0.6666666666666666,
             "#ed7953"
            ],
            [
             0.7777777777777778,
             "#fb9f3a"
            ],
            [
             0.8888888888888888,
             "#fdca26"
            ],
            [
             1,
             "#f0f921"
            ]
           ]
          },
          "colorway": [
           "#636efa",
           "#EF553B",
           "#00cc96",
           "#ab63fa",
           "#FFA15A",
           "#19d3f3",
           "#FF6692",
           "#B6E880",
           "#FF97FF",
           "#FECB52"
          ],
          "font": {
           "color": "#2a3f5f"
          },
          "geo": {
           "bgcolor": "white",
           "lakecolor": "white",
           "landcolor": "#E5ECF6",
           "showlakes": true,
           "showland": true,
           "subunitcolor": "white"
          },
          "hoverlabel": {
           "align": "left"
          },
          "hovermode": "closest",
          "mapbox": {
           "style": "light"
          },
          "paper_bgcolor": "white",
          "plot_bgcolor": "#E5ECF6",
          "polar": {
           "angularaxis": {
            "gridcolor": "white",
            "linecolor": "white",
            "ticks": ""
           },
           "bgcolor": "#E5ECF6",
           "radialaxis": {
            "gridcolor": "white",
            "linecolor": "white",
            "ticks": ""
           }
          },
          "scene": {
           "xaxis": {
            "backgroundcolor": "#E5ECF6",
            "gridcolor": "white",
            "gridwidth": 2,
            "linecolor": "white",
            "showbackground": true,
            "ticks": "",
            "zerolinecolor": "white"
           },
           "yaxis": {
            "backgroundcolor": "#E5ECF6",
            "gridcolor": "white",
            "gridwidth": 2,
            "linecolor": "white",
            "showbackground": true,
            "ticks": "",
            "zerolinecolor": "white"
           },
           "zaxis": {
            "backgroundcolor": "#E5ECF6",
            "gridcolor": "white",
            "gridwidth": 2,
            "linecolor": "white",
            "showbackground": true,
            "ticks": "",
            "zerolinecolor": "white"
           }
          },
          "shapedefaults": {
           "line": {
            "color": "#2a3f5f"
           }
          },
          "ternary": {
           "aaxis": {
            "gridcolor": "white",
            "linecolor": "white",
            "ticks": ""
           },
           "baxis": {
            "gridcolor": "white",
            "linecolor": "white",
            "ticks": ""
           },
           "bgcolor": "#E5ECF6",
           "caxis": {
            "gridcolor": "white",
            "linecolor": "white",
            "ticks": ""
           }
          },
          "title": {
           "x": 0.05
          },
          "xaxis": {
           "automargin": true,
           "gridcolor": "white",
           "linecolor": "white",
           "ticks": "",
           "title": {
            "standoff": 15
           },
           "zerolinecolor": "white",
           "zerolinewidth": 2
          },
          "yaxis": {
           "automargin": true,
           "gridcolor": "white",
           "linecolor": "white",
           "ticks": "",
           "title": {
            "standoff": 15
           },
           "zerolinecolor": "white",
           "zerolinewidth": 2
          }
         }
        },
        "title": {
         "text": "Распределение переменной цена"
        },
        "xaxis": {
         "anchor": "y",
         "domain": [
          0,
          1
         ],
         "title": {
          "text": "price(in Rs.)"
         }
        },
        "yaxis": {
         "anchor": "x",
         "domain": [
          0,
          1
         ]
        }
       }
      }
     },
     "metadata": {},
     "output_type": "display_data"
    },
    {
     "data": {
      "application/vnd.plotly.v1+json": {
       "config": {
        "plotlyServerURL": "https://plot.ly"
       },
       "data": [
        {
         "alignmentgroup": "True",
         "bingroup": "x",
         "hovertemplate": "rating=%{x}<br>count=%{y}<extra></extra>",
         "legendgroup": "",
         "marker": {
          "color": "rgb(0, 147, 146)",
          "pattern": {
           "shape": ""
          }
         },
         "name": "",
         "offsetgroup": "",
         "orientation": "v",
         "showlegend": false,
         "type": "histogram",
         "x": [
          4.5,
          4.4,
          4.4,
          4.3,
          3.8,
          4.7,
          4.1,
          4,
          4.1,
          4.2,
          5,
          4.1,
          4.1,
          4.1,
          4.4,
          4.2,
          4.3,
          4.4,
          4.4,
          4.7,
          4.2,
          4.3,
          4.2,
          4.2,
          4.4,
          4,
          4.3,
          4.2,
          4.4,
          4.3,
          4.5,
          4.4,
          4.5,
          4.2,
          4.3,
          4.2,
          4.2,
          4.5,
          4.2,
          4.4,
          4.3,
          4.4,
          4.2,
          4.1,
          4.2,
          4.2,
          4.3,
          4.5,
          4.3,
          4.2,
          4.7,
          4.5,
          4.4,
          5,
          3.8,
          4.4,
          4.7,
          4.3,
          4.5,
          4.3,
          3.9,
          3.7,
          4,
          3.6,
          4.9,
          4.3,
          4,
          4.8,
          4.1,
          4.2,
          4.5,
          4.2,
          4.3,
          4.5,
          4.3,
          4,
          4.5,
          5,
          4.5,
          4.7,
          4.3,
          4.8,
          4.7,
          4.5,
          4.5,
          4.2,
          4.6,
          4.7,
          5,
          4.7,
          4.5,
          4.7,
          4.4,
          4.1,
          4.6,
          4.3,
          4.5,
          4.4,
          4.2,
          4.2,
          4.4,
          4.3,
          4.4,
          4.2,
          4.5,
          3.1,
          4.4,
          4.4,
          4.7,
          3.8,
          4.5,
          4.5,
          4.3,
          3.9,
          4,
          4.4,
          4.3,
          4.5,
          4.5,
          4.3,
          3.9,
          4.3,
          4.3,
          4.4,
          4.1,
          4,
          4,
          4.3,
          4.3,
          4.6,
          4.2,
          4.4,
          4.5,
          4.5,
          4,
          4.8,
          4.1,
          4.2,
          4,
          4.5,
          4.4,
          4.2,
          5,
          3.8,
          4.5,
          4.7,
          4.5,
          4.2,
          5,
          4.2,
          4.4,
          4,
          4.7,
          4.2,
          4.4,
          4.1,
          4.1,
          4.5,
          4.4,
          4.2,
          4.7,
          4.2,
          3.7,
          4.4,
          4.2,
          4.2,
          4.3,
          4.7,
          4.5,
          4.4,
          4.4,
          4.5,
          4.4,
          4.6,
          4,
          4.5,
          4.7,
          4.5,
          4.6,
          4.4,
          5,
          3.9,
          3.7,
          4.2,
          4.8,
          4.2,
          4.4,
          4.6,
          4.5,
          4.8,
          3.8,
          5,
          4.8,
          3.6,
          4.5,
          4.6,
          4.6,
          3.8,
          4.3,
          4.7,
          5,
          4.4,
          4.1,
          4.6,
          4.6,
          4.1,
          3.8,
          4.5,
          4.2,
          4.7,
          4.4,
          4,
          4.4,
          4.2,
          4.6,
          4.6,
          3.7,
          4.3,
          4.5,
          4.4,
          4.3,
          4.2,
          4.5,
          3.9,
          4.7,
          4.3,
          4.6,
          4.1,
          4.6,
          3.7,
          4.5,
          4.3,
          4.2,
          4.5,
          4,
          4,
          4.8,
          3.8,
          4.1,
          4.3,
          4.4,
          4.7,
          4,
          3.9,
          3.9,
          4.4,
          4.1,
          5,
          5,
          3.8,
          4,
          3.7,
          4.2,
          3.6,
          3.7,
          4.2,
          4.4,
          4.3,
          4.5,
          4.8,
          4.7,
          3.6,
          4.3,
          4.6,
          4.1,
          4.6,
          4,
          4.6,
          4,
          4.3,
          4.1,
          4.9,
          4.7,
          4.2,
          3.7,
          4.4,
          4.4,
          4.8,
          3.8,
          4.4,
          4.3,
          4.6,
          4,
          4.4,
          4.1,
          3.9,
          4.2,
          4.6,
          4.5,
          4.1,
          4.7,
          4,
          4.7,
          4.2,
          3.6,
          4.5,
          4.4,
          4.4,
          4,
          4,
          4.3,
          4.3,
          4.2,
          4.5,
          4.4,
          4.5,
          4.1,
          4.1,
          4,
          4.2,
          5,
          3.8,
          4.5,
          4.8,
          4.2,
          4.7,
          4.4,
          4.3,
          3.7,
          4.4,
          4.3,
          4,
          4.5,
          4.4,
          4.5,
          4.8,
          4.4,
          4.3,
          3.9,
          4.3,
          5,
          4.2,
          4.1,
          4.4,
          4,
          3,
          4.1,
          4.8,
          3.9,
          4.5,
          3.9,
          4,
          4,
          5,
          4.4,
          4.2,
          4.5,
          4.3,
          4.3,
          5,
          4.1,
          4,
          4.6,
          4.3,
          4.3,
          4.9,
          4.4,
          4.5,
          4.5,
          3.9,
          4.2,
          4.3,
          4.3,
          4.4,
          4.1,
          4.3,
          4.4,
          4.5,
          4.3,
          4.3,
          4.5,
          3.7,
          5,
          4.4,
          3.8,
          4.5,
          4.9,
          3.7,
          4.5,
          3.9,
          4.1,
          4.4,
          4.4,
          4.2,
          3.9,
          3.8,
          4.4,
          4.3,
          4,
          4.1,
          4.5,
          4.5,
          5,
          4,
          4.3,
          4.3,
          4.1,
          4.5,
          3.5,
          4.4,
          5,
          3.7,
          4.2,
          4.3,
          3.6,
          4.1,
          4.4,
          4.3,
          4.3,
          4.4,
          4.3,
          4.3,
          4.3,
          4.8,
          4.3,
          4.1,
          4.6,
          4.5,
          4.2,
          4.6,
          3.9,
          4.8,
          4.1,
          4.4,
          4.3,
          3.7,
          4.3,
          4.5,
          4.6,
          4,
          4.4,
          4.2,
          4.8,
          4.1,
          4,
          4.1,
          4,
          3,
          3.5,
          4.1,
          3.3,
          4.4,
          4.5,
          4.1,
          3.5,
          3.7,
          4.2,
          4,
          4.1,
          4.5,
          4.2,
          4.5,
          4.3,
          4.5,
          3.8,
          3.7,
          3.8,
          4.5,
          4,
          3.5,
          4.6,
          4.3,
          3.6,
          4,
          4.4,
          4.3,
          4.4,
          4.2,
          3.6,
          4,
          4,
          4.5,
          4.1,
          1.6,
          4.8,
          4.4,
          4.2,
          4.1,
          4,
          4.2,
          3.3,
          3.3,
          4.1,
          4.7,
          4.4,
          3.8,
          4.5,
          4,
          3.8,
          4.4,
          4.6,
          4.1,
          4.4,
          4.4,
          4,
          4.3,
          4,
          4.5,
          3.8,
          4.8,
          3.9,
          4.5,
          3.9,
          4,
          4,
          4.7,
          4.3,
          4.1,
          4,
          4.2,
          5,
          4.4,
          4.3,
          4.4,
          4,
          3.7,
          4.4,
          4.7,
          4.1,
          4,
          3.5,
          3.8,
          4,
          3.6,
          3.8,
          3.7,
          3.8,
          4,
          3.8,
          4.5,
          4
         ],
         "xaxis": "x",
         "yaxis": "y"
        }
       ],
       "layout": {
        "barmode": "relative",
        "legend": {
         "tracegroupgap": 0
        },
        "template": {
         "data": {
          "bar": [
           {
            "error_x": {
             "color": "#2a3f5f"
            },
            "error_y": {
             "color": "#2a3f5f"
            },
            "marker": {
             "line": {
              "color": "#E5ECF6",
              "width": 0.5
             },
             "pattern": {
              "fillmode": "overlay",
              "size": 10,
              "solidity": 0.2
             }
            },
            "type": "bar"
           }
          ],
          "barpolar": [
           {
            "marker": {
             "line": {
              "color": "#E5ECF6",
              "width": 0.5
             },
             "pattern": {
              "fillmode": "overlay",
              "size": 10,
              "solidity": 0.2
             }
            },
            "type": "barpolar"
           }
          ],
          "carpet": [
           {
            "aaxis": {
             "endlinecolor": "#2a3f5f",
             "gridcolor": "white",
             "linecolor": "white",
             "minorgridcolor": "white",
             "startlinecolor": "#2a3f5f"
            },
            "baxis": {
             "endlinecolor": "#2a3f5f",
             "gridcolor": "white",
             "linecolor": "white",
             "minorgridcolor": "white",
             "startlinecolor": "#2a3f5f"
            },
            "type": "carpet"
           }
          ],
          "choropleth": [
           {
            "colorbar": {
             "outlinewidth": 0,
             "ticks": ""
            },
            "type": "choropleth"
           }
          ],
          "contour": [
           {
            "colorbar": {
             "outlinewidth": 0,
             "ticks": ""
            },
            "colorscale": [
             [
              0,
              "#0d0887"
             ],
             [
              0.1111111111111111,
              "#46039f"
             ],
             [
              0.2222222222222222,
              "#7201a8"
             ],
             [
              0.3333333333333333,
              "#9c179e"
             ],
             [
              0.4444444444444444,
              "#bd3786"
             ],
             [
              0.5555555555555556,
              "#d8576b"
             ],
             [
              0.6666666666666666,
              "#ed7953"
             ],
             [
              0.7777777777777778,
              "#fb9f3a"
             ],
             [
              0.8888888888888888,
              "#fdca26"
             ],
             [
              1,
              "#f0f921"
             ]
            ],
            "type": "contour"
           }
          ],
          "contourcarpet": [
           {
            "colorbar": {
             "outlinewidth": 0,
             "ticks": ""
            },
            "type": "contourcarpet"
           }
          ],
          "heatmap": [
           {
            "colorbar": {
             "outlinewidth": 0,
             "ticks": ""
            },
            "colorscale": [
             [
              0,
              "#0d0887"
             ],
             [
              0.1111111111111111,
              "#46039f"
             ],
             [
              0.2222222222222222,
              "#7201a8"
             ],
             [
              0.3333333333333333,
              "#9c179e"
             ],
             [
              0.4444444444444444,
              "#bd3786"
             ],
             [
              0.5555555555555556,
              "#d8576b"
             ],
             [
              0.6666666666666666,
              "#ed7953"
             ],
             [
              0.7777777777777778,
              "#fb9f3a"
             ],
             [
              0.8888888888888888,
              "#fdca26"
             ],
             [
              1,
              "#f0f921"
             ]
            ],
            "type": "heatmap"
           }
          ],
          "heatmapgl": [
           {
            "colorbar": {
             "outlinewidth": 0,
             "ticks": ""
            },
            "colorscale": [
             [
              0,
              "#0d0887"
             ],
             [
              0.1111111111111111,
              "#46039f"
             ],
             [
              0.2222222222222222,
              "#7201a8"
             ],
             [
              0.3333333333333333,
              "#9c179e"
             ],
             [
              0.4444444444444444,
              "#bd3786"
             ],
             [
              0.5555555555555556,
              "#d8576b"
             ],
             [
              0.6666666666666666,
              "#ed7953"
             ],
             [
              0.7777777777777778,
              "#fb9f3a"
             ],
             [
              0.8888888888888888,
              "#fdca26"
             ],
             [
              1,
              "#f0f921"
             ]
            ],
            "type": "heatmapgl"
           }
          ],
          "histogram": [
           {
            "marker": {
             "pattern": {
              "fillmode": "overlay",
              "size": 10,
              "solidity": 0.2
             }
            },
            "type": "histogram"
           }
          ],
          "histogram2d": [
           {
            "colorbar": {
             "outlinewidth": 0,
             "ticks": ""
            },
            "colorscale": [
             [
              0,
              "#0d0887"
             ],
             [
              0.1111111111111111,
              "#46039f"
             ],
             [
              0.2222222222222222,
              "#7201a8"
             ],
             [
              0.3333333333333333,
              "#9c179e"
             ],
             [
              0.4444444444444444,
              "#bd3786"
             ],
             [
              0.5555555555555556,
              "#d8576b"
             ],
             [
              0.6666666666666666,
              "#ed7953"
             ],
             [
              0.7777777777777778,
              "#fb9f3a"
             ],
             [
              0.8888888888888888,
              "#fdca26"
             ],
             [
              1,
              "#f0f921"
             ]
            ],
            "type": "histogram2d"
           }
          ],
          "histogram2dcontour": [
           {
            "colorbar": {
             "outlinewidth": 0,
             "ticks": ""
            },
            "colorscale": [
             [
              0,
              "#0d0887"
             ],
             [
              0.1111111111111111,
              "#46039f"
             ],
             [
              0.2222222222222222,
              "#7201a8"
             ],
             [
              0.3333333333333333,
              "#9c179e"
             ],
             [
              0.4444444444444444,
              "#bd3786"
             ],
             [
              0.5555555555555556,
              "#d8576b"
             ],
             [
              0.6666666666666666,
              "#ed7953"
             ],
             [
              0.7777777777777778,
              "#fb9f3a"
             ],
             [
              0.8888888888888888,
              "#fdca26"
             ],
             [
              1,
              "#f0f921"
             ]
            ],
            "type": "histogram2dcontour"
           }
          ],
          "mesh3d": [
           {
            "colorbar": {
             "outlinewidth": 0,
             "ticks": ""
            },
            "type": "mesh3d"
           }
          ],
          "parcoords": [
           {
            "line": {
             "colorbar": {
              "outlinewidth": 0,
              "ticks": ""
             }
            },
            "type": "parcoords"
           }
          ],
          "pie": [
           {
            "automargin": true,
            "type": "pie"
           }
          ],
          "scatter": [
           {
            "fillpattern": {
             "fillmode": "overlay",
             "size": 10,
             "solidity": 0.2
            },
            "type": "scatter"
           }
          ],
          "scatter3d": [
           {
            "line": {
             "colorbar": {
              "outlinewidth": 0,
              "ticks": ""
             }
            },
            "marker": {
             "colorbar": {
              "outlinewidth": 0,
              "ticks": ""
             }
            },
            "type": "scatter3d"
           }
          ],
          "scattercarpet": [
           {
            "marker": {
             "colorbar": {
              "outlinewidth": 0,
              "ticks": ""
             }
            },
            "type": "scattercarpet"
           }
          ],
          "scattergeo": [
           {
            "marker": {
             "colorbar": {
              "outlinewidth": 0,
              "ticks": ""
             }
            },
            "type": "scattergeo"
           }
          ],
          "scattergl": [
           {
            "marker": {
             "colorbar": {
              "outlinewidth": 0,
              "ticks": ""
             }
            },
            "type": "scattergl"
           }
          ],
          "scattermapbox": [
           {
            "marker": {
             "colorbar": {
              "outlinewidth": 0,
              "ticks": ""
             }
            },
            "type": "scattermapbox"
           }
          ],
          "scatterpolar": [
           {
            "marker": {
             "colorbar": {
              "outlinewidth": 0,
              "ticks": ""
             }
            },
            "type": "scatterpolar"
           }
          ],
          "scatterpolargl": [
           {
            "marker": {
             "colorbar": {
              "outlinewidth": 0,
              "ticks": ""
             }
            },
            "type": "scatterpolargl"
           }
          ],
          "scatterternary": [
           {
            "marker": {
             "colorbar": {
              "outlinewidth": 0,
              "ticks": ""
             }
            },
            "type": "scatterternary"
           }
          ],
          "surface": [
           {
            "colorbar": {
             "outlinewidth": 0,
             "ticks": ""
            },
            "colorscale": [
             [
              0,
              "#0d0887"
             ],
             [
              0.1111111111111111,
              "#46039f"
             ],
             [
              0.2222222222222222,
              "#7201a8"
             ],
             [
              0.3333333333333333,
              "#9c179e"
             ],
             [
              0.4444444444444444,
              "#bd3786"
             ],
             [
              0.5555555555555556,
              "#d8576b"
             ],
             [
              0.6666666666666666,
              "#ed7953"
             ],
             [
              0.7777777777777778,
              "#fb9f3a"
             ],
             [
              0.8888888888888888,
              "#fdca26"
             ],
             [
              1,
              "#f0f921"
             ]
            ],
            "type": "surface"
           }
          ],
          "table": [
           {
            "cells": {
             "fill": {
              "color": "#EBF0F8"
             },
             "line": {
              "color": "white"
             }
            },
            "header": {
             "fill": {
              "color": "#C8D4E3"
             },
             "line": {
              "color": "white"
             }
            },
            "type": "table"
           }
          ]
         },
         "layout": {
          "annotationdefaults": {
           "arrowcolor": "#2a3f5f",
           "arrowhead": 0,
           "arrowwidth": 1
          },
          "autotypenumbers": "strict",
          "coloraxis": {
           "colorbar": {
            "outlinewidth": 0,
            "ticks": ""
           }
          },
          "colorscale": {
           "diverging": [
            [
             0,
             "#8e0152"
            ],
            [
             0.1,
             "#c51b7d"
            ],
            [
             0.2,
             "#de77ae"
            ],
            [
             0.3,
             "#f1b6da"
            ],
            [
             0.4,
             "#fde0ef"
            ],
            [
             0.5,
             "#f7f7f7"
            ],
            [
             0.6,
             "#e6f5d0"
            ],
            [
             0.7,
             "#b8e186"
            ],
            [
             0.8,
             "#7fbc41"
            ],
            [
             0.9,
             "#4d9221"
            ],
            [
             1,
             "#276419"
            ]
           ],
           "sequential": [
            [
             0,
             "#0d0887"
            ],
            [
             0.1111111111111111,
             "#46039f"
            ],
            [
             0.2222222222222222,
             "#7201a8"
            ],
            [
             0.3333333333333333,
             "#9c179e"
            ],
            [
             0.4444444444444444,
             "#bd3786"
            ],
            [
             0.5555555555555556,
             "#d8576b"
            ],
            [
             0.6666666666666666,
             "#ed7953"
            ],
            [
             0.7777777777777778,
             "#fb9f3a"
            ],
            [
             0.8888888888888888,
             "#fdca26"
            ],
            [
             1,
             "#f0f921"
            ]
           ],
           "sequentialminus": [
            [
             0,
             "#0d0887"
            ],
            [
             0.1111111111111111,
             "#46039f"
            ],
            [
             0.2222222222222222,
             "#7201a8"
            ],
            [
             0.3333333333333333,
             "#9c179e"
            ],
            [
             0.4444444444444444,
             "#bd3786"
            ],
            [
             0.5555555555555556,
             "#d8576b"
            ],
            [
             0.6666666666666666,
             "#ed7953"
            ],
            [
             0.7777777777777778,
             "#fb9f3a"
            ],
            [
             0.8888888888888888,
             "#fdca26"
            ],
            [
             1,
             "#f0f921"
            ]
           ]
          },
          "colorway": [
           "#636efa",
           "#EF553B",
           "#00cc96",
           "#ab63fa",
           "#FFA15A",
           "#19d3f3",
           "#FF6692",
           "#B6E880",
           "#FF97FF",
           "#FECB52"
          ],
          "font": {
           "color": "#2a3f5f"
          },
          "geo": {
           "bgcolor": "white",
           "lakecolor": "white",
           "landcolor": "#E5ECF6",
           "showlakes": true,
           "showland": true,
           "subunitcolor": "white"
          },
          "hoverlabel": {
           "align": "left"
          },
          "hovermode": "closest",
          "mapbox": {
           "style": "light"
          },
          "paper_bgcolor": "white",
          "plot_bgcolor": "#E5ECF6",
          "polar": {
           "angularaxis": {
            "gridcolor": "white",
            "linecolor": "white",
            "ticks": ""
           },
           "bgcolor": "#E5ECF6",
           "radialaxis": {
            "gridcolor": "white",
            "linecolor": "white",
            "ticks": ""
           }
          },
          "scene": {
           "xaxis": {
            "backgroundcolor": "#E5ECF6",
            "gridcolor": "white",
            "gridwidth": 2,
            "linecolor": "white",
            "showbackground": true,
            "ticks": "",
            "zerolinecolor": "white"
           },
           "yaxis": {
            "backgroundcolor": "#E5ECF6",
            "gridcolor": "white",
            "gridwidth": 2,
            "linecolor": "white",
            "showbackground": true,
            "ticks": "",
            "zerolinecolor": "white"
           },
           "zaxis": {
            "backgroundcolor": "#E5ECF6",
            "gridcolor": "white",
            "gridwidth": 2,
            "linecolor": "white",
            "showbackground": true,
            "ticks": "",
            "zerolinecolor": "white"
           }
          },
          "shapedefaults": {
           "line": {
            "color": "#2a3f5f"
           }
          },
          "ternary": {
           "aaxis": {
            "gridcolor": "white",
            "linecolor": "white",
            "ticks": ""
           },
           "baxis": {
            "gridcolor": "white",
            "linecolor": "white",
            "ticks": ""
           },
           "bgcolor": "#E5ECF6",
           "caxis": {
            "gridcolor": "white",
            "linecolor": "white",
            "ticks": ""
           }
          },
          "title": {
           "x": 0.05
          },
          "xaxis": {
           "automargin": true,
           "gridcolor": "white",
           "linecolor": "white",
           "ticks": "",
           "title": {
            "standoff": 15
           },
           "zerolinecolor": "white",
           "zerolinewidth": 2
          },
          "yaxis": {
           "automargin": true,
           "gridcolor": "white",
           "linecolor": "white",
           "ticks": "",
           "title": {
            "standoff": 15
           },
           "zerolinecolor": "white",
           "zerolinewidth": 2
          }
         }
        },
        "title": {
         "text": "Распределение переменной рейтинг"
        },
        "xaxis": {
         "anchor": "y",
         "domain": [
          0,
          1
         ],
         "title": {
          "text": "rating"
         }
        },
        "yaxis": {
         "anchor": "x",
         "domain": [
          0,
          1
         ],
         "title": {
          "text": "count"
         }
        }
       }
      }
     },
     "metadata": {},
     "output_type": "display_data"
    },
    {
     "data": {
      "application/vnd.plotly.v1+json": {
       "config": {
        "plotlyServerURL": "https://plot.ly"
       },
       "data": [
        {
         "alignmentgroup": "True",
         "hovertemplate": "rating=%{x}<extra></extra>",
         "legendgroup": "",
         "marker": {
          "color": "rgb(0, 147, 146)"
         },
         "name": "",
         "notched": false,
         "offsetgroup": "",
         "orientation": "h",
         "showlegend": false,
         "type": "box",
         "x": [
          4.5,
          4.4,
          4.4,
          4.3,
          3.8,
          4.7,
          4.1,
          4,
          4.1,
          4.2,
          5,
          4.1,
          4.1,
          4.1,
          4.4,
          4.2,
          4.3,
          4.4,
          4.4,
          4.7,
          4.2,
          4.3,
          4.2,
          4.2,
          4.4,
          4,
          4.3,
          4.2,
          4.4,
          4.3,
          4.5,
          4.4,
          4.5,
          4.2,
          4.3,
          4.2,
          4.2,
          4.5,
          4.2,
          4.4,
          4.3,
          4.4,
          4.2,
          4.1,
          4.2,
          4.2,
          4.3,
          4.5,
          4.3,
          4.2,
          4.7,
          4.5,
          4.4,
          5,
          3.8,
          4.4,
          4.7,
          4.3,
          4.5,
          4.3,
          3.9,
          3.7,
          4,
          3.6,
          4.9,
          4.3,
          4,
          4.8,
          4.1,
          4.2,
          4.5,
          4.2,
          4.3,
          4.5,
          4.3,
          4,
          4.5,
          5,
          4.5,
          4.7,
          4.3,
          4.8,
          4.7,
          4.5,
          4.5,
          4.2,
          4.6,
          4.7,
          5,
          4.7,
          4.5,
          4.7,
          4.4,
          4.1,
          4.6,
          4.3,
          4.5,
          4.4,
          4.2,
          4.2,
          4.4,
          4.3,
          4.4,
          4.2,
          4.5,
          3.1,
          4.4,
          4.4,
          4.7,
          3.8,
          4.5,
          4.5,
          4.3,
          3.9,
          4,
          4.4,
          4.3,
          4.5,
          4.5,
          4.3,
          3.9,
          4.3,
          4.3,
          4.4,
          4.1,
          4,
          4,
          4.3,
          4.3,
          4.6,
          4.2,
          4.4,
          4.5,
          4.5,
          4,
          4.8,
          4.1,
          4.2,
          4,
          4.5,
          4.4,
          4.2,
          5,
          3.8,
          4.5,
          4.7,
          4.5,
          4.2,
          5,
          4.2,
          4.4,
          4,
          4.7,
          4.2,
          4.4,
          4.1,
          4.1,
          4.5,
          4.4,
          4.2,
          4.7,
          4.2,
          3.7,
          4.4,
          4.2,
          4.2,
          4.3,
          4.7,
          4.5,
          4.4,
          4.4,
          4.5,
          4.4,
          4.6,
          4,
          4.5,
          4.7,
          4.5,
          4.6,
          4.4,
          5,
          3.9,
          3.7,
          4.2,
          4.8,
          4.2,
          4.4,
          4.6,
          4.5,
          4.8,
          3.8,
          5,
          4.8,
          3.6,
          4.5,
          4.6,
          4.6,
          3.8,
          4.3,
          4.7,
          5,
          4.4,
          4.1,
          4.6,
          4.6,
          4.1,
          3.8,
          4.5,
          4.2,
          4.7,
          4.4,
          4,
          4.4,
          4.2,
          4.6,
          4.6,
          3.7,
          4.3,
          4.5,
          4.4,
          4.3,
          4.2,
          4.5,
          3.9,
          4.7,
          4.3,
          4.6,
          4.1,
          4.6,
          3.7,
          4.5,
          4.3,
          4.2,
          4.5,
          4,
          4,
          4.8,
          3.8,
          4.1,
          4.3,
          4.4,
          4.7,
          4,
          3.9,
          3.9,
          4.4,
          4.1,
          5,
          5,
          3.8,
          4,
          3.7,
          4.2,
          3.6,
          3.7,
          4.2,
          4.4,
          4.3,
          4.5,
          4.8,
          4.7,
          3.6,
          4.3,
          4.6,
          4.1,
          4.6,
          4,
          4.6,
          4,
          4.3,
          4.1,
          4.9,
          4.7,
          4.2,
          3.7,
          4.4,
          4.4,
          4.8,
          3.8,
          4.4,
          4.3,
          4.6,
          4,
          4.4,
          4.1,
          3.9,
          4.2,
          4.6,
          4.5,
          4.1,
          4.7,
          4,
          4.7,
          4.2,
          3.6,
          4.5,
          4.4,
          4.4,
          4,
          4,
          4.3,
          4.3,
          4.2,
          4.5,
          4.4,
          4.5,
          4.1,
          4.1,
          4,
          4.2,
          5,
          3.8,
          4.5,
          4.8,
          4.2,
          4.7,
          4.4,
          4.3,
          3.7,
          4.4,
          4.3,
          4,
          4.5,
          4.4,
          4.5,
          4.8,
          4.4,
          4.3,
          3.9,
          4.3,
          5,
          4.2,
          4.1,
          4.4,
          4,
          3,
          4.1,
          4.8,
          3.9,
          4.5,
          3.9,
          4,
          4,
          5,
          4.4,
          4.2,
          4.5,
          4.3,
          4.3,
          5,
          4.1,
          4,
          4.6,
          4.3,
          4.3,
          4.9,
          4.4,
          4.5,
          4.5,
          3.9,
          4.2,
          4.3,
          4.3,
          4.4,
          4.1,
          4.3,
          4.4,
          4.5,
          4.3,
          4.3,
          4.5,
          3.7,
          5,
          4.4,
          3.8,
          4.5,
          4.9,
          3.7,
          4.5,
          3.9,
          4.1,
          4.4,
          4.4,
          4.2,
          3.9,
          3.8,
          4.4,
          4.3,
          4,
          4.1,
          4.5,
          4.5,
          5,
          4,
          4.3,
          4.3,
          4.1,
          4.5,
          3.5,
          4.4,
          5,
          3.7,
          4.2,
          4.3,
          3.6,
          4.1,
          4.4,
          4.3,
          4.3,
          4.4,
          4.3,
          4.3,
          4.3,
          4.8,
          4.3,
          4.1,
          4.6,
          4.5,
          4.2,
          4.6,
          3.9,
          4.8,
          4.1,
          4.4,
          4.3,
          3.7,
          4.3,
          4.5,
          4.6,
          4,
          4.4,
          4.2,
          4.8,
          4.1,
          4,
          4.1,
          4,
          3,
          3.5,
          4.1,
          3.3,
          4.4,
          4.5,
          4.1,
          3.5,
          3.7,
          4.2,
          4,
          4.1,
          4.5,
          4.2,
          4.5,
          4.3,
          4.5,
          3.8,
          3.7,
          3.8,
          4.5,
          4,
          3.5,
          4.6,
          4.3,
          3.6,
          4,
          4.4,
          4.3,
          4.4,
          4.2,
          3.6,
          4,
          4,
          4.5,
          4.1,
          1.6,
          4.8,
          4.4,
          4.2,
          4.1,
          4,
          4.2,
          3.3,
          3.3,
          4.1,
          4.7,
          4.4,
          3.8,
          4.5,
          4,
          3.8,
          4.4,
          4.6,
          4.1,
          4.4,
          4.4,
          4,
          4.3,
          4,
          4.5,
          3.8,
          4.8,
          3.9,
          4.5,
          3.9,
          4,
          4,
          4.7,
          4.3,
          4.1,
          4,
          4.2,
          5,
          4.4,
          4.3,
          4.4,
          4,
          3.7,
          4.4,
          4.7,
          4.1,
          4,
          3.5,
          3.8,
          4,
          3.6,
          3.8,
          3.7,
          3.8,
          4,
          3.8,
          4.5,
          4
         ],
         "x0": " ",
         "xaxis": "x",
         "y0": " ",
         "yaxis": "y"
        }
       ],
       "layout": {
        "boxmode": "group",
        "legend": {
         "tracegroupgap": 0
        },
        "template": {
         "data": {
          "bar": [
           {
            "error_x": {
             "color": "#2a3f5f"
            },
            "error_y": {
             "color": "#2a3f5f"
            },
            "marker": {
             "line": {
              "color": "#E5ECF6",
              "width": 0.5
             },
             "pattern": {
              "fillmode": "overlay",
              "size": 10,
              "solidity": 0.2
             }
            },
            "type": "bar"
           }
          ],
          "barpolar": [
           {
            "marker": {
             "line": {
              "color": "#E5ECF6",
              "width": 0.5
             },
             "pattern": {
              "fillmode": "overlay",
              "size": 10,
              "solidity": 0.2
             }
            },
            "type": "barpolar"
           }
          ],
          "carpet": [
           {
            "aaxis": {
             "endlinecolor": "#2a3f5f",
             "gridcolor": "white",
             "linecolor": "white",
             "minorgridcolor": "white",
             "startlinecolor": "#2a3f5f"
            },
            "baxis": {
             "endlinecolor": "#2a3f5f",
             "gridcolor": "white",
             "linecolor": "white",
             "minorgridcolor": "white",
             "startlinecolor": "#2a3f5f"
            },
            "type": "carpet"
           }
          ],
          "choropleth": [
           {
            "colorbar": {
             "outlinewidth": 0,
             "ticks": ""
            },
            "type": "choropleth"
           }
          ],
          "contour": [
           {
            "colorbar": {
             "outlinewidth": 0,
             "ticks": ""
            },
            "colorscale": [
             [
              0,
              "#0d0887"
             ],
             [
              0.1111111111111111,
              "#46039f"
             ],
             [
              0.2222222222222222,
              "#7201a8"
             ],
             [
              0.3333333333333333,
              "#9c179e"
             ],
             [
              0.4444444444444444,
              "#bd3786"
             ],
             [
              0.5555555555555556,
              "#d8576b"
             ],
             [
              0.6666666666666666,
              "#ed7953"
             ],
             [
              0.7777777777777778,
              "#fb9f3a"
             ],
             [
              0.8888888888888888,
              "#fdca26"
             ],
             [
              1,
              "#f0f921"
             ]
            ],
            "type": "contour"
           }
          ],
          "contourcarpet": [
           {
            "colorbar": {
             "outlinewidth": 0,
             "ticks": ""
            },
            "type": "contourcarpet"
           }
          ],
          "heatmap": [
           {
            "colorbar": {
             "outlinewidth": 0,
             "ticks": ""
            },
            "colorscale": [
             [
              0,
              "#0d0887"
             ],
             [
              0.1111111111111111,
              "#46039f"
             ],
             [
              0.2222222222222222,
              "#7201a8"
             ],
             [
              0.3333333333333333,
              "#9c179e"
             ],
             [
              0.4444444444444444,
              "#bd3786"
             ],
             [
              0.5555555555555556,
              "#d8576b"
             ],
             [
              0.6666666666666666,
              "#ed7953"
             ],
             [
              0.7777777777777778,
              "#fb9f3a"
             ],
             [
              0.8888888888888888,
              "#fdca26"
             ],
             [
              1,
              "#f0f921"
             ]
            ],
            "type": "heatmap"
           }
          ],
          "heatmapgl": [
           {
            "colorbar": {
             "outlinewidth": 0,
             "ticks": ""
            },
            "colorscale": [
             [
              0,
              "#0d0887"
             ],
             [
              0.1111111111111111,
              "#46039f"
             ],
             [
              0.2222222222222222,
              "#7201a8"
             ],
             [
              0.3333333333333333,
              "#9c179e"
             ],
             [
              0.4444444444444444,
              "#bd3786"
             ],
             [
              0.5555555555555556,
              "#d8576b"
             ],
             [
              0.6666666666666666,
              "#ed7953"
             ],
             [
              0.7777777777777778,
              "#fb9f3a"
             ],
             [
              0.8888888888888888,
              "#fdca26"
             ],
             [
              1,
              "#f0f921"
             ]
            ],
            "type": "heatmapgl"
           }
          ],
          "histogram": [
           {
            "marker": {
             "pattern": {
              "fillmode": "overlay",
              "size": 10,
              "solidity": 0.2
             }
            },
            "type": "histogram"
           }
          ],
          "histogram2d": [
           {
            "colorbar": {
             "outlinewidth": 0,
             "ticks": ""
            },
            "colorscale": [
             [
              0,
              "#0d0887"
             ],
             [
              0.1111111111111111,
              "#46039f"
             ],
             [
              0.2222222222222222,
              "#7201a8"
             ],
             [
              0.3333333333333333,
              "#9c179e"
             ],
             [
              0.4444444444444444,
              "#bd3786"
             ],
             [
              0.5555555555555556,
              "#d8576b"
             ],
             [
              0.6666666666666666,
              "#ed7953"
             ],
             [
              0.7777777777777778,
              "#fb9f3a"
             ],
             [
              0.8888888888888888,
              "#fdca26"
             ],
             [
              1,
              "#f0f921"
             ]
            ],
            "type": "histogram2d"
           }
          ],
          "histogram2dcontour": [
           {
            "colorbar": {
             "outlinewidth": 0,
             "ticks": ""
            },
            "colorscale": [
             [
              0,
              "#0d0887"
             ],
             [
              0.1111111111111111,
              "#46039f"
             ],
             [
              0.2222222222222222,
              "#7201a8"
             ],
             [
              0.3333333333333333,
              "#9c179e"
             ],
             [
              0.4444444444444444,
              "#bd3786"
             ],
             [
              0.5555555555555556,
              "#d8576b"
             ],
             [
              0.6666666666666666,
              "#ed7953"
             ],
             [
              0.7777777777777778,
              "#fb9f3a"
             ],
             [
              0.8888888888888888,
              "#fdca26"
             ],
             [
              1,
              "#f0f921"
             ]
            ],
            "type": "histogram2dcontour"
           }
          ],
          "mesh3d": [
           {
            "colorbar": {
             "outlinewidth": 0,
             "ticks": ""
            },
            "type": "mesh3d"
           }
          ],
          "parcoords": [
           {
            "line": {
             "colorbar": {
              "outlinewidth": 0,
              "ticks": ""
             }
            },
            "type": "parcoords"
           }
          ],
          "pie": [
           {
            "automargin": true,
            "type": "pie"
           }
          ],
          "scatter": [
           {
            "fillpattern": {
             "fillmode": "overlay",
             "size": 10,
             "solidity": 0.2
            },
            "type": "scatter"
           }
          ],
          "scatter3d": [
           {
            "line": {
             "colorbar": {
              "outlinewidth": 0,
              "ticks": ""
             }
            },
            "marker": {
             "colorbar": {
              "outlinewidth": 0,
              "ticks": ""
             }
            },
            "type": "scatter3d"
           }
          ],
          "scattercarpet": [
           {
            "marker": {
             "colorbar": {
              "outlinewidth": 0,
              "ticks": ""
             }
            },
            "type": "scattercarpet"
           }
          ],
          "scattergeo": [
           {
            "marker": {
             "colorbar": {
              "outlinewidth": 0,
              "ticks": ""
             }
            },
            "type": "scattergeo"
           }
          ],
          "scattergl": [
           {
            "marker": {
             "colorbar": {
              "outlinewidth": 0,
              "ticks": ""
             }
            },
            "type": "scattergl"
           }
          ],
          "scattermapbox": [
           {
            "marker": {
             "colorbar": {
              "outlinewidth": 0,
              "ticks": ""
             }
            },
            "type": "scattermapbox"
           }
          ],
          "scatterpolar": [
           {
            "marker": {
             "colorbar": {
              "outlinewidth": 0,
              "ticks": ""
             }
            },
            "type": "scatterpolar"
           }
          ],
          "scatterpolargl": [
           {
            "marker": {
             "colorbar": {
              "outlinewidth": 0,
              "ticks": ""
             }
            },
            "type": "scatterpolargl"
           }
          ],
          "scatterternary": [
           {
            "marker": {
             "colorbar": {
              "outlinewidth": 0,
              "ticks": ""
             }
            },
            "type": "scatterternary"
           }
          ],
          "surface": [
           {
            "colorbar": {
             "outlinewidth": 0,
             "ticks": ""
            },
            "colorscale": [
             [
              0,
              "#0d0887"
             ],
             [
              0.1111111111111111,
              "#46039f"
             ],
             [
              0.2222222222222222,
              "#7201a8"
             ],
             [
              0.3333333333333333,
              "#9c179e"
             ],
             [
              0.4444444444444444,
              "#bd3786"
             ],
             [
              0.5555555555555556,
              "#d8576b"
             ],
             [
              0.6666666666666666,
              "#ed7953"
             ],
             [
              0.7777777777777778,
              "#fb9f3a"
             ],
             [
              0.8888888888888888,
              "#fdca26"
             ],
             [
              1,
              "#f0f921"
             ]
            ],
            "type": "surface"
           }
          ],
          "table": [
           {
            "cells": {
             "fill": {
              "color": "#EBF0F8"
             },
             "line": {
              "color": "white"
             }
            },
            "header": {
             "fill": {
              "color": "#C8D4E3"
             },
             "line": {
              "color": "white"
             }
            },
            "type": "table"
           }
          ]
         },
         "layout": {
          "annotationdefaults": {
           "arrowcolor": "#2a3f5f",
           "arrowhead": 0,
           "arrowwidth": 1
          },
          "autotypenumbers": "strict",
          "coloraxis": {
           "colorbar": {
            "outlinewidth": 0,
            "ticks": ""
           }
          },
          "colorscale": {
           "diverging": [
            [
             0,
             "#8e0152"
            ],
            [
             0.1,
             "#c51b7d"
            ],
            [
             0.2,
             "#de77ae"
            ],
            [
             0.3,
             "#f1b6da"
            ],
            [
             0.4,
             "#fde0ef"
            ],
            [
             0.5,
             "#f7f7f7"
            ],
            [
             0.6,
             "#e6f5d0"
            ],
            [
             0.7,
             "#b8e186"
            ],
            [
             0.8,
             "#7fbc41"
            ],
            [
             0.9,
             "#4d9221"
            ],
            [
             1,
             "#276419"
            ]
           ],
           "sequential": [
            [
             0,
             "#0d0887"
            ],
            [
             0.1111111111111111,
             "#46039f"
            ],
            [
             0.2222222222222222,
             "#7201a8"
            ],
            [
             0.3333333333333333,
             "#9c179e"
            ],
            [
             0.4444444444444444,
             "#bd3786"
            ],
            [
             0.5555555555555556,
             "#d8576b"
            ],
            [
             0.6666666666666666,
             "#ed7953"
            ],
            [
             0.7777777777777778,
             "#fb9f3a"
            ],
            [
             0.8888888888888888,
             "#fdca26"
            ],
            [
             1,
             "#f0f921"
            ]
           ],
           "sequentialminus": [
            [
             0,
             "#0d0887"
            ],
            [
             0.1111111111111111,
             "#46039f"
            ],
            [
             0.2222222222222222,
             "#7201a8"
            ],
            [
             0.3333333333333333,
             "#9c179e"
            ],
            [
             0.4444444444444444,
             "#bd3786"
            ],
            [
             0.5555555555555556,
             "#d8576b"
            ],
            [
             0.6666666666666666,
             "#ed7953"
            ],
            [
             0.7777777777777778,
             "#fb9f3a"
            ],
            [
             0.8888888888888888,
             "#fdca26"
            ],
            [
             1,
             "#f0f921"
            ]
           ]
          },
          "colorway": [
           "#636efa",
           "#EF553B",
           "#00cc96",
           "#ab63fa",
           "#FFA15A",
           "#19d3f3",
           "#FF6692",
           "#B6E880",
           "#FF97FF",
           "#FECB52"
          ],
          "font": {
           "color": "#2a3f5f"
          },
          "geo": {
           "bgcolor": "white",
           "lakecolor": "white",
           "landcolor": "#E5ECF6",
           "showlakes": true,
           "showland": true,
           "subunitcolor": "white"
          },
          "hoverlabel": {
           "align": "left"
          },
          "hovermode": "closest",
          "mapbox": {
           "style": "light"
          },
          "paper_bgcolor": "white",
          "plot_bgcolor": "#E5ECF6",
          "polar": {
           "angularaxis": {
            "gridcolor": "white",
            "linecolor": "white",
            "ticks": ""
           },
           "bgcolor": "#E5ECF6",
           "radialaxis": {
            "gridcolor": "white",
            "linecolor": "white",
            "ticks": ""
           }
          },
          "scene": {
           "xaxis": {
            "backgroundcolor": "#E5ECF6",
            "gridcolor": "white",
            "gridwidth": 2,
            "linecolor": "white",
            "showbackground": true,
            "ticks": "",
            "zerolinecolor": "white"
           },
           "yaxis": {
            "backgroundcolor": "#E5ECF6",
            "gridcolor": "white",
            "gridwidth": 2,
            "linecolor": "white",
            "showbackground": true,
            "ticks": "",
            "zerolinecolor": "white"
           },
           "zaxis": {
            "backgroundcolor": "#E5ECF6",
            "gridcolor": "white",
            "gridwidth": 2,
            "linecolor": "white",
            "showbackground": true,
            "ticks": "",
            "zerolinecolor": "white"
           }
          },
          "shapedefaults": {
           "line": {
            "color": "#2a3f5f"
           }
          },
          "ternary": {
           "aaxis": {
            "gridcolor": "white",
            "linecolor": "white",
            "ticks": ""
           },
           "baxis": {
            "gridcolor": "white",
            "linecolor": "white",
            "ticks": ""
           },
           "bgcolor": "#E5ECF6",
           "caxis": {
            "gridcolor": "white",
            "linecolor": "white",
            "ticks": ""
           }
          },
          "title": {
           "x": 0.05
          },
          "xaxis": {
           "automargin": true,
           "gridcolor": "white",
           "linecolor": "white",
           "ticks": "",
           "title": {
            "standoff": 15
           },
           "zerolinecolor": "white",
           "zerolinewidth": 2
          },
          "yaxis": {
           "automargin": true,
           "gridcolor": "white",
           "linecolor": "white",
           "ticks": "",
           "title": {
            "standoff": 15
           },
           "zerolinecolor": "white",
           "zerolinewidth": 2
          }
         }
        },
        "title": {
         "text": "Распределение переменной рейтинг"
        },
        "xaxis": {
         "anchor": "y",
         "domain": [
          0,
          1
         ],
         "title": {
          "text": "rating"
         }
        },
        "yaxis": {
         "anchor": "x",
         "domain": [
          0,
          1
         ]
        }
       }
      }
     },
     "metadata": {},
     "output_type": "display_data"
    }
   ],
   "source": [
    "labels = {'price(in Rs.)': 'цена', 'rating': 'рейтинг'}\n",
    "\n",
    "for col in ['price(in Rs.)', 'rating']:\n",
    "    hist = px.histogram(\n",
    "        data_cleaned,\n",
    "        x=col,\n",
    "        color_discrete_sequence=px.colors.diverging.Tealrose,\n",
    "        title=f'Распределение переменной {labels[col]}'\n",
    "    )\n",
    "    hist.show()\n",
    "    hist.write_html(f\"plotly/hist_{labels[col]}.html\")\n",
    "    box = px.box(\n",
    "        data_cleaned,\n",
    "        x=col,\n",
    "        orientation='h',\n",
    "        color_discrete_sequence=px.colors.diverging.Tealrose,\n",
    "        title=f'Распределение переменной {labels[col]}'\n",
    "    )\n",
    "    box.show()\n",
    "    box.write_html(f\"plotly/box_{labels[col]}.html\")"
   ]
  },
  {
   "cell_type": "markdown",
   "metadata": {},
   "source": [
    "Как уже было отмечено, цены распеределены ассиметрично - \"хвост\" справа, а у распределения рейтинга \"хвост\" слева. То есть присутствует мало ноутбуков с ценой выше 136k Rs, и с рейтингом меньше 3.5\n",
    "\n",
    "Теперь построим совместное распределение этих признаков и проверим, есть ли между ними взаимосвязь."
   ]
  },
  {
   "cell_type": "code",
   "execution_count": 16,
   "metadata": {},
   "outputs": [
    {
     "data": {
      "application/vnd.plotly.v1+json": {
       "config": {
        "plotlyServerURL": "https://plot.ly"
       },
       "data": [
        {
         "hovertemplate": "price(in Rs.)=%{x}<br>rating=%{y}<extra></extra>",
         "legendgroup": "",
         "marker": {
          "color": "rgb(0, 147, 146)",
          "symbol": "circle"
         },
         "mode": "markers",
         "name": "",
         "orientation": "v",
         "showlegend": false,
         "type": "scatter",
         "x": [
          62990,
          37500,
          49990,
          33990,
          18990,
          86990,
          23990,
          33999,
          38990,
          26990,
          66990,
          37990,
          56990,
          39990,
          46990,
          37990,
          49123,
          47990,
          86500,
          86990,
          44990,
          52990,
          38990,
          33890,
          33990,
          26990,
          38500,
          45909,
          49990,
          40950,
          52890,
          99990,
          59990,
          58018,
          38699,
          32990,
          53990,
          64990,
          52990,
          46990,
          109990,
          68114,
          56049,
          25990,
          33990,
          38990,
          47039,
          67990,
          40990,
          49990,
          159990,
          74990,
          61990,
          46990,
          57990,
          51990,
          86990,
          64990,
          64990,
          35990,
          38290,
          17990,
          15990,
          42990,
          54990,
          30990,
          50990,
          79990,
          22900,
          33751,
          50990,
          45990,
          62499,
          76999,
          51990,
          32990,
          45990,
          88499,
          65990,
          85990,
          139990,
          113490,
          113990,
          74990,
          89990,
          41990,
          63990,
          86990,
          61990,
          88990,
          76990,
          104990,
          78990,
          63990,
          68990,
          57990,
          95990,
          59990,
          61400,
          37990,
          77070,
          56990,
          56990,
          42490,
          95990,
          44290,
          63550,
          119990,
          129990,
          161990,
          47990,
          73990,
          307990,
          45990,
          27990,
          62050,
          52990,
          65990,
          56990,
          41190,
          57990,
          85990,
          55990,
          44990,
          32000,
          89990,
          88900,
          41990,
          44490,
          47990,
          72990,
          44990,
          65990,
          56990,
          34690,
          213894,
          35990,
          50499,
          40990,
          78190,
          43490,
          49990,
          99990,
          36990,
          56990,
          121990,
          87990,
          42900,
          88490,
          46990,
          89990,
          140990,
          106490,
          25990,
          89990,
          79990,
          72990,
          76519,
          34990,
          38029,
          104990,
          25990,
          23990,
          31990,
          49890,
          74990,
          60290,
          126990,
          60990,
          64990,
          41490,
          77990,
          94500,
          154990,
          74990,
          65990,
          114990,
          63990,
          80990,
          39490,
          281990,
          31561,
          48990,
          54990,
          243990,
          41890,
          42990,
          104990,
          86490,
          129990,
          52890,
          146990,
          77990,
          31490,
          61500,
          228928,
          345390,
          62990,
          75990,
          129989,
          139990,
          68990,
          62490,
          109990,
          61990,
          60990,
          110000,
          76990,
          33990,
          109990,
          129990,
          51532,
          144100,
          20990,
          65999,
          129990,
          19990,
          67990,
          64590,
          115300,
          61990,
          26490,
          114990,
          114990,
          59990,
          40990,
          109990,
          46040,
          55990,
          24999,
          76990,
          40390,
          20990,
          61990,
          68400,
          39490,
          241990,
          114990,
          52490,
          139990,
          59990,
          70900,
          35699,
          84990,
          43500,
          60990,
          39990,
          139999,
          156490,
          16490,
          250000,
          57990,
          46990,
          88990,
          145499,
          33990,
          39990,
          58800,
          101490,
          219894,
          69990,
          41990,
          57990,
          72790,
          60130,
          74990,
          157990,
          59490,
          58490,
          87390,
          214790,
          199990,
          61990,
          59990,
          46990,
          42690,
          59990,
          222990,
          42990,
          156090,
          69890,
          63990,
          108990,
          58500,
          33200,
          41890,
          35990,
          71990,
          105990,
          58900,
          210990,
          65990,
          150490,
          42490,
          18990,
          78190,
          34990,
          119990,
          18990,
          39490,
          64990,
          30990,
          163990,
          41999,
          55990,
          88890,
          40690,
          24290,
          74990,
          37990,
          37890,
          127490,
          129999,
          185790,
          41290,
          38690,
          71990,
          72490,
          61999,
          105990,
          62990,
          42690,
          73990,
          93900,
          58499,
          50983,
          47090,
          66990,
          40200,
          47990,
          59990,
          51890,
          35500,
          28490,
          64990,
          146490,
          40699,
          69990,
          63090,
          98990,
          57890,
          40890,
          40690,
          154990,
          79990,
          27990,
          98990,
          42990,
          44190,
          79990,
          42990,
          22990,
          107331,
          38990,
          37990,
          150990,
          76990,
          79000,
          62490,
          79990,
          30990,
          37490,
          39990,
          66990,
          40788,
          42500,
          58990,
          119990,
          38999,
          135990,
          88390,
          113104,
          114990,
          56000,
          16990,
          44900,
          98990,
          46990,
          60490,
          62490,
          20990,
          41990,
          76490,
          42890,
          49890,
          69490,
          110990,
          62990,
          28990,
          42990,
          74990,
          59990,
          209690,
          74990,
          42990,
          81600,
          122990,
          47990,
          30650,
          52575,
          37890,
          39890,
          37990,
          33990,
          24490,
          63290,
          54960,
          67990,
          99990,
          94990,
          26990,
          41960,
          68990,
          149610,
          63990,
          27990,
          68990,
          60490,
          69351,
          79000,
          64000,
          269990,
          25990,
          50600,
          108290,
          37990,
          38990,
          35960,
          80000,
          30990,
          45990,
          85990,
          73990,
          39990,
          43490,
          25990,
          119990,
          79990,
          59990,
          84990,
          74990,
          68690,
          180990,
          40250,
          61890,
          97500,
          74490,
          73990,
          149990,
          85990,
          59000,
          129990,
          52990,
          59990,
          61000,
          31490,
          99990,
          59990,
          22990,
          85499,
          152124,
          206490,
          28490,
          45126,
          144990,
          65990,
          66490,
          43090,
          33490,
          47130,
          39999,
          99900,
          68290,
          68990,
          105890,
          54990,
          57990,
          54450,
          107990,
          44990,
          64821,
          163990,
          68990,
          105990,
          76990,
          52490,
          66990,
          55190,
          62890,
          24800,
          80590,
          63490,
          73990,
          44990,
          59990,
          39690,
          149990,
          64990,
          27990,
          65200,
          39643,
          34990,
          20990,
          43500,
          56990,
          36600,
          40499,
          56900,
          79258,
          69890,
          127000,
          57090,
          50490,
          67990,
          81998,
          187990,
          45990,
          88990,
          66890,
          47990,
          16990,
          27990,
          41990,
          73490,
          51990,
          46990,
          21990,
          37990,
          22670,
          54990,
          40990
         ],
         "xaxis": "x",
         "y": [
          4.5,
          4.4,
          4.4,
          4.3,
          3.8,
          4.7,
          4.1,
          4,
          4.1,
          4.2,
          5,
          4.1,
          4.1,
          4.1,
          4.4,
          4.2,
          4.3,
          4.4,
          4.4,
          4.7,
          4.2,
          4.3,
          4.2,
          4.2,
          4.4,
          4,
          4.3,
          4.2,
          4.4,
          4.3,
          4.5,
          4.4,
          4.5,
          4.2,
          4.3,
          4.2,
          4.2,
          4.5,
          4.2,
          4.4,
          4.3,
          4.4,
          4.2,
          4.1,
          4.2,
          4.2,
          4.3,
          4.5,
          4.3,
          4.2,
          4.7,
          4.5,
          4.4,
          5,
          3.8,
          4.4,
          4.7,
          4.3,
          4.5,
          4.3,
          3.9,
          3.7,
          4,
          3.6,
          4.9,
          4.3,
          4,
          4.8,
          4.1,
          4.2,
          4.5,
          4.2,
          4.3,
          4.5,
          4.3,
          4,
          4.5,
          5,
          4.5,
          4.7,
          4.3,
          4.8,
          4.7,
          4.5,
          4.5,
          4.2,
          4.6,
          4.7,
          5,
          4.7,
          4.5,
          4.7,
          4.4,
          4.1,
          4.6,
          4.3,
          4.5,
          4.4,
          4.2,
          4.2,
          4.4,
          4.3,
          4.4,
          4.2,
          4.5,
          3.1,
          4.4,
          4.4,
          4.7,
          3.8,
          4.5,
          4.5,
          4.3,
          3.9,
          4,
          4.4,
          4.3,
          4.5,
          4.5,
          4.3,
          3.9,
          4.3,
          4.3,
          4.4,
          4.1,
          4,
          4,
          4.3,
          4.3,
          4.6,
          4.2,
          4.4,
          4.5,
          4.5,
          4,
          4.8,
          4.1,
          4.2,
          4,
          4.5,
          4.4,
          4.2,
          5,
          3.8,
          4.5,
          4.7,
          4.5,
          4.2,
          5,
          4.2,
          4.4,
          4,
          4.7,
          4.2,
          4.4,
          4.1,
          4.1,
          4.5,
          4.4,
          4.2,
          4.7,
          4.2,
          3.7,
          4.4,
          4.2,
          4.2,
          4.3,
          4.7,
          4.5,
          4.4,
          4.4,
          4.5,
          4.4,
          4.6,
          4,
          4.5,
          4.7,
          4.5,
          4.6,
          4.4,
          5,
          3.9,
          3.7,
          4.2,
          4.8,
          4.2,
          4.4,
          4.6,
          4.5,
          4.8,
          3.8,
          5,
          4.8,
          3.6,
          4.5,
          4.6,
          4.6,
          3.8,
          4.3,
          4.7,
          5,
          4.4,
          4.1,
          4.6,
          4.6,
          4.1,
          3.8,
          4.5,
          4.2,
          4.7,
          4.4,
          4,
          4.4,
          4.2,
          4.6,
          4.6,
          3.7,
          4.3,
          4.5,
          4.4,
          4.3,
          4.2,
          4.5,
          3.9,
          4.7,
          4.3,
          4.6,
          4.1,
          4.6,
          3.7,
          4.5,
          4.3,
          4.2,
          4.5,
          4,
          4,
          4.8,
          3.8,
          4.1,
          4.3,
          4.4,
          4.7,
          4,
          3.9,
          3.9,
          4.4,
          4.1,
          5,
          5,
          3.8,
          4,
          3.7,
          4.2,
          3.6,
          3.7,
          4.2,
          4.4,
          4.3,
          4.5,
          4.8,
          4.7,
          3.6,
          4.3,
          4.6,
          4.1,
          4.6,
          4,
          4.6,
          4,
          4.3,
          4.1,
          4.9,
          4.7,
          4.2,
          3.7,
          4.4,
          4.4,
          4.8,
          3.8,
          4.4,
          4.3,
          4.6,
          4,
          4.4,
          4.1,
          3.9,
          4.2,
          4.6,
          4.5,
          4.1,
          4.7,
          4,
          4.7,
          4.2,
          3.6,
          4.5,
          4.4,
          4.4,
          4,
          4,
          4.3,
          4.3,
          4.2,
          4.5,
          4.4,
          4.5,
          4.1,
          4.1,
          4,
          4.2,
          5,
          3.8,
          4.5,
          4.8,
          4.2,
          4.7,
          4.4,
          4.3,
          3.7,
          4.4,
          4.3,
          4,
          4.5,
          4.4,
          4.5,
          4.8,
          4.4,
          4.3,
          3.9,
          4.3,
          5,
          4.2,
          4.1,
          4.4,
          4,
          3,
          4.1,
          4.8,
          3.9,
          4.5,
          3.9,
          4,
          4,
          5,
          4.4,
          4.2,
          4.5,
          4.3,
          4.3,
          5,
          4.1,
          4,
          4.6,
          4.3,
          4.3,
          4.9,
          4.4,
          4.5,
          4.5,
          3.9,
          4.2,
          4.3,
          4.3,
          4.4,
          4.1,
          4.3,
          4.4,
          4.5,
          4.3,
          4.3,
          4.5,
          3.7,
          5,
          4.4,
          3.8,
          4.5,
          4.9,
          3.7,
          4.5,
          3.9,
          4.1,
          4.4,
          4.4,
          4.2,
          3.9,
          3.8,
          4.4,
          4.3,
          4,
          4.1,
          4.5,
          4.5,
          5,
          4,
          4.3,
          4.3,
          4.1,
          4.5,
          3.5,
          4.4,
          5,
          3.7,
          4.2,
          4.3,
          3.6,
          4.1,
          4.4,
          4.3,
          4.3,
          4.4,
          4.3,
          4.3,
          4.3,
          4.8,
          4.3,
          4.1,
          4.6,
          4.5,
          4.2,
          4.6,
          3.9,
          4.8,
          4.1,
          4.4,
          4.3,
          3.7,
          4.3,
          4.5,
          4.6,
          4,
          4.4,
          4.2,
          4.8,
          4.1,
          4,
          4.1,
          4,
          3,
          3.5,
          4.1,
          3.3,
          4.4,
          4.5,
          4.1,
          3.5,
          3.7,
          4.2,
          4,
          4.1,
          4.5,
          4.2,
          4.5,
          4.3,
          4.5,
          3.8,
          3.7,
          3.8,
          4.5,
          4,
          3.5,
          4.6,
          4.3,
          3.6,
          4,
          4.4,
          4.3,
          4.4,
          4.2,
          3.6,
          4,
          4,
          4.5,
          4.1,
          1.6,
          4.8,
          4.4,
          4.2,
          4.1,
          4,
          4.2,
          3.3,
          3.3,
          4.1,
          4.7,
          4.4,
          3.8,
          4.5,
          4,
          3.8,
          4.4,
          4.6,
          4.1,
          4.4,
          4.4,
          4,
          4.3,
          4,
          4.5,
          3.8,
          4.8,
          3.9,
          4.5,
          3.9,
          4,
          4,
          4.7,
          4.3,
          4.1,
          4,
          4.2,
          5,
          4.4,
          4.3,
          4.4,
          4,
          3.7,
          4.4,
          4.7,
          4.1,
          4,
          3.5,
          3.8,
          4,
          3.6,
          3.8,
          3.7,
          3.8,
          4,
          3.8,
          4.5,
          4
         ],
         "yaxis": "y"
        }
       ],
       "layout": {
        "legend": {
         "tracegroupgap": 0
        },
        "template": {
         "data": {
          "bar": [
           {
            "error_x": {
             "color": "#2a3f5f"
            },
            "error_y": {
             "color": "#2a3f5f"
            },
            "marker": {
             "line": {
              "color": "#E5ECF6",
              "width": 0.5
             },
             "pattern": {
              "fillmode": "overlay",
              "size": 10,
              "solidity": 0.2
             }
            },
            "type": "bar"
           }
          ],
          "barpolar": [
           {
            "marker": {
             "line": {
              "color": "#E5ECF6",
              "width": 0.5
             },
             "pattern": {
              "fillmode": "overlay",
              "size": 10,
              "solidity": 0.2
             }
            },
            "type": "barpolar"
           }
          ],
          "carpet": [
           {
            "aaxis": {
             "endlinecolor": "#2a3f5f",
             "gridcolor": "white",
             "linecolor": "white",
             "minorgridcolor": "white",
             "startlinecolor": "#2a3f5f"
            },
            "baxis": {
             "endlinecolor": "#2a3f5f",
             "gridcolor": "white",
             "linecolor": "white",
             "minorgridcolor": "white",
             "startlinecolor": "#2a3f5f"
            },
            "type": "carpet"
           }
          ],
          "choropleth": [
           {
            "colorbar": {
             "outlinewidth": 0,
             "ticks": ""
            },
            "type": "choropleth"
           }
          ],
          "contour": [
           {
            "colorbar": {
             "outlinewidth": 0,
             "ticks": ""
            },
            "colorscale": [
             [
              0,
              "#0d0887"
             ],
             [
              0.1111111111111111,
              "#46039f"
             ],
             [
              0.2222222222222222,
              "#7201a8"
             ],
             [
              0.3333333333333333,
              "#9c179e"
             ],
             [
              0.4444444444444444,
              "#bd3786"
             ],
             [
              0.5555555555555556,
              "#d8576b"
             ],
             [
              0.6666666666666666,
              "#ed7953"
             ],
             [
              0.7777777777777778,
              "#fb9f3a"
             ],
             [
              0.8888888888888888,
              "#fdca26"
             ],
             [
              1,
              "#f0f921"
             ]
            ],
            "type": "contour"
           }
          ],
          "contourcarpet": [
           {
            "colorbar": {
             "outlinewidth": 0,
             "ticks": ""
            },
            "type": "contourcarpet"
           }
          ],
          "heatmap": [
           {
            "colorbar": {
             "outlinewidth": 0,
             "ticks": ""
            },
            "colorscale": [
             [
              0,
              "#0d0887"
             ],
             [
              0.1111111111111111,
              "#46039f"
             ],
             [
              0.2222222222222222,
              "#7201a8"
             ],
             [
              0.3333333333333333,
              "#9c179e"
             ],
             [
              0.4444444444444444,
              "#bd3786"
             ],
             [
              0.5555555555555556,
              "#d8576b"
             ],
             [
              0.6666666666666666,
              "#ed7953"
             ],
             [
              0.7777777777777778,
              "#fb9f3a"
             ],
             [
              0.8888888888888888,
              "#fdca26"
             ],
             [
              1,
              "#f0f921"
             ]
            ],
            "type": "heatmap"
           }
          ],
          "heatmapgl": [
           {
            "colorbar": {
             "outlinewidth": 0,
             "ticks": ""
            },
            "colorscale": [
             [
              0,
              "#0d0887"
             ],
             [
              0.1111111111111111,
              "#46039f"
             ],
             [
              0.2222222222222222,
              "#7201a8"
             ],
             [
              0.3333333333333333,
              "#9c179e"
             ],
             [
              0.4444444444444444,
              "#bd3786"
             ],
             [
              0.5555555555555556,
              "#d8576b"
             ],
             [
              0.6666666666666666,
              "#ed7953"
             ],
             [
              0.7777777777777778,
              "#fb9f3a"
             ],
             [
              0.8888888888888888,
              "#fdca26"
             ],
             [
              1,
              "#f0f921"
             ]
            ],
            "type": "heatmapgl"
           }
          ],
          "histogram": [
           {
            "marker": {
             "pattern": {
              "fillmode": "overlay",
              "size": 10,
              "solidity": 0.2
             }
            },
            "type": "histogram"
           }
          ],
          "histogram2d": [
           {
            "colorbar": {
             "outlinewidth": 0,
             "ticks": ""
            },
            "colorscale": [
             [
              0,
              "#0d0887"
             ],
             [
              0.1111111111111111,
              "#46039f"
             ],
             [
              0.2222222222222222,
              "#7201a8"
             ],
             [
              0.3333333333333333,
              "#9c179e"
             ],
             [
              0.4444444444444444,
              "#bd3786"
             ],
             [
              0.5555555555555556,
              "#d8576b"
             ],
             [
              0.6666666666666666,
              "#ed7953"
             ],
             [
              0.7777777777777778,
              "#fb9f3a"
             ],
             [
              0.8888888888888888,
              "#fdca26"
             ],
             [
              1,
              "#f0f921"
             ]
            ],
            "type": "histogram2d"
           }
          ],
          "histogram2dcontour": [
           {
            "colorbar": {
             "outlinewidth": 0,
             "ticks": ""
            },
            "colorscale": [
             [
              0,
              "#0d0887"
             ],
             [
              0.1111111111111111,
              "#46039f"
             ],
             [
              0.2222222222222222,
              "#7201a8"
             ],
             [
              0.3333333333333333,
              "#9c179e"
             ],
             [
              0.4444444444444444,
              "#bd3786"
             ],
             [
              0.5555555555555556,
              "#d8576b"
             ],
             [
              0.6666666666666666,
              "#ed7953"
             ],
             [
              0.7777777777777778,
              "#fb9f3a"
             ],
             [
              0.8888888888888888,
              "#fdca26"
             ],
             [
              1,
              "#f0f921"
             ]
            ],
            "type": "histogram2dcontour"
           }
          ],
          "mesh3d": [
           {
            "colorbar": {
             "outlinewidth": 0,
             "ticks": ""
            },
            "type": "mesh3d"
           }
          ],
          "parcoords": [
           {
            "line": {
             "colorbar": {
              "outlinewidth": 0,
              "ticks": ""
             }
            },
            "type": "parcoords"
           }
          ],
          "pie": [
           {
            "automargin": true,
            "type": "pie"
           }
          ],
          "scatter": [
           {
            "fillpattern": {
             "fillmode": "overlay",
             "size": 10,
             "solidity": 0.2
            },
            "type": "scatter"
           }
          ],
          "scatter3d": [
           {
            "line": {
             "colorbar": {
              "outlinewidth": 0,
              "ticks": ""
             }
            },
            "marker": {
             "colorbar": {
              "outlinewidth": 0,
              "ticks": ""
             }
            },
            "type": "scatter3d"
           }
          ],
          "scattercarpet": [
           {
            "marker": {
             "colorbar": {
              "outlinewidth": 0,
              "ticks": ""
             }
            },
            "type": "scattercarpet"
           }
          ],
          "scattergeo": [
           {
            "marker": {
             "colorbar": {
              "outlinewidth": 0,
              "ticks": ""
             }
            },
            "type": "scattergeo"
           }
          ],
          "scattergl": [
           {
            "marker": {
             "colorbar": {
              "outlinewidth": 0,
              "ticks": ""
             }
            },
            "type": "scattergl"
           }
          ],
          "scattermapbox": [
           {
            "marker": {
             "colorbar": {
              "outlinewidth": 0,
              "ticks": ""
             }
            },
            "type": "scattermapbox"
           }
          ],
          "scatterpolar": [
           {
            "marker": {
             "colorbar": {
              "outlinewidth": 0,
              "ticks": ""
             }
            },
            "type": "scatterpolar"
           }
          ],
          "scatterpolargl": [
           {
            "marker": {
             "colorbar": {
              "outlinewidth": 0,
              "ticks": ""
             }
            },
            "type": "scatterpolargl"
           }
          ],
          "scatterternary": [
           {
            "marker": {
             "colorbar": {
              "outlinewidth": 0,
              "ticks": ""
             }
            },
            "type": "scatterternary"
           }
          ],
          "surface": [
           {
            "colorbar": {
             "outlinewidth": 0,
             "ticks": ""
            },
            "colorscale": [
             [
              0,
              "#0d0887"
             ],
             [
              0.1111111111111111,
              "#46039f"
             ],
             [
              0.2222222222222222,
              "#7201a8"
             ],
             [
              0.3333333333333333,
              "#9c179e"
             ],
             [
              0.4444444444444444,
              "#bd3786"
             ],
             [
              0.5555555555555556,
              "#d8576b"
             ],
             [
              0.6666666666666666,
              "#ed7953"
             ],
             [
              0.7777777777777778,
              "#fb9f3a"
             ],
             [
              0.8888888888888888,
              "#fdca26"
             ],
             [
              1,
              "#f0f921"
             ]
            ],
            "type": "surface"
           }
          ],
          "table": [
           {
            "cells": {
             "fill": {
              "color": "#EBF0F8"
             },
             "line": {
              "color": "white"
             }
            },
            "header": {
             "fill": {
              "color": "#C8D4E3"
             },
             "line": {
              "color": "white"
             }
            },
            "type": "table"
           }
          ]
         },
         "layout": {
          "annotationdefaults": {
           "arrowcolor": "#2a3f5f",
           "arrowhead": 0,
           "arrowwidth": 1
          },
          "autotypenumbers": "strict",
          "coloraxis": {
           "colorbar": {
            "outlinewidth": 0,
            "ticks": ""
           }
          },
          "colorscale": {
           "diverging": [
            [
             0,
             "#8e0152"
            ],
            [
             0.1,
             "#c51b7d"
            ],
            [
             0.2,
             "#de77ae"
            ],
            [
             0.3,
             "#f1b6da"
            ],
            [
             0.4,
             "#fde0ef"
            ],
            [
             0.5,
             "#f7f7f7"
            ],
            [
             0.6,
             "#e6f5d0"
            ],
            [
             0.7,
             "#b8e186"
            ],
            [
             0.8,
             "#7fbc41"
            ],
            [
             0.9,
             "#4d9221"
            ],
            [
             1,
             "#276419"
            ]
           ],
           "sequential": [
            [
             0,
             "#0d0887"
            ],
            [
             0.1111111111111111,
             "#46039f"
            ],
            [
             0.2222222222222222,
             "#7201a8"
            ],
            [
             0.3333333333333333,
             "#9c179e"
            ],
            [
             0.4444444444444444,
             "#bd3786"
            ],
            [
             0.5555555555555556,
             "#d8576b"
            ],
            [
             0.6666666666666666,
             "#ed7953"
            ],
            [
             0.7777777777777778,
             "#fb9f3a"
            ],
            [
             0.8888888888888888,
             "#fdca26"
            ],
            [
             1,
             "#f0f921"
            ]
           ],
           "sequentialminus": [
            [
             0,
             "#0d0887"
            ],
            [
             0.1111111111111111,
             "#46039f"
            ],
            [
             0.2222222222222222,
             "#7201a8"
            ],
            [
             0.3333333333333333,
             "#9c179e"
            ],
            [
             0.4444444444444444,
             "#bd3786"
            ],
            [
             0.5555555555555556,
             "#d8576b"
            ],
            [
             0.6666666666666666,
             "#ed7953"
            ],
            [
             0.7777777777777778,
             "#fb9f3a"
            ],
            [
             0.8888888888888888,
             "#fdca26"
            ],
            [
             1,
             "#f0f921"
            ]
           ]
          },
          "colorway": [
           "#636efa",
           "#EF553B",
           "#00cc96",
           "#ab63fa",
           "#FFA15A",
           "#19d3f3",
           "#FF6692",
           "#B6E880",
           "#FF97FF",
           "#FECB52"
          ],
          "font": {
           "color": "#2a3f5f"
          },
          "geo": {
           "bgcolor": "white",
           "lakecolor": "white",
           "landcolor": "#E5ECF6",
           "showlakes": true,
           "showland": true,
           "subunitcolor": "white"
          },
          "hoverlabel": {
           "align": "left"
          },
          "hovermode": "closest",
          "mapbox": {
           "style": "light"
          },
          "paper_bgcolor": "white",
          "plot_bgcolor": "#E5ECF6",
          "polar": {
           "angularaxis": {
            "gridcolor": "white",
            "linecolor": "white",
            "ticks": ""
           },
           "bgcolor": "#E5ECF6",
           "radialaxis": {
            "gridcolor": "white",
            "linecolor": "white",
            "ticks": ""
           }
          },
          "scene": {
           "xaxis": {
            "backgroundcolor": "#E5ECF6",
            "gridcolor": "white",
            "gridwidth": 2,
            "linecolor": "white",
            "showbackground": true,
            "ticks": "",
            "zerolinecolor": "white"
           },
           "yaxis": {
            "backgroundcolor": "#E5ECF6",
            "gridcolor": "white",
            "gridwidth": 2,
            "linecolor": "white",
            "showbackground": true,
            "ticks": "",
            "zerolinecolor": "white"
           },
           "zaxis": {
            "backgroundcolor": "#E5ECF6",
            "gridcolor": "white",
            "gridwidth": 2,
            "linecolor": "white",
            "showbackground": true,
            "ticks": "",
            "zerolinecolor": "white"
           }
          },
          "shapedefaults": {
           "line": {
            "color": "#2a3f5f"
           }
          },
          "ternary": {
           "aaxis": {
            "gridcolor": "white",
            "linecolor": "white",
            "ticks": ""
           },
           "baxis": {
            "gridcolor": "white",
            "linecolor": "white",
            "ticks": ""
           },
           "bgcolor": "#E5ECF6",
           "caxis": {
            "gridcolor": "white",
            "linecolor": "white",
            "ticks": ""
           }
          },
          "title": {
           "x": 0.05
          },
          "xaxis": {
           "automargin": true,
           "gridcolor": "white",
           "linecolor": "white",
           "ticks": "",
           "title": {
            "standoff": 15
           },
           "zerolinecolor": "white",
           "zerolinewidth": 2
          },
          "yaxis": {
           "automargin": true,
           "gridcolor": "white",
           "linecolor": "white",
           "ticks": "",
           "title": {
            "standoff": 15
           },
           "zerolinecolor": "white",
           "zerolinewidth": 2
          }
         }
        },
        "title": {
         "text": "Зависимость рейтинга от цены"
        },
        "xaxis": {
         "anchor": "y",
         "domain": [
          0,
          1
         ],
         "title": {
          "text": "price(in Rs.)"
         }
        },
        "yaxis": {
         "anchor": "x",
         "domain": [
          0,
          1
         ],
         "title": {
          "text": "rating"
         }
        }
       }
      }
     },
     "metadata": {},
     "output_type": "display_data"
    }
   ],
   "source": [
    "scatter = px.scatter(\n",
    "    data_frame=data_cleaned,\n",
    "    y='rating',\n",
    "    x='price(in Rs.)',\n",
    "    color_discrete_sequence=px.colors.diverging.Tealrose,\n",
    "    title='Зависимость рейтинга от цены'\n",
    ")\n",
    "scatter.show()\n",
    "scatter.write_html(\"plotly/scatter_rating_price.html\")"
   ]
  },
  {
   "cell_type": "markdown",
   "metadata": {},
   "source": [
    "Можно заметить, что ноутбуки стоимостью от 200k Rs имеют рейтинг не ниже 4. Однако самые высокие и самые низкие оценки не относятся к самой высокой и самой низкой ценам, и несколько ноутбуков с одной и той же ценой могут иметь различные значения рейтнга. Иначе говоря, есть некоторая положилетьная корреляция рейтинга и цены ноутбука, но несильная. Возможно, пользователи, выбирая более дорогой вариант, выдвигают больше требований к качеству и запрашивают определенные технические характеристики, и из-за этого низкие оценки встречаются при ценах около средней стоимости (~70k) и выше."
   ]
  },
  {
   "cell_type": "markdown",
   "metadata": {},
   "source": [
    "Оценим влияние операционной системы на рейтинг. Перед этим посмотрим на распределение признака операционная система."
   ]
  },
  {
   "cell_type": "code",
   "execution_count": 17,
   "metadata": {},
   "outputs": [
    {
     "data": {
      "application/vnd.plotly.v1+json": {
       "config": {
        "plotlyServerURL": "https://plot.ly"
       },
       "data": [
        {
         "alignmentgroup": "True",
         "bingroup": "x",
         "hovertemplate": "os=%{x}<br>count=%{y}<extra></extra>",
         "legendgroup": "",
         "marker": {
          "color": "rgb(0, 147, 146)",
          "pattern": {
           "shape": ""
          }
         },
         "name": "",
         "offsetgroup": "",
         "orientation": "v",
         "showlegend": false,
         "type": "histogram",
         "x": [
          "Windows 11 Operating System",
          "Windows 11 Operating System",
          "Windows 11 Operating System",
          "Windows 11 Operating System",
          "DOS Operating System",
          "Mac OS Operating System",
          "Windows 11 Operating System",
          "Windows 11 Operating System",
          "Windows 11 Operating System",
          "Windows 11 Operating System",
          "Windows 11 Operating System",
          "Windows 11 Operating System",
          "Windows 11 Operating System",
          "Windows 11 Operating System",
          "Windows 10 Operating System",
          "Windows 11 Operating System",
          "Windows 11 Operating System",
          "Windows 11 Operating System",
          "Windows 11 Operating System",
          "Mac OS Operating System",
          "Windows 11 Operating System",
          "Windows 11 Operating System",
          "Windows 11 Operating System",
          "Windows 11 Operating System",
          "Windows 11 Operating System",
          "Windows 11 Operating System",
          "Windows 11 Operating System",
          "Windows 11 Operating System",
          "Windows 11 Operating System",
          "Windows 11 Operating System",
          "Windows 11 Operating System",
          "Windows 11 Operating System",
          "Windows 11 Operating System",
          "Windows 11 Operating System",
          "Windows 11 Operating System",
          "Windows 11 Operating System",
          "Windows 11 Operating System",
          "Windows 11 Operating System",
          "Windows 11 Operating System",
          "Windows 10 Operating System",
          "Windows 11 Operating System",
          "Windows 11 Operating System",
          "Windows 11 Operating System",
          "Windows 11 Operating System",
          "Windows 11 Operating System",
          "Windows 11 Operating System",
          "Windows 11 Operating System",
          "Windows 11 Operating System",
          "Windows 11 Operating System",
          "Windows 11 Operating System",
          "Windows 11 Operating System",
          "Windows 11 Operating System",
          "Windows 11 Operating System",
          "Windows 11 Operating System",
          "Windows 11 Operating System",
          "Windows 11 Operating System",
          "Mac OS Operating System",
          "Windows 11 Operating System",
          "Windows 11 Operating System",
          "Windows 11 Operating System",
          "Windows 11 Operating System",
          "Chrome Operating System",
          "Chrome Operating System",
          "Windows 11 Operating System",
          "Windows 11 Operating System",
          "Windows 11 Operating System",
          "Windows 10 Operating System",
          "Windows 11 Operating System",
          "Windows 11 Operating System",
          "Windows 11 Operating System",
          "Windows 11 Operating System",
          "Windows 11 Operating System",
          "Windows 11 Operating System",
          "Windows 11 Operating System",
          "Windows 11 Operating System",
          "Windows 11 Operating System",
          "Windows 11 Operating System",
          "Windows 11 Operating System",
          "Windows 11 Operating System",
          "Windows 11 Operating System",
          "Mac OS Operating System",
          "Mac OS Operating System",
          "Mac OS Operating System",
          "Windows 11 Operating System",
          "Windows 11 Operating System",
          "Windows 11 Operating System",
          "Windows 11 Operating System",
          "Windows 11 Operating System",
          "Windows 11 Operating System",
          "Windows 11 Operating System",
          "Windows 11 Operating System",
          "Mac OS Operating System",
          "Windows 11 Operating System",
          "Windows 11 Operating System",
          "Windows 11 Operating System",
          "Windows 11 Operating System",
          "Windows 11 Operating System",
          "Windows 10 Operating System",
          "Windows 11 Operating System",
          "Windows 11 Operating System",
          "Windows 11 Operating System",
          "Windows 11 Operating System",
          "Windows 11 Operating System",
          "Windows 11 Operating System",
          "Windows 10 Operating System",
          "Windows 11 Operating System",
          "Windows 11 Operating System",
          "Windows 11 Operating System",
          "Mac OS Operating System",
          "Windows 11 Operating System",
          "Windows 11 Operating System",
          "Windows 10 Operating System",
          "Mac OS Operating System",
          "Windows 11 Operating System",
          "Windows 11 Operating System",
          "Windows 10 Operating System",
          "Windows 11 Operating System",
          "Windows 11 Operating System",
          "Windows 11 Operating System",
          "Windows 11 Operating System",
          "Windows 11 Operating System",
          "Windows 11 Operating System",
          "Windows 11 Operating System",
          "Windows 11 Operating System",
          "Windows 11 Operating System",
          "Windows 11 Operating System",
          "Windows 11 Operating System",
          "Windows 11 Operating System",
          "Windows 10 Operating System",
          "Windows 11 Operating System",
          "Windows 11 Operating System",
          "Windows 11 Operating System",
          "Windows 11 Operating System",
          "Windows 11 Operating System",
          "Windows 11 Operating System",
          "Mac OS Operating System",
          "Windows 11 Operating System",
          "Windows 11 Operating System",
          "Windows 11 Operating System",
          "Windows 11 Operating System",
          "Windows 11 Operating System",
          "Windows 11 Operating System",
          "Windows 11 Operating System",
          "Windows 11 Operating System",
          "Windows 11 Operating System",
          "Mac OS Operating System",
          "Windows 11 Operating System",
          "Windows 11 Operating System",
          "Windows 11 Operating System",
          "Windows 11 Operating System",
          "Windows 11 Operating System",
          "Windows 11 Operating System",
          "Mac OS Operating System",
          "Chrome Operating System",
          "Windows 11 Operating System",
          "Windows 11 Operating System",
          "Windows 11 Operating System",
          "Windows 11 Operating System",
          "Windows 11 Operating System",
          "Windows 11 Operating System",
          "Mac OS Operating System",
          "Chrome Operating System",
          "Windows 10 Operating System",
          "Windows 11 Operating System",
          "Windows 11 Operating System",
          "Windows 11 Operating System",
          "Windows 11 Operating System",
          "Mac OS Operating System",
          "Windows 11 Operating System",
          "Windows 11 Operating System",
          "Windows 11 Operating System",
          "Windows 11 Operating System",
          "Windows 11 Operating System",
          "Windows 10 Operating System",
          "Windows 11 Operating System",
          "Windows 11 Operating System",
          "Mac OS Operating System",
          "Windows 11 Operating System",
          "Windows 11 Operating System",
          "Windows 11 Operating System",
          "Windows 11 Operating System",
          "Windows 11 Operating System",
          "Windows 11 Operating System",
          "Windows 10 Operating System",
          "Mac OS Operating System",
          "Windows 11 Operating System",
          "Windows 11 Operating System",
          "Windows 11 Operating System",
          "Windows 10 Operating System",
          "Windows 11 Operating System",
          "Windows 11 Operating System",
          "Windows 11 Operating System",
          "Windows 11 Operating System",
          "Windows 10 Operating System",
          "Windows 10 Operating System",
          "Windows 11 Operating System",
          "Windows 10 Operating System",
          "Windows 10 Operating System",
          "Windows 11 Operating System",
          "Windows 11 Operating System",
          "Mac OS Operating System",
          "Windows 11 Operating System",
          "Windows 11 Operating System",
          "Mac OS Operating System",
          "Windows 11 Operating System",
          "Windows 11 Operating System",
          "Windows 11 Operating System",
          "Windows 10 Operating System",
          "Windows 11 Operating System",
          "Mac OS Operating System",
          "Windows 10 Operating System",
          "Windows 11 Operating System",
          "Windows 10 Operating System",
          "Windows 11 Operating System",
          "Windows 11 Operating System",
          "Windows 10 Operating System",
          "DOS Operating System",
          "Windows 11 Operating System",
          "Windows 10 Operating System",
          "Windows 10 Operating System",
          "Windows 11 Operating System",
          "Windows 11 Operating System",
          "Windows 10 Operating System",
          "Windows 11 Operating System",
          "Windows 11 Operating System",
          "Windows 11 Operating System",
          "Mac OS Operating System",
          "Windows 10 Operating System",
          "Windows 11 Operating System",
          "Windows 11 Operating System",
          "Windows 11 Operating System",
          "Windows 11 Operating System",
          "Windows 11 Operating System",
          "Windows 11 Operating System",
          "Windows 11 Operating System",
          "Windows 11 Operating System",
          "Mac OS Operating System",
          "Windows 11 Operating System",
          "Windows 11 Operating System",
          "Windows 10 Operating System",
          "Windows 10 Operating System",
          "Windows 11 Operating System",
          "Windows 11 Operating System",
          "Windows 11 Operating System",
          "Windows 11 Operating System",
          "Windows 11 Operating System",
          "Windows 11 Operating System",
          "Windows 11 Operating System",
          "Windows 11 Operating System",
          "Windows 11 Operating System",
          "Windows 10 Operating System",
          "Windows 11 Operating System",
          "Windows 11 Operating System",
          "Windows 11 Operating System",
          "Windows 11 Operating System",
          "Windows 11 Operating System",
          "Windows 10 Operating System",
          "Windows 10 Operating System",
          "Windows 10 Operating System",
          "Mac OS Operating System",
          "Windows 11 Operating System",
          "Windows 10 Operating System",
          "Windows 10 Operating System",
          "Windows 10 Operating System",
          "Windows 10 Operating System",
          "Windows 10 Operating System",
          "Windows 11 Operating System",
          "Windows 11 Operating System",
          "Windows 11 Operating System",
          "Windows 10 Operating System",
          "Windows 10 Operating System",
          "Windows 10 Operating System",
          "Chrome Operating System",
          "Windows 10 Operating System",
          "Windows 10 Operating System",
          "Windows 11 Operating System",
          "Windows 10 Operating System",
          "Mac OS Operating System",
          "Windows 11 Operating System",
          "Windows 10 Operating System",
          "Windows 10 Operating System",
          "Windows 11 Operating System",
          "Windows 11 Operating System",
          "Windows 10 Operating System",
          "Windows 11 Operating System",
          "Windows 11 Operating System",
          "Windows 11 Operating System",
          "Windows 11 Operating System",
          "Windows 11 Operating System",
          "Windows 10 Operating System",
          "Windows 10 Operating System",
          "Windows 11 Operating System",
          "Windows 10 Operating System",
          "Windows 11 Operating System",
          "Chrome Operating System",
          "Windows 10 Operating System",
          "Windows 11 Operating System",
          "Windows 11 Operating System",
          "Windows 11 Operating System",
          "Windows 11 Operating System",
          "Windows 11 Operating System",
          "Windows 11 Operating System",
          "Mac OS Operating System",
          "Windows 11 Operating System",
          "Windows 10 Operating System",
          "Windows 11 Operating System",
          "Windows 10 Operating System",
          "Windows 11 Operating System",
          "Windows 11 Operating System",
          "Windows 11 Operating System",
          "Windows 10 Operating System",
          "Windows 11 Operating System",
          "Windows 10 Operating System",
          "Windows 10 Operating System",
          "Windows 10 Operating System",
          "Windows 11 Operating System",
          "Windows 10 Operating System",
          "Windows 11 Operating System",
          "Windows 11 Operating System",
          "Windows 10 Operating System",
          "Windows 11 Operating System",
          "Windows 10 Operating System",
          "Windows 10 Operating System",
          "Windows 10 Operating System",
          "Windows 10 Operating System",
          "Windows 11 Operating System",
          "Windows 10 Operating System",
          "Windows 10 Operating System",
          "Windows 10 Operating System",
          "Windows 11 Operating System",
          "Windows 10 Operating System",
          "Windows 11 Operating System",
          "Windows 11 Operating System",
          "Windows 11 Operating System",
          "Windows 11 Operating System",
          "Windows 10 Operating System",
          "Windows 11 Operating System",
          "Windows 11 Operating System",
          "Windows 10 Operating System",
          "Windows 10 Operating System",
          "Windows 10 Operating System",
          "Windows 10 Operating System",
          "Windows 11 Operating System",
          "Windows 10 Operating System",
          "Windows 10 Operating System",
          "Windows 11 Operating System",
          "Windows 11 Operating System",
          "Windows 11 Operating System",
          "Windows 11 Operating System",
          "Windows 11 Operating System",
          "Windows 10 Operating System",
          "Chrome Operating System",
          "Windows 11 Operating System",
          "Windows 10 Operating System",
          "Windows 11 Operating System",
          "Windows 11 Operating System",
          "Windows 10 Operating System",
          "Windows 11 Operating System",
          "Windows 10 Operating System",
          "Windows 11 Operating System",
          "Windows 11 Operating System",
          "Windows 11 Operating System",
          "Windows 11 Operating System",
          "Windows 10 Operating System",
          "Windows 11 Operating System",
          "Windows 11 Operating System",
          "Windows 11 Operating System",
          "Windows 10 Operating System",
          "Windows 11 Operating System",
          "Windows 10 Operating System",
          "Windows 10 Operating System",
          "Windows 11 Operating System",
          "Windows 11 Operating System",
          "Windows 10 Operating System",
          "Windows 11 Operating System",
          "Windows 10 Operating System",
          "Windows 11 Operating System",
          "Windows 11 Operating System",
          "Windows 10 Operating System",
          "Windows 10 Operating System",
          "Windows 10 Operating System",
          "Windows 11 Operating System",
          "Windows 10 Operating System",
          "Windows 11 Operating System",
          "Windows 11 Operating System",
          "Windows 11 Operating System",
          "Windows 11 Operating System",
          "Windows 10 Operating System",
          "Windows 10 Operating System",
          "Windows 10 Operating System",
          "Windows 10 Operating System",
          "Windows 11 Operating System",
          "Windows 10 Operating System",
          "Windows 10 Operating System",
          "Windows 11 Operating System",
          "Windows 11 Operating System",
          "Windows 11 Operating System",
          "Windows 11 Operating System",
          "Windows 10 Operating System",
          "Windows 10 Operating System",
          "Windows 10 Operating System",
          "Windows 11 Operating System",
          "Windows 11 Operating System",
          "Windows 10 Operating System",
          "Windows 10 Operating System",
          "Windows 11 Operating System",
          "Windows 10 Operating System",
          "Windows 11 Operating System",
          "Windows 10 Operating System",
          "Windows 11 Operating System",
          "Windows 10 Operating System",
          "Windows 10 Operating System",
          "Windows 11 Operating System",
          "Windows 11 Operating System",
          "Windows 10 Operating System",
          "Windows 11 Operating System",
          "Windows 11 Operating System",
          "Windows 10 Operating System",
          "Windows 10 Operating System",
          "Windows 10 Operating System",
          "Windows 11 Operating System",
          "Windows 10 Operating System",
          "Windows 10 Operating System",
          "Windows 10 Operating System",
          "Windows 11 Operating System",
          "DOS Operating System",
          "Windows 11 Operating System",
          "Windows 11 Operating System",
          "Windows 10 Operating System",
          "Windows 11 Operating System",
          "Windows 11 Operating System",
          "Windows 10 Operating System",
          "Windows 10 Operating System",
          "Windows 11 Operating System",
          "Windows 10 Operating System",
          "Chrome Operating System",
          "Windows 10 Operating System",
          "Windows 10 Operating System",
          "DOS Operating System",
          "Windows 11 Operating System",
          "Windows 10 Operating System",
          "Windows 10 Operating System",
          "Windows 10 Operating System",
          "Windows 10 Operating System",
          "Windows 11 Operating System",
          "Windows 10 Operating System",
          "Windows 10 Operating System",
          "Windows 10 Operating System",
          "Windows 10 Operating System",
          "Windows 10 Operating System",
          "Windows 10 Operating System",
          "Mac OS Operating System",
          "Windows 11 Operating System",
          "Windows 10 Operating System",
          "Windows 11 Operating System",
          "Windows 11 Operating System",
          "Windows 10 Operating System",
          "Windows 10 Operating System",
          "Chrome Operating System",
          "Windows 11 Operating System",
          "Windows 11 Operating System",
          "Windows 10 Operating System",
          "Chrome Operating System",
          "Windows 10 Operating System",
          "Windows 10 Operating System",
          "Windows 10 Operating System",
          "Windows 10 Operating System",
          "Windows 11 Operating System",
          "Windows 11 Operating System",
          "Windows 10 Operating System",
          "DOS Operating System",
          "Windows 11 Operating System",
          "Windows 11 Operating System",
          "Windows 10 Operating System",
          "Windows 11 Operating System",
          "Windows 10 Operating System",
          "Windows 10 Operating System",
          "Windows 10 Operating System",
          "Windows 11 Operating System",
          "Windows 10 Operating System",
          "Windows 10 Operating System",
          "Windows 10 Operating System",
          "Windows 11 Operating System",
          "Windows 10 Operating System",
          "Windows 10 Operating System",
          "Windows 8 Operating System",
          "Windows 10 Operating System",
          "Windows 11 Operating System",
          "Windows 10 Operating System",
          "Windows 11 Operating System",
          "Windows 10 Operating System",
          "Windows 11 Operating System",
          "Windows 10 Operating System",
          "Windows 11 Operating System",
          "Windows 10 Operating System",
          "Windows 10 Operating System",
          "Windows 11 Operating System",
          "Windows 10 Operating System",
          "Chrome Operating System",
          "Windows 11 Operating System",
          "Windows 10 Operating System",
          "Windows 10 Operating System",
          "Windows 10 Operating System",
          "Windows 11 Operating System",
          "Windows 10 Operating System",
          "Windows 11 Operating System",
          "Windows 10 Operating System",
          "Windows 11 Operating System",
          "Windows 10 Operating System",
          "Windows 10 Operating System",
          "Windows 10 Operating System",
          "Windows 10 Operating System",
          "Windows 10 Operating System",
          "Windows 10 Operating System",
          "Windows 10 Operating System",
          "Windows 11 Operating System",
          "Windows 11 Operating System",
          "Windows 11 Operating System",
          "Windows 11 Operating System",
          "Windows 11 Operating System",
          "Chrome Operating System",
          "Windows 11 Operating System",
          "Windows 10 Operating System",
          "Windows 11 Operating System",
          "Windows 10 Operating System",
          "Windows 11 Operating System",
          "Chrome Operating System",
          "Windows 10 Operating System",
          "Chrome Operating System",
          "Windows 11 Operating System",
          "Windows 11 Operating System"
         ],
         "xaxis": "x",
         "yaxis": "y"
        }
       ],
       "layout": {
        "barmode": "relative",
        "legend": {
         "tracegroupgap": 0
        },
        "template": {
         "data": {
          "bar": [
           {
            "error_x": {
             "color": "#2a3f5f"
            },
            "error_y": {
             "color": "#2a3f5f"
            },
            "marker": {
             "line": {
              "color": "#E5ECF6",
              "width": 0.5
             },
             "pattern": {
              "fillmode": "overlay",
              "size": 10,
              "solidity": 0.2
             }
            },
            "type": "bar"
           }
          ],
          "barpolar": [
           {
            "marker": {
             "line": {
              "color": "#E5ECF6",
              "width": 0.5
             },
             "pattern": {
              "fillmode": "overlay",
              "size": 10,
              "solidity": 0.2
             }
            },
            "type": "barpolar"
           }
          ],
          "carpet": [
           {
            "aaxis": {
             "endlinecolor": "#2a3f5f",
             "gridcolor": "white",
             "linecolor": "white",
             "minorgridcolor": "white",
             "startlinecolor": "#2a3f5f"
            },
            "baxis": {
             "endlinecolor": "#2a3f5f",
             "gridcolor": "white",
             "linecolor": "white",
             "minorgridcolor": "white",
             "startlinecolor": "#2a3f5f"
            },
            "type": "carpet"
           }
          ],
          "choropleth": [
           {
            "colorbar": {
             "outlinewidth": 0,
             "ticks": ""
            },
            "type": "choropleth"
           }
          ],
          "contour": [
           {
            "colorbar": {
             "outlinewidth": 0,
             "ticks": ""
            },
            "colorscale": [
             [
              0,
              "#0d0887"
             ],
             [
              0.1111111111111111,
              "#46039f"
             ],
             [
              0.2222222222222222,
              "#7201a8"
             ],
             [
              0.3333333333333333,
              "#9c179e"
             ],
             [
              0.4444444444444444,
              "#bd3786"
             ],
             [
              0.5555555555555556,
              "#d8576b"
             ],
             [
              0.6666666666666666,
              "#ed7953"
             ],
             [
              0.7777777777777778,
              "#fb9f3a"
             ],
             [
              0.8888888888888888,
              "#fdca26"
             ],
             [
              1,
              "#f0f921"
             ]
            ],
            "type": "contour"
           }
          ],
          "contourcarpet": [
           {
            "colorbar": {
             "outlinewidth": 0,
             "ticks": ""
            },
            "type": "contourcarpet"
           }
          ],
          "heatmap": [
           {
            "colorbar": {
             "outlinewidth": 0,
             "ticks": ""
            },
            "colorscale": [
             [
              0,
              "#0d0887"
             ],
             [
              0.1111111111111111,
              "#46039f"
             ],
             [
              0.2222222222222222,
              "#7201a8"
             ],
             [
              0.3333333333333333,
              "#9c179e"
             ],
             [
              0.4444444444444444,
              "#bd3786"
             ],
             [
              0.5555555555555556,
              "#d8576b"
             ],
             [
              0.6666666666666666,
              "#ed7953"
             ],
             [
              0.7777777777777778,
              "#fb9f3a"
             ],
             [
              0.8888888888888888,
              "#fdca26"
             ],
             [
              1,
              "#f0f921"
             ]
            ],
            "type": "heatmap"
           }
          ],
          "heatmapgl": [
           {
            "colorbar": {
             "outlinewidth": 0,
             "ticks": ""
            },
            "colorscale": [
             [
              0,
              "#0d0887"
             ],
             [
              0.1111111111111111,
              "#46039f"
             ],
             [
              0.2222222222222222,
              "#7201a8"
             ],
             [
              0.3333333333333333,
              "#9c179e"
             ],
             [
              0.4444444444444444,
              "#bd3786"
             ],
             [
              0.5555555555555556,
              "#d8576b"
             ],
             [
              0.6666666666666666,
              "#ed7953"
             ],
             [
              0.7777777777777778,
              "#fb9f3a"
             ],
             [
              0.8888888888888888,
              "#fdca26"
             ],
             [
              1,
              "#f0f921"
             ]
            ],
            "type": "heatmapgl"
           }
          ],
          "histogram": [
           {
            "marker": {
             "pattern": {
              "fillmode": "overlay",
              "size": 10,
              "solidity": 0.2
             }
            },
            "type": "histogram"
           }
          ],
          "histogram2d": [
           {
            "colorbar": {
             "outlinewidth": 0,
             "ticks": ""
            },
            "colorscale": [
             [
              0,
              "#0d0887"
             ],
             [
              0.1111111111111111,
              "#46039f"
             ],
             [
              0.2222222222222222,
              "#7201a8"
             ],
             [
              0.3333333333333333,
              "#9c179e"
             ],
             [
              0.4444444444444444,
              "#bd3786"
             ],
             [
              0.5555555555555556,
              "#d8576b"
             ],
             [
              0.6666666666666666,
              "#ed7953"
             ],
             [
              0.7777777777777778,
              "#fb9f3a"
             ],
             [
              0.8888888888888888,
              "#fdca26"
             ],
             [
              1,
              "#f0f921"
             ]
            ],
            "type": "histogram2d"
           }
          ],
          "histogram2dcontour": [
           {
            "colorbar": {
             "outlinewidth": 0,
             "ticks": ""
            },
            "colorscale": [
             [
              0,
              "#0d0887"
             ],
             [
              0.1111111111111111,
              "#46039f"
             ],
             [
              0.2222222222222222,
              "#7201a8"
             ],
             [
              0.3333333333333333,
              "#9c179e"
             ],
             [
              0.4444444444444444,
              "#bd3786"
             ],
             [
              0.5555555555555556,
              "#d8576b"
             ],
             [
              0.6666666666666666,
              "#ed7953"
             ],
             [
              0.7777777777777778,
              "#fb9f3a"
             ],
             [
              0.8888888888888888,
              "#fdca26"
             ],
             [
              1,
              "#f0f921"
             ]
            ],
            "type": "histogram2dcontour"
           }
          ],
          "mesh3d": [
           {
            "colorbar": {
             "outlinewidth": 0,
             "ticks": ""
            },
            "type": "mesh3d"
           }
          ],
          "parcoords": [
           {
            "line": {
             "colorbar": {
              "outlinewidth": 0,
              "ticks": ""
             }
            },
            "type": "parcoords"
           }
          ],
          "pie": [
           {
            "automargin": true,
            "type": "pie"
           }
          ],
          "scatter": [
           {
            "fillpattern": {
             "fillmode": "overlay",
             "size": 10,
             "solidity": 0.2
            },
            "type": "scatter"
           }
          ],
          "scatter3d": [
           {
            "line": {
             "colorbar": {
              "outlinewidth": 0,
              "ticks": ""
             }
            },
            "marker": {
             "colorbar": {
              "outlinewidth": 0,
              "ticks": ""
             }
            },
            "type": "scatter3d"
           }
          ],
          "scattercarpet": [
           {
            "marker": {
             "colorbar": {
              "outlinewidth": 0,
              "ticks": ""
             }
            },
            "type": "scattercarpet"
           }
          ],
          "scattergeo": [
           {
            "marker": {
             "colorbar": {
              "outlinewidth": 0,
              "ticks": ""
             }
            },
            "type": "scattergeo"
           }
          ],
          "scattergl": [
           {
            "marker": {
             "colorbar": {
              "outlinewidth": 0,
              "ticks": ""
             }
            },
            "type": "scattergl"
           }
          ],
          "scattermapbox": [
           {
            "marker": {
             "colorbar": {
              "outlinewidth": 0,
              "ticks": ""
             }
            },
            "type": "scattermapbox"
           }
          ],
          "scatterpolar": [
           {
            "marker": {
             "colorbar": {
              "outlinewidth": 0,
              "ticks": ""
             }
            },
            "type": "scatterpolar"
           }
          ],
          "scatterpolargl": [
           {
            "marker": {
             "colorbar": {
              "outlinewidth": 0,
              "ticks": ""
             }
            },
            "type": "scatterpolargl"
           }
          ],
          "scatterternary": [
           {
            "marker": {
             "colorbar": {
              "outlinewidth": 0,
              "ticks": ""
             }
            },
            "type": "scatterternary"
           }
          ],
          "surface": [
           {
            "colorbar": {
             "outlinewidth": 0,
             "ticks": ""
            },
            "colorscale": [
             [
              0,
              "#0d0887"
             ],
             [
              0.1111111111111111,
              "#46039f"
             ],
             [
              0.2222222222222222,
              "#7201a8"
             ],
             [
              0.3333333333333333,
              "#9c179e"
             ],
             [
              0.4444444444444444,
              "#bd3786"
             ],
             [
              0.5555555555555556,
              "#d8576b"
             ],
             [
              0.6666666666666666,
              "#ed7953"
             ],
             [
              0.7777777777777778,
              "#fb9f3a"
             ],
             [
              0.8888888888888888,
              "#fdca26"
             ],
             [
              1,
              "#f0f921"
             ]
            ],
            "type": "surface"
           }
          ],
          "table": [
           {
            "cells": {
             "fill": {
              "color": "#EBF0F8"
             },
             "line": {
              "color": "white"
             }
            },
            "header": {
             "fill": {
              "color": "#C8D4E3"
             },
             "line": {
              "color": "white"
             }
            },
            "type": "table"
           }
          ]
         },
         "layout": {
          "annotationdefaults": {
           "arrowcolor": "#2a3f5f",
           "arrowhead": 0,
           "arrowwidth": 1
          },
          "autotypenumbers": "strict",
          "coloraxis": {
           "colorbar": {
            "outlinewidth": 0,
            "ticks": ""
           }
          },
          "colorscale": {
           "diverging": [
            [
             0,
             "#8e0152"
            ],
            [
             0.1,
             "#c51b7d"
            ],
            [
             0.2,
             "#de77ae"
            ],
            [
             0.3,
             "#f1b6da"
            ],
            [
             0.4,
             "#fde0ef"
            ],
            [
             0.5,
             "#f7f7f7"
            ],
            [
             0.6,
             "#e6f5d0"
            ],
            [
             0.7,
             "#b8e186"
            ],
            [
             0.8,
             "#7fbc41"
            ],
            [
             0.9,
             "#4d9221"
            ],
            [
             1,
             "#276419"
            ]
           ],
           "sequential": [
            [
             0,
             "#0d0887"
            ],
            [
             0.1111111111111111,
             "#46039f"
            ],
            [
             0.2222222222222222,
             "#7201a8"
            ],
            [
             0.3333333333333333,
             "#9c179e"
            ],
            [
             0.4444444444444444,
             "#bd3786"
            ],
            [
             0.5555555555555556,
             "#d8576b"
            ],
            [
             0.6666666666666666,
             "#ed7953"
            ],
            [
             0.7777777777777778,
             "#fb9f3a"
            ],
            [
             0.8888888888888888,
             "#fdca26"
            ],
            [
             1,
             "#f0f921"
            ]
           ],
           "sequentialminus": [
            [
             0,
             "#0d0887"
            ],
            [
             0.1111111111111111,
             "#46039f"
            ],
            [
             0.2222222222222222,
             "#7201a8"
            ],
            [
             0.3333333333333333,
             "#9c179e"
            ],
            [
             0.4444444444444444,
             "#bd3786"
            ],
            [
             0.5555555555555556,
             "#d8576b"
            ],
            [
             0.6666666666666666,
             "#ed7953"
            ],
            [
             0.7777777777777778,
             "#fb9f3a"
            ],
            [
             0.8888888888888888,
             "#fdca26"
            ],
            [
             1,
             "#f0f921"
            ]
           ]
          },
          "colorway": [
           "#636efa",
           "#EF553B",
           "#00cc96",
           "#ab63fa",
           "#FFA15A",
           "#19d3f3",
           "#FF6692",
           "#B6E880",
           "#FF97FF",
           "#FECB52"
          ],
          "font": {
           "color": "#2a3f5f"
          },
          "geo": {
           "bgcolor": "white",
           "lakecolor": "white",
           "landcolor": "#E5ECF6",
           "showlakes": true,
           "showland": true,
           "subunitcolor": "white"
          },
          "hoverlabel": {
           "align": "left"
          },
          "hovermode": "closest",
          "mapbox": {
           "style": "light"
          },
          "paper_bgcolor": "white",
          "plot_bgcolor": "#E5ECF6",
          "polar": {
           "angularaxis": {
            "gridcolor": "white",
            "linecolor": "white",
            "ticks": ""
           },
           "bgcolor": "#E5ECF6",
           "radialaxis": {
            "gridcolor": "white",
            "linecolor": "white",
            "ticks": ""
           }
          },
          "scene": {
           "xaxis": {
            "backgroundcolor": "#E5ECF6",
            "gridcolor": "white",
            "gridwidth": 2,
            "linecolor": "white",
            "showbackground": true,
            "ticks": "",
            "zerolinecolor": "white"
           },
           "yaxis": {
            "backgroundcolor": "#E5ECF6",
            "gridcolor": "white",
            "gridwidth": 2,
            "linecolor": "white",
            "showbackground": true,
            "ticks": "",
            "zerolinecolor": "white"
           },
           "zaxis": {
            "backgroundcolor": "#E5ECF6",
            "gridcolor": "white",
            "gridwidth": 2,
            "linecolor": "white",
            "showbackground": true,
            "ticks": "",
            "zerolinecolor": "white"
           }
          },
          "shapedefaults": {
           "line": {
            "color": "#2a3f5f"
           }
          },
          "ternary": {
           "aaxis": {
            "gridcolor": "white",
            "linecolor": "white",
            "ticks": ""
           },
           "baxis": {
            "gridcolor": "white",
            "linecolor": "white",
            "ticks": ""
           },
           "bgcolor": "#E5ECF6",
           "caxis": {
            "gridcolor": "white",
            "linecolor": "white",
            "ticks": ""
           }
          },
          "title": {
           "x": 0.05
          },
          "xaxis": {
           "automargin": true,
           "gridcolor": "white",
           "linecolor": "white",
           "ticks": "",
           "title": {
            "standoff": 15
           },
           "zerolinecolor": "white",
           "zerolinewidth": 2
          },
          "yaxis": {
           "automargin": true,
           "gridcolor": "white",
           "linecolor": "white",
           "ticks": "",
           "title": {
            "standoff": 15
           },
           "zerolinecolor": "white",
           "zerolinewidth": 2
          }
         }
        },
        "title": {
         "text": "Распределение переменной операционная система"
        },
        "xaxis": {
         "anchor": "y",
         "domain": [
          0,
          1
         ],
         "title": {
          "text": "os"
         }
        },
        "yaxis": {
         "anchor": "x",
         "domain": [
          0,
          1
         ],
         "title": {
          "text": "count"
         }
        }
       }
      }
     },
     "metadata": {},
     "output_type": "display_data"
    },
    {
     "data": {
      "application/vnd.plotly.v1+json": {
       "config": {
        "plotlyServerURL": "https://plot.ly"
       },
       "data": [
        {
         "alignmentgroup": "True",
         "hovertemplate": "os=Windows 11 Operating System<br>rating=%{x}<extra></extra>",
         "legendgroup": "Windows 11 Operating System",
         "marker": {
          "color": "rgb(0, 147, 146)"
         },
         "name": "Windows 11 Operating System",
         "notched": false,
         "offsetgroup": "Windows 11 Operating System",
         "orientation": "h",
         "showlegend": true,
         "type": "box",
         "x": [
          4.5,
          4.4,
          4.4,
          4.3,
          4.1,
          4,
          4.1,
          4.2,
          5,
          4.1,
          4.1,
          4.1,
          4.2,
          4.3,
          4.4,
          4.4,
          4.2,
          4.3,
          4.2,
          4.2,
          4.4,
          4,
          4.3,
          4.2,
          4.4,
          4.3,
          4.5,
          4.4,
          4.5,
          4.2,
          4.3,
          4.2,
          4.2,
          4.5,
          4.2,
          4.3,
          4.4,
          4.2,
          4.1,
          4.2,
          4.2,
          4.3,
          4.5,
          4.3,
          4.2,
          4.7,
          4.5,
          4.4,
          5,
          3.8,
          4.4,
          4.3,
          4.5,
          4.3,
          3.9,
          3.6,
          4.9,
          4.3,
          4.8,
          4.1,
          4.2,
          4.5,
          4.2,
          4.3,
          4.5,
          4.3,
          4,
          4.5,
          5,
          4.5,
          4.7,
          4.5,
          4.5,
          4.2,
          4.6,
          4.7,
          5,
          4.7,
          4.5,
          4.4,
          4.1,
          4.6,
          4.3,
          4.5,
          4.2,
          4.2,
          4.4,
          4.3,
          4.4,
          4.2,
          3.1,
          4.4,
          4.4,
          3.8,
          4.5,
          3.9,
          4,
          4.3,
          4.5,
          4.5,
          4.3,
          3.9,
          4.3,
          4.3,
          4.4,
          4.1,
          4,
          4,
          4.3,
          4.6,
          4.2,
          4.4,
          4.5,
          4.5,
          4,
          4.1,
          4.2,
          4,
          4.5,
          4.4,
          4.2,
          5,
          3.8,
          4.5,
          4.5,
          4.2,
          5,
          4.2,
          4.4,
          4,
          4.4,
          4.1,
          4.1,
          4.5,
          4.4,
          4.2,
          4.4,
          4.2,
          4.2,
          4.3,
          4.5,
          4.4,
          4.4,
          4.5,
          4.4,
          4,
          4.5,
          4.5,
          4.6,
          4.4,
          5,
          3.9,
          3.7,
          4.2,
          4.4,
          4.6,
          4.8,
          3.8,
          5,
          4.8,
          4.6,
          4.3,
          4.7,
          4.4,
          4.1,
          4.6,
          4.1,
          3.8,
          4.2,
          4,
          4.2,
          4.6,
          4.3,
          4.3,
          4.2,
          3.9,
          4.7,
          4.3,
          4.6,
          3.7,
          4.5,
          4.3,
          4.2,
          4.5,
          4,
          4,
          3.8,
          4.1,
          4.7,
          4,
          3.9,
          3.9,
          4.4,
          4.1,
          5,
          5,
          3.8,
          3.7,
          4.2,
          3.6,
          3.7,
          4.2,
          4.7,
          4,
          4.6,
          4,
          4.4,
          3.8,
          4.6,
          4,
          4.1,
          3.9,
          4.2,
          4.6,
          4.5,
          4,
          4.2,
          4.4,
          4.4,
          4,
          4,
          4.3,
          4.3,
          4.5,
          4.5,
          4.1,
          4,
          4.2,
          3.8,
          4.7,
          4.3,
          3.7,
          4.3,
          4.8,
          4.3,
          4.2,
          4.1,
          4.4,
          4,
          4.1,
          4.8,
          4,
          4.2,
          4.5,
          4.3,
          4.3,
          5,
          4.6,
          4.3,
          4.9,
          4.5,
          3.9,
          4.2,
          4.3,
          4.3,
          4.1,
          4.3,
          4.4,
          4.3,
          3.7,
          5,
          3.8,
          4.9,
          3.7,
          4.4,
          4.2,
          3.9,
          3.8,
          4.4,
          4.5,
          4.3,
          4.3,
          4.1,
          4.5,
          3.7,
          4.2,
          4.1,
          4.3,
          4.4,
          4.3,
          4.8,
          4.1,
          4.6,
          3.9,
          4.3,
          4.3,
          4.5,
          4,
          4.4,
          4.1,
          4.1,
          3.5,
          4.3,
          3.8,
          3.7,
          3.5,
          4.6,
          4.2,
          3.6,
          4.5,
          4.1,
          4.8,
          4,
          4.1,
          4,
          4.4,
          4.1,
          4.4,
          4,
          4.8,
          4,
          4.7,
          4.1,
          3.7,
          4.4,
          4.7,
          4.1,
          4,
          3.8,
          3.6,
          3.7,
          4.5,
          4
         ],
         "x0": " ",
         "xaxis": "x",
         "y0": " ",
         "yaxis": "y"
        },
        {
         "alignmentgroup": "True",
         "hovertemplate": "os=DOS Operating System<br>rating=%{x}<extra></extra>",
         "legendgroup": "DOS Operating System",
         "marker": {
          "color": "rgb(177, 199, 179)"
         },
         "name": "DOS Operating System",
         "notched": false,
         "offsetgroup": "DOS Operating System",
         "orientation": "h",
         "showlegend": true,
         "type": "box",
         "x": [
          3.8,
          3.7,
          3.7,
          3.5,
          4
         ],
         "x0": " ",
         "xaxis": "x",
         "y0": " ",
         "yaxis": "y"
        },
        {
         "alignmentgroup": "True",
         "hovertemplate": "os=Mac OS Operating System<br>rating=%{x}<extra></extra>",
         "legendgroup": "Mac OS Operating System",
         "marker": {
          "color": "rgb(229, 185, 173)"
         },
         "name": "Mac OS Operating System",
         "notched": false,
         "offsetgroup": "Mac OS Operating System",
         "orientation": "h",
         "showlegend": true,
         "type": "box",
         "x": [
          4.7,
          4.7,
          4.7,
          4.3,
          4.8,
          4.7,
          4.7,
          4.7,
          4.3,
          4.8,
          4.7,
          4.7,
          4.7,
          4.7,
          4.7,
          4.8,
          5,
          4.6,
          4.7,
          4.6,
          4.8,
          4.8,
          4.8,
          4.2,
          4.5
         ],
         "x0": " ",
         "xaxis": "x",
         "y0": " ",
         "yaxis": "y"
        },
        {
         "alignmentgroup": "True",
         "hovertemplate": "os=Windows 10 Operating System<br>rating=%{x}<extra></extra>",
         "legendgroup": "Windows 10 Operating System",
         "marker": {
          "color": "rgb(208, 88, 126)"
         },
         "name": "Windows 10 Operating System",
         "notched": false,
         "offsetgroup": "Windows 10 Operating System",
         "orientation": "h",
         "showlegend": true,
         "type": "box",
         "x": [
          4.4,
          4.4,
          4,
          4.4,
          4.5,
          4.5,
          4.4,
          4.3,
          3.7,
          4.6,
          4.2,
          4.5,
          3.6,
          4.5,
          4.6,
          3.8,
          4.5,
          4.4,
          4.4,
          4.6,
          4.5,
          4.4,
          4.5,
          4.1,
          4.3,
          4.4,
          4,
          4.4,
          4.3,
          4.5,
          3.6,
          4.3,
          4.6,
          4.1,
          4.6,
          4.3,
          4.1,
          4.9,
          4.2,
          3.7,
          4.4,
          4.4,
          4.3,
          4.4,
          4.1,
          4.7,
          4.7,
          4.5,
          4.4,
          4.1,
          5,
          4.5,
          4.8,
          4.2,
          4.4,
          4.4,
          4,
          4.5,
          4.4,
          4.5,
          4.4,
          4.3,
          3.9,
          5,
          3,
          3.9,
          4.5,
          3.9,
          4,
          5,
          4.4,
          4.1,
          4.3,
          4.4,
          4.5,
          4.4,
          4.5,
          4.3,
          4.5,
          4.4,
          4.5,
          4.5,
          3.9,
          4.1,
          4.4,
          4.3,
          4,
          4.1,
          4.5,
          5,
          4,
          3.5,
          4.4,
          5,
          4.3,
          3.6,
          4.4,
          4.3,
          4.3,
          4.3,
          4.3,
          4.5,
          4.2,
          4.6,
          4.8,
          4.1,
          4.4,
          4.6,
          4.2,
          4.8,
          4,
          4,
          3,
          3.3,
          4.4,
          4.5,
          4.1,
          3.7,
          4.2,
          4,
          4.1,
          4.5,
          4.2,
          4.5,
          3.8,
          4.5,
          4.3,
          4,
          4.4,
          4.3,
          4.4,
          4,
          1.6,
          4.4,
          4.2,
          4.1,
          4.2,
          3.3,
          3.3,
          4.7,
          4.4,
          4.5,
          3.8,
          4.6,
          4.4,
          4,
          4.3,
          4.5,
          3.9,
          4.5,
          3.9,
          4,
          4.3,
          4,
          4.2,
          5,
          4.4,
          4.3,
          4.4,
          4,
          4,
          3.8,
          4
         ],
         "x0": " ",
         "xaxis": "x",
         "y0": " ",
         "yaxis": "y"
        },
        {
         "alignmentgroup": "True",
         "hovertemplate": "os=Chrome Operating System<br>rating=%{x}<extra></extra>",
         "legendgroup": "Chrome Operating System",
         "marker": {
          "color": "rgb(0, 147, 146)"
         },
         "name": "Chrome Operating System",
         "notched": false,
         "offsetgroup": "Chrome Operating System",
         "orientation": "h",
         "showlegend": true,
         "type": "box",
         "x": [
          3.7,
          4,
          4.2,
          4.2,
          4.7,
          3.6,
          4,
          4.1,
          4,
          3.6,
          3.8,
          3.5,
          3.8,
          3.8
         ],
         "x0": " ",
         "xaxis": "x",
         "y0": " ",
         "yaxis": "y"
        },
        {
         "alignmentgroup": "True",
         "hovertemplate": "os=Windows 8 Operating System<br>rating=%{x}<extra></extra>",
         "legendgroup": "Windows 8 Operating System",
         "marker": {
          "color": "rgb(177, 199, 179)"
         },
         "name": "Windows 8 Operating System",
         "notched": false,
         "offsetgroup": "Windows 8 Operating System",
         "orientation": "h",
         "showlegend": true,
         "type": "box",
         "x": [
          3.8
         ],
         "x0": " ",
         "xaxis": "x",
         "y0": " ",
         "yaxis": "y"
        }
       ],
       "layout": {
        "boxmode": "group",
        "legend": {
         "title": {
          "text": "os"
         },
         "tracegroupgap": 0
        },
        "template": {
         "data": {
          "bar": [
           {
            "error_x": {
             "color": "#2a3f5f"
            },
            "error_y": {
             "color": "#2a3f5f"
            },
            "marker": {
             "line": {
              "color": "#E5ECF6",
              "width": 0.5
             },
             "pattern": {
              "fillmode": "overlay",
              "size": 10,
              "solidity": 0.2
             }
            },
            "type": "bar"
           }
          ],
          "barpolar": [
           {
            "marker": {
             "line": {
              "color": "#E5ECF6",
              "width": 0.5
             },
             "pattern": {
              "fillmode": "overlay",
              "size": 10,
              "solidity": 0.2
             }
            },
            "type": "barpolar"
           }
          ],
          "carpet": [
           {
            "aaxis": {
             "endlinecolor": "#2a3f5f",
             "gridcolor": "white",
             "linecolor": "white",
             "minorgridcolor": "white",
             "startlinecolor": "#2a3f5f"
            },
            "baxis": {
             "endlinecolor": "#2a3f5f",
             "gridcolor": "white",
             "linecolor": "white",
             "minorgridcolor": "white",
             "startlinecolor": "#2a3f5f"
            },
            "type": "carpet"
           }
          ],
          "choropleth": [
           {
            "colorbar": {
             "outlinewidth": 0,
             "ticks": ""
            },
            "type": "choropleth"
           }
          ],
          "contour": [
           {
            "colorbar": {
             "outlinewidth": 0,
             "ticks": ""
            },
            "colorscale": [
             [
              0,
              "#0d0887"
             ],
             [
              0.1111111111111111,
              "#46039f"
             ],
             [
              0.2222222222222222,
              "#7201a8"
             ],
             [
              0.3333333333333333,
              "#9c179e"
             ],
             [
              0.4444444444444444,
              "#bd3786"
             ],
             [
              0.5555555555555556,
              "#d8576b"
             ],
             [
              0.6666666666666666,
              "#ed7953"
             ],
             [
              0.7777777777777778,
              "#fb9f3a"
             ],
             [
              0.8888888888888888,
              "#fdca26"
             ],
             [
              1,
              "#f0f921"
             ]
            ],
            "type": "contour"
           }
          ],
          "contourcarpet": [
           {
            "colorbar": {
             "outlinewidth": 0,
             "ticks": ""
            },
            "type": "contourcarpet"
           }
          ],
          "heatmap": [
           {
            "colorbar": {
             "outlinewidth": 0,
             "ticks": ""
            },
            "colorscale": [
             [
              0,
              "#0d0887"
             ],
             [
              0.1111111111111111,
              "#46039f"
             ],
             [
              0.2222222222222222,
              "#7201a8"
             ],
             [
              0.3333333333333333,
              "#9c179e"
             ],
             [
              0.4444444444444444,
              "#bd3786"
             ],
             [
              0.5555555555555556,
              "#d8576b"
             ],
             [
              0.6666666666666666,
              "#ed7953"
             ],
             [
              0.7777777777777778,
              "#fb9f3a"
             ],
             [
              0.8888888888888888,
              "#fdca26"
             ],
             [
              1,
              "#f0f921"
             ]
            ],
            "type": "heatmap"
           }
          ],
          "heatmapgl": [
           {
            "colorbar": {
             "outlinewidth": 0,
             "ticks": ""
            },
            "colorscale": [
             [
              0,
              "#0d0887"
             ],
             [
              0.1111111111111111,
              "#46039f"
             ],
             [
              0.2222222222222222,
              "#7201a8"
             ],
             [
              0.3333333333333333,
              "#9c179e"
             ],
             [
              0.4444444444444444,
              "#bd3786"
             ],
             [
              0.5555555555555556,
              "#d8576b"
             ],
             [
              0.6666666666666666,
              "#ed7953"
             ],
             [
              0.7777777777777778,
              "#fb9f3a"
             ],
             [
              0.8888888888888888,
              "#fdca26"
             ],
             [
              1,
              "#f0f921"
             ]
            ],
            "type": "heatmapgl"
           }
          ],
          "histogram": [
           {
            "marker": {
             "pattern": {
              "fillmode": "overlay",
              "size": 10,
              "solidity": 0.2
             }
            },
            "type": "histogram"
           }
          ],
          "histogram2d": [
           {
            "colorbar": {
             "outlinewidth": 0,
             "ticks": ""
            },
            "colorscale": [
             [
              0,
              "#0d0887"
             ],
             [
              0.1111111111111111,
              "#46039f"
             ],
             [
              0.2222222222222222,
              "#7201a8"
             ],
             [
              0.3333333333333333,
              "#9c179e"
             ],
             [
              0.4444444444444444,
              "#bd3786"
             ],
             [
              0.5555555555555556,
              "#d8576b"
             ],
             [
              0.6666666666666666,
              "#ed7953"
             ],
             [
              0.7777777777777778,
              "#fb9f3a"
             ],
             [
              0.8888888888888888,
              "#fdca26"
             ],
             [
              1,
              "#f0f921"
             ]
            ],
            "type": "histogram2d"
           }
          ],
          "histogram2dcontour": [
           {
            "colorbar": {
             "outlinewidth": 0,
             "ticks": ""
            },
            "colorscale": [
             [
              0,
              "#0d0887"
             ],
             [
              0.1111111111111111,
              "#46039f"
             ],
             [
              0.2222222222222222,
              "#7201a8"
             ],
             [
              0.3333333333333333,
              "#9c179e"
             ],
             [
              0.4444444444444444,
              "#bd3786"
             ],
             [
              0.5555555555555556,
              "#d8576b"
             ],
             [
              0.6666666666666666,
              "#ed7953"
             ],
             [
              0.7777777777777778,
              "#fb9f3a"
             ],
             [
              0.8888888888888888,
              "#fdca26"
             ],
             [
              1,
              "#f0f921"
             ]
            ],
            "type": "histogram2dcontour"
           }
          ],
          "mesh3d": [
           {
            "colorbar": {
             "outlinewidth": 0,
             "ticks": ""
            },
            "type": "mesh3d"
           }
          ],
          "parcoords": [
           {
            "line": {
             "colorbar": {
              "outlinewidth": 0,
              "ticks": ""
             }
            },
            "type": "parcoords"
           }
          ],
          "pie": [
           {
            "automargin": true,
            "type": "pie"
           }
          ],
          "scatter": [
           {
            "fillpattern": {
             "fillmode": "overlay",
             "size": 10,
             "solidity": 0.2
            },
            "type": "scatter"
           }
          ],
          "scatter3d": [
           {
            "line": {
             "colorbar": {
              "outlinewidth": 0,
              "ticks": ""
             }
            },
            "marker": {
             "colorbar": {
              "outlinewidth": 0,
              "ticks": ""
             }
            },
            "type": "scatter3d"
           }
          ],
          "scattercarpet": [
           {
            "marker": {
             "colorbar": {
              "outlinewidth": 0,
              "ticks": ""
             }
            },
            "type": "scattercarpet"
           }
          ],
          "scattergeo": [
           {
            "marker": {
             "colorbar": {
              "outlinewidth": 0,
              "ticks": ""
             }
            },
            "type": "scattergeo"
           }
          ],
          "scattergl": [
           {
            "marker": {
             "colorbar": {
              "outlinewidth": 0,
              "ticks": ""
             }
            },
            "type": "scattergl"
           }
          ],
          "scattermapbox": [
           {
            "marker": {
             "colorbar": {
              "outlinewidth": 0,
              "ticks": ""
             }
            },
            "type": "scattermapbox"
           }
          ],
          "scatterpolar": [
           {
            "marker": {
             "colorbar": {
              "outlinewidth": 0,
              "ticks": ""
             }
            },
            "type": "scatterpolar"
           }
          ],
          "scatterpolargl": [
           {
            "marker": {
             "colorbar": {
              "outlinewidth": 0,
              "ticks": ""
             }
            },
            "type": "scatterpolargl"
           }
          ],
          "scatterternary": [
           {
            "marker": {
             "colorbar": {
              "outlinewidth": 0,
              "ticks": ""
             }
            },
            "type": "scatterternary"
           }
          ],
          "surface": [
           {
            "colorbar": {
             "outlinewidth": 0,
             "ticks": ""
            },
            "colorscale": [
             [
              0,
              "#0d0887"
             ],
             [
              0.1111111111111111,
              "#46039f"
             ],
             [
              0.2222222222222222,
              "#7201a8"
             ],
             [
              0.3333333333333333,
              "#9c179e"
             ],
             [
              0.4444444444444444,
              "#bd3786"
             ],
             [
              0.5555555555555556,
              "#d8576b"
             ],
             [
              0.6666666666666666,
              "#ed7953"
             ],
             [
              0.7777777777777778,
              "#fb9f3a"
             ],
             [
              0.8888888888888888,
              "#fdca26"
             ],
             [
              1,
              "#f0f921"
             ]
            ],
            "type": "surface"
           }
          ],
          "table": [
           {
            "cells": {
             "fill": {
              "color": "#EBF0F8"
             },
             "line": {
              "color": "white"
             }
            },
            "header": {
             "fill": {
              "color": "#C8D4E3"
             },
             "line": {
              "color": "white"
             }
            },
            "type": "table"
           }
          ]
         },
         "layout": {
          "annotationdefaults": {
           "arrowcolor": "#2a3f5f",
           "arrowhead": 0,
           "arrowwidth": 1
          },
          "autotypenumbers": "strict",
          "coloraxis": {
           "colorbar": {
            "outlinewidth": 0,
            "ticks": ""
           }
          },
          "colorscale": {
           "diverging": [
            [
             0,
             "#8e0152"
            ],
            [
             0.1,
             "#c51b7d"
            ],
            [
             0.2,
             "#de77ae"
            ],
            [
             0.3,
             "#f1b6da"
            ],
            [
             0.4,
             "#fde0ef"
            ],
            [
             0.5,
             "#f7f7f7"
            ],
            [
             0.6,
             "#e6f5d0"
            ],
            [
             0.7,
             "#b8e186"
            ],
            [
             0.8,
             "#7fbc41"
            ],
            [
             0.9,
             "#4d9221"
            ],
            [
             1,
             "#276419"
            ]
           ],
           "sequential": [
            [
             0,
             "#0d0887"
            ],
            [
             0.1111111111111111,
             "#46039f"
            ],
            [
             0.2222222222222222,
             "#7201a8"
            ],
            [
             0.3333333333333333,
             "#9c179e"
            ],
            [
             0.4444444444444444,
             "#bd3786"
            ],
            [
             0.5555555555555556,
             "#d8576b"
            ],
            [
             0.6666666666666666,
             "#ed7953"
            ],
            [
             0.7777777777777778,
             "#fb9f3a"
            ],
            [
             0.8888888888888888,
             "#fdca26"
            ],
            [
             1,
             "#f0f921"
            ]
           ],
           "sequentialminus": [
            [
             0,
             "#0d0887"
            ],
            [
             0.1111111111111111,
             "#46039f"
            ],
            [
             0.2222222222222222,
             "#7201a8"
            ],
            [
             0.3333333333333333,
             "#9c179e"
            ],
            [
             0.4444444444444444,
             "#bd3786"
            ],
            [
             0.5555555555555556,
             "#d8576b"
            ],
            [
             0.6666666666666666,
             "#ed7953"
            ],
            [
             0.7777777777777778,
             "#fb9f3a"
            ],
            [
             0.8888888888888888,
             "#fdca26"
            ],
            [
             1,
             "#f0f921"
            ]
           ]
          },
          "colorway": [
           "#636efa",
           "#EF553B",
           "#00cc96",
           "#ab63fa",
           "#FFA15A",
           "#19d3f3",
           "#FF6692",
           "#B6E880",
           "#FF97FF",
           "#FECB52"
          ],
          "font": {
           "color": "#2a3f5f"
          },
          "geo": {
           "bgcolor": "white",
           "lakecolor": "white",
           "landcolor": "#E5ECF6",
           "showlakes": true,
           "showland": true,
           "subunitcolor": "white"
          },
          "hoverlabel": {
           "align": "left"
          },
          "hovermode": "closest",
          "mapbox": {
           "style": "light"
          },
          "paper_bgcolor": "white",
          "plot_bgcolor": "#E5ECF6",
          "polar": {
           "angularaxis": {
            "gridcolor": "white",
            "linecolor": "white",
            "ticks": ""
           },
           "bgcolor": "#E5ECF6",
           "radialaxis": {
            "gridcolor": "white",
            "linecolor": "white",
            "ticks": ""
           }
          },
          "scene": {
           "xaxis": {
            "backgroundcolor": "#E5ECF6",
            "gridcolor": "white",
            "gridwidth": 2,
            "linecolor": "white",
            "showbackground": true,
            "ticks": "",
            "zerolinecolor": "white"
           },
           "yaxis": {
            "backgroundcolor": "#E5ECF6",
            "gridcolor": "white",
            "gridwidth": 2,
            "linecolor": "white",
            "showbackground": true,
            "ticks": "",
            "zerolinecolor": "white"
           },
           "zaxis": {
            "backgroundcolor": "#E5ECF6",
            "gridcolor": "white",
            "gridwidth": 2,
            "linecolor": "white",
            "showbackground": true,
            "ticks": "",
            "zerolinecolor": "white"
           }
          },
          "shapedefaults": {
           "line": {
            "color": "#2a3f5f"
           }
          },
          "ternary": {
           "aaxis": {
            "gridcolor": "white",
            "linecolor": "white",
            "ticks": ""
           },
           "baxis": {
            "gridcolor": "white",
            "linecolor": "white",
            "ticks": ""
           },
           "bgcolor": "#E5ECF6",
           "caxis": {
            "gridcolor": "white",
            "linecolor": "white",
            "ticks": ""
           }
          },
          "title": {
           "x": 0.05
          },
          "xaxis": {
           "automargin": true,
           "gridcolor": "white",
           "linecolor": "white",
           "ticks": "",
           "title": {
            "standoff": 15
           },
           "zerolinecolor": "white",
           "zerolinewidth": 2
          },
          "yaxis": {
           "automargin": true,
           "gridcolor": "white",
           "linecolor": "white",
           "ticks": "",
           "title": {
            "standoff": 15
           },
           "zerolinecolor": "white",
           "zerolinewidth": 2
          }
         }
        },
        "title": {
         "text": "Распределение рейтинга в зависимости от операционной системы"
        },
        "xaxis": {
         "anchor": "y",
         "domain": [
          0,
          1
         ],
         "title": {
          "text": "rating"
         }
        },
        "yaxis": {
         "anchor": "x",
         "domain": [
          0,
          1
         ]
        }
       }
      }
     },
     "metadata": {},
     "output_type": "display_data"
    },
    {
     "data": {
      "application/vnd.plotly.v1+json": {
       "config": {
        "plotlyServerURL": "https://plot.ly"
       },
       "data": [
        {
         "alignmentgroup": "True",
         "hovertemplate": "os=%{x}<br>rating=%{y}<extra></extra>",
         "legendgroup": "Chrome Operating System",
         "marker": {
          "color": "rgb(0, 147, 146)",
          "pattern": {
           "shape": ""
          }
         },
         "name": "Chrome Operating System",
         "offsetgroup": "Chrome Operating System",
         "orientation": "v",
         "showlegend": true,
         "textposition": "auto",
         "type": "bar",
         "x": [
          "Chrome Operating System"
         ],
         "xaxis": "x",
         "y": [
          3.9
         ],
         "yaxis": "y"
        },
        {
         "alignmentgroup": "True",
         "hovertemplate": "os=%{x}<br>rating=%{y}<extra></extra>",
         "legendgroup": "DOS Operating System",
         "marker": {
          "color": "rgb(177, 199, 179)",
          "pattern": {
           "shape": ""
          }
         },
         "name": "DOS Operating System",
         "offsetgroup": "DOS Operating System",
         "orientation": "v",
         "showlegend": true,
         "textposition": "auto",
         "type": "bar",
         "x": [
          "DOS Operating System"
         ],
         "xaxis": "x",
         "y": [
          3.7
         ],
         "yaxis": "y"
        },
        {
         "alignmentgroup": "True",
         "hovertemplate": "os=%{x}<br>rating=%{y}<extra></extra>",
         "legendgroup": "Mac OS Operating System",
         "marker": {
          "color": "rgb(229, 185, 173)",
          "pattern": {
           "shape": ""
          }
         },
         "name": "Mac OS Operating System",
         "offsetgroup": "Mac OS Operating System",
         "orientation": "v",
         "showlegend": true,
         "textposition": "auto",
         "type": "bar",
         "x": [
          "Mac OS Operating System"
         ],
         "xaxis": "x",
         "y": [
          4.7
         ],
         "yaxis": "y"
        },
        {
         "alignmentgroup": "True",
         "hovertemplate": "os=%{x}<br>rating=%{y}<extra></extra>",
         "legendgroup": "Windows 10 Operating System",
         "marker": {
          "color": "rgb(208, 88, 126)",
          "pattern": {
           "shape": ""
          }
         },
         "name": "Windows 10 Operating System",
         "offsetgroup": "Windows 10 Operating System",
         "orientation": "v",
         "showlegend": true,
         "textposition": "auto",
         "type": "bar",
         "x": [
          "Windows 10 Operating System"
         ],
         "xaxis": "x",
         "y": [
          4.3
         ],
         "yaxis": "y"
        },
        {
         "alignmentgroup": "True",
         "hovertemplate": "os=%{x}<br>rating=%{y}<extra></extra>",
         "legendgroup": "Windows 11 Operating System",
         "marker": {
          "color": "rgb(0, 147, 146)",
          "pattern": {
           "shape": ""
          }
         },
         "name": "Windows 11 Operating System",
         "offsetgroup": "Windows 11 Operating System",
         "orientation": "v",
         "showlegend": true,
         "textposition": "auto",
         "type": "bar",
         "x": [
          "Windows 11 Operating System"
         ],
         "xaxis": "x",
         "y": [
          4.3
         ],
         "yaxis": "y"
        },
        {
         "alignmentgroup": "True",
         "hovertemplate": "os=%{x}<br>rating=%{y}<extra></extra>",
         "legendgroup": "Windows 8 Operating System",
         "marker": {
          "color": "rgb(177, 199, 179)",
          "pattern": {
           "shape": ""
          }
         },
         "name": "Windows 8 Operating System",
         "offsetgroup": "Windows 8 Operating System",
         "orientation": "v",
         "showlegend": true,
         "textposition": "auto",
         "type": "bar",
         "x": [
          "Windows 8 Operating System"
         ],
         "xaxis": "x",
         "y": [
          3.8
         ],
         "yaxis": "y"
        }
       ],
       "layout": {
        "barmode": "relative",
        "legend": {
         "title": {
          "text": "os"
         },
         "tracegroupgap": 0
        },
        "template": {
         "data": {
          "bar": [
           {
            "error_x": {
             "color": "#2a3f5f"
            },
            "error_y": {
             "color": "#2a3f5f"
            },
            "marker": {
             "line": {
              "color": "#E5ECF6",
              "width": 0.5
             },
             "pattern": {
              "fillmode": "overlay",
              "size": 10,
              "solidity": 0.2
             }
            },
            "type": "bar"
           }
          ],
          "barpolar": [
           {
            "marker": {
             "line": {
              "color": "#E5ECF6",
              "width": 0.5
             },
             "pattern": {
              "fillmode": "overlay",
              "size": 10,
              "solidity": 0.2
             }
            },
            "type": "barpolar"
           }
          ],
          "carpet": [
           {
            "aaxis": {
             "endlinecolor": "#2a3f5f",
             "gridcolor": "white",
             "linecolor": "white",
             "minorgridcolor": "white",
             "startlinecolor": "#2a3f5f"
            },
            "baxis": {
             "endlinecolor": "#2a3f5f",
             "gridcolor": "white",
             "linecolor": "white",
             "minorgridcolor": "white",
             "startlinecolor": "#2a3f5f"
            },
            "type": "carpet"
           }
          ],
          "choropleth": [
           {
            "colorbar": {
             "outlinewidth": 0,
             "ticks": ""
            },
            "type": "choropleth"
           }
          ],
          "contour": [
           {
            "colorbar": {
             "outlinewidth": 0,
             "ticks": ""
            },
            "colorscale": [
             [
              0,
              "#0d0887"
             ],
             [
              0.1111111111111111,
              "#46039f"
             ],
             [
              0.2222222222222222,
              "#7201a8"
             ],
             [
              0.3333333333333333,
              "#9c179e"
             ],
             [
              0.4444444444444444,
              "#bd3786"
             ],
             [
              0.5555555555555556,
              "#d8576b"
             ],
             [
              0.6666666666666666,
              "#ed7953"
             ],
             [
              0.7777777777777778,
              "#fb9f3a"
             ],
             [
              0.8888888888888888,
              "#fdca26"
             ],
             [
              1,
              "#f0f921"
             ]
            ],
            "type": "contour"
           }
          ],
          "contourcarpet": [
           {
            "colorbar": {
             "outlinewidth": 0,
             "ticks": ""
            },
            "type": "contourcarpet"
           }
          ],
          "heatmap": [
           {
            "colorbar": {
             "outlinewidth": 0,
             "ticks": ""
            },
            "colorscale": [
             [
              0,
              "#0d0887"
             ],
             [
              0.1111111111111111,
              "#46039f"
             ],
             [
              0.2222222222222222,
              "#7201a8"
             ],
             [
              0.3333333333333333,
              "#9c179e"
             ],
             [
              0.4444444444444444,
              "#bd3786"
             ],
             [
              0.5555555555555556,
              "#d8576b"
             ],
             [
              0.6666666666666666,
              "#ed7953"
             ],
             [
              0.7777777777777778,
              "#fb9f3a"
             ],
             [
              0.8888888888888888,
              "#fdca26"
             ],
             [
              1,
              "#f0f921"
             ]
            ],
            "type": "heatmap"
           }
          ],
          "heatmapgl": [
           {
            "colorbar": {
             "outlinewidth": 0,
             "ticks": ""
            },
            "colorscale": [
             [
              0,
              "#0d0887"
             ],
             [
              0.1111111111111111,
              "#46039f"
             ],
             [
              0.2222222222222222,
              "#7201a8"
             ],
             [
              0.3333333333333333,
              "#9c179e"
             ],
             [
              0.4444444444444444,
              "#bd3786"
             ],
             [
              0.5555555555555556,
              "#d8576b"
             ],
             [
              0.6666666666666666,
              "#ed7953"
             ],
             [
              0.7777777777777778,
              "#fb9f3a"
             ],
             [
              0.8888888888888888,
              "#fdca26"
             ],
             [
              1,
              "#f0f921"
             ]
            ],
            "type": "heatmapgl"
           }
          ],
          "histogram": [
           {
            "marker": {
             "pattern": {
              "fillmode": "overlay",
              "size": 10,
              "solidity": 0.2
             }
            },
            "type": "histogram"
           }
          ],
          "histogram2d": [
           {
            "colorbar": {
             "outlinewidth": 0,
             "ticks": ""
            },
            "colorscale": [
             [
              0,
              "#0d0887"
             ],
             [
              0.1111111111111111,
              "#46039f"
             ],
             [
              0.2222222222222222,
              "#7201a8"
             ],
             [
              0.3333333333333333,
              "#9c179e"
             ],
             [
              0.4444444444444444,
              "#bd3786"
             ],
             [
              0.5555555555555556,
              "#d8576b"
             ],
             [
              0.6666666666666666,
              "#ed7953"
             ],
             [
              0.7777777777777778,
              "#fb9f3a"
             ],
             [
              0.8888888888888888,
              "#fdca26"
             ],
             [
              1,
              "#f0f921"
             ]
            ],
            "type": "histogram2d"
           }
          ],
          "histogram2dcontour": [
           {
            "colorbar": {
             "outlinewidth": 0,
             "ticks": ""
            },
            "colorscale": [
             [
              0,
              "#0d0887"
             ],
             [
              0.1111111111111111,
              "#46039f"
             ],
             [
              0.2222222222222222,
              "#7201a8"
             ],
             [
              0.3333333333333333,
              "#9c179e"
             ],
             [
              0.4444444444444444,
              "#bd3786"
             ],
             [
              0.5555555555555556,
              "#d8576b"
             ],
             [
              0.6666666666666666,
              "#ed7953"
             ],
             [
              0.7777777777777778,
              "#fb9f3a"
             ],
             [
              0.8888888888888888,
              "#fdca26"
             ],
             [
              1,
              "#f0f921"
             ]
            ],
            "type": "histogram2dcontour"
           }
          ],
          "mesh3d": [
           {
            "colorbar": {
             "outlinewidth": 0,
             "ticks": ""
            },
            "type": "mesh3d"
           }
          ],
          "parcoords": [
           {
            "line": {
             "colorbar": {
              "outlinewidth": 0,
              "ticks": ""
             }
            },
            "type": "parcoords"
           }
          ],
          "pie": [
           {
            "automargin": true,
            "type": "pie"
           }
          ],
          "scatter": [
           {
            "fillpattern": {
             "fillmode": "overlay",
             "size": 10,
             "solidity": 0.2
            },
            "type": "scatter"
           }
          ],
          "scatter3d": [
           {
            "line": {
             "colorbar": {
              "outlinewidth": 0,
              "ticks": ""
             }
            },
            "marker": {
             "colorbar": {
              "outlinewidth": 0,
              "ticks": ""
             }
            },
            "type": "scatter3d"
           }
          ],
          "scattercarpet": [
           {
            "marker": {
             "colorbar": {
              "outlinewidth": 0,
              "ticks": ""
             }
            },
            "type": "scattercarpet"
           }
          ],
          "scattergeo": [
           {
            "marker": {
             "colorbar": {
              "outlinewidth": 0,
              "ticks": ""
             }
            },
            "type": "scattergeo"
           }
          ],
          "scattergl": [
           {
            "marker": {
             "colorbar": {
              "outlinewidth": 0,
              "ticks": ""
             }
            },
            "type": "scattergl"
           }
          ],
          "scattermapbox": [
           {
            "marker": {
             "colorbar": {
              "outlinewidth": 0,
              "ticks": ""
             }
            },
            "type": "scattermapbox"
           }
          ],
          "scatterpolar": [
           {
            "marker": {
             "colorbar": {
              "outlinewidth": 0,
              "ticks": ""
             }
            },
            "type": "scatterpolar"
           }
          ],
          "scatterpolargl": [
           {
            "marker": {
             "colorbar": {
              "outlinewidth": 0,
              "ticks": ""
             }
            },
            "type": "scatterpolargl"
           }
          ],
          "scatterternary": [
           {
            "marker": {
             "colorbar": {
              "outlinewidth": 0,
              "ticks": ""
             }
            },
            "type": "scatterternary"
           }
          ],
          "surface": [
           {
            "colorbar": {
             "outlinewidth": 0,
             "ticks": ""
            },
            "colorscale": [
             [
              0,
              "#0d0887"
             ],
             [
              0.1111111111111111,
              "#46039f"
             ],
             [
              0.2222222222222222,
              "#7201a8"
             ],
             [
              0.3333333333333333,
              "#9c179e"
             ],
             [
              0.4444444444444444,
              "#bd3786"
             ],
             [
              0.5555555555555556,
              "#d8576b"
             ],
             [
              0.6666666666666666,
              "#ed7953"
             ],
             [
              0.7777777777777778,
              "#fb9f3a"
             ],
             [
              0.8888888888888888,
              "#fdca26"
             ],
             [
              1,
              "#f0f921"
             ]
            ],
            "type": "surface"
           }
          ],
          "table": [
           {
            "cells": {
             "fill": {
              "color": "#EBF0F8"
             },
             "line": {
              "color": "white"
             }
            },
            "header": {
             "fill": {
              "color": "#C8D4E3"
             },
             "line": {
              "color": "white"
             }
            },
            "type": "table"
           }
          ]
         },
         "layout": {
          "annotationdefaults": {
           "arrowcolor": "#2a3f5f",
           "arrowhead": 0,
           "arrowwidth": 1
          },
          "autotypenumbers": "strict",
          "coloraxis": {
           "colorbar": {
            "outlinewidth": 0,
            "ticks": ""
           }
          },
          "colorscale": {
           "diverging": [
            [
             0,
             "#8e0152"
            ],
            [
             0.1,
             "#c51b7d"
            ],
            [
             0.2,
             "#de77ae"
            ],
            [
             0.3,
             "#f1b6da"
            ],
            [
             0.4,
             "#fde0ef"
            ],
            [
             0.5,
             "#f7f7f7"
            ],
            [
             0.6,
             "#e6f5d0"
            ],
            [
             0.7,
             "#b8e186"
            ],
            [
             0.8,
             "#7fbc41"
            ],
            [
             0.9,
             "#4d9221"
            ],
            [
             1,
             "#276419"
            ]
           ],
           "sequential": [
            [
             0,
             "#0d0887"
            ],
            [
             0.1111111111111111,
             "#46039f"
            ],
            [
             0.2222222222222222,
             "#7201a8"
            ],
            [
             0.3333333333333333,
             "#9c179e"
            ],
            [
             0.4444444444444444,
             "#bd3786"
            ],
            [
             0.5555555555555556,
             "#d8576b"
            ],
            [
             0.6666666666666666,
             "#ed7953"
            ],
            [
             0.7777777777777778,
             "#fb9f3a"
            ],
            [
             0.8888888888888888,
             "#fdca26"
            ],
            [
             1,
             "#f0f921"
            ]
           ],
           "sequentialminus": [
            [
             0,
             "#0d0887"
            ],
            [
             0.1111111111111111,
             "#46039f"
            ],
            [
             0.2222222222222222,
             "#7201a8"
            ],
            [
             0.3333333333333333,
             "#9c179e"
            ],
            [
             0.4444444444444444,
             "#bd3786"
            ],
            [
             0.5555555555555556,
             "#d8576b"
            ],
            [
             0.6666666666666666,
             "#ed7953"
            ],
            [
             0.7777777777777778,
             "#fb9f3a"
            ],
            [
             0.8888888888888888,
             "#fdca26"
            ],
            [
             1,
             "#f0f921"
            ]
           ]
          },
          "colorway": [
           "#636efa",
           "#EF553B",
           "#00cc96",
           "#ab63fa",
           "#FFA15A",
           "#19d3f3",
           "#FF6692",
           "#B6E880",
           "#FF97FF",
           "#FECB52"
          ],
          "font": {
           "color": "#2a3f5f"
          },
          "geo": {
           "bgcolor": "white",
           "lakecolor": "white",
           "landcolor": "#E5ECF6",
           "showlakes": true,
           "showland": true,
           "subunitcolor": "white"
          },
          "hoverlabel": {
           "align": "left"
          },
          "hovermode": "closest",
          "mapbox": {
           "style": "light"
          },
          "paper_bgcolor": "white",
          "plot_bgcolor": "#E5ECF6",
          "polar": {
           "angularaxis": {
            "gridcolor": "white",
            "linecolor": "white",
            "ticks": ""
           },
           "bgcolor": "#E5ECF6",
           "radialaxis": {
            "gridcolor": "white",
            "linecolor": "white",
            "ticks": ""
           }
          },
          "scene": {
           "xaxis": {
            "backgroundcolor": "#E5ECF6",
            "gridcolor": "white",
            "gridwidth": 2,
            "linecolor": "white",
            "showbackground": true,
            "ticks": "",
            "zerolinecolor": "white"
           },
           "yaxis": {
            "backgroundcolor": "#E5ECF6",
            "gridcolor": "white",
            "gridwidth": 2,
            "linecolor": "white",
            "showbackground": true,
            "ticks": "",
            "zerolinecolor": "white"
           },
           "zaxis": {
            "backgroundcolor": "#E5ECF6",
            "gridcolor": "white",
            "gridwidth": 2,
            "linecolor": "white",
            "showbackground": true,
            "ticks": "",
            "zerolinecolor": "white"
           }
          },
          "shapedefaults": {
           "line": {
            "color": "#2a3f5f"
           }
          },
          "ternary": {
           "aaxis": {
            "gridcolor": "white",
            "linecolor": "white",
            "ticks": ""
           },
           "baxis": {
            "gridcolor": "white",
            "linecolor": "white",
            "ticks": ""
           },
           "bgcolor": "#E5ECF6",
           "caxis": {
            "gridcolor": "white",
            "linecolor": "white",
            "ticks": ""
           }
          },
          "title": {
           "x": 0.05
          },
          "xaxis": {
           "automargin": true,
           "gridcolor": "white",
           "linecolor": "white",
           "ticks": "",
           "title": {
            "standoff": 15
           },
           "zerolinecolor": "white",
           "zerolinewidth": 2
          },
          "yaxis": {
           "automargin": true,
           "gridcolor": "white",
           "linecolor": "white",
           "ticks": "",
           "title": {
            "standoff": 15
           },
           "zerolinecolor": "white",
           "zerolinewidth": 2
          }
         }
        },
        "title": {
         "text": "Зависимость медианного рейтинга от операционной системы"
        },
        "xaxis": {
         "anchor": "y",
         "categoryarray": [
          "Chrome Operating System",
          "DOS Operating System",
          "Mac OS Operating System",
          "Windows 10 Operating System",
          "Windows 11 Operating System",
          "Windows 8 Operating System"
         ],
         "categoryorder": "array",
         "domain": [
          0,
          1
         ],
         "title": {
          "text": "os"
         }
        },
        "yaxis": {
         "anchor": "x",
         "domain": [
          0,
          1
         ],
         "title": {
          "text": "rating"
         }
        }
       }
      }
     },
     "metadata": {},
     "output_type": "display_data"
    }
   ],
   "source": [
    "# гистограмма распределения\n",
    "hist = px.histogram(\n",
    "    data_cleaned,\n",
    "    x='os',\n",
    "    color_discrete_sequence=px.colors.diverging.Tealrose,\n",
    "    title=f'Распределение переменной операционная система'\n",
    ")\n",
    "hist.show()\n",
    "hist.write_html(\"plotly/os.html\")\n",
    "\n",
    "# коробчатая диаграмма\n",
    "fig = px.box(\n",
    "    data_frame=data_cleaned, \n",
    "    x='rating',\n",
    "    color='os',\n",
    "    orientation='h',\n",
    "    color_discrete_sequence=px.colors.diverging.Tealrose[::2],\n",
    "    title='Распределение рейтинга в зависимости от операционной системы'\n",
    ")\n",
    "fig.show()\n",
    "fig.write_html(\"plotly/box_rating_os.html\")\n",
    "\n",
    "# группируем данные по операционным системам\n",
    "bar_data = (data_cleaned\n",
    "            .groupby(\n",
    "    by='os',\n",
    "    as_index=False\n",
    ")[['rating']].median())\n",
    "# столбчатая диаграмма\n",
    "fig = px.bar(\n",
    "    data_frame=bar_data, \n",
    "    x='os', \n",
    "    y='rating',\n",
    "    color='os', \n",
    "    orientation='v',\n",
    "    color_discrete_sequence=px.colors.diverging.Tealrose[::2],\n",
    "    title='Зависимость медианного рейтинга от операционной системы'\n",
    ")\n",
    "fig.show()\n",
    "fig.write_html(\"plotly/bar_rating_os.html\")\n"
   ]
  },
  {
   "cell_type": "markdown",
   "metadata": {},
   "source": [
    "Наибольшее медианное значение рейтинга наблюдается для MAC OS (4.7), за ним следуют показатели для Windows 10 и 11 (больше 4), при этом у Windows самые большие разбросы оценок (есть случаи рейтинга меньше 3.5, есть и значения 5).\n",
    "\n",
    "Наиболее популярной и востребованной ОС, судя по графикам, следует считать **MAC**. Хотя не стоит забывать, что данных о ноутбуках с MAC OS в датасете немного. Если выбирать между 10 и 11 Windows: выпускается больше ноутбуков с **Windows 11**, и для них нет оченок меньше либо равных 3.0."
   ]
  },
  {
   "cell_type": "markdown",
   "metadata": {},
   "source": [
    "Проанализируем, какие торговые марки более популярны, и влияет ли бренд на рейтинг"
   ]
  },
  {
   "cell_type": "code",
   "execution_count": 18,
   "metadata": {},
   "outputs": [
    {
     "data": {
      "application/vnd.plotly.v1+json": {
       "config": {
        "plotlyServerURL": "https://plot.ly"
       },
       "data": [
        {
         "alignmentgroup": "True",
         "bingroup": "x",
         "hovertemplate": "brand_name=%{x}<br>count=%{y}<extra></extra>",
         "legendgroup": "",
         "marker": {
          "color": "rgb(0, 147, 146)",
          "pattern": {
           "shape": ""
          }
         },
         "name": "",
         "offsetgroup": "",
         "orientation": "v",
         "showlegend": false,
         "type": "histogram",
         "x": [
          "lenovo",
          "lenovo",
          "asus",
          "asus",
          "lenovo",
          "apple",
          "asus",
          "lenovo",
          "redmibook",
          "acer",
          "asus",
          "asus",
          "asus",
          "dell",
          "realme",
          "hp",
          "hp",
          "msi",
          "asus",
          "apple",
          "hp",
          "hp",
          "hp",
          "lenovo",
          "asus",
          "hp",
          "lenovo",
          "hp",
          "asus",
          "hp",
          "lenovo",
          "asus",
          "asus",
          "hp",
          "lenovo",
          "samsung",
          "hp",
          "acer",
          "lenovo",
          "realme",
          "asus",
          "hp",
          "lenovo",
          "asus",
          "acer",
          "asus",
          "lenovo",
          "dell",
          "asus",
          "asus",
          "asus",
          "msi",
          "asus",
          "asus",
          "dell",
          "acer",
          "apple",
          "asus",
          "hp",
          "asus",
          "lenovo",
          "asus",
          "asus",
          "asus",
          "asus",
          "infinix",
          "lenovo",
          "asus",
          "acer",
          "lenovo",
          "asus",
          "asus",
          "hp",
          "asus",
          "asus",
          "hp",
          "asus",
          "hp",
          "asus",
          "msi",
          "apple",
          "apple",
          "apple",
          "asus",
          "asus",
          "hp",
          "asus",
          "hp",
          "hp",
          "asus",
          "lenovo",
          "apple",
          "lenovo",
          "dell",
          "asus",
          "acer",
          "asus",
          "realme",
          "hp",
          "infinix",
          "hp",
          "asus",
          "acer",
          "dell",
          "acer",
          "dell",
          "hp",
          "msi",
          "apple",
          "asus",
          "infinix",
          "dell",
          "apple",
          "asus",
          "lenovo",
          "msi",
          "infinix",
          "asus",
          "asus",
          "dell",
          "dell",
          "hp",
          "lenovo",
          "asus",
          "dell",
          "asus",
          "hp",
          "asus",
          "asus",
          "lenovo",
          "samsung",
          "asus",
          "asus",
          "asus",
          "hp",
          "apple",
          "asus",
          "hp",
          "acer",
          "dell",
          "dell",
          "asus",
          "dell",
          "dell",
          "asus",
          "apple",
          "asus",
          "lenovo",
          "dell",
          "asus",
          "asus",
          "msi",
          "apple",
          "hp",
          "asus",
          "dell",
          "dell",
          "dell",
          "asus",
          "dell",
          "apple",
          "hp",
          "asus",
          "acer",
          "dell",
          "asus",
          "dell",
          "apple",
          "asus",
          "lenovo",
          "dell",
          "asus",
          "asus",
          "asus",
          "hp",
          "asus",
          "apple",
          "acer",
          "msi",
          "hp",
          "asus",
          "lenovo",
          "asus",
          "hp",
          "apple",
          "dell",
          "asus",
          "msi",
          "lenovo",
          "msi",
          "dell",
          "asus",
          "hp",
          "lenovo",
          "acer",
          "asus",
          "alienware",
          "dell",
          "acer",
          "lenovo",
          "apple",
          "hp",
          "lenovo",
          "apple",
          "samsung",
          "dell",
          "hp",
          "asus",
          "infinix",
          "apple",
          "asus",
          "infinix",
          "msi",
          "infinix",
          "acer",
          "msi",
          "lenovo",
          "hp",
          "asus",
          "acer",
          "acer",
          "acer",
          "msi",
          "asus",
          "dell",
          "asus",
          "apple",
          "acer",
          "asus",
          "hp",
          "asus",
          "hp",
          "infinix",
          "hp",
          "lenovo",
          "dell",
          "apple",
          "hp",
          "dell",
          "asus",
          "msi",
          "lenovo",
          "hp",
          "asus",
          "dell",
          "asus",
          "lenovo",
          "acer",
          "acer",
          "avita",
          "alienware",
          "dell",
          "asus",
          "dell",
          "hp",
          "infinix",
          "asus",
          "hp",
          "asus",
          "apple",
          "hp",
          "dell",
          "asus",
          "dell",
          "acer",
          "msi",
          "asus",
          "asus",
          "dell",
          "asus",
          "alienware",
          "alienware",
          "hp",
          "mi",
          "acer",
          "dell",
          "hp",
          "apple",
          "asus",
          "msi",
          "dell",
          "asus",
          "dell",
          "msi",
          "acer",
          "dell",
          "lenovo",
          "dell",
          "asus",
          "lenovo",
          "msi",
          "lenovo",
          "acer",
          "dell",
          "asus",
          "dell",
          "asus",
          "acer",
          "asus",
          "hp",
          "acer",
          "infinix",
          "apple",
          "acer",
          "acer",
          "dell",
          "dell",
          "asus",
          "asus",
          "infinix",
          "lenovo",
          "dell",
          "acer",
          "msi",
          "dell",
          "dell",
          "lenovo",
          "lenovo",
          "acer",
          "asus",
          "lenovo",
          "dell",
          "msi",
          "dell",
          "msi",
          "hp",
          "dell",
          "asus",
          "lenovo",
          "asus",
          "acer",
          "hp",
          "dell",
          "hp",
          "hp",
          "asus",
          "lenovo",
          "acer",
          "dell",
          "msi",
          "lenovo",
          "dell",
          "dell",
          "asus",
          "asus",
          "acer",
          "asus",
          "infinix",
          "dell",
          "asus",
          "dell",
          "asus",
          "asus",
          "lenovo",
          "hp",
          "asus",
          "lenovo",
          "hp",
          "lenovo",
          "asus",
          "infinix",
          "lenovo",
          "hp",
          "hp",
          "hp",
          "dell",
          "asus",
          "acer",
          "hp",
          "acer",
          "hp",
          "dell",
          "asus",
          "hp",
          "avita",
          "hp",
          "hp",
          "infinix",
          "lenovo",
          "asus",
          "lenovo",
          "asus",
          "msi",
          "dell",
          "dell",
          "hp",
          "msi",
          "lenovo",
          "asus",
          "dell",
          "msi",
          "acer",
          "asus",
          "msi",
          "infinix",
          "hp",
          "asus",
          "lenovo",
          "asus",
          "hp",
          "lenovo",
          "hp",
          "infinix",
          "asus",
          "avita",
          "hp",
          "hp",
          "acer",
          "asus",
          "asus",
          "asus",
          "hp",
          "acer",
          "asus",
          "asus",
          "lenovo",
          "gigabyte",
          "lenovo",
          "acer",
          "hp",
          "hp",
          "asus",
          "lenovo",
          "hp",
          "hp",
          "lenovo",
          "asus",
          "hp",
          "hp",
          "asus",
          "asus",
          "dell",
          "asus",
          "lenovo",
          "dell",
          "asus",
          "acer",
          "asus",
          "msi",
          "dell",
          "lenovo",
          "hp",
          "msi",
          "hp",
          "dell",
          "hp",
          "asus",
          "lenovo",
          "msi",
          "asus",
          "hp",
          "apple",
          "infinix",
          "asus",
          "hp",
          "hp",
          "microsoft",
          "msi",
          "asus",
          "acer",
          "lenovo",
          "dell",
          "lenovo",
          "dell",
          "asus",
          "asus",
          "dell",
          "dell",
          "lenovo",
          "acer",
          "hp",
          "dell",
          "lenovo",
          "dell",
          "dell",
          "asus",
          "lenovo",
          "msi",
          "asus",
          "redmibook",
          "lenovo",
          "hp",
          "dell",
          "lenovo",
          "dell",
          "lenovo",
          "msi",
          "dell",
          "vaio",
          "acer",
          "msi",
          "hp",
          "dell",
          "asus",
          "acer",
          "dell",
          "dell",
          "asus",
          "hp",
          "acer",
          "hp",
          "asus",
          "asus",
          "hp",
          "lenovo",
          "hp",
          "hp",
          "hp",
          "acer",
          "dell",
          "hp",
          "acer",
          "hp",
          "asus",
          "acer",
          "asus",
          "msi",
          "asus",
          "hp",
          "nokia",
          "lenovo",
          "hp",
          "vaio",
          "msi",
          "avita",
          "infinix",
          "asus",
          "asus",
          "hp",
          "asus",
          "dell"
         ],
         "xaxis": "x",
         "yaxis": "y"
        }
       ],
       "layout": {
        "barmode": "relative",
        "legend": {
         "tracegroupgap": 0
        },
        "template": {
         "data": {
          "bar": [
           {
            "error_x": {
             "color": "#2a3f5f"
            },
            "error_y": {
             "color": "#2a3f5f"
            },
            "marker": {
             "line": {
              "color": "#E5ECF6",
              "width": 0.5
             },
             "pattern": {
              "fillmode": "overlay",
              "size": 10,
              "solidity": 0.2
             }
            },
            "type": "bar"
           }
          ],
          "barpolar": [
           {
            "marker": {
             "line": {
              "color": "#E5ECF6",
              "width": 0.5
             },
             "pattern": {
              "fillmode": "overlay",
              "size": 10,
              "solidity": 0.2
             }
            },
            "type": "barpolar"
           }
          ],
          "carpet": [
           {
            "aaxis": {
             "endlinecolor": "#2a3f5f",
             "gridcolor": "white",
             "linecolor": "white",
             "minorgridcolor": "white",
             "startlinecolor": "#2a3f5f"
            },
            "baxis": {
             "endlinecolor": "#2a3f5f",
             "gridcolor": "white",
             "linecolor": "white",
             "minorgridcolor": "white",
             "startlinecolor": "#2a3f5f"
            },
            "type": "carpet"
           }
          ],
          "choropleth": [
           {
            "colorbar": {
             "outlinewidth": 0,
             "ticks": ""
            },
            "type": "choropleth"
           }
          ],
          "contour": [
           {
            "colorbar": {
             "outlinewidth": 0,
             "ticks": ""
            },
            "colorscale": [
             [
              0,
              "#0d0887"
             ],
             [
              0.1111111111111111,
              "#46039f"
             ],
             [
              0.2222222222222222,
              "#7201a8"
             ],
             [
              0.3333333333333333,
              "#9c179e"
             ],
             [
              0.4444444444444444,
              "#bd3786"
             ],
             [
              0.5555555555555556,
              "#d8576b"
             ],
             [
              0.6666666666666666,
              "#ed7953"
             ],
             [
              0.7777777777777778,
              "#fb9f3a"
             ],
             [
              0.8888888888888888,
              "#fdca26"
             ],
             [
              1,
              "#f0f921"
             ]
            ],
            "type": "contour"
           }
          ],
          "contourcarpet": [
           {
            "colorbar": {
             "outlinewidth": 0,
             "ticks": ""
            },
            "type": "contourcarpet"
           }
          ],
          "heatmap": [
           {
            "colorbar": {
             "outlinewidth": 0,
             "ticks": ""
            },
            "colorscale": [
             [
              0,
              "#0d0887"
             ],
             [
              0.1111111111111111,
              "#46039f"
             ],
             [
              0.2222222222222222,
              "#7201a8"
             ],
             [
              0.3333333333333333,
              "#9c179e"
             ],
             [
              0.4444444444444444,
              "#bd3786"
             ],
             [
              0.5555555555555556,
              "#d8576b"
             ],
             [
              0.6666666666666666,
              "#ed7953"
             ],
             [
              0.7777777777777778,
              "#fb9f3a"
             ],
             [
              0.8888888888888888,
              "#fdca26"
             ],
             [
              1,
              "#f0f921"
             ]
            ],
            "type": "heatmap"
           }
          ],
          "heatmapgl": [
           {
            "colorbar": {
             "outlinewidth": 0,
             "ticks": ""
            },
            "colorscale": [
             [
              0,
              "#0d0887"
             ],
             [
              0.1111111111111111,
              "#46039f"
             ],
             [
              0.2222222222222222,
              "#7201a8"
             ],
             [
              0.3333333333333333,
              "#9c179e"
             ],
             [
              0.4444444444444444,
              "#bd3786"
             ],
             [
              0.5555555555555556,
              "#d8576b"
             ],
             [
              0.6666666666666666,
              "#ed7953"
             ],
             [
              0.7777777777777778,
              "#fb9f3a"
             ],
             [
              0.8888888888888888,
              "#fdca26"
             ],
             [
              1,
              "#f0f921"
             ]
            ],
            "type": "heatmapgl"
           }
          ],
          "histogram": [
           {
            "marker": {
             "pattern": {
              "fillmode": "overlay",
              "size": 10,
              "solidity": 0.2
             }
            },
            "type": "histogram"
           }
          ],
          "histogram2d": [
           {
            "colorbar": {
             "outlinewidth": 0,
             "ticks": ""
            },
            "colorscale": [
             [
              0,
              "#0d0887"
             ],
             [
              0.1111111111111111,
              "#46039f"
             ],
             [
              0.2222222222222222,
              "#7201a8"
             ],
             [
              0.3333333333333333,
              "#9c179e"
             ],
             [
              0.4444444444444444,
              "#bd3786"
             ],
             [
              0.5555555555555556,
              "#d8576b"
             ],
             [
              0.6666666666666666,
              "#ed7953"
             ],
             [
              0.7777777777777778,
              "#fb9f3a"
             ],
             [
              0.8888888888888888,
              "#fdca26"
             ],
             [
              1,
              "#f0f921"
             ]
            ],
            "type": "histogram2d"
           }
          ],
          "histogram2dcontour": [
           {
            "colorbar": {
             "outlinewidth": 0,
             "ticks": ""
            },
            "colorscale": [
             [
              0,
              "#0d0887"
             ],
             [
              0.1111111111111111,
              "#46039f"
             ],
             [
              0.2222222222222222,
              "#7201a8"
             ],
             [
              0.3333333333333333,
              "#9c179e"
             ],
             [
              0.4444444444444444,
              "#bd3786"
             ],
             [
              0.5555555555555556,
              "#d8576b"
             ],
             [
              0.6666666666666666,
              "#ed7953"
             ],
             [
              0.7777777777777778,
              "#fb9f3a"
             ],
             [
              0.8888888888888888,
              "#fdca26"
             ],
             [
              1,
              "#f0f921"
             ]
            ],
            "type": "histogram2dcontour"
           }
          ],
          "mesh3d": [
           {
            "colorbar": {
             "outlinewidth": 0,
             "ticks": ""
            },
            "type": "mesh3d"
           }
          ],
          "parcoords": [
           {
            "line": {
             "colorbar": {
              "outlinewidth": 0,
              "ticks": ""
             }
            },
            "type": "parcoords"
           }
          ],
          "pie": [
           {
            "automargin": true,
            "type": "pie"
           }
          ],
          "scatter": [
           {
            "fillpattern": {
             "fillmode": "overlay",
             "size": 10,
             "solidity": 0.2
            },
            "type": "scatter"
           }
          ],
          "scatter3d": [
           {
            "line": {
             "colorbar": {
              "outlinewidth": 0,
              "ticks": ""
             }
            },
            "marker": {
             "colorbar": {
              "outlinewidth": 0,
              "ticks": ""
             }
            },
            "type": "scatter3d"
           }
          ],
          "scattercarpet": [
           {
            "marker": {
             "colorbar": {
              "outlinewidth": 0,
              "ticks": ""
             }
            },
            "type": "scattercarpet"
           }
          ],
          "scattergeo": [
           {
            "marker": {
             "colorbar": {
              "outlinewidth": 0,
              "ticks": ""
             }
            },
            "type": "scattergeo"
           }
          ],
          "scattergl": [
           {
            "marker": {
             "colorbar": {
              "outlinewidth": 0,
              "ticks": ""
             }
            },
            "type": "scattergl"
           }
          ],
          "scattermapbox": [
           {
            "marker": {
             "colorbar": {
              "outlinewidth": 0,
              "ticks": ""
             }
            },
            "type": "scattermapbox"
           }
          ],
          "scatterpolar": [
           {
            "marker": {
             "colorbar": {
              "outlinewidth": 0,
              "ticks": ""
             }
            },
            "type": "scatterpolar"
           }
          ],
          "scatterpolargl": [
           {
            "marker": {
             "colorbar": {
              "outlinewidth": 0,
              "ticks": ""
             }
            },
            "type": "scatterpolargl"
           }
          ],
          "scatterternary": [
           {
            "marker": {
             "colorbar": {
              "outlinewidth": 0,
              "ticks": ""
             }
            },
            "type": "scatterternary"
           }
          ],
          "surface": [
           {
            "colorbar": {
             "outlinewidth": 0,
             "ticks": ""
            },
            "colorscale": [
             [
              0,
              "#0d0887"
             ],
             [
              0.1111111111111111,
              "#46039f"
             ],
             [
              0.2222222222222222,
              "#7201a8"
             ],
             [
              0.3333333333333333,
              "#9c179e"
             ],
             [
              0.4444444444444444,
              "#bd3786"
             ],
             [
              0.5555555555555556,
              "#d8576b"
             ],
             [
              0.6666666666666666,
              "#ed7953"
             ],
             [
              0.7777777777777778,
              "#fb9f3a"
             ],
             [
              0.8888888888888888,
              "#fdca26"
             ],
             [
              1,
              "#f0f921"
             ]
            ],
            "type": "surface"
           }
          ],
          "table": [
           {
            "cells": {
             "fill": {
              "color": "#EBF0F8"
             },
             "line": {
              "color": "white"
             }
            },
            "header": {
             "fill": {
              "color": "#C8D4E3"
             },
             "line": {
              "color": "white"
             }
            },
            "type": "table"
           }
          ]
         },
         "layout": {
          "annotationdefaults": {
           "arrowcolor": "#2a3f5f",
           "arrowhead": 0,
           "arrowwidth": 1
          },
          "autotypenumbers": "strict",
          "coloraxis": {
           "colorbar": {
            "outlinewidth": 0,
            "ticks": ""
           }
          },
          "colorscale": {
           "diverging": [
            [
             0,
             "#8e0152"
            ],
            [
             0.1,
             "#c51b7d"
            ],
            [
             0.2,
             "#de77ae"
            ],
            [
             0.3,
             "#f1b6da"
            ],
            [
             0.4,
             "#fde0ef"
            ],
            [
             0.5,
             "#f7f7f7"
            ],
            [
             0.6,
             "#e6f5d0"
            ],
            [
             0.7,
             "#b8e186"
            ],
            [
             0.8,
             "#7fbc41"
            ],
            [
             0.9,
             "#4d9221"
            ],
            [
             1,
             "#276419"
            ]
           ],
           "sequential": [
            [
             0,
             "#0d0887"
            ],
            [
             0.1111111111111111,
             "#46039f"
            ],
            [
             0.2222222222222222,
             "#7201a8"
            ],
            [
             0.3333333333333333,
             "#9c179e"
            ],
            [
             0.4444444444444444,
             "#bd3786"
            ],
            [
             0.5555555555555556,
             "#d8576b"
            ],
            [
             0.6666666666666666,
             "#ed7953"
            ],
            [
             0.7777777777777778,
             "#fb9f3a"
            ],
            [
             0.8888888888888888,
             "#fdca26"
            ],
            [
             1,
             "#f0f921"
            ]
           ],
           "sequentialminus": [
            [
             0,
             "#0d0887"
            ],
            [
             0.1111111111111111,
             "#46039f"
            ],
            [
             0.2222222222222222,
             "#7201a8"
            ],
            [
             0.3333333333333333,
             "#9c179e"
            ],
            [
             0.4444444444444444,
             "#bd3786"
            ],
            [
             0.5555555555555556,
             "#d8576b"
            ],
            [
             0.6666666666666666,
             "#ed7953"
            ],
            [
             0.7777777777777778,
             "#fb9f3a"
            ],
            [
             0.8888888888888888,
             "#fdca26"
            ],
            [
             1,
             "#f0f921"
            ]
           ]
          },
          "colorway": [
           "#636efa",
           "#EF553B",
           "#00cc96",
           "#ab63fa",
           "#FFA15A",
           "#19d3f3",
           "#FF6692",
           "#B6E880",
           "#FF97FF",
           "#FECB52"
          ],
          "font": {
           "color": "#2a3f5f"
          },
          "geo": {
           "bgcolor": "white",
           "lakecolor": "white",
           "landcolor": "#E5ECF6",
           "showlakes": true,
           "showland": true,
           "subunitcolor": "white"
          },
          "hoverlabel": {
           "align": "left"
          },
          "hovermode": "closest",
          "mapbox": {
           "style": "light"
          },
          "paper_bgcolor": "white",
          "plot_bgcolor": "#E5ECF6",
          "polar": {
           "angularaxis": {
            "gridcolor": "white",
            "linecolor": "white",
            "ticks": ""
           },
           "bgcolor": "#E5ECF6",
           "radialaxis": {
            "gridcolor": "white",
            "linecolor": "white",
            "ticks": ""
           }
          },
          "scene": {
           "xaxis": {
            "backgroundcolor": "#E5ECF6",
            "gridcolor": "white",
            "gridwidth": 2,
            "linecolor": "white",
            "showbackground": true,
            "ticks": "",
            "zerolinecolor": "white"
           },
           "yaxis": {
            "backgroundcolor": "#E5ECF6",
            "gridcolor": "white",
            "gridwidth": 2,
            "linecolor": "white",
            "showbackground": true,
            "ticks": "",
            "zerolinecolor": "white"
           },
           "zaxis": {
            "backgroundcolor": "#E5ECF6",
            "gridcolor": "white",
            "gridwidth": 2,
            "linecolor": "white",
            "showbackground": true,
            "ticks": "",
            "zerolinecolor": "white"
           }
          },
          "shapedefaults": {
           "line": {
            "color": "#2a3f5f"
           }
          },
          "ternary": {
           "aaxis": {
            "gridcolor": "white",
            "linecolor": "white",
            "ticks": ""
           },
           "baxis": {
            "gridcolor": "white",
            "linecolor": "white",
            "ticks": ""
           },
           "bgcolor": "#E5ECF6",
           "caxis": {
            "gridcolor": "white",
            "linecolor": "white",
            "ticks": ""
           }
          },
          "title": {
           "x": 0.05
          },
          "xaxis": {
           "automargin": true,
           "gridcolor": "white",
           "linecolor": "white",
           "ticks": "",
           "title": {
            "standoff": 15
           },
           "zerolinecolor": "white",
           "zerolinewidth": 2
          },
          "yaxis": {
           "automargin": true,
           "gridcolor": "white",
           "linecolor": "white",
           "ticks": "",
           "title": {
            "standoff": 15
           },
           "zerolinecolor": "white",
           "zerolinewidth": 2
          }
         }
        },
        "title": {
         "text": "Распределение переменной бренд"
        },
        "xaxis": {
         "anchor": "y",
         "domain": [
          0,
          1
         ],
         "title": {
          "text": "brand_name"
         }
        },
        "yaxis": {
         "anchor": "x",
         "domain": [
          0,
          1
         ],
         "title": {
          "text": "count"
         }
        }
       }
      }
     },
     "metadata": {},
     "output_type": "display_data"
    }
   ],
   "source": [
    "# выделем столбец с брендом (первое слово из name)\n",
    "data_cleaned['brand_name'] = data_cleaned['name'].apply(lambda x: x.lower().split()[0])\n",
    "\n",
    "# гистограмма распределения\n",
    "hist = px.histogram(\n",
    "    data_cleaned,\n",
    "    x='brand_name',\n",
    "    color_discrete_sequence=px.colors.diverging.Tealrose,\n",
    "    title=f'Распределение переменной бренд'\n",
    ")\n",
    "hist.show()\n",
    "hist.write_html(\"plotly/brand_name.html\")\n",
    "\n",
    "brands = data_cleaned['brand_name'].value_counts()"
   ]
  },
  {
   "cell_type": "code",
   "execution_count": 19,
   "metadata": {},
   "outputs": [
    {
     "data": {
      "application/vnd.plotly.v1+json": {
       "config": {
        "plotlyServerURL": "https://plot.ly"
       },
       "data": [
        {
         "alignmentgroup": "True",
         "hovertemplate": "brand_name=asus<br>rating=%{x}<extra></extra>",
         "legendgroup": "asus",
         "marker": {
          "color": "rgb(0, 147, 146)"
         },
         "name": "asus",
         "notched": false,
         "offsetgroup": "asus",
         "orientation": "h",
         "showlegend": true,
         "type": "box",
         "x": [
          4.4,
          4.3,
          4.1,
          5,
          4.1,
          4.1,
          4.4,
          4.4,
          4.4,
          4.4,
          4.5,
          4.3,
          4.1,
          4.2,
          4.3,
          4.2,
          4.7,
          4.4,
          5,
          4.3,
          4.3,
          3.7,
          4,
          3.6,
          4.9,
          4.8,
          4.5,
          4.2,
          4.5,
          4.3,
          4.5,
          4.5,
          4.5,
          4.5,
          4.6,
          4.7,
          4.6,
          4.5,
          4.3,
          3.8,
          3.9,
          4.5,
          4.5,
          4.4,
          4,
          4.3,
          4.3,
          4.4,
          4.5,
          4.5,
          4.1,
          4.2,
          4.5,
          4.5,
          4.2,
          4.4,
          4.4,
          4.4,
          3.7,
          4.2,
          4.5,
          4.5,
          4.4,
          4.6,
          4.5,
          5,
          3.7,
          4.4,
          5,
          4.6,
          4.5,
          4.4,
          4.5,
          3.9,
          4.3,
          4.6,
          4.5,
          4.3,
          3.9,
          4.4,
          4.2,
          4.4,
          4.5,
          4.3,
          4,
          4.6,
          4.3,
          3.8,
          4.6,
          4.5,
          3.6,
          4.4,
          4,
          4.1,
          4,
          4.4,
          4.3,
          4.3,
          3,
          5,
          4.4,
          4.5,
          5,
          4,
          4.6,
          4.9,
          3.9,
          4.4,
          5,
          3.9,
          4.4,
          4,
          5,
          4.1,
          3.5,
          4.3,
          4.3,
          4.4,
          4.3,
          4.8,
          4.3,
          4.8,
          4.3,
          4,
          4.4,
          4.8,
          4.1,
          3,
          4.2,
          4.5,
          4.5,
          4,
          4.4,
          4.3,
          4.4,
          4,
          4.4,
          4.5,
          4.5,
          3.9,
          4.4,
          3.7,
          4.7,
          3.8,
          4,
          4.5
         ],
         "x0": " ",
         "xaxis": "x",
         "y0": " ",
         "yaxis": "y"
        },
        {
         "alignmentgroup": "True",
         "hovertemplate": "brand_name=hp<br>rating=%{x}<extra></extra>",
         "legendgroup": "hp",
         "marker": {
          "color": "rgb(177, 199, 179)"
         },
         "name": "hp",
         "notched": false,
         "offsetgroup": "hp",
         "orientation": "h",
         "showlegend": true,
         "type": "box",
         "x": [
          4.2,
          4.3,
          4.2,
          4.3,
          4.2,
          4,
          4.2,
          4.3,
          4.2,
          4.2,
          4.4,
          4.5,
          4.3,
          4,
          5,
          4.2,
          4.7,
          5,
          4.2,
          4.4,
          4.4,
          4.3,
          4,
          4,
          4.2,
          4.2,
          4.2,
          4,
          4.4,
          4.2,
          4.8,
          4.4,
          3.8,
          4.3,
          3.7,
          4.3,
          4.5,
          3.8,
          4,
          3.7,
          4.3,
          4.7,
          4.7,
          4.4,
          4,
          4.8,
          4.2,
          4.4,
          4,
          4.3,
          4.5,
          4.3,
          4.4,
          4.1,
          4.3,
          4.5,
          4.4,
          4.5,
          4.9,
          3.8,
          4.3,
          4.4,
          3.7,
          4.1,
          4.4,
          4.3,
          4.6,
          3.9,
          4.4,
          4.3,
          4.5,
          4.6,
          4.4,
          4.1,
          3.7,
          4.2,
          3.8,
          3.7,
          4,
          3.3,
          4.1,
          3.8,
          3.9,
          4,
          4.7,
          4.3,
          4.1,
          5,
          4.3,
          4.1,
          3.8,
          3.8
         ],
         "x0": " ",
         "xaxis": "x",
         "y0": " ",
         "yaxis": "y"
        },
        {
         "alignmentgroup": "True",
         "hovertemplate": "brand_name=dell<br>rating=%{x}<extra></extra>",
         "legendgroup": "dell",
         "marker": {
          "color": "rgb(229, 185, 173)"
         },
         "name": "dell",
         "notched": false,
         "offsetgroup": "dell",
         "orientation": "h",
         "showlegend": true,
         "type": "box",
         "x": [
          4.1,
          4.5,
          3.8,
          4.1,
          4.2,
          3.1,
          4.5,
          4.3,
          3.9,
          4.1,
          4.5,
          4.4,
          5,
          3.8,
          5,
          4.1,
          4.1,
          4.5,
          4.2,
          4.2,
          4.3,
          4.4,
          4.2,
          3.8,
          3.8,
          4.1,
          4.7,
          4,
          4.1,
          3.9,
          3.7,
          3.6,
          3.6,
          4.6,
          4,
          4.4,
          4.3,
          4,
          3.9,
          4.6,
          4.2,
          4.5,
          4.5,
          4.1,
          3.8,
          4.2,
          4.7,
          4,
          4.4,
          4.4,
          4.1,
          3.9,
          4,
          4,
          4.3,
          4.1,
          4.3,
          3.7,
          4.2,
          3.9,
          4.1,
          4.2,
          4,
          4.1,
          3.5,
          4.3,
          4,
          4.4,
          4.2,
          4.5,
          1.6,
          4.8,
          4.1,
          4.4,
          4,
          4.4,
          4.3,
          4,
          4.2,
          4
         ],
         "x0": " ",
         "xaxis": "x",
         "y0": " ",
         "yaxis": "y"
        },
        {
         "alignmentgroup": "True",
         "hovertemplate": "brand_name=lenovo<br>rating=%{x}<extra></extra>",
         "legendgroup": "lenovo",
         "marker": {
          "color": "rgb(208, 88, 126)"
         },
         "name": "lenovo",
         "notched": false,
         "offsetgroup": "lenovo",
         "orientation": "h",
         "showlegend": true,
         "type": "box",
         "x": [
          4.5,
          4.4,
          3.8,
          4,
          4.2,
          4.3,
          4.5,
          4.3,
          4.2,
          4.2,
          4.3,
          3.9,
          4,
          4.2,
          4.5,
          4.4,
          4,
          4.3,
          4.6,
          4.2,
          4.4,
          3.9,
          4.5,
          3.6,
          4.7,
          4.1,
          3.7,
          4,
          4.7,
          4.1,
          4.2,
          4.1,
          4,
          5,
          4.4,
          4.3,
          4.3,
          3.9,
          4.1,
          3.9,
          4.3,
          4.4,
          4.5,
          4.3,
          4.5,
          4.1,
          4.3,
          4.5,
          5,
          4.1,
          4.5,
          4.1,
          3.7,
          4.1,
          3.3,
          4,
          4.6,
          3.6,
          3.6,
          4.1,
          4.2,
          3.3,
          4.7,
          3.8,
          4,
          3.5
         ],
         "x0": " ",
         "xaxis": "x",
         "y0": " ",
         "yaxis": "y"
        },
        {
         "alignmentgroup": "True",
         "hovertemplate": "brand_name=acer<br>rating=%{x}<extra></extra>",
         "legendgroup": "acer",
         "marker": {
          "color": "rgb(0, 147, 146)"
         },
         "name": "acer",
         "notched": false,
         "offsetgroup": "acer",
         "orientation": "h",
         "showlegend": true,
         "type": "box",
         "x": [
          4.2,
          4.5,
          4.2,
          4.4,
          4.1,
          4.3,
          4.4,
          4.5,
          4,
          4.4,
          4.5,
          4.5,
          4.3,
          4.6,
          4.4,
          4.3,
          4.2,
          4.1,
          5,
          5,
          4.1,
          3.7,
          4.1,
          4.7,
          4.4,
          4.3,
          4.5,
          4.4,
          4.5,
          3.7,
          5,
          4.8,
          4.2,
          4.5,
          4.3,
          4.5,
          4.3,
          4.3,
          4.2,
          4,
          3.5,
          4,
          4.4,
          4,
          4.8,
          4,
          4.4,
          4
         ],
         "x0": " ",
         "xaxis": "x",
         "y0": " ",
         "yaxis": "y"
        }
       ],
       "layout": {
        "boxmode": "group",
        "legend": {
         "title": {
          "text": "brand_name"
         },
         "tracegroupgap": 0
        },
        "template": {
         "data": {
          "bar": [
           {
            "error_x": {
             "color": "#2a3f5f"
            },
            "error_y": {
             "color": "#2a3f5f"
            },
            "marker": {
             "line": {
              "color": "#E5ECF6",
              "width": 0.5
             },
             "pattern": {
              "fillmode": "overlay",
              "size": 10,
              "solidity": 0.2
             }
            },
            "type": "bar"
           }
          ],
          "barpolar": [
           {
            "marker": {
             "line": {
              "color": "#E5ECF6",
              "width": 0.5
             },
             "pattern": {
              "fillmode": "overlay",
              "size": 10,
              "solidity": 0.2
             }
            },
            "type": "barpolar"
           }
          ],
          "carpet": [
           {
            "aaxis": {
             "endlinecolor": "#2a3f5f",
             "gridcolor": "white",
             "linecolor": "white",
             "minorgridcolor": "white",
             "startlinecolor": "#2a3f5f"
            },
            "baxis": {
             "endlinecolor": "#2a3f5f",
             "gridcolor": "white",
             "linecolor": "white",
             "minorgridcolor": "white",
             "startlinecolor": "#2a3f5f"
            },
            "type": "carpet"
           }
          ],
          "choropleth": [
           {
            "colorbar": {
             "outlinewidth": 0,
             "ticks": ""
            },
            "type": "choropleth"
           }
          ],
          "contour": [
           {
            "colorbar": {
             "outlinewidth": 0,
             "ticks": ""
            },
            "colorscale": [
             [
              0,
              "#0d0887"
             ],
             [
              0.1111111111111111,
              "#46039f"
             ],
             [
              0.2222222222222222,
              "#7201a8"
             ],
             [
              0.3333333333333333,
              "#9c179e"
             ],
             [
              0.4444444444444444,
              "#bd3786"
             ],
             [
              0.5555555555555556,
              "#d8576b"
             ],
             [
              0.6666666666666666,
              "#ed7953"
             ],
             [
              0.7777777777777778,
              "#fb9f3a"
             ],
             [
              0.8888888888888888,
              "#fdca26"
             ],
             [
              1,
              "#f0f921"
             ]
            ],
            "type": "contour"
           }
          ],
          "contourcarpet": [
           {
            "colorbar": {
             "outlinewidth": 0,
             "ticks": ""
            },
            "type": "contourcarpet"
           }
          ],
          "heatmap": [
           {
            "colorbar": {
             "outlinewidth": 0,
             "ticks": ""
            },
            "colorscale": [
             [
              0,
              "#0d0887"
             ],
             [
              0.1111111111111111,
              "#46039f"
             ],
             [
              0.2222222222222222,
              "#7201a8"
             ],
             [
              0.3333333333333333,
              "#9c179e"
             ],
             [
              0.4444444444444444,
              "#bd3786"
             ],
             [
              0.5555555555555556,
              "#d8576b"
             ],
             [
              0.6666666666666666,
              "#ed7953"
             ],
             [
              0.7777777777777778,
              "#fb9f3a"
             ],
             [
              0.8888888888888888,
              "#fdca26"
             ],
             [
              1,
              "#f0f921"
             ]
            ],
            "type": "heatmap"
           }
          ],
          "heatmapgl": [
           {
            "colorbar": {
             "outlinewidth": 0,
             "ticks": ""
            },
            "colorscale": [
             [
              0,
              "#0d0887"
             ],
             [
              0.1111111111111111,
              "#46039f"
             ],
             [
              0.2222222222222222,
              "#7201a8"
             ],
             [
              0.3333333333333333,
              "#9c179e"
             ],
             [
              0.4444444444444444,
              "#bd3786"
             ],
             [
              0.5555555555555556,
              "#d8576b"
             ],
             [
              0.6666666666666666,
              "#ed7953"
             ],
             [
              0.7777777777777778,
              "#fb9f3a"
             ],
             [
              0.8888888888888888,
              "#fdca26"
             ],
             [
              1,
              "#f0f921"
             ]
            ],
            "type": "heatmapgl"
           }
          ],
          "histogram": [
           {
            "marker": {
             "pattern": {
              "fillmode": "overlay",
              "size": 10,
              "solidity": 0.2
             }
            },
            "type": "histogram"
           }
          ],
          "histogram2d": [
           {
            "colorbar": {
             "outlinewidth": 0,
             "ticks": ""
            },
            "colorscale": [
             [
              0,
              "#0d0887"
             ],
             [
              0.1111111111111111,
              "#46039f"
             ],
             [
              0.2222222222222222,
              "#7201a8"
             ],
             [
              0.3333333333333333,
              "#9c179e"
             ],
             [
              0.4444444444444444,
              "#bd3786"
             ],
             [
              0.5555555555555556,
              "#d8576b"
             ],
             [
              0.6666666666666666,
              "#ed7953"
             ],
             [
              0.7777777777777778,
              "#fb9f3a"
             ],
             [
              0.8888888888888888,
              "#fdca26"
             ],
             [
              1,
              "#f0f921"
             ]
            ],
            "type": "histogram2d"
           }
          ],
          "histogram2dcontour": [
           {
            "colorbar": {
             "outlinewidth": 0,
             "ticks": ""
            },
            "colorscale": [
             [
              0,
              "#0d0887"
             ],
             [
              0.1111111111111111,
              "#46039f"
             ],
             [
              0.2222222222222222,
              "#7201a8"
             ],
             [
              0.3333333333333333,
              "#9c179e"
             ],
             [
              0.4444444444444444,
              "#bd3786"
             ],
             [
              0.5555555555555556,
              "#d8576b"
             ],
             [
              0.6666666666666666,
              "#ed7953"
             ],
             [
              0.7777777777777778,
              "#fb9f3a"
             ],
             [
              0.8888888888888888,
              "#fdca26"
             ],
             [
              1,
              "#f0f921"
             ]
            ],
            "type": "histogram2dcontour"
           }
          ],
          "mesh3d": [
           {
            "colorbar": {
             "outlinewidth": 0,
             "ticks": ""
            },
            "type": "mesh3d"
           }
          ],
          "parcoords": [
           {
            "line": {
             "colorbar": {
              "outlinewidth": 0,
              "ticks": ""
             }
            },
            "type": "parcoords"
           }
          ],
          "pie": [
           {
            "automargin": true,
            "type": "pie"
           }
          ],
          "scatter": [
           {
            "fillpattern": {
             "fillmode": "overlay",
             "size": 10,
             "solidity": 0.2
            },
            "type": "scatter"
           }
          ],
          "scatter3d": [
           {
            "line": {
             "colorbar": {
              "outlinewidth": 0,
              "ticks": ""
             }
            },
            "marker": {
             "colorbar": {
              "outlinewidth": 0,
              "ticks": ""
             }
            },
            "type": "scatter3d"
           }
          ],
          "scattercarpet": [
           {
            "marker": {
             "colorbar": {
              "outlinewidth": 0,
              "ticks": ""
             }
            },
            "type": "scattercarpet"
           }
          ],
          "scattergeo": [
           {
            "marker": {
             "colorbar": {
              "outlinewidth": 0,
              "ticks": ""
             }
            },
            "type": "scattergeo"
           }
          ],
          "scattergl": [
           {
            "marker": {
             "colorbar": {
              "outlinewidth": 0,
              "ticks": ""
             }
            },
            "type": "scattergl"
           }
          ],
          "scattermapbox": [
           {
            "marker": {
             "colorbar": {
              "outlinewidth": 0,
              "ticks": ""
             }
            },
            "type": "scattermapbox"
           }
          ],
          "scatterpolar": [
           {
            "marker": {
             "colorbar": {
              "outlinewidth": 0,
              "ticks": ""
             }
            },
            "type": "scatterpolar"
           }
          ],
          "scatterpolargl": [
           {
            "marker": {
             "colorbar": {
              "outlinewidth": 0,
              "ticks": ""
             }
            },
            "type": "scatterpolargl"
           }
          ],
          "scatterternary": [
           {
            "marker": {
             "colorbar": {
              "outlinewidth": 0,
              "ticks": ""
             }
            },
            "type": "scatterternary"
           }
          ],
          "surface": [
           {
            "colorbar": {
             "outlinewidth": 0,
             "ticks": ""
            },
            "colorscale": [
             [
              0,
              "#0d0887"
             ],
             [
              0.1111111111111111,
              "#46039f"
             ],
             [
              0.2222222222222222,
              "#7201a8"
             ],
             [
              0.3333333333333333,
              "#9c179e"
             ],
             [
              0.4444444444444444,
              "#bd3786"
             ],
             [
              0.5555555555555556,
              "#d8576b"
             ],
             [
              0.6666666666666666,
              "#ed7953"
             ],
             [
              0.7777777777777778,
              "#fb9f3a"
             ],
             [
              0.8888888888888888,
              "#fdca26"
             ],
             [
              1,
              "#f0f921"
             ]
            ],
            "type": "surface"
           }
          ],
          "table": [
           {
            "cells": {
             "fill": {
              "color": "#EBF0F8"
             },
             "line": {
              "color": "white"
             }
            },
            "header": {
             "fill": {
              "color": "#C8D4E3"
             },
             "line": {
              "color": "white"
             }
            },
            "type": "table"
           }
          ]
         },
         "layout": {
          "annotationdefaults": {
           "arrowcolor": "#2a3f5f",
           "arrowhead": 0,
           "arrowwidth": 1
          },
          "autotypenumbers": "strict",
          "coloraxis": {
           "colorbar": {
            "outlinewidth": 0,
            "ticks": ""
           }
          },
          "colorscale": {
           "diverging": [
            [
             0,
             "#8e0152"
            ],
            [
             0.1,
             "#c51b7d"
            ],
            [
             0.2,
             "#de77ae"
            ],
            [
             0.3,
             "#f1b6da"
            ],
            [
             0.4,
             "#fde0ef"
            ],
            [
             0.5,
             "#f7f7f7"
            ],
            [
             0.6,
             "#e6f5d0"
            ],
            [
             0.7,
             "#b8e186"
            ],
            [
             0.8,
             "#7fbc41"
            ],
            [
             0.9,
             "#4d9221"
            ],
            [
             1,
             "#276419"
            ]
           ],
           "sequential": [
            [
             0,
             "#0d0887"
            ],
            [
             0.1111111111111111,
             "#46039f"
            ],
            [
             0.2222222222222222,
             "#7201a8"
            ],
            [
             0.3333333333333333,
             "#9c179e"
            ],
            [
             0.4444444444444444,
             "#bd3786"
            ],
            [
             0.5555555555555556,
             "#d8576b"
            ],
            [
             0.6666666666666666,
             "#ed7953"
            ],
            [
             0.7777777777777778,
             "#fb9f3a"
            ],
            [
             0.8888888888888888,
             "#fdca26"
            ],
            [
             1,
             "#f0f921"
            ]
           ],
           "sequentialminus": [
            [
             0,
             "#0d0887"
            ],
            [
             0.1111111111111111,
             "#46039f"
            ],
            [
             0.2222222222222222,
             "#7201a8"
            ],
            [
             0.3333333333333333,
             "#9c179e"
            ],
            [
             0.4444444444444444,
             "#bd3786"
            ],
            [
             0.5555555555555556,
             "#d8576b"
            ],
            [
             0.6666666666666666,
             "#ed7953"
            ],
            [
             0.7777777777777778,
             "#fb9f3a"
            ],
            [
             0.8888888888888888,
             "#fdca26"
            ],
            [
             1,
             "#f0f921"
            ]
           ]
          },
          "colorway": [
           "#636efa",
           "#EF553B",
           "#00cc96",
           "#ab63fa",
           "#FFA15A",
           "#19d3f3",
           "#FF6692",
           "#B6E880",
           "#FF97FF",
           "#FECB52"
          ],
          "font": {
           "color": "#2a3f5f"
          },
          "geo": {
           "bgcolor": "white",
           "lakecolor": "white",
           "landcolor": "#E5ECF6",
           "showlakes": true,
           "showland": true,
           "subunitcolor": "white"
          },
          "hoverlabel": {
           "align": "left"
          },
          "hovermode": "closest",
          "mapbox": {
           "style": "light"
          },
          "paper_bgcolor": "white",
          "plot_bgcolor": "#E5ECF6",
          "polar": {
           "angularaxis": {
            "gridcolor": "white",
            "linecolor": "white",
            "ticks": ""
           },
           "bgcolor": "#E5ECF6",
           "radialaxis": {
            "gridcolor": "white",
            "linecolor": "white",
            "ticks": ""
           }
          },
          "scene": {
           "xaxis": {
            "backgroundcolor": "#E5ECF6",
            "gridcolor": "white",
            "gridwidth": 2,
            "linecolor": "white",
            "showbackground": true,
            "ticks": "",
            "zerolinecolor": "white"
           },
           "yaxis": {
            "backgroundcolor": "#E5ECF6",
            "gridcolor": "white",
            "gridwidth": 2,
            "linecolor": "white",
            "showbackground": true,
            "ticks": "",
            "zerolinecolor": "white"
           },
           "zaxis": {
            "backgroundcolor": "#E5ECF6",
            "gridcolor": "white",
            "gridwidth": 2,
            "linecolor": "white",
            "showbackground": true,
            "ticks": "",
            "zerolinecolor": "white"
           }
          },
          "shapedefaults": {
           "line": {
            "color": "#2a3f5f"
           }
          },
          "ternary": {
           "aaxis": {
            "gridcolor": "white",
            "linecolor": "white",
            "ticks": ""
           },
           "baxis": {
            "gridcolor": "white",
            "linecolor": "white",
            "ticks": ""
           },
           "bgcolor": "#E5ECF6",
           "caxis": {
            "gridcolor": "white",
            "linecolor": "white",
            "ticks": ""
           }
          },
          "title": {
           "x": 0.05
          },
          "xaxis": {
           "automargin": true,
           "gridcolor": "white",
           "linecolor": "white",
           "ticks": "",
           "title": {
            "standoff": 15
           },
           "zerolinecolor": "white",
           "zerolinewidth": 2
          },
          "yaxis": {
           "automargin": true,
           "gridcolor": "white",
           "linecolor": "white",
           "ticks": "",
           "title": {
            "standoff": 15
           },
           "zerolinecolor": "white",
           "zerolinewidth": 2
          }
         }
        },
        "title": {
         "text": "Распределение рейтинга в зависимости от бренда"
        },
        "xaxis": {
         "anchor": "y",
         "domain": [
          0,
          1
         ],
         "title": {
          "text": "rating"
         }
        },
        "yaxis": {
         "anchor": "x",
         "domain": [
          0,
          1
         ]
        }
       }
      }
     },
     "metadata": {},
     "output_type": "display_data"
    }
   ],
   "source": [
    "# выберем 5 наиболее часто встречающихся марки (больше 40 раз)\n",
    "data_filt = pd.DataFrame()\n",
    "for name in brands.head(5).index:\n",
    "    data_filt = pd.concat([data_filt, data_cleaned[data_cleaned['brand_name']==name]])\n",
    "\n",
    "# коробчатая диаграмма\n",
    "fig = px.box(\n",
    "    data_frame=data_filt, \n",
    "    x='rating',\n",
    "    color='brand_name',\n",
    "    orientation='h',\n",
    "    color_discrete_sequence=px.colors.diverging.Tealrose[::2],\n",
    "    title='Распределение рейтинга в зависимости от бренда'\n",
    ")\n",
    "fig.show()\n",
    "fig.write_html(\"plotly/rating_brand_name.html\")"
   ]
  },
  {
   "cell_type": "markdown",
   "metadata": {},
   "source": [
    "Среди пяти самых распространенных тогровых марок наибольший медианный рейтинг наблюдается у **ASUS**, так же как и наибольшее количество продаваемы ноутбуков, то есть ноутбуки этого бренда более популярны, чем остальных"
   ]
  },
  {
   "cell_type": "markdown",
   "metadata": {},
   "source": [
    "Построим многоуровневую столбчатую диаграмму, которая показывает зависимость медианного рейтинга от типа хранения системной памяти - признаков HDD и SSD"
   ]
  },
  {
   "cell_type": "code",
   "execution_count": 20,
   "metadata": {},
   "outputs": [
    {
     "data": {
      "application/vnd.plotly.v1+json": {
       "config": {
        "plotlyServerURL": "https://plot.ly"
       },
       "data": [
        {
         "alignmentgroup": "True",
         "hovertemplate": "HDD=False<br>SSD=%{x}<br>rating=%{y}<extra></extra>",
         "legendgroup": "False",
         "marker": {
          "color": "rgb(0, 147, 146)",
          "pattern": {
           "shape": ""
          }
         },
         "name": "False",
         "offsetgroup": "False",
         "orientation": "v",
         "showlegend": true,
         "textposition": "auto",
         "type": "bar",
         "x": [
          true
         ],
         "xaxis": "x",
         "y": [
          4.3
         ],
         "yaxis": "y"
        },
        {
         "alignmentgroup": "True",
         "hovertemplate": "HDD=True<br>SSD=%{x}<br>rating=%{y}<extra></extra>",
         "legendgroup": "True",
         "marker": {
          "color": "rgb(217, 137, 148)",
          "pattern": {
           "shape": ""
          }
         },
         "name": "True",
         "offsetgroup": "True",
         "orientation": "v",
         "showlegend": true,
         "textposition": "auto",
         "type": "bar",
         "x": [
          false,
          true
         ],
         "xaxis": "x",
         "y": [
          4,
          4.3
         ],
         "yaxis": "y"
        }
       ],
       "layout": {
        "barmode": "relative",
        "height": 500,
        "legend": {
         "title": {
          "text": "HDD"
         },
         "tracegroupgap": 0
        },
        "template": {
         "data": {
          "bar": [
           {
            "error_x": {
             "color": "#2a3f5f"
            },
            "error_y": {
             "color": "#2a3f5f"
            },
            "marker": {
             "line": {
              "color": "#E5ECF6",
              "width": 0.5
             },
             "pattern": {
              "fillmode": "overlay",
              "size": 10,
              "solidity": 0.2
             }
            },
            "type": "bar"
           }
          ],
          "barpolar": [
           {
            "marker": {
             "line": {
              "color": "#E5ECF6",
              "width": 0.5
             },
             "pattern": {
              "fillmode": "overlay",
              "size": 10,
              "solidity": 0.2
             }
            },
            "type": "barpolar"
           }
          ],
          "carpet": [
           {
            "aaxis": {
             "endlinecolor": "#2a3f5f",
             "gridcolor": "white",
             "linecolor": "white",
             "minorgridcolor": "white",
             "startlinecolor": "#2a3f5f"
            },
            "baxis": {
             "endlinecolor": "#2a3f5f",
             "gridcolor": "white",
             "linecolor": "white",
             "minorgridcolor": "white",
             "startlinecolor": "#2a3f5f"
            },
            "type": "carpet"
           }
          ],
          "choropleth": [
           {
            "colorbar": {
             "outlinewidth": 0,
             "ticks": ""
            },
            "type": "choropleth"
           }
          ],
          "contour": [
           {
            "colorbar": {
             "outlinewidth": 0,
             "ticks": ""
            },
            "colorscale": [
             [
              0,
              "#0d0887"
             ],
             [
              0.1111111111111111,
              "#46039f"
             ],
             [
              0.2222222222222222,
              "#7201a8"
             ],
             [
              0.3333333333333333,
              "#9c179e"
             ],
             [
              0.4444444444444444,
              "#bd3786"
             ],
             [
              0.5555555555555556,
              "#d8576b"
             ],
             [
              0.6666666666666666,
              "#ed7953"
             ],
             [
              0.7777777777777778,
              "#fb9f3a"
             ],
             [
              0.8888888888888888,
              "#fdca26"
             ],
             [
              1,
              "#f0f921"
             ]
            ],
            "type": "contour"
           }
          ],
          "contourcarpet": [
           {
            "colorbar": {
             "outlinewidth": 0,
             "ticks": ""
            },
            "type": "contourcarpet"
           }
          ],
          "heatmap": [
           {
            "colorbar": {
             "outlinewidth": 0,
             "ticks": ""
            },
            "colorscale": [
             [
              0,
              "#0d0887"
             ],
             [
              0.1111111111111111,
              "#46039f"
             ],
             [
              0.2222222222222222,
              "#7201a8"
             ],
             [
              0.3333333333333333,
              "#9c179e"
             ],
             [
              0.4444444444444444,
              "#bd3786"
             ],
             [
              0.5555555555555556,
              "#d8576b"
             ],
             [
              0.6666666666666666,
              "#ed7953"
             ],
             [
              0.7777777777777778,
              "#fb9f3a"
             ],
             [
              0.8888888888888888,
              "#fdca26"
             ],
             [
              1,
              "#f0f921"
             ]
            ],
            "type": "heatmap"
           }
          ],
          "heatmapgl": [
           {
            "colorbar": {
             "outlinewidth": 0,
             "ticks": ""
            },
            "colorscale": [
             [
              0,
              "#0d0887"
             ],
             [
              0.1111111111111111,
              "#46039f"
             ],
             [
              0.2222222222222222,
              "#7201a8"
             ],
             [
              0.3333333333333333,
              "#9c179e"
             ],
             [
              0.4444444444444444,
              "#bd3786"
             ],
             [
              0.5555555555555556,
              "#d8576b"
             ],
             [
              0.6666666666666666,
              "#ed7953"
             ],
             [
              0.7777777777777778,
              "#fb9f3a"
             ],
             [
              0.8888888888888888,
              "#fdca26"
             ],
             [
              1,
              "#f0f921"
             ]
            ],
            "type": "heatmapgl"
           }
          ],
          "histogram": [
           {
            "marker": {
             "pattern": {
              "fillmode": "overlay",
              "size": 10,
              "solidity": 0.2
             }
            },
            "type": "histogram"
           }
          ],
          "histogram2d": [
           {
            "colorbar": {
             "outlinewidth": 0,
             "ticks": ""
            },
            "colorscale": [
             [
              0,
              "#0d0887"
             ],
             [
              0.1111111111111111,
              "#46039f"
             ],
             [
              0.2222222222222222,
              "#7201a8"
             ],
             [
              0.3333333333333333,
              "#9c179e"
             ],
             [
              0.4444444444444444,
              "#bd3786"
             ],
             [
              0.5555555555555556,
              "#d8576b"
             ],
             [
              0.6666666666666666,
              "#ed7953"
             ],
             [
              0.7777777777777778,
              "#fb9f3a"
             ],
             [
              0.8888888888888888,
              "#fdca26"
             ],
             [
              1,
              "#f0f921"
             ]
            ],
            "type": "histogram2d"
           }
          ],
          "histogram2dcontour": [
           {
            "colorbar": {
             "outlinewidth": 0,
             "ticks": ""
            },
            "colorscale": [
             [
              0,
              "#0d0887"
             ],
             [
              0.1111111111111111,
              "#46039f"
             ],
             [
              0.2222222222222222,
              "#7201a8"
             ],
             [
              0.3333333333333333,
              "#9c179e"
             ],
             [
              0.4444444444444444,
              "#bd3786"
             ],
             [
              0.5555555555555556,
              "#d8576b"
             ],
             [
              0.6666666666666666,
              "#ed7953"
             ],
             [
              0.7777777777777778,
              "#fb9f3a"
             ],
             [
              0.8888888888888888,
              "#fdca26"
             ],
             [
              1,
              "#f0f921"
             ]
            ],
            "type": "histogram2dcontour"
           }
          ],
          "mesh3d": [
           {
            "colorbar": {
             "outlinewidth": 0,
             "ticks": ""
            },
            "type": "mesh3d"
           }
          ],
          "parcoords": [
           {
            "line": {
             "colorbar": {
              "outlinewidth": 0,
              "ticks": ""
             }
            },
            "type": "parcoords"
           }
          ],
          "pie": [
           {
            "automargin": true,
            "type": "pie"
           }
          ],
          "scatter": [
           {
            "fillpattern": {
             "fillmode": "overlay",
             "size": 10,
             "solidity": 0.2
            },
            "type": "scatter"
           }
          ],
          "scatter3d": [
           {
            "line": {
             "colorbar": {
              "outlinewidth": 0,
              "ticks": ""
             }
            },
            "marker": {
             "colorbar": {
              "outlinewidth": 0,
              "ticks": ""
             }
            },
            "type": "scatter3d"
           }
          ],
          "scattercarpet": [
           {
            "marker": {
             "colorbar": {
              "outlinewidth": 0,
              "ticks": ""
             }
            },
            "type": "scattercarpet"
           }
          ],
          "scattergeo": [
           {
            "marker": {
             "colorbar": {
              "outlinewidth": 0,
              "ticks": ""
             }
            },
            "type": "scattergeo"
           }
          ],
          "scattergl": [
           {
            "marker": {
             "colorbar": {
              "outlinewidth": 0,
              "ticks": ""
             }
            },
            "type": "scattergl"
           }
          ],
          "scattermapbox": [
           {
            "marker": {
             "colorbar": {
              "outlinewidth": 0,
              "ticks": ""
             }
            },
            "type": "scattermapbox"
           }
          ],
          "scatterpolar": [
           {
            "marker": {
             "colorbar": {
              "outlinewidth": 0,
              "ticks": ""
             }
            },
            "type": "scatterpolar"
           }
          ],
          "scatterpolargl": [
           {
            "marker": {
             "colorbar": {
              "outlinewidth": 0,
              "ticks": ""
             }
            },
            "type": "scatterpolargl"
           }
          ],
          "scatterternary": [
           {
            "marker": {
             "colorbar": {
              "outlinewidth": 0,
              "ticks": ""
             }
            },
            "type": "scatterternary"
           }
          ],
          "surface": [
           {
            "colorbar": {
             "outlinewidth": 0,
             "ticks": ""
            },
            "colorscale": [
             [
              0,
              "#0d0887"
             ],
             [
              0.1111111111111111,
              "#46039f"
             ],
             [
              0.2222222222222222,
              "#7201a8"
             ],
             [
              0.3333333333333333,
              "#9c179e"
             ],
             [
              0.4444444444444444,
              "#bd3786"
             ],
             [
              0.5555555555555556,
              "#d8576b"
             ],
             [
              0.6666666666666666,
              "#ed7953"
             ],
             [
              0.7777777777777778,
              "#fb9f3a"
             ],
             [
              0.8888888888888888,
              "#fdca26"
             ],
             [
              1,
              "#f0f921"
             ]
            ],
            "type": "surface"
           }
          ],
          "table": [
           {
            "cells": {
             "fill": {
              "color": "#EBF0F8"
             },
             "line": {
              "color": "white"
             }
            },
            "header": {
             "fill": {
              "color": "#C8D4E3"
             },
             "line": {
              "color": "white"
             }
            },
            "type": "table"
           }
          ]
         },
         "layout": {
          "annotationdefaults": {
           "arrowcolor": "#2a3f5f",
           "arrowhead": 0,
           "arrowwidth": 1
          },
          "autotypenumbers": "strict",
          "coloraxis": {
           "colorbar": {
            "outlinewidth": 0,
            "ticks": ""
           }
          },
          "colorscale": {
           "diverging": [
            [
             0,
             "#8e0152"
            ],
            [
             0.1,
             "#c51b7d"
            ],
            [
             0.2,
             "#de77ae"
            ],
            [
             0.3,
             "#f1b6da"
            ],
            [
             0.4,
             "#fde0ef"
            ],
            [
             0.5,
             "#f7f7f7"
            ],
            [
             0.6,
             "#e6f5d0"
            ],
            [
             0.7,
             "#b8e186"
            ],
            [
             0.8,
             "#7fbc41"
            ],
            [
             0.9,
             "#4d9221"
            ],
            [
             1,
             "#276419"
            ]
           ],
           "sequential": [
            [
             0,
             "#0d0887"
            ],
            [
             0.1111111111111111,
             "#46039f"
            ],
            [
             0.2222222222222222,
             "#7201a8"
            ],
            [
             0.3333333333333333,
             "#9c179e"
            ],
            [
             0.4444444444444444,
             "#bd3786"
            ],
            [
             0.5555555555555556,
             "#d8576b"
            ],
            [
             0.6666666666666666,
             "#ed7953"
            ],
            [
             0.7777777777777778,
             "#fb9f3a"
            ],
            [
             0.8888888888888888,
             "#fdca26"
            ],
            [
             1,
             "#f0f921"
            ]
           ],
           "sequentialminus": [
            [
             0,
             "#0d0887"
            ],
            [
             0.1111111111111111,
             "#46039f"
            ],
            [
             0.2222222222222222,
             "#7201a8"
            ],
            [
             0.3333333333333333,
             "#9c179e"
            ],
            [
             0.4444444444444444,
             "#bd3786"
            ],
            [
             0.5555555555555556,
             "#d8576b"
            ],
            [
             0.6666666666666666,
             "#ed7953"
            ],
            [
             0.7777777777777778,
             "#fb9f3a"
            ],
            [
             0.8888888888888888,
             "#fdca26"
            ],
            [
             1,
             "#f0f921"
            ]
           ]
          },
          "colorway": [
           "#636efa",
           "#EF553B",
           "#00cc96",
           "#ab63fa",
           "#FFA15A",
           "#19d3f3",
           "#FF6692",
           "#B6E880",
           "#FF97FF",
           "#FECB52"
          ],
          "font": {
           "color": "#2a3f5f"
          },
          "geo": {
           "bgcolor": "white",
           "lakecolor": "white",
           "landcolor": "#E5ECF6",
           "showlakes": true,
           "showland": true,
           "subunitcolor": "white"
          },
          "hoverlabel": {
           "align": "left"
          },
          "hovermode": "closest",
          "mapbox": {
           "style": "light"
          },
          "paper_bgcolor": "white",
          "plot_bgcolor": "#E5ECF6",
          "polar": {
           "angularaxis": {
            "gridcolor": "white",
            "linecolor": "white",
            "ticks": ""
           },
           "bgcolor": "#E5ECF6",
           "radialaxis": {
            "gridcolor": "white",
            "linecolor": "white",
            "ticks": ""
           }
          },
          "scene": {
           "xaxis": {
            "backgroundcolor": "#E5ECF6",
            "gridcolor": "white",
            "gridwidth": 2,
            "linecolor": "white",
            "showbackground": true,
            "ticks": "",
            "zerolinecolor": "white"
           },
           "yaxis": {
            "backgroundcolor": "#E5ECF6",
            "gridcolor": "white",
            "gridwidth": 2,
            "linecolor": "white",
            "showbackground": true,
            "ticks": "",
            "zerolinecolor": "white"
           },
           "zaxis": {
            "backgroundcolor": "#E5ECF6",
            "gridcolor": "white",
            "gridwidth": 2,
            "linecolor": "white",
            "showbackground": true,
            "ticks": "",
            "zerolinecolor": "white"
           }
          },
          "shapedefaults": {
           "line": {
            "color": "#2a3f5f"
           }
          },
          "ternary": {
           "aaxis": {
            "gridcolor": "white",
            "linecolor": "white",
            "ticks": ""
           },
           "baxis": {
            "gridcolor": "white",
            "linecolor": "white",
            "ticks": ""
           },
           "bgcolor": "#E5ECF6",
           "caxis": {
            "gridcolor": "white",
            "linecolor": "white",
            "ticks": ""
           }
          },
          "title": {
           "x": 0.05
          },
          "xaxis": {
           "automargin": true,
           "gridcolor": "white",
           "linecolor": "white",
           "ticks": "",
           "title": {
            "standoff": 15
           },
           "zerolinecolor": "white",
           "zerolinewidth": 2
          },
          "yaxis": {
           "automargin": true,
           "gridcolor": "white",
           "linecolor": "white",
           "ticks": "",
           "title": {
            "standoff": 15
           },
           "zerolinecolor": "white",
           "zerolinewidth": 2
          }
         }
        },
        "title": {
         "text": "Зависимость медианного рейтинга от типа хранения системной памяти - признаков HHD и SDD"
        },
        "width": 1000,
        "xaxis": {
         "anchor": "y",
         "domain": [
          0,
          1
         ],
         "title": {
          "text": "SSD"
         }
        },
        "yaxis": {
         "anchor": "x",
         "domain": [
          0,
          1
         ],
         "title": {
          "text": "rating"
         }
        }
       }
      }
     },
     "metadata": {},
     "output_type": "display_data"
    }
   ],
   "source": [
    "bar_data = (data_cleaned.groupby(\n",
    "    by=['HDD', 'SSD'],\n",
    "    as_index=False\n",
    ")[['rating']].median())\n",
    "\n",
    "fig = px.bar(data_frame=bar_data, \n",
    "             y='rating', \n",
    "             x='SSD',\n",
    "             color='HDD',\n",
    "             height=500, \n",
    "             width=1000,\n",
    "             color_discrete_sequence=px.colors.diverging.Tealrose[::5],\n",
    "             title='Зависимость медианного рейтинга от типа хранения системной памяти - признаков HHD и SDD')\n",
    "fig.show()\n",
    "fig.write_html(\"plotly/rating_SSD_HDD.html\")"
   ]
  },
  {
   "cell_type": "markdown",
   "metadata": {},
   "source": [
    "При наличии твердотельного накопителя SSD медиана рейтинга равна 4.3 и не зависит от наличия жесткого диска. При наличии только жесткого диска без твердотельного накопителя рейтинг ниже - 4. Следовательно, **наличие SSD** будет преимуществом."
   ]
  },
  {
   "cell_type": "markdown",
   "metadata": {},
   "source": [
    "Есть ли взамисвязь рейтинга с объемом памяти? Оценим наиболее подходящий объем системной памяти."
   ]
  },
  {
   "cell_type": "code",
   "execution_count": 21,
   "metadata": {},
   "outputs": [
    {
     "data": {
      "application/vnd.plotly.v1+json": {
       "config": {
        "plotlyServerURL": "https://plot.ly"
       },
       "data": [
        {
         "alignmentgroup": "True",
         "bingroup": "x",
         "hovertemplate": "storage (GB)=%{x}<br>count=%{y}<extra></extra>",
         "legendgroup": "",
         "marker": {
          "color": "rgb(0, 147, 146)",
          "pattern": {
           "shape": ""
          }
         },
         "name": "",
         "offsetgroup": "",
         "orientation": "v",
         "showlegend": false,
         "type": "histogram",
         "x": [
          512,
          1280,
          512,
          512,
          256,
          256,
          256,
          512,
          512,
          256,
          512,
          512,
          512,
          1280,
          256,
          256,
          512,
          512,
          512,
          256,
          512,
          512,
          512,
          256,
          512,
          256,
          512,
          512,
          1280,
          512,
          512,
          512,
          512,
          512,
          512,
          512,
          512,
          512,
          512,
          256,
          1024,
          512,
          512,
          256,
          512,
          512,
          512,
          512,
          512,
          512,
          1024,
          512,
          512,
          512,
          1280,
          512,
          256,
          1280,
          512,
          512,
          512,
          2048,
          2048,
          512,
          512,
          256,
          512,
          512,
          256,
          512,
          512,
          512,
          512,
          512,
          512,
          512,
          512,
          1024,
          512,
          512,
          512,
          256,
          256,
          512,
          512,
          512,
          512,
          512,
          512,
          512,
          512,
          256,
          512,
          512,
          512,
          512,
          1024,
          512,
          512,
          512,
          512,
          512,
          512,
          1280,
          1536,
          512,
          512,
          1024,
          512,
          1024,
          512,
          512,
          1024,
          512,
          256,
          512,
          512,
          512,
          512,
          512,
          512,
          512,
          512,
          256,
          256,
          512,
          1024,
          512,
          512,
          512,
          512,
          256,
          1024,
          512,
          512,
          1024,
          512,
          512,
          512,
          512,
          512,
          512,
          512,
          256,
          512,
          256,
          512,
          512,
          512,
          512,
          512,
          1024,
          256,
          256,
          512,
          512,
          512,
          512,
          512,
          256,
          512,
          512,
          1024,
          256,
          512,
          512,
          512,
          512,
          512,
          1280,
          512,
          512,
          512,
          1024,
          512,
          1024,
          256,
          512,
          512,
          256,
          1024,
          256,
          512,
          1024,
          1024,
          512,
          256,
          512,
          512,
          1024,
          512,
          1024,
          512,
          1024,
          512,
          1024,
          1024,
          512,
          1536,
          1024,
          512,
          512,
          512,
          512,
          256,
          1280,
          1024,
          512,
          512,
          512,
          1024,
          512,
          1024,
          128,
          512,
          1024,
          512,
          512,
          512,
          1280,
          512,
          256,
          1024,
          1024,
          512,
          512,
          512,
          1280,
          512,
          256,
          1024,
          512,
          128,
          512,
          512,
          512,
          1024,
          1024,
          512,
          1024,
          512,
          512,
          256,
          512,
          512,
          512,
          512,
          1024,
          1024,
          128,
          1024,
          512,
          512,
          512,
          512,
          512,
          512,
          256,
          1024,
          1024,
          512,
          1024,
          512,
          512,
          1280,
          512,
          1024,
          512,
          512,
          1280,
          1024,
          512,
          256,
          512,
          1024,
          256,
          512,
          512,
          512,
          1536,
          512,
          512,
          512,
          512,
          512,
          512,
          256,
          512,
          1024,
          512,
          1024,
          512,
          2048,
          1280,
          512,
          1024,
          512,
          1024,
          1024,
          256,
          512,
          256,
          512,
          256,
          512,
          512,
          256,
          128,
          512,
          512,
          256,
          512,
          1152,
          512,
          256,
          256,
          512,
          512,
          512,
          512,
          512,
          256,
          512,
          512,
          512,
          512,
          512,
          512,
          256,
          512,
          512,
          512,
          256,
          512,
          512,
          1280,
          512,
          512,
          512,
          512,
          512,
          256,
          512,
          1024,
          512,
          512,
          512,
          512,
          256,
          512,
          512,
          512,
          512,
          256,
          512,
          1024,
          512,
          512,
          1280,
          512,
          256,
          256,
          256,
          512,
          1280,
          1024,
          512,
          1280,
          256,
          1024,
          1024,
          512,
          1024,
          512,
          128,
          512,
          512,
          512,
          512,
          1024,
          256,
          512,
          512,
          1280,
          512,
          512,
          1024,
          512,
          1024,
          1024,
          512,
          512,
          1024,
          512,
          512,
          1024,
          1024,
          512,
          1024,
          512,
          256,
          512,
          512,
          256,
          256,
          512,
          512,
          512,
          512,
          512,
          256,
          512,
          1536,
          1024,
          1280,
          256,
          512,
          1280,
          512,
          512,
          512,
          1024,
          256,
          512,
          512,
          256,
          512,
          512,
          1280,
          256,
          1280,
          512,
          512,
          512,
          1024,
          1024,
          256,
          1024,
          1024,
          512,
          512,
          1280,
          1024,
          1024,
          1280,
          512,
          512,
          512,
          512,
          512,
          512,
          512,
          512,
          512,
          512,
          256,
          128,
          512,
          512,
          512,
          1024,
          1024,
          1024,
          1024,
          1024,
          512,
          512,
          1280,
          256,
          1024,
          512,
          512,
          512,
          1024,
          512,
          512,
          512,
          1024,
          1024,
          512,
          2048,
          512,
          512,
          512,
          1024,
          1024,
          512,
          512,
          512,
          256,
          512,
          512,
          512,
          512,
          1024,
          256,
          1024,
          512,
          512,
          512,
          1024,
          256,
          1024,
          512,
          1024,
          256,
          512,
          512,
          1024,
          512,
          512,
          512,
          512,
          1280,
          256,
          1024,
          512,
          512,
          512,
          512,
          128,
          256,
          512,
          512,
          1024,
          512,
          512,
          1024,
          1024,
          512,
          1280
         ],
         "xaxis": "x",
         "yaxis": "y"
        }
       ],
       "layout": {
        "barmode": "relative",
        "legend": {
         "tracegroupgap": 0
        },
        "template": {
         "data": {
          "bar": [
           {
            "error_x": {
             "color": "#2a3f5f"
            },
            "error_y": {
             "color": "#2a3f5f"
            },
            "marker": {
             "line": {
              "color": "#E5ECF6",
              "width": 0.5
             },
             "pattern": {
              "fillmode": "overlay",
              "size": 10,
              "solidity": 0.2
             }
            },
            "type": "bar"
           }
          ],
          "barpolar": [
           {
            "marker": {
             "line": {
              "color": "#E5ECF6",
              "width": 0.5
             },
             "pattern": {
              "fillmode": "overlay",
              "size": 10,
              "solidity": 0.2
             }
            },
            "type": "barpolar"
           }
          ],
          "carpet": [
           {
            "aaxis": {
             "endlinecolor": "#2a3f5f",
             "gridcolor": "white",
             "linecolor": "white",
             "minorgridcolor": "white",
             "startlinecolor": "#2a3f5f"
            },
            "baxis": {
             "endlinecolor": "#2a3f5f",
             "gridcolor": "white",
             "linecolor": "white",
             "minorgridcolor": "white",
             "startlinecolor": "#2a3f5f"
            },
            "type": "carpet"
           }
          ],
          "choropleth": [
           {
            "colorbar": {
             "outlinewidth": 0,
             "ticks": ""
            },
            "type": "choropleth"
           }
          ],
          "contour": [
           {
            "colorbar": {
             "outlinewidth": 0,
             "ticks": ""
            },
            "colorscale": [
             [
              0,
              "#0d0887"
             ],
             [
              0.1111111111111111,
              "#46039f"
             ],
             [
              0.2222222222222222,
              "#7201a8"
             ],
             [
              0.3333333333333333,
              "#9c179e"
             ],
             [
              0.4444444444444444,
              "#bd3786"
             ],
             [
              0.5555555555555556,
              "#d8576b"
             ],
             [
              0.6666666666666666,
              "#ed7953"
             ],
             [
              0.7777777777777778,
              "#fb9f3a"
             ],
             [
              0.8888888888888888,
              "#fdca26"
             ],
             [
              1,
              "#f0f921"
             ]
            ],
            "type": "contour"
           }
          ],
          "contourcarpet": [
           {
            "colorbar": {
             "outlinewidth": 0,
             "ticks": ""
            },
            "type": "contourcarpet"
           }
          ],
          "heatmap": [
           {
            "colorbar": {
             "outlinewidth": 0,
             "ticks": ""
            },
            "colorscale": [
             [
              0,
              "#0d0887"
             ],
             [
              0.1111111111111111,
              "#46039f"
             ],
             [
              0.2222222222222222,
              "#7201a8"
             ],
             [
              0.3333333333333333,
              "#9c179e"
             ],
             [
              0.4444444444444444,
              "#bd3786"
             ],
             [
              0.5555555555555556,
              "#d8576b"
             ],
             [
              0.6666666666666666,
              "#ed7953"
             ],
             [
              0.7777777777777778,
              "#fb9f3a"
             ],
             [
              0.8888888888888888,
              "#fdca26"
             ],
             [
              1,
              "#f0f921"
             ]
            ],
            "type": "heatmap"
           }
          ],
          "heatmapgl": [
           {
            "colorbar": {
             "outlinewidth": 0,
             "ticks": ""
            },
            "colorscale": [
             [
              0,
              "#0d0887"
             ],
             [
              0.1111111111111111,
              "#46039f"
             ],
             [
              0.2222222222222222,
              "#7201a8"
             ],
             [
              0.3333333333333333,
              "#9c179e"
             ],
             [
              0.4444444444444444,
              "#bd3786"
             ],
             [
              0.5555555555555556,
              "#d8576b"
             ],
             [
              0.6666666666666666,
              "#ed7953"
             ],
             [
              0.7777777777777778,
              "#fb9f3a"
             ],
             [
              0.8888888888888888,
              "#fdca26"
             ],
             [
              1,
              "#f0f921"
             ]
            ],
            "type": "heatmapgl"
           }
          ],
          "histogram": [
           {
            "marker": {
             "pattern": {
              "fillmode": "overlay",
              "size": 10,
              "solidity": 0.2
             }
            },
            "type": "histogram"
           }
          ],
          "histogram2d": [
           {
            "colorbar": {
             "outlinewidth": 0,
             "ticks": ""
            },
            "colorscale": [
             [
              0,
              "#0d0887"
             ],
             [
              0.1111111111111111,
              "#46039f"
             ],
             [
              0.2222222222222222,
              "#7201a8"
             ],
             [
              0.3333333333333333,
              "#9c179e"
             ],
             [
              0.4444444444444444,
              "#bd3786"
             ],
             [
              0.5555555555555556,
              "#d8576b"
             ],
             [
              0.6666666666666666,
              "#ed7953"
             ],
             [
              0.7777777777777778,
              "#fb9f3a"
             ],
             [
              0.8888888888888888,
              "#fdca26"
             ],
             [
              1,
              "#f0f921"
             ]
            ],
            "type": "histogram2d"
           }
          ],
          "histogram2dcontour": [
           {
            "colorbar": {
             "outlinewidth": 0,
             "ticks": ""
            },
            "colorscale": [
             [
              0,
              "#0d0887"
             ],
             [
              0.1111111111111111,
              "#46039f"
             ],
             [
              0.2222222222222222,
              "#7201a8"
             ],
             [
              0.3333333333333333,
              "#9c179e"
             ],
             [
              0.4444444444444444,
              "#bd3786"
             ],
             [
              0.5555555555555556,
              "#d8576b"
             ],
             [
              0.6666666666666666,
              "#ed7953"
             ],
             [
              0.7777777777777778,
              "#fb9f3a"
             ],
             [
              0.8888888888888888,
              "#fdca26"
             ],
             [
              1,
              "#f0f921"
             ]
            ],
            "type": "histogram2dcontour"
           }
          ],
          "mesh3d": [
           {
            "colorbar": {
             "outlinewidth": 0,
             "ticks": ""
            },
            "type": "mesh3d"
           }
          ],
          "parcoords": [
           {
            "line": {
             "colorbar": {
              "outlinewidth": 0,
              "ticks": ""
             }
            },
            "type": "parcoords"
           }
          ],
          "pie": [
           {
            "automargin": true,
            "type": "pie"
           }
          ],
          "scatter": [
           {
            "fillpattern": {
             "fillmode": "overlay",
             "size": 10,
             "solidity": 0.2
            },
            "type": "scatter"
           }
          ],
          "scatter3d": [
           {
            "line": {
             "colorbar": {
              "outlinewidth": 0,
              "ticks": ""
             }
            },
            "marker": {
             "colorbar": {
              "outlinewidth": 0,
              "ticks": ""
             }
            },
            "type": "scatter3d"
           }
          ],
          "scattercarpet": [
           {
            "marker": {
             "colorbar": {
              "outlinewidth": 0,
              "ticks": ""
             }
            },
            "type": "scattercarpet"
           }
          ],
          "scattergeo": [
           {
            "marker": {
             "colorbar": {
              "outlinewidth": 0,
              "ticks": ""
             }
            },
            "type": "scattergeo"
           }
          ],
          "scattergl": [
           {
            "marker": {
             "colorbar": {
              "outlinewidth": 0,
              "ticks": ""
             }
            },
            "type": "scattergl"
           }
          ],
          "scattermapbox": [
           {
            "marker": {
             "colorbar": {
              "outlinewidth": 0,
              "ticks": ""
             }
            },
            "type": "scattermapbox"
           }
          ],
          "scatterpolar": [
           {
            "marker": {
             "colorbar": {
              "outlinewidth": 0,
              "ticks": ""
             }
            },
            "type": "scatterpolar"
           }
          ],
          "scatterpolargl": [
           {
            "marker": {
             "colorbar": {
              "outlinewidth": 0,
              "ticks": ""
             }
            },
            "type": "scatterpolargl"
           }
          ],
          "scatterternary": [
           {
            "marker": {
             "colorbar": {
              "outlinewidth": 0,
              "ticks": ""
             }
            },
            "type": "scatterternary"
           }
          ],
          "surface": [
           {
            "colorbar": {
             "outlinewidth": 0,
             "ticks": ""
            },
            "colorscale": [
             [
              0,
              "#0d0887"
             ],
             [
              0.1111111111111111,
              "#46039f"
             ],
             [
              0.2222222222222222,
              "#7201a8"
             ],
             [
              0.3333333333333333,
              "#9c179e"
             ],
             [
              0.4444444444444444,
              "#bd3786"
             ],
             [
              0.5555555555555556,
              "#d8576b"
             ],
             [
              0.6666666666666666,
              "#ed7953"
             ],
             [
              0.7777777777777778,
              "#fb9f3a"
             ],
             [
              0.8888888888888888,
              "#fdca26"
             ],
             [
              1,
              "#f0f921"
             ]
            ],
            "type": "surface"
           }
          ],
          "table": [
           {
            "cells": {
             "fill": {
              "color": "#EBF0F8"
             },
             "line": {
              "color": "white"
             }
            },
            "header": {
             "fill": {
              "color": "#C8D4E3"
             },
             "line": {
              "color": "white"
             }
            },
            "type": "table"
           }
          ]
         },
         "layout": {
          "annotationdefaults": {
           "arrowcolor": "#2a3f5f",
           "arrowhead": 0,
           "arrowwidth": 1
          },
          "autotypenumbers": "strict",
          "coloraxis": {
           "colorbar": {
            "outlinewidth": 0,
            "ticks": ""
           }
          },
          "colorscale": {
           "diverging": [
            [
             0,
             "#8e0152"
            ],
            [
             0.1,
             "#c51b7d"
            ],
            [
             0.2,
             "#de77ae"
            ],
            [
             0.3,
             "#f1b6da"
            ],
            [
             0.4,
             "#fde0ef"
            ],
            [
             0.5,
             "#f7f7f7"
            ],
            [
             0.6,
             "#e6f5d0"
            ],
            [
             0.7,
             "#b8e186"
            ],
            [
             0.8,
             "#7fbc41"
            ],
            [
             0.9,
             "#4d9221"
            ],
            [
             1,
             "#276419"
            ]
           ],
           "sequential": [
            [
             0,
             "#0d0887"
            ],
            [
             0.1111111111111111,
             "#46039f"
            ],
            [
             0.2222222222222222,
             "#7201a8"
            ],
            [
             0.3333333333333333,
             "#9c179e"
            ],
            [
             0.4444444444444444,
             "#bd3786"
            ],
            [
             0.5555555555555556,
             "#d8576b"
            ],
            [
             0.6666666666666666,
             "#ed7953"
            ],
            [
             0.7777777777777778,
             "#fb9f3a"
            ],
            [
             0.8888888888888888,
             "#fdca26"
            ],
            [
             1,
             "#f0f921"
            ]
           ],
           "sequentialminus": [
            [
             0,
             "#0d0887"
            ],
            [
             0.1111111111111111,
             "#46039f"
            ],
            [
             0.2222222222222222,
             "#7201a8"
            ],
            [
             0.3333333333333333,
             "#9c179e"
            ],
            [
             0.4444444444444444,
             "#bd3786"
            ],
            [
             0.5555555555555556,
             "#d8576b"
            ],
            [
             0.6666666666666666,
             "#ed7953"
            ],
            [
             0.7777777777777778,
             "#fb9f3a"
            ],
            [
             0.8888888888888888,
             "#fdca26"
            ],
            [
             1,
             "#f0f921"
            ]
           ]
          },
          "colorway": [
           "#636efa",
           "#EF553B",
           "#00cc96",
           "#ab63fa",
           "#FFA15A",
           "#19d3f3",
           "#FF6692",
           "#B6E880",
           "#FF97FF",
           "#FECB52"
          ],
          "font": {
           "color": "#2a3f5f"
          },
          "geo": {
           "bgcolor": "white",
           "lakecolor": "white",
           "landcolor": "#E5ECF6",
           "showlakes": true,
           "showland": true,
           "subunitcolor": "white"
          },
          "hoverlabel": {
           "align": "left"
          },
          "hovermode": "closest",
          "mapbox": {
           "style": "light"
          },
          "paper_bgcolor": "white",
          "plot_bgcolor": "#E5ECF6",
          "polar": {
           "angularaxis": {
            "gridcolor": "white",
            "linecolor": "white",
            "ticks": ""
           },
           "bgcolor": "#E5ECF6",
           "radialaxis": {
            "gridcolor": "white",
            "linecolor": "white",
            "ticks": ""
           }
          },
          "scene": {
           "xaxis": {
            "backgroundcolor": "#E5ECF6",
            "gridcolor": "white",
            "gridwidth": 2,
            "linecolor": "white",
            "showbackground": true,
            "ticks": "",
            "zerolinecolor": "white"
           },
           "yaxis": {
            "backgroundcolor": "#E5ECF6",
            "gridcolor": "white",
            "gridwidth": 2,
            "linecolor": "white",
            "showbackground": true,
            "ticks": "",
            "zerolinecolor": "white"
           },
           "zaxis": {
            "backgroundcolor": "#E5ECF6",
            "gridcolor": "white",
            "gridwidth": 2,
            "linecolor": "white",
            "showbackground": true,
            "ticks": "",
            "zerolinecolor": "white"
           }
          },
          "shapedefaults": {
           "line": {
            "color": "#2a3f5f"
           }
          },
          "ternary": {
           "aaxis": {
            "gridcolor": "white",
            "linecolor": "white",
            "ticks": ""
           },
           "baxis": {
            "gridcolor": "white",
            "linecolor": "white",
            "ticks": ""
           },
           "bgcolor": "#E5ECF6",
           "caxis": {
            "gridcolor": "white",
            "linecolor": "white",
            "ticks": ""
           }
          },
          "title": {
           "x": 0.05
          },
          "xaxis": {
           "automargin": true,
           "gridcolor": "white",
           "linecolor": "white",
           "ticks": "",
           "title": {
            "standoff": 15
           },
           "zerolinecolor": "white",
           "zerolinewidth": 2
          },
          "yaxis": {
           "automargin": true,
           "gridcolor": "white",
           "linecolor": "white",
           "ticks": "",
           "title": {
            "standoff": 15
           },
           "zerolinecolor": "white",
           "zerolinewidth": 2
          }
         }
        },
        "title": {
         "text": "Распределение переменной объем системной памяти"
        },
        "xaxis": {
         "anchor": "y",
         "domain": [
          0,
          1
         ],
         "title": {
          "text": "storage (GB)"
         }
        },
        "yaxis": {
         "anchor": "x",
         "domain": [
          0,
          1
         ],
         "title": {
          "text": "count"
         }
        }
       }
      }
     },
     "metadata": {},
     "output_type": "display_data"
    },
    {
     "data": {
      "application/vnd.plotly.v1+json": {
       "config": {
        "plotlyServerURL": "https://plot.ly"
       },
       "data": [
        {
         "alignmentgroup": "True",
         "hovertemplate": "storage (GB)=%{y}<br>rating=%{x}<extra></extra>",
         "legendgroup": "512.0",
         "marker": {
          "color": "rgb(0, 147, 146)"
         },
         "name": "512.0",
         "notched": false,
         "offsetgroup": "512.0",
         "orientation": "h",
         "showlegend": true,
         "type": "box",
         "x": [
          4.5,
          4.4,
          4.3,
          4,
          4.1,
          5,
          4.1,
          4.1,
          4.3,
          4.4,
          4.4,
          4.2,
          4.3,
          4.2,
          4.4,
          4.3,
          4.2,
          4.3,
          4.5,
          4.4,
          4.5,
          4.2,
          4.3,
          4.2,
          4.2,
          4.5,
          4.2,
          4.4,
          4.2,
          4.2,
          4.2,
          4.3,
          4.5,
          4.3,
          4.2,
          4.5,
          4.4,
          5,
          4.4,
          4.5,
          4.3,
          3.9,
          3.6,
          4.9,
          4,
          4.8,
          4.2,
          4.5,
          4.2,
          4.3,
          4.5,
          4.3,
          4,
          4.5,
          4.5,
          4.7,
          4.3,
          4.5,
          4.5,
          4.2,
          4.6,
          4.7,
          5,
          4.7,
          4.5,
          4.4,
          4.1,
          4.6,
          4.3,
          4.4,
          4.2,
          4.2,
          4.4,
          4.3,
          4.4,
          3.1,
          4.4,
          4.7,
          4.5,
          4.5,
          3.9,
          4.4,
          4.3,
          4.5,
          4.5,
          4.3,
          3.9,
          4.3,
          4.3,
          4,
          4.3,
          4.3,
          4.6,
          4.2,
          4.5,
          4,
          4.1,
          4.2,
          4,
          4.5,
          4.4,
          4.2,
          5,
          4.5,
          4.5,
          4.2,
          5,
          4.2,
          4.4,
          4.4,
          4.1,
          4.1,
          4.5,
          4.4,
          4.7,
          4.2,
          4.2,
          4.2,
          4.3,
          4.7,
          4.5,
          4.4,
          4.5,
          4.4,
          4,
          4.5,
          4.6,
          3.7,
          4.2,
          4.6,
          4.5,
          3.8,
          4.8,
          4.5,
          3.8,
          5,
          4.4,
          4.1,
          4.6,
          4.5,
          4.2,
          4.7,
          4,
          4.6,
          3.7,
          4.3,
          4.5,
          4.3,
          4.7,
          4.3,
          4.6,
          4.6,
          4.3,
          4.5,
          4,
          4,
          4.1,
          4.4,
          4.7,
          3.9,
          3.9,
          4.4,
          4.1,
          3.7,
          4.2,
          3.6,
          3.7,
          4.2,
          4.4,
          4.7,
          4.3,
          4.6,
          4.6,
          4.6,
          4,
          4.9,
          4.2,
          4.4,
          4.8,
          3.8,
          4.3,
          4.6,
          4,
          4.4,
          4.1,
          3.9,
          4.6,
          4.1,
          4,
          3.6,
          4.4,
          4.3,
          4.2,
          4.4,
          4.5,
          4,
          4.2,
          3.8,
          4.8,
          4.4,
          4.3,
          3.7,
          4.4,
          4.3,
          4.5,
          4.4,
          4.5,
          4.8,
          4.4,
          4.3,
          4.3,
          5,
          4.2,
          4.4,
          4,
          4.1,
          4.8,
          3.9,
          4.5,
          3.9,
          4,
          4.4,
          4.2,
          4.5,
          4.3,
          5,
          4.1,
          4,
          4.6,
          4.3,
          4.4,
          4.5,
          3.9,
          4.4,
          4.4,
          3.7,
          4.4,
          4.5,
          4.9,
          3.7,
          4.5,
          4.4,
          4.4,
          3.9,
          3.8,
          4.3,
          4.5,
          4.5,
          4,
          4.3,
          4.5,
          4.4,
          3.7,
          4.2,
          4.1,
          4.4,
          4.3,
          4.3,
          4.4,
          4.3,
          4.6,
          4.2,
          4.6,
          3.9,
          4.4,
          4.3,
          4.3,
          4.5,
          4.2,
          4.8,
          4.1,
          4.1,
          3.3,
          3.7,
          4.2,
          4,
          4.1,
          4.5,
          4.2,
          4.5,
          4.3,
          4.5,
          3.8,
          4.5,
          4,
          3.5,
          4.3,
          4.4,
          4,
          4.5,
          4.1,
          4.8,
          4.4,
          4.2,
          4.2,
          3.3,
          4.1,
          4.7,
          4.5,
          4,
          3.8,
          4.6,
          4.1,
          4.4,
          4.4,
          4.5,
          3.8,
          4.8,
          4,
          4.3,
          4.1,
          4.2,
          5,
          4.4,
          4.3,
          4.4,
          4.7,
          4.1,
          4,
          4,
          3.6,
          3.7,
          3.8,
          4.5
         ],
         "x0": " ",
         "xaxis": "x",
         "y": [
          512,
          512,
          512,
          512,
          512,
          512,
          512,
          512,
          512,
          512,
          512,
          512,
          512,
          512,
          512,
          512,
          512,
          512,
          512,
          512,
          512,
          512,
          512,
          512,
          512,
          512,
          512,
          512,
          512,
          512,
          512,
          512,
          512,
          512,
          512,
          512,
          512,
          512,
          512,
          512,
          512,
          512,
          512,
          512,
          512,
          512,
          512,
          512,
          512,
          512,
          512,
          512,
          512,
          512,
          512,
          512,
          512,
          512,
          512,
          512,
          512,
          512,
          512,
          512,
          512,
          512,
          512,
          512,
          512,
          512,
          512,
          512,
          512,
          512,
          512,
          512,
          512,
          512,
          512,
          512,
          512,
          512,
          512,
          512,
          512,
          512,
          512,
          512,
          512,
          512,
          512,
          512,
          512,
          512,
          512,
          512,
          512,
          512,
          512,
          512,
          512,
          512,
          512,
          512,
          512,
          512,
          512,
          512,
          512,
          512,
          512,
          512,
          512,
          512,
          512,
          512,
          512,
          512,
          512,
          512,
          512,
          512,
          512,
          512,
          512,
          512,
          512,
          512,
          512,
          512,
          512,
          512,
          512,
          512,
          512,
          512,
          512,
          512,
          512,
          512,
          512,
          512,
          512,
          512,
          512,
          512,
          512,
          512,
          512,
          512,
          512,
          512,
          512,
          512,
          512,
          512,
          512,
          512,
          512,
          512,
          512,
          512,
          512,
          512,
          512,
          512,
          512,
          512,
          512,
          512,
          512,
          512,
          512,
          512,
          512,
          512,
          512,
          512,
          512,
          512,
          512,
          512,
          512,
          512,
          512,
          512,
          512,
          512,
          512,
          512,
          512,
          512,
          512,
          512,
          512,
          512,
          512,
          512,
          512,
          512,
          512,
          512,
          512,
          512,
          512,
          512,
          512,
          512,
          512,
          512,
          512,
          512,
          512,
          512,
          512,
          512,
          512,
          512,
          512,
          512,
          512,
          512,
          512,
          512,
          512,
          512,
          512,
          512,
          512,
          512,
          512,
          512,
          512,
          512,
          512,
          512,
          512,
          512,
          512,
          512,
          512,
          512,
          512,
          512,
          512,
          512,
          512,
          512,
          512,
          512,
          512,
          512,
          512,
          512,
          512,
          512,
          512,
          512,
          512,
          512,
          512,
          512,
          512,
          512,
          512,
          512,
          512,
          512,
          512,
          512,
          512,
          512,
          512,
          512,
          512,
          512,
          512,
          512,
          512,
          512,
          512,
          512,
          512,
          512,
          512,
          512,
          512,
          512,
          512,
          512,
          512,
          512,
          512,
          512,
          512,
          512,
          512,
          512,
          512,
          512,
          512,
          512,
          512,
          512,
          512,
          512,
          512,
          512,
          512,
          512,
          512,
          512,
          512,
          512,
          512,
          512,
          512,
          512,
          512,
          512,
          512,
          512,
          512,
          512
         ],
         "y0": " ",
         "yaxis": "y"
        },
        {
         "alignmentgroup": "True",
         "hovertemplate": "storage (GB)=%{y}<br>rating=%{x}<extra></extra>",
         "legendgroup": "1280.0",
         "marker": {
          "color": "rgb(177, 199, 179)"
         },
         "name": "1280.0",
         "notched": false,
         "offsetgroup": "1280.0",
         "orientation": "h",
         "showlegend": true,
         "type": "box",
         "x": [
          4.4,
          4.1,
          4.4,
          3.8,
          4.3,
          4.2,
          4.4,
          4.1,
          4.4,
          4.1,
          4.1,
          4.3,
          4.2,
          3,
          4.5,
          4.1,
          4.5,
          4.2,
          4.3,
          4.5,
          4.6,
          4.4,
          4.4,
          3.5,
          4.2,
          4.4,
          4
         ],
         "x0": " ",
         "xaxis": "x",
         "y": [
          1280,
          1280,
          1280,
          1280,
          1280,
          1280,
          1280,
          1280,
          1280,
          1280,
          1280,
          1280,
          1280,
          1280,
          1280,
          1280,
          1280,
          1280,
          1280,
          1280,
          1280,
          1280,
          1280,
          1280,
          1280,
          1280,
          1280
         ],
         "y0": " ",
         "yaxis": "y"
        },
        {
         "alignmentgroup": "True",
         "hovertemplate": "storage (GB)=%{y}<br>rating=%{x}<extra></extra>",
         "legendgroup": "256.0",
         "marker": {
          "color": "rgb(229, 185, 173)"
         },
         "name": "256.0",
         "notched": false,
         "offsetgroup": "256.0",
         "orientation": "h",
         "showlegend": true,
         "type": "box",
         "x": [
          3.8,
          4.7,
          4.1,
          4.2,
          4.4,
          4.2,
          4.7,
          4.2,
          4,
          4.4,
          4.1,
          4.7,
          4.3,
          4.1,
          4.8,
          4.7,
          4.7,
          4,
          4.4,
          4.1,
          4.4,
          3.8,
          4.7,
          4.7,
          4.2,
          4.2,
          4.4,
          4.7,
          4.4,
          3.9,
          4.4,
          4.6,
          4.2,
          3.7,
          4,
          4.3,
          4.7,
          4.4,
          4.2,
          4,
          4.3,
          4.5,
          4.1,
          5,
          4.2,
          4.7,
          4,
          3.9,
          4.1,
          4,
          4.3,
          4.3,
          4.2,
          4.3,
          4.3,
          4.3,
          4.1,
          5,
          4.3,
          3.6,
          4.3,
          4.1,
          4.1,
          3.7,
          4,
          4,
          3.7,
          3.6,
          4.4,
          4.3,
          4.5,
          4.7,
          4,
          3.8
         ],
         "x0": " ",
         "xaxis": "x",
         "y": [
          256,
          256,
          256,
          256,
          256,
          256,
          256,
          256,
          256,
          256,
          256,
          256,
          256,
          256,
          256,
          256,
          256,
          256,
          256,
          256,
          256,
          256,
          256,
          256,
          256,
          256,
          256,
          256,
          256,
          256,
          256,
          256,
          256,
          256,
          256,
          256,
          256,
          256,
          256,
          256,
          256,
          256,
          256,
          256,
          256,
          256,
          256,
          256,
          256,
          256,
          256,
          256,
          256,
          256,
          256,
          256,
          256,
          256,
          256,
          256,
          256,
          256,
          256,
          256,
          256,
          256,
          256,
          256,
          256,
          256,
          256,
          256,
          256,
          256
         ],
         "y0": " ",
         "yaxis": "y"
        },
        {
         "alignmentgroup": "True",
         "hovertemplate": "storage (GB)=%{y}<br>rating=%{x}<extra></extra>",
         "legendgroup": "1024.0",
         "marker": {
          "color": "rgb(208, 88, 126)"
         },
         "name": "1024.0",
         "notched": false,
         "offsetgroup": "1024.0",
         "orientation": "h",
         "showlegend": true,
         "type": "box",
         "x": [
          4.3,
          4.7,
          5,
          4.5,
          4.4,
          3.8,
          4.3,
          4,
          4.5,
          4.8,
          4,
          3.7,
          4.6,
          4.5,
          5,
          4.2,
          4.8,
          4.8,
          5,
          3.6,
          4.6,
          4.6,
          4.7,
          3.8,
          4.4,
          4.4,
          4.6,
          4.5,
          3.9,
          4.5,
          4.8,
          3.8,
          4.3,
          5,
          5,
          4,
          4.5,
          4.8,
          3.6,
          4,
          4.1,
          3.7,
          4.5,
          4.7,
          4.5,
          4.4,
          4,
          5,
          4.9,
          4.3,
          4.3,
          4.5,
          5,
          3.9,
          4.4,
          4,
          4.1,
          5,
          4.3,
          4.1,
          3.5,
          4.8,
          4.8,
          4,
          4.1,
          3,
          3.5,
          4.5,
          4.1,
          4.6,
          4.3,
          3.6,
          4,
          4.4,
          4,
          1.6,
          4.1,
          4,
          4.4,
          3.8,
          4,
          4,
          3.9,
          3.9,
          4,
          4,
          3.7,
          3.8,
          4,
          3.8
         ],
         "x0": " ",
         "xaxis": "x",
         "y": [
          1024,
          1024,
          1024,
          1024,
          1024,
          1024,
          1024,
          1024,
          1024,
          1024,
          1024,
          1024,
          1024,
          1024,
          1024,
          1024,
          1024,
          1024,
          1024,
          1024,
          1024,
          1024,
          1024,
          1024,
          1024,
          1024,
          1024,
          1024,
          1024,
          1024,
          1024,
          1024,
          1024,
          1024,
          1024,
          1024,
          1024,
          1024,
          1024,
          1024,
          1024,
          1024,
          1024,
          1024,
          1024,
          1024,
          1024,
          1024,
          1024,
          1024,
          1024,
          1024,
          1024,
          1024,
          1024,
          1024,
          1024,
          1024,
          1024,
          1024,
          1024,
          1024,
          1024,
          1024,
          1024,
          1024,
          1024,
          1024,
          1024,
          1024,
          1024,
          1024,
          1024,
          1024,
          1024,
          1024,
          1024,
          1024,
          1024,
          1024,
          1024,
          1024,
          1024,
          1024,
          1024,
          1024,
          1024,
          1024,
          1024,
          1024
         ],
         "y0": " ",
         "yaxis": "y"
        },
        {
         "alignmentgroup": "True",
         "hovertemplate": "storage (GB)=%{y}<br>rating=%{x}<extra></extra>",
         "legendgroup": "2048.0",
         "marker": {
          "color": "rgb(0, 147, 146)"
         },
         "name": "2048.0",
         "notched": false,
         "offsetgroup": "2048.0",
         "orientation": "h",
         "showlegend": true,
         "type": "box",
         "x": [
          3.7,
          4,
          4.7,
          3.3
         ],
         "x0": " ",
         "xaxis": "x",
         "y": [
          2048,
          2048,
          2048,
          2048
         ],
         "y0": " ",
         "yaxis": "y"
        },
        {
         "alignmentgroup": "True",
         "hovertemplate": "storage (GB)=%{y}<br>rating=%{x}<extra></extra>",
         "legendgroup": "1536.0",
         "marker": {
          "color": "rgb(177, 199, 179)"
         },
         "name": "1536.0",
         "notched": false,
         "offsetgroup": "1536.0",
         "orientation": "h",
         "showlegend": true,
         "type": "box",
         "x": [
          4.5,
          4.3,
          4.4,
          4.3
         ],
         "x0": " ",
         "xaxis": "x",
         "y": [
          1536,
          1536,
          1536,
          1536
         ],
         "y0": " ",
         "yaxis": "y"
        },
        {
         "alignmentgroup": "True",
         "hovertemplate": "storage (GB)=%{y}<br>rating=%{x}<extra></extra>",
         "legendgroup": "128.0",
         "marker": {
          "color": "rgb(229, 185, 173)"
         },
         "name": "128.0",
         "notched": false,
         "offsetgroup": "128.0",
         "orientation": "h",
         "showlegend": true,
         "type": "box",
         "x": [
          4.2,
          4.2,
          3.8,
          4.1,
          3.8,
          3.8,
          3.5
         ],
         "x0": " ",
         "xaxis": "x",
         "y": [
          128,
          128,
          128,
          128,
          128,
          128,
          128
         ],
         "y0": " ",
         "yaxis": "y"
        },
        {
         "alignmentgroup": "True",
         "hovertemplate": "storage (GB)=%{y}<br>rating=%{x}<extra></extra>",
         "legendgroup": "1152.0",
         "marker": {
          "color": "rgb(208, 88, 126)"
         },
         "name": "1152.0",
         "notched": false,
         "offsetgroup": "1152.0",
         "orientation": "h",
         "showlegend": true,
         "type": "box",
         "x": [
          4.5
         ],
         "x0": " ",
         "xaxis": "x",
         "y": [
          1152
         ],
         "y0": " ",
         "yaxis": "y"
        }
       ],
       "layout": {
        "boxmode": "overlay",
        "legend": {
         "title": {
          "text": "storage (GB)"
         },
         "tracegroupgap": 0
        },
        "template": {
         "data": {
          "bar": [
           {
            "error_x": {
             "color": "#2a3f5f"
            },
            "error_y": {
             "color": "#2a3f5f"
            },
            "marker": {
             "line": {
              "color": "#E5ECF6",
              "width": 0.5
             },
             "pattern": {
              "fillmode": "overlay",
              "size": 10,
              "solidity": 0.2
             }
            },
            "type": "bar"
           }
          ],
          "barpolar": [
           {
            "marker": {
             "line": {
              "color": "#E5ECF6",
              "width": 0.5
             },
             "pattern": {
              "fillmode": "overlay",
              "size": 10,
              "solidity": 0.2
             }
            },
            "type": "barpolar"
           }
          ],
          "carpet": [
           {
            "aaxis": {
             "endlinecolor": "#2a3f5f",
             "gridcolor": "white",
             "linecolor": "white",
             "minorgridcolor": "white",
             "startlinecolor": "#2a3f5f"
            },
            "baxis": {
             "endlinecolor": "#2a3f5f",
             "gridcolor": "white",
             "linecolor": "white",
             "minorgridcolor": "white",
             "startlinecolor": "#2a3f5f"
            },
            "type": "carpet"
           }
          ],
          "choropleth": [
           {
            "colorbar": {
             "outlinewidth": 0,
             "ticks": ""
            },
            "type": "choropleth"
           }
          ],
          "contour": [
           {
            "colorbar": {
             "outlinewidth": 0,
             "ticks": ""
            },
            "colorscale": [
             [
              0,
              "#0d0887"
             ],
             [
              0.1111111111111111,
              "#46039f"
             ],
             [
              0.2222222222222222,
              "#7201a8"
             ],
             [
              0.3333333333333333,
              "#9c179e"
             ],
             [
              0.4444444444444444,
              "#bd3786"
             ],
             [
              0.5555555555555556,
              "#d8576b"
             ],
             [
              0.6666666666666666,
              "#ed7953"
             ],
             [
              0.7777777777777778,
              "#fb9f3a"
             ],
             [
              0.8888888888888888,
              "#fdca26"
             ],
             [
              1,
              "#f0f921"
             ]
            ],
            "type": "contour"
           }
          ],
          "contourcarpet": [
           {
            "colorbar": {
             "outlinewidth": 0,
             "ticks": ""
            },
            "type": "contourcarpet"
           }
          ],
          "heatmap": [
           {
            "colorbar": {
             "outlinewidth": 0,
             "ticks": ""
            },
            "colorscale": [
             [
              0,
              "#0d0887"
             ],
             [
              0.1111111111111111,
              "#46039f"
             ],
             [
              0.2222222222222222,
              "#7201a8"
             ],
             [
              0.3333333333333333,
              "#9c179e"
             ],
             [
              0.4444444444444444,
              "#bd3786"
             ],
             [
              0.5555555555555556,
              "#d8576b"
             ],
             [
              0.6666666666666666,
              "#ed7953"
             ],
             [
              0.7777777777777778,
              "#fb9f3a"
             ],
             [
              0.8888888888888888,
              "#fdca26"
             ],
             [
              1,
              "#f0f921"
             ]
            ],
            "type": "heatmap"
           }
          ],
          "heatmapgl": [
           {
            "colorbar": {
             "outlinewidth": 0,
             "ticks": ""
            },
            "colorscale": [
             [
              0,
              "#0d0887"
             ],
             [
              0.1111111111111111,
              "#46039f"
             ],
             [
              0.2222222222222222,
              "#7201a8"
             ],
             [
              0.3333333333333333,
              "#9c179e"
             ],
             [
              0.4444444444444444,
              "#bd3786"
             ],
             [
              0.5555555555555556,
              "#d8576b"
             ],
             [
              0.6666666666666666,
              "#ed7953"
             ],
             [
              0.7777777777777778,
              "#fb9f3a"
             ],
             [
              0.8888888888888888,
              "#fdca26"
             ],
             [
              1,
              "#f0f921"
             ]
            ],
            "type": "heatmapgl"
           }
          ],
          "histogram": [
           {
            "marker": {
             "pattern": {
              "fillmode": "overlay",
              "size": 10,
              "solidity": 0.2
             }
            },
            "type": "histogram"
           }
          ],
          "histogram2d": [
           {
            "colorbar": {
             "outlinewidth": 0,
             "ticks": ""
            },
            "colorscale": [
             [
              0,
              "#0d0887"
             ],
             [
              0.1111111111111111,
              "#46039f"
             ],
             [
              0.2222222222222222,
              "#7201a8"
             ],
             [
              0.3333333333333333,
              "#9c179e"
             ],
             [
              0.4444444444444444,
              "#bd3786"
             ],
             [
              0.5555555555555556,
              "#d8576b"
             ],
             [
              0.6666666666666666,
              "#ed7953"
             ],
             [
              0.7777777777777778,
              "#fb9f3a"
             ],
             [
              0.8888888888888888,
              "#fdca26"
             ],
             [
              1,
              "#f0f921"
             ]
            ],
            "type": "histogram2d"
           }
          ],
          "histogram2dcontour": [
           {
            "colorbar": {
             "outlinewidth": 0,
             "ticks": ""
            },
            "colorscale": [
             [
              0,
              "#0d0887"
             ],
             [
              0.1111111111111111,
              "#46039f"
             ],
             [
              0.2222222222222222,
              "#7201a8"
             ],
             [
              0.3333333333333333,
              "#9c179e"
             ],
             [
              0.4444444444444444,
              "#bd3786"
             ],
             [
              0.5555555555555556,
              "#d8576b"
             ],
             [
              0.6666666666666666,
              "#ed7953"
             ],
             [
              0.7777777777777778,
              "#fb9f3a"
             ],
             [
              0.8888888888888888,
              "#fdca26"
             ],
             [
              1,
              "#f0f921"
             ]
            ],
            "type": "histogram2dcontour"
           }
          ],
          "mesh3d": [
           {
            "colorbar": {
             "outlinewidth": 0,
             "ticks": ""
            },
            "type": "mesh3d"
           }
          ],
          "parcoords": [
           {
            "line": {
             "colorbar": {
              "outlinewidth": 0,
              "ticks": ""
             }
            },
            "type": "parcoords"
           }
          ],
          "pie": [
           {
            "automargin": true,
            "type": "pie"
           }
          ],
          "scatter": [
           {
            "fillpattern": {
             "fillmode": "overlay",
             "size": 10,
             "solidity": 0.2
            },
            "type": "scatter"
           }
          ],
          "scatter3d": [
           {
            "line": {
             "colorbar": {
              "outlinewidth": 0,
              "ticks": ""
             }
            },
            "marker": {
             "colorbar": {
              "outlinewidth": 0,
              "ticks": ""
             }
            },
            "type": "scatter3d"
           }
          ],
          "scattercarpet": [
           {
            "marker": {
             "colorbar": {
              "outlinewidth": 0,
              "ticks": ""
             }
            },
            "type": "scattercarpet"
           }
          ],
          "scattergeo": [
           {
            "marker": {
             "colorbar": {
              "outlinewidth": 0,
              "ticks": ""
             }
            },
            "type": "scattergeo"
           }
          ],
          "scattergl": [
           {
            "marker": {
             "colorbar": {
              "outlinewidth": 0,
              "ticks": ""
             }
            },
            "type": "scattergl"
           }
          ],
          "scattermapbox": [
           {
            "marker": {
             "colorbar": {
              "outlinewidth": 0,
              "ticks": ""
             }
            },
            "type": "scattermapbox"
           }
          ],
          "scatterpolar": [
           {
            "marker": {
             "colorbar": {
              "outlinewidth": 0,
              "ticks": ""
             }
            },
            "type": "scatterpolar"
           }
          ],
          "scatterpolargl": [
           {
            "marker": {
             "colorbar": {
              "outlinewidth": 0,
              "ticks": ""
             }
            },
            "type": "scatterpolargl"
           }
          ],
          "scatterternary": [
           {
            "marker": {
             "colorbar": {
              "outlinewidth": 0,
              "ticks": ""
             }
            },
            "type": "scatterternary"
           }
          ],
          "surface": [
           {
            "colorbar": {
             "outlinewidth": 0,
             "ticks": ""
            },
            "colorscale": [
             [
              0,
              "#0d0887"
             ],
             [
              0.1111111111111111,
              "#46039f"
             ],
             [
              0.2222222222222222,
              "#7201a8"
             ],
             [
              0.3333333333333333,
              "#9c179e"
             ],
             [
              0.4444444444444444,
              "#bd3786"
             ],
             [
              0.5555555555555556,
              "#d8576b"
             ],
             [
              0.6666666666666666,
              "#ed7953"
             ],
             [
              0.7777777777777778,
              "#fb9f3a"
             ],
             [
              0.8888888888888888,
              "#fdca26"
             ],
             [
              1,
              "#f0f921"
             ]
            ],
            "type": "surface"
           }
          ],
          "table": [
           {
            "cells": {
             "fill": {
              "color": "#EBF0F8"
             },
             "line": {
              "color": "white"
             }
            },
            "header": {
             "fill": {
              "color": "#C8D4E3"
             },
             "line": {
              "color": "white"
             }
            },
            "type": "table"
           }
          ]
         },
         "layout": {
          "annotationdefaults": {
           "arrowcolor": "#2a3f5f",
           "arrowhead": 0,
           "arrowwidth": 1
          },
          "autotypenumbers": "strict",
          "coloraxis": {
           "colorbar": {
            "outlinewidth": 0,
            "ticks": ""
           }
          },
          "colorscale": {
           "diverging": [
            [
             0,
             "#8e0152"
            ],
            [
             0.1,
             "#c51b7d"
            ],
            [
             0.2,
             "#de77ae"
            ],
            [
             0.3,
             "#f1b6da"
            ],
            [
             0.4,
             "#fde0ef"
            ],
            [
             0.5,
             "#f7f7f7"
            ],
            [
             0.6,
             "#e6f5d0"
            ],
            [
             0.7,
             "#b8e186"
            ],
            [
             0.8,
             "#7fbc41"
            ],
            [
             0.9,
             "#4d9221"
            ],
            [
             1,
             "#276419"
            ]
           ],
           "sequential": [
            [
             0,
             "#0d0887"
            ],
            [
             0.1111111111111111,
             "#46039f"
            ],
            [
             0.2222222222222222,
             "#7201a8"
            ],
            [
             0.3333333333333333,
             "#9c179e"
            ],
            [
             0.4444444444444444,
             "#bd3786"
            ],
            [
             0.5555555555555556,
             "#d8576b"
            ],
            [
             0.6666666666666666,
             "#ed7953"
            ],
            [
             0.7777777777777778,
             "#fb9f3a"
            ],
            [
             0.8888888888888888,
             "#fdca26"
            ],
            [
             1,
             "#f0f921"
            ]
           ],
           "sequentialminus": [
            [
             0,
             "#0d0887"
            ],
            [
             0.1111111111111111,
             "#46039f"
            ],
            [
             0.2222222222222222,
             "#7201a8"
            ],
            [
             0.3333333333333333,
             "#9c179e"
            ],
            [
             0.4444444444444444,
             "#bd3786"
            ],
            [
             0.5555555555555556,
             "#d8576b"
            ],
            [
             0.6666666666666666,
             "#ed7953"
            ],
            [
             0.7777777777777778,
             "#fb9f3a"
            ],
            [
             0.8888888888888888,
             "#fdca26"
            ],
            [
             1,
             "#f0f921"
            ]
           ]
          },
          "colorway": [
           "#636efa",
           "#EF553B",
           "#00cc96",
           "#ab63fa",
           "#FFA15A",
           "#19d3f3",
           "#FF6692",
           "#B6E880",
           "#FF97FF",
           "#FECB52"
          ],
          "font": {
           "color": "#2a3f5f"
          },
          "geo": {
           "bgcolor": "white",
           "lakecolor": "white",
           "landcolor": "#E5ECF6",
           "showlakes": true,
           "showland": true,
           "subunitcolor": "white"
          },
          "hoverlabel": {
           "align": "left"
          },
          "hovermode": "closest",
          "mapbox": {
           "style": "light"
          },
          "paper_bgcolor": "white",
          "plot_bgcolor": "#E5ECF6",
          "polar": {
           "angularaxis": {
            "gridcolor": "white",
            "linecolor": "white",
            "ticks": ""
           },
           "bgcolor": "#E5ECF6",
           "radialaxis": {
            "gridcolor": "white",
            "linecolor": "white",
            "ticks": ""
           }
          },
          "scene": {
           "xaxis": {
            "backgroundcolor": "#E5ECF6",
            "gridcolor": "white",
            "gridwidth": 2,
            "linecolor": "white",
            "showbackground": true,
            "ticks": "",
            "zerolinecolor": "white"
           },
           "yaxis": {
            "backgroundcolor": "#E5ECF6",
            "gridcolor": "white",
            "gridwidth": 2,
            "linecolor": "white",
            "showbackground": true,
            "ticks": "",
            "zerolinecolor": "white"
           },
           "zaxis": {
            "backgroundcolor": "#E5ECF6",
            "gridcolor": "white",
            "gridwidth": 2,
            "linecolor": "white",
            "showbackground": true,
            "ticks": "",
            "zerolinecolor": "white"
           }
          },
          "shapedefaults": {
           "line": {
            "color": "#2a3f5f"
           }
          },
          "ternary": {
           "aaxis": {
            "gridcolor": "white",
            "linecolor": "white",
            "ticks": ""
           },
           "baxis": {
            "gridcolor": "white",
            "linecolor": "white",
            "ticks": ""
           },
           "bgcolor": "#E5ECF6",
           "caxis": {
            "gridcolor": "white",
            "linecolor": "white",
            "ticks": ""
           }
          },
          "title": {
           "x": 0.05
          },
          "xaxis": {
           "automargin": true,
           "gridcolor": "white",
           "linecolor": "white",
           "ticks": "",
           "title": {
            "standoff": 15
           },
           "zerolinecolor": "white",
           "zerolinewidth": 2
          },
          "yaxis": {
           "automargin": true,
           "gridcolor": "white",
           "linecolor": "white",
           "ticks": "",
           "title": {
            "standoff": 15
           },
           "zerolinecolor": "white",
           "zerolinewidth": 2
          }
         }
        },
        "title": {
         "text": "Зависимость рейтинга от объема системной памяти"
        },
        "xaxis": {
         "anchor": "y",
         "domain": [
          0,
          1
         ],
         "title": {
          "text": "rating"
         }
        },
        "yaxis": {
         "anchor": "x",
         "categoryarray": [
          1152,
          128,
          1536,
          2048,
          1024,
          256,
          1280,
          512
         ],
         "categoryorder": "array",
         "domain": [
          0,
          1
         ],
         "title": {
          "text": "storage (GB)"
         }
        }
       }
      }
     },
     "metadata": {},
     "output_type": "display_data"
    }
   ],
   "source": [
    "# гистограмма распределения storage\n",
    "hist = px.histogram(\n",
    "    data_cleaned,\n",
    "    x='storage (GB)',\n",
    "    color_discrete_sequence=px.colors.diverging.Tealrose,\n",
    "    title=f'Распределение переменной объем системной памяти'\n",
    ")\n",
    "hist.show()\n",
    "hist.write_html(\"plotly/storage.html\")\n",
    "\n",
    "# взамисвязь рейтинга с объемом памяти\n",
    "box = px.box(\n",
    "    data_frame=data_cleaned,\n",
    "    x='rating',\n",
    "    y = 'storage (GB)',\n",
    "    color='storage (GB)',\n",
    "    orientation='h',\n",
    "    color_discrete_sequence=px.colors.diverging.Tealrose[::2],\n",
    "    title='Зависимость рейтинга от объема системной памяти'\n",
    ")\n",
    "box.show()\n",
    "box.write_html(\"plotly/box_rating_storage.html\")"
   ]
  },
  {
   "cell_type": "markdown",
   "metadata": {},
   "source": [
    "По медианному значению рейтинга выделяется объем 1536 (1 Тб + 512 Гб), однако максимальный рейтинг в этом случае всего лишь 4.5 - там слишком маленькая выборка. Более целесообразно обратить внимание на те варианты, где присутствуют оценки 5.0 (они и более распространенные): \n",
    "- 512 Гб, \n",
    "- 256 Гб, \n",
    "- 1024 Гб (1 Тб).\n",
    "\n",
    "Для 512 Гб и 1 Тб медиана рейтинга составляет 4.3, что равно медиане оценкок по всему датасету. Эти два значения storage и следует считать оптимальными, между ними пользователи могут выбрать тот объем, что необходим для их целей. Отметим, что все же намного чаще встречается объем **512 Гб**."
   ]
  },
  {
   "cell_type": "markdown",
   "metadata": {},
   "source": [
    "Оценим, как влияет на рейтинг объем оперативной памяти (ram)"
   ]
  },
  {
   "cell_type": "code",
   "execution_count": 22,
   "metadata": {},
   "outputs": [
    {
     "data": {
      "application/vnd.plotly.v1+json": {
       "config": {
        "plotlyServerURL": "https://plot.ly"
       },
       "data": [
        {
         "alignmentgroup": "True",
         "bingroup": "x",
         "hovertemplate": "ram (GB)=%{x}<br>count=%{y}<extra></extra>",
         "legendgroup": "",
         "marker": {
          "color": "rgb(0, 147, 146)",
          "pattern": {
           "shape": ""
          }
         },
         "name": "",
         "offsetgroup": "",
         "orientation": "v",
         "showlegend": false,
         "type": "histogram",
         "x": [
          16,
          8,
          8,
          8,
          4,
          8,
          4,
          8,
          8,
          8,
          16,
          8,
          16,
          8,
          8,
          8,
          16,
          8,
          16,
          8,
          8,
          8,
          8,
          8,
          8,
          8,
          8,
          8,
          8,
          8,
          16,
          16,
          16,
          8,
          8,
          4,
          8,
          8,
          8,
          8,
          16,
          16,
          8,
          4,
          8,
          8,
          8,
          16,
          8,
          8,
          32,
          8,
          16,
          8,
          8,
          8,
          8,
          16,
          8,
          8,
          8,
          4,
          4,
          8,
          16,
          8,
          8,
          16,
          4,
          8,
          8,
          8,
          8,
          8,
          8,
          8,
          8,
          16,
          16,
          16,
          8,
          8,
          8,
          16,
          16,
          8,
          8,
          16,
          16,
          16,
          8,
          16,
          16,
          8,
          16,
          8,
          16,
          8,
          16,
          8,
          16,
          8,
          16,
          8,
          16,
          8,
          16,
          16,
          16,
          16,
          16,
          16,
          32,
          8,
          8,
          8,
          16,
          16,
          8,
          8,
          8,
          8,
          8,
          8,
          8,
          16,
          16,
          8,
          8,
          8,
          16,
          8,
          8,
          16,
          8,
          16,
          8,
          16,
          8,
          16,
          8,
          8,
          16,
          8,
          16,
          8,
          8,
          8,
          16,
          8,
          16,
          16,
          16,
          4,
          16,
          8,
          16,
          8,
          8,
          8,
          8,
          4,
          4,
          8,
          16,
          8,
          8,
          16,
          8,
          8,
          8,
          16,
          16,
          16,
          16,
          8,
          8,
          16,
          16,
          8,
          32,
          4,
          16,
          8,
          16,
          8,
          8,
          16,
          16,
          16,
          8,
          16,
          8,
          4,
          8,
          32,
          32,
          8,
          16,
          16,
          8,
          16,
          16,
          8,
          8,
          8,
          16,
          8,
          8,
          8,
          16,
          16,
          16,
          4,
          8,
          16,
          4,
          8,
          8,
          16,
          16,
          4,
          16,
          16,
          8,
          8,
          8,
          8,
          8,
          8,
          8,
          8,
          4,
          8,
          16,
          8,
          16,
          16,
          8,
          16,
          8,
          16,
          8,
          16,
          8,
          8,
          8,
          16,
          16,
          4,
          16,
          8,
          16,
          16,
          16,
          8,
          8,
          8,
          16,
          16,
          8,
          8,
          8,
          8,
          8,
          16,
          16,
          16,
          8,
          8,
          16,
          16,
          8,
          8,
          8,
          8,
          8,
          16,
          8,
          32,
          8,
          16,
          16,
          8,
          8,
          8,
          4,
          8,
          16,
          8,
          16,
          16,
          16,
          4,
          4,
          8,
          8,
          16,
          4,
          8,
          8,
          8,
          8,
          4,
          8,
          16,
          8,
          4,
          16,
          8,
          8,
          16,
          8,
          16,
          8,
          8,
          8,
          8,
          8,
          16,
          8,
          8,
          16,
          16,
          8,
          16,
          8,
          8,
          4,
          8,
          8,
          8,
          4,
          8,
          8,
          8,
          8,
          8,
          8,
          16,
          8,
          8,
          8,
          16,
          8,
          4,
          16,
          8,
          8,
          16,
          8,
          4,
          16,
          4,
          8,
          16,
          8,
          16,
          8,
          16,
          8,
          8,
          8,
          8,
          8,
          8,
          8,
          16,
          8,
          16,
          16,
          16,
          16,
          8,
          4,
          8,
          16,
          16,
          8,
          8,
          4,
          8,
          8,
          8,
          8,
          16,
          16,
          8,
          4,
          8,
          16,
          8,
          16,
          16,
          8,
          16,
          16,
          8,
          4,
          8,
          4,
          8,
          8,
          4,
          8,
          16,
          8,
          8,
          16,
          16,
          4,
          8,
          8,
          16,
          16,
          4,
          16,
          8,
          8,
          16,
          8,
          32,
          4,
          8,
          16,
          8,
          8,
          8,
          8,
          4,
          8,
          16,
          8,
          8,
          8,
          4,
          8,
          16,
          8,
          16,
          8,
          8,
          16,
          8,
          8,
          16,
          8,
          8,
          16,
          16,
          8,
          8,
          16,
          8,
          8,
          8,
          8,
          8,
          4,
          8,
          16,
          16,
          4,
          8,
          16,
          8,
          8,
          4,
          8,
          8,
          8,
          16,
          16,
          8,
          16,
          8,
          8,
          8,
          16,
          8,
          8,
          16,
          16,
          16,
          8,
          8,
          8,
          8,
          8,
          4,
          8,
          16,
          16,
          8,
          8,
          8,
          16,
          8,
          4,
          16,
          4,
          4,
          4,
          8,
          4,
          8,
          8,
          16,
          8,
          8,
          8,
          8,
          8,
          8,
          8,
          16,
          8,
          16,
          8,
          8,
          4,
          8,
          8,
          8,
          16,
          16,
          4,
          8,
          4,
          8,
          8
         ],
         "xaxis": "x",
         "yaxis": "y"
        }
       ],
       "layout": {
        "barmode": "relative",
        "legend": {
         "tracegroupgap": 0
        },
        "template": {
         "data": {
          "bar": [
           {
            "error_x": {
             "color": "#2a3f5f"
            },
            "error_y": {
             "color": "#2a3f5f"
            },
            "marker": {
             "line": {
              "color": "#E5ECF6",
              "width": 0.5
             },
             "pattern": {
              "fillmode": "overlay",
              "size": 10,
              "solidity": 0.2
             }
            },
            "type": "bar"
           }
          ],
          "barpolar": [
           {
            "marker": {
             "line": {
              "color": "#E5ECF6",
              "width": 0.5
             },
             "pattern": {
              "fillmode": "overlay",
              "size": 10,
              "solidity": 0.2
             }
            },
            "type": "barpolar"
           }
          ],
          "carpet": [
           {
            "aaxis": {
             "endlinecolor": "#2a3f5f",
             "gridcolor": "white",
             "linecolor": "white",
             "minorgridcolor": "white",
             "startlinecolor": "#2a3f5f"
            },
            "baxis": {
             "endlinecolor": "#2a3f5f",
             "gridcolor": "white",
             "linecolor": "white",
             "minorgridcolor": "white",
             "startlinecolor": "#2a3f5f"
            },
            "type": "carpet"
           }
          ],
          "choropleth": [
           {
            "colorbar": {
             "outlinewidth": 0,
             "ticks": ""
            },
            "type": "choropleth"
           }
          ],
          "contour": [
           {
            "colorbar": {
             "outlinewidth": 0,
             "ticks": ""
            },
            "colorscale": [
             [
              0,
              "#0d0887"
             ],
             [
              0.1111111111111111,
              "#46039f"
             ],
             [
              0.2222222222222222,
              "#7201a8"
             ],
             [
              0.3333333333333333,
              "#9c179e"
             ],
             [
              0.4444444444444444,
              "#bd3786"
             ],
             [
              0.5555555555555556,
              "#d8576b"
             ],
             [
              0.6666666666666666,
              "#ed7953"
             ],
             [
              0.7777777777777778,
              "#fb9f3a"
             ],
             [
              0.8888888888888888,
              "#fdca26"
             ],
             [
              1,
              "#f0f921"
             ]
            ],
            "type": "contour"
           }
          ],
          "contourcarpet": [
           {
            "colorbar": {
             "outlinewidth": 0,
             "ticks": ""
            },
            "type": "contourcarpet"
           }
          ],
          "heatmap": [
           {
            "colorbar": {
             "outlinewidth": 0,
             "ticks": ""
            },
            "colorscale": [
             [
              0,
              "#0d0887"
             ],
             [
              0.1111111111111111,
              "#46039f"
             ],
             [
              0.2222222222222222,
              "#7201a8"
             ],
             [
              0.3333333333333333,
              "#9c179e"
             ],
             [
              0.4444444444444444,
              "#bd3786"
             ],
             [
              0.5555555555555556,
              "#d8576b"
             ],
             [
              0.6666666666666666,
              "#ed7953"
             ],
             [
              0.7777777777777778,
              "#fb9f3a"
             ],
             [
              0.8888888888888888,
              "#fdca26"
             ],
             [
              1,
              "#f0f921"
             ]
            ],
            "type": "heatmap"
           }
          ],
          "heatmapgl": [
           {
            "colorbar": {
             "outlinewidth": 0,
             "ticks": ""
            },
            "colorscale": [
             [
              0,
              "#0d0887"
             ],
             [
              0.1111111111111111,
              "#46039f"
             ],
             [
              0.2222222222222222,
              "#7201a8"
             ],
             [
              0.3333333333333333,
              "#9c179e"
             ],
             [
              0.4444444444444444,
              "#bd3786"
             ],
             [
              0.5555555555555556,
              "#d8576b"
             ],
             [
              0.6666666666666666,
              "#ed7953"
             ],
             [
              0.7777777777777778,
              "#fb9f3a"
             ],
             [
              0.8888888888888888,
              "#fdca26"
             ],
             [
              1,
              "#f0f921"
             ]
            ],
            "type": "heatmapgl"
           }
          ],
          "histogram": [
           {
            "marker": {
             "pattern": {
              "fillmode": "overlay",
              "size": 10,
              "solidity": 0.2
             }
            },
            "type": "histogram"
           }
          ],
          "histogram2d": [
           {
            "colorbar": {
             "outlinewidth": 0,
             "ticks": ""
            },
            "colorscale": [
             [
              0,
              "#0d0887"
             ],
             [
              0.1111111111111111,
              "#46039f"
             ],
             [
              0.2222222222222222,
              "#7201a8"
             ],
             [
              0.3333333333333333,
              "#9c179e"
             ],
             [
              0.4444444444444444,
              "#bd3786"
             ],
             [
              0.5555555555555556,
              "#d8576b"
             ],
             [
              0.6666666666666666,
              "#ed7953"
             ],
             [
              0.7777777777777778,
              "#fb9f3a"
             ],
             [
              0.8888888888888888,
              "#fdca26"
             ],
             [
              1,
              "#f0f921"
             ]
            ],
            "type": "histogram2d"
           }
          ],
          "histogram2dcontour": [
           {
            "colorbar": {
             "outlinewidth": 0,
             "ticks": ""
            },
            "colorscale": [
             [
              0,
              "#0d0887"
             ],
             [
              0.1111111111111111,
              "#46039f"
             ],
             [
              0.2222222222222222,
              "#7201a8"
             ],
             [
              0.3333333333333333,
              "#9c179e"
             ],
             [
              0.4444444444444444,
              "#bd3786"
             ],
             [
              0.5555555555555556,
              "#d8576b"
             ],
             [
              0.6666666666666666,
              "#ed7953"
             ],
             [
              0.7777777777777778,
              "#fb9f3a"
             ],
             [
              0.8888888888888888,
              "#fdca26"
             ],
             [
              1,
              "#f0f921"
             ]
            ],
            "type": "histogram2dcontour"
           }
          ],
          "mesh3d": [
           {
            "colorbar": {
             "outlinewidth": 0,
             "ticks": ""
            },
            "type": "mesh3d"
           }
          ],
          "parcoords": [
           {
            "line": {
             "colorbar": {
              "outlinewidth": 0,
              "ticks": ""
             }
            },
            "type": "parcoords"
           }
          ],
          "pie": [
           {
            "automargin": true,
            "type": "pie"
           }
          ],
          "scatter": [
           {
            "fillpattern": {
             "fillmode": "overlay",
             "size": 10,
             "solidity": 0.2
            },
            "type": "scatter"
           }
          ],
          "scatter3d": [
           {
            "line": {
             "colorbar": {
              "outlinewidth": 0,
              "ticks": ""
             }
            },
            "marker": {
             "colorbar": {
              "outlinewidth": 0,
              "ticks": ""
             }
            },
            "type": "scatter3d"
           }
          ],
          "scattercarpet": [
           {
            "marker": {
             "colorbar": {
              "outlinewidth": 0,
              "ticks": ""
             }
            },
            "type": "scattercarpet"
           }
          ],
          "scattergeo": [
           {
            "marker": {
             "colorbar": {
              "outlinewidth": 0,
              "ticks": ""
             }
            },
            "type": "scattergeo"
           }
          ],
          "scattergl": [
           {
            "marker": {
             "colorbar": {
              "outlinewidth": 0,
              "ticks": ""
             }
            },
            "type": "scattergl"
           }
          ],
          "scattermapbox": [
           {
            "marker": {
             "colorbar": {
              "outlinewidth": 0,
              "ticks": ""
             }
            },
            "type": "scattermapbox"
           }
          ],
          "scatterpolar": [
           {
            "marker": {
             "colorbar": {
              "outlinewidth": 0,
              "ticks": ""
             }
            },
            "type": "scatterpolar"
           }
          ],
          "scatterpolargl": [
           {
            "marker": {
             "colorbar": {
              "outlinewidth": 0,
              "ticks": ""
             }
            },
            "type": "scatterpolargl"
           }
          ],
          "scatterternary": [
           {
            "marker": {
             "colorbar": {
              "outlinewidth": 0,
              "ticks": ""
             }
            },
            "type": "scatterternary"
           }
          ],
          "surface": [
           {
            "colorbar": {
             "outlinewidth": 0,
             "ticks": ""
            },
            "colorscale": [
             [
              0,
              "#0d0887"
             ],
             [
              0.1111111111111111,
              "#46039f"
             ],
             [
              0.2222222222222222,
              "#7201a8"
             ],
             [
              0.3333333333333333,
              "#9c179e"
             ],
             [
              0.4444444444444444,
              "#bd3786"
             ],
             [
              0.5555555555555556,
              "#d8576b"
             ],
             [
              0.6666666666666666,
              "#ed7953"
             ],
             [
              0.7777777777777778,
              "#fb9f3a"
             ],
             [
              0.8888888888888888,
              "#fdca26"
             ],
             [
              1,
              "#f0f921"
             ]
            ],
            "type": "surface"
           }
          ],
          "table": [
           {
            "cells": {
             "fill": {
              "color": "#EBF0F8"
             },
             "line": {
              "color": "white"
             }
            },
            "header": {
             "fill": {
              "color": "#C8D4E3"
             },
             "line": {
              "color": "white"
             }
            },
            "type": "table"
           }
          ]
         },
         "layout": {
          "annotationdefaults": {
           "arrowcolor": "#2a3f5f",
           "arrowhead": 0,
           "arrowwidth": 1
          },
          "autotypenumbers": "strict",
          "coloraxis": {
           "colorbar": {
            "outlinewidth": 0,
            "ticks": ""
           }
          },
          "colorscale": {
           "diverging": [
            [
             0,
             "#8e0152"
            ],
            [
             0.1,
             "#c51b7d"
            ],
            [
             0.2,
             "#de77ae"
            ],
            [
             0.3,
             "#f1b6da"
            ],
            [
             0.4,
             "#fde0ef"
            ],
            [
             0.5,
             "#f7f7f7"
            ],
            [
             0.6,
             "#e6f5d0"
            ],
            [
             0.7,
             "#b8e186"
            ],
            [
             0.8,
             "#7fbc41"
            ],
            [
             0.9,
             "#4d9221"
            ],
            [
             1,
             "#276419"
            ]
           ],
           "sequential": [
            [
             0,
             "#0d0887"
            ],
            [
             0.1111111111111111,
             "#46039f"
            ],
            [
             0.2222222222222222,
             "#7201a8"
            ],
            [
             0.3333333333333333,
             "#9c179e"
            ],
            [
             0.4444444444444444,
             "#bd3786"
            ],
            [
             0.5555555555555556,
             "#d8576b"
            ],
            [
             0.6666666666666666,
             "#ed7953"
            ],
            [
             0.7777777777777778,
             "#fb9f3a"
            ],
            [
             0.8888888888888888,
             "#fdca26"
            ],
            [
             1,
             "#f0f921"
            ]
           ],
           "sequentialminus": [
            [
             0,
             "#0d0887"
            ],
            [
             0.1111111111111111,
             "#46039f"
            ],
            [
             0.2222222222222222,
             "#7201a8"
            ],
            [
             0.3333333333333333,
             "#9c179e"
            ],
            [
             0.4444444444444444,
             "#bd3786"
            ],
            [
             0.5555555555555556,
             "#d8576b"
            ],
            [
             0.6666666666666666,
             "#ed7953"
            ],
            [
             0.7777777777777778,
             "#fb9f3a"
            ],
            [
             0.8888888888888888,
             "#fdca26"
            ],
            [
             1,
             "#f0f921"
            ]
           ]
          },
          "colorway": [
           "#636efa",
           "#EF553B",
           "#00cc96",
           "#ab63fa",
           "#FFA15A",
           "#19d3f3",
           "#FF6692",
           "#B6E880",
           "#FF97FF",
           "#FECB52"
          ],
          "font": {
           "color": "#2a3f5f"
          },
          "geo": {
           "bgcolor": "white",
           "lakecolor": "white",
           "landcolor": "#E5ECF6",
           "showlakes": true,
           "showland": true,
           "subunitcolor": "white"
          },
          "hoverlabel": {
           "align": "left"
          },
          "hovermode": "closest",
          "mapbox": {
           "style": "light"
          },
          "paper_bgcolor": "white",
          "plot_bgcolor": "#E5ECF6",
          "polar": {
           "angularaxis": {
            "gridcolor": "white",
            "linecolor": "white",
            "ticks": ""
           },
           "bgcolor": "#E5ECF6",
           "radialaxis": {
            "gridcolor": "white",
            "linecolor": "white",
            "ticks": ""
           }
          },
          "scene": {
           "xaxis": {
            "backgroundcolor": "#E5ECF6",
            "gridcolor": "white",
            "gridwidth": 2,
            "linecolor": "white",
            "showbackground": true,
            "ticks": "",
            "zerolinecolor": "white"
           },
           "yaxis": {
            "backgroundcolor": "#E5ECF6",
            "gridcolor": "white",
            "gridwidth": 2,
            "linecolor": "white",
            "showbackground": true,
            "ticks": "",
            "zerolinecolor": "white"
           },
           "zaxis": {
            "backgroundcolor": "#E5ECF6",
            "gridcolor": "white",
            "gridwidth": 2,
            "linecolor": "white",
            "showbackground": true,
            "ticks": "",
            "zerolinecolor": "white"
           }
          },
          "shapedefaults": {
           "line": {
            "color": "#2a3f5f"
           }
          },
          "ternary": {
           "aaxis": {
            "gridcolor": "white",
            "linecolor": "white",
            "ticks": ""
           },
           "baxis": {
            "gridcolor": "white",
            "linecolor": "white",
            "ticks": ""
           },
           "bgcolor": "#E5ECF6",
           "caxis": {
            "gridcolor": "white",
            "linecolor": "white",
            "ticks": ""
           }
          },
          "title": {
           "x": 0.05
          },
          "xaxis": {
           "automargin": true,
           "gridcolor": "white",
           "linecolor": "white",
           "ticks": "",
           "title": {
            "standoff": 15
           },
           "zerolinecolor": "white",
           "zerolinewidth": 2
          },
          "yaxis": {
           "automargin": true,
           "gridcolor": "white",
           "linecolor": "white",
           "ticks": "",
           "title": {
            "standoff": 15
           },
           "zerolinecolor": "white",
           "zerolinewidth": 2
          }
         }
        },
        "title": {
         "text": "Распределение переменной объем оперативной памяти"
        },
        "xaxis": {
         "anchor": "y",
         "domain": [
          0,
          1
         ],
         "title": {
          "text": "ram (GB)"
         }
        },
        "yaxis": {
         "anchor": "x",
         "domain": [
          0,
          1
         ],
         "title": {
          "text": "count"
         }
        }
       }
      }
     },
     "metadata": {},
     "output_type": "display_data"
    },
    {
     "data": {
      "application/vnd.plotly.v1+json": {
       "config": {
        "plotlyServerURL": "https://plot.ly"
       },
       "data": [
        {
         "alignmentgroup": "True",
         "hovertemplate": "ram (GB)=%{y}<br>rating=%{x}<extra></extra>",
         "legendgroup": "16",
         "marker": {
          "color": "rgb(0, 147, 146)"
         },
         "name": "16",
         "notched": false,
         "offsetgroup": "16",
         "orientation": "h",
         "showlegend": true,
         "type": "box",
         "x": [
          4.5,
          5,
          4.1,
          4.3,
          4.4,
          4.5,
          4.4,
          4.5,
          4.3,
          4.4,
          4.5,
          4.4,
          4.3,
          4.9,
          4.8,
          5,
          4.5,
          4.7,
          4.5,
          4.5,
          4.7,
          5,
          4.7,
          4.7,
          4.4,
          4.6,
          4.5,
          4.2,
          4.4,
          4.4,
          4.5,
          4.4,
          4.4,
          4.7,
          3.8,
          4.5,
          4.5,
          4.3,
          4.5,
          4,
          4,
          4.2,
          4.5,
          4.8,
          4.2,
          4.5,
          5,
          4.5,
          5,
          4.4,
          4,
          4.7,
          4.4,
          4.1,
          4.2,
          4.7,
          4.5,
          4.4,
          4.6,
          4,
          4.5,
          4.6,
          3.7,
          4.8,
          4.6,
          4.5,
          4.8,
          5,
          4.3,
          4.7,
          4.4,
          4.1,
          3.8,
          4.4,
          4,
          4.4,
          4.6,
          4.4,
          4.3,
          4.5,
          3.9,
          4,
          4.8,
          3.8,
          4.3,
          4.7,
          3.9,
          5,
          5,
          4,
          4.2,
          3.6,
          3.7,
          4.5,
          4.8,
          4.6,
          4,
          4.6,
          4.1,
          4.9,
          4.8,
          4.6,
          4,
          4.5,
          4.7,
          4,
          4.7,
          4.4,
          4.5,
          4,
          3.8,
          4.8,
          4.4,
          4.5,
          4.4,
          4.8,
          4.5,
          5,
          4.5,
          5,
          4.6,
          4.9,
          4.5,
          3.9,
          4.5,
          4.3,
          4.5,
          3.7,
          5,
          4.9,
          3.7,
          3.8,
          4.4,
          4.5,
          5,
          4,
          4.3,
          4.1,
          4.1,
          4.3,
          4.4,
          4.8,
          4.3,
          4.6,
          4.6,
          4.3,
          4.2,
          3,
          4.1,
          4.5,
          3.7,
          4.1,
          4.5,
          4.3,
          4.6,
          4.3,
          4.4,
          4.5,
          4.1,
          4.8,
          4,
          3.3,
          4.1,
          4.7,
          4.1,
          4.4,
          4,
          4.8,
          4.1,
          3.7,
          4.7,
          3.8,
          3.7
         ],
         "x0": " ",
         "xaxis": "x",
         "y": [
          16,
          16,
          16,
          16,
          16,
          16,
          16,
          16,
          16,
          16,
          16,
          16,
          16,
          16,
          16,
          16,
          16,
          16,
          16,
          16,
          16,
          16,
          16,
          16,
          16,
          16,
          16,
          16,
          16,
          16,
          16,
          16,
          16,
          16,
          16,
          16,
          16,
          16,
          16,
          16,
          16,
          16,
          16,
          16,
          16,
          16,
          16,
          16,
          16,
          16,
          16,
          16,
          16,
          16,
          16,
          16,
          16,
          16,
          16,
          16,
          16,
          16,
          16,
          16,
          16,
          16,
          16,
          16,
          16,
          16,
          16,
          16,
          16,
          16,
          16,
          16,
          16,
          16,
          16,
          16,
          16,
          16,
          16,
          16,
          16,
          16,
          16,
          16,
          16,
          16,
          16,
          16,
          16,
          16,
          16,
          16,
          16,
          16,
          16,
          16,
          16,
          16,
          16,
          16,
          16,
          16,
          16,
          16,
          16,
          16,
          16,
          16,
          16,
          16,
          16,
          16,
          16,
          16,
          16,
          16,
          16,
          16,
          16,
          16,
          16,
          16,
          16,
          16,
          16,
          16,
          16,
          16,
          16,
          16,
          16,
          16,
          16,
          16,
          16,
          16,
          16,
          16,
          16,
          16,
          16,
          16,
          16,
          16,
          16,
          16,
          16,
          16,
          16,
          16,
          16,
          16,
          16,
          16,
          16,
          16,
          16,
          16,
          16,
          16,
          16,
          16,
          16,
          16,
          16,
          16,
          16,
          16,
          16
         ],
         "y0": " ",
         "yaxis": "y"
        },
        {
         "alignmentgroup": "True",
         "hovertemplate": "ram (GB)=%{y}<br>rating=%{x}<extra></extra>",
         "legendgroup": "8",
         "marker": {
          "color": "rgb(177, 199, 179)"
         },
         "name": "8",
         "notched": false,
         "offsetgroup": "8",
         "orientation": "h",
         "showlegend": true,
         "type": "box",
         "x": [
          4.4,
          4.4,
          4.3,
          4.7,
          4,
          4.1,
          4.2,
          4.1,
          4.1,
          4.4,
          4.2,
          4.4,
          4.7,
          4.2,
          4.3,
          4.2,
          4.2,
          4.4,
          4,
          4.3,
          4.2,
          4.4,
          4.3,
          4.2,
          4.3,
          4.2,
          4.5,
          4.2,
          4.4,
          4.2,
          4.2,
          4.2,
          4.3,
          4.3,
          4.2,
          4.5,
          5,
          3.8,
          4.4,
          4.7,
          4.5,
          4.3,
          3.9,
          3.6,
          4.3,
          4,
          4.2,
          4.5,
          4.2,
          4.3,
          4.5,
          4.3,
          4,
          4.5,
          4.3,
          4.8,
          4.7,
          4.2,
          4.6,
          4.5,
          4.1,
          4.3,
          4.4,
          4.2,
          4.3,
          4.2,
          3.1,
          3.9,
          4,
          4.4,
          4.5,
          4.3,
          3.9,
          4.3,
          4.3,
          4.4,
          4.1,
          4.3,
          4.3,
          4.6,
          4.4,
          4.5,
          4,
          4.1,
          4,
          4.4,
          4.2,
          3.8,
          4.7,
          4.5,
          4.2,
          4.2,
          4.1,
          4.5,
          4.4,
          4.2,
          4.7,
          4.4,
          4.2,
          4.3,
          4.5,
          4.4,
          4.4,
          4.5,
          4.7,
          4.4,
          4.2,
          4.2,
          4.4,
          3.8,
          4.8,
          4.5,
          3.8,
          5,
          4.6,
          4.6,
          4.1,
          4.5,
          4.2,
          4.7,
          4.6,
          4.3,
          4.5,
          4.7,
          4.3,
          4.6,
          4.1,
          4.6,
          3.7,
          4.5,
          4.3,
          4.5,
          4,
          4.1,
          4.4,
          4,
          3.9,
          4.4,
          4.1,
          3.7,
          4.2,
          4.4,
          4.3,
          4.7,
          3.6,
          4.3,
          4.6,
          4.1,
          4,
          4.3,
          4.7,
          4.2,
          3.7,
          4.4,
          4.4,
          3.8,
          4.3,
          4.4,
          4.1,
          3.9,
          4.6,
          4.1,
          4.5,
          4.4,
          4,
          4.3,
          4.3,
          4.2,
          4.4,
          4.1,
          4.2,
          5,
          4.5,
          4.2,
          4.7,
          4.4,
          4.3,
          3.7,
          4.3,
          4,
          4.5,
          4.4,
          4.3,
          4.3,
          5,
          4.2,
          4.4,
          4,
          3,
          4.1,
          4.8,
          3.9,
          3.9,
          4,
          4,
          4.4,
          4.3,
          4.3,
          4.1,
          4.3,
          4.4,
          4.5,
          4.2,
          4.3,
          4.3,
          4.4,
          4.1,
          4.3,
          4.4,
          4.3,
          4.4,
          4.5,
          4.5,
          3.9,
          4.4,
          4.4,
          4.2,
          3.9,
          4.3,
          4.1,
          4.5,
          4.3,
          4.5,
          4.4,
          3.7,
          4.2,
          3.6,
          4.4,
          4.3,
          4.3,
          4.3,
          4.5,
          4.2,
          3.9,
          4.4,
          3.7,
          4.3,
          4.5,
          4.6,
          4.4,
          4.8,
          4.1,
          4,
          4,
          3.5,
          3.3,
          4.4,
          4.1,
          3.5,
          4.2,
          4,
          4.2,
          4.5,
          4.5,
          3.8,
          3.7,
          3.8,
          4.5,
          3.5,
          4,
          4.3,
          4.4,
          3.6,
          4,
          4,
          1.6,
          4.4,
          4.2,
          4.1,
          4.2,
          3.3,
          4.4,
          3.8,
          4.5,
          4,
          3.8,
          4.6,
          4.4,
          4,
          4.3,
          4.5,
          4,
          4.7,
          4.3,
          4,
          4.2,
          5,
          4.4,
          4.3,
          4.4,
          4,
          4.4,
          4.1,
          4,
          3.8,
          4,
          3.6,
          4,
          4.5,
          4
         ],
         "x0": " ",
         "xaxis": "x",
         "y": [
          8,
          8,
          8,
          8,
          8,
          8,
          8,
          8,
          8,
          8,
          8,
          8,
          8,
          8,
          8,
          8,
          8,
          8,
          8,
          8,
          8,
          8,
          8,
          8,
          8,
          8,
          8,
          8,
          8,
          8,
          8,
          8,
          8,
          8,
          8,
          8,
          8,
          8,
          8,
          8,
          8,
          8,
          8,
          8,
          8,
          8,
          8,
          8,
          8,
          8,
          8,
          8,
          8,
          8,
          8,
          8,
          8,
          8,
          8,
          8,
          8,
          8,
          8,
          8,
          8,
          8,
          8,
          8,
          8,
          8,
          8,
          8,
          8,
          8,
          8,
          8,
          8,
          8,
          8,
          8,
          8,
          8,
          8,
          8,
          8,
          8,
          8,
          8,
          8,
          8,
          8,
          8,
          8,
          8,
          8,
          8,
          8,
          8,
          8,
          8,
          8,
          8,
          8,
          8,
          8,
          8,
          8,
          8,
          8,
          8,
          8,
          8,
          8,
          8,
          8,
          8,
          8,
          8,
          8,
          8,
          8,
          8,
          8,
          8,
          8,
          8,
          8,
          8,
          8,
          8,
          8,
          8,
          8,
          8,
          8,
          8,
          8,
          8,
          8,
          8,
          8,
          8,
          8,
          8,
          8,
          8,
          8,
          8,
          8,
          8,
          8,
          8,
          8,
          8,
          8,
          8,
          8,
          8,
          8,
          8,
          8,
          8,
          8,
          8,
          8,
          8,
          8,
          8,
          8,
          8,
          8,
          8,
          8,
          8,
          8,
          8,
          8,
          8,
          8,
          8,
          8,
          8,
          8,
          8,
          8,
          8,
          8,
          8,
          8,
          8,
          8,
          8,
          8,
          8,
          8,
          8,
          8,
          8,
          8,
          8,
          8,
          8,
          8,
          8,
          8,
          8,
          8,
          8,
          8,
          8,
          8,
          8,
          8,
          8,
          8,
          8,
          8,
          8,
          8,
          8,
          8,
          8,
          8,
          8,
          8,
          8,
          8,
          8,
          8,
          8,
          8,
          8,
          8,
          8,
          8,
          8,
          8,
          8,
          8,
          8,
          8,
          8,
          8,
          8,
          8,
          8,
          8,
          8,
          8,
          8,
          8,
          8,
          8,
          8,
          8,
          8,
          8,
          8,
          8,
          8,
          8,
          8,
          8,
          8,
          8,
          8,
          8,
          8,
          8,
          8,
          8,
          8,
          8,
          8,
          8,
          8,
          8,
          8,
          8,
          8,
          8,
          8,
          8,
          8,
          8,
          8,
          8,
          8,
          8,
          8,
          8,
          8,
          8,
          8,
          8,
          8,
          8,
          8,
          8,
          8
         ],
         "y0": " ",
         "yaxis": "y"
        },
        {
         "alignmentgroup": "True",
         "hovertemplate": "ram (GB)=%{y}<br>rating=%{x}<extra></extra>",
         "legendgroup": "4",
         "marker": {
          "color": "rgb(229, 185, 173)"
         },
         "name": "4",
         "notched": false,
         "offsetgroup": "4",
         "orientation": "h",
         "showlegend": true,
         "type": "box",
         "x": [
          3.8,
          4.1,
          4.2,
          4.1,
          3.7,
          4,
          4.1,
          4.2,
          4.2,
          3.7,
          3.9,
          3.6,
          4.2,
          3.7,
          4.2,
          4.2,
          3.8,
          4.2,
          4.2,
          3.6,
          4,
          4.5,
          4.1,
          3.9,
          4.1,
          4.2,
          4,
          4.3,
          3.8,
          4.1,
          4,
          3.5,
          5,
          4.3,
          4.3,
          4.1,
          4.1,
          4,
          4.1,
          4,
          3.6,
          4.2,
          4.4,
          3.8,
          3.9,
          4.5,
          3.9,
          4,
          3.5,
          3.8,
          3.8
         ],
         "x0": " ",
         "xaxis": "x",
         "y": [
          4,
          4,
          4,
          4,
          4,
          4,
          4,
          4,
          4,
          4,
          4,
          4,
          4,
          4,
          4,
          4,
          4,
          4,
          4,
          4,
          4,
          4,
          4,
          4,
          4,
          4,
          4,
          4,
          4,
          4,
          4,
          4,
          4,
          4,
          4,
          4,
          4,
          4,
          4,
          4,
          4,
          4,
          4,
          4,
          4,
          4,
          4,
          4,
          4,
          4,
          4
         ],
         "y0": " ",
         "yaxis": "y"
        },
        {
         "alignmentgroup": "True",
         "hovertemplate": "ram (GB)=%{y}<br>rating=%{x}<extra></extra>",
         "legendgroup": "32",
         "marker": {
          "color": "rgb(208, 88, 126)"
         },
         "name": "32",
         "notched": false,
         "offsetgroup": "32",
         "orientation": "h",
         "showlegend": true,
         "type": "box",
         "x": [
          4.7,
          4.3,
          5,
          4.6,
          4.6,
          4.4,
          4.8
         ],
         "x0": " ",
         "xaxis": "x",
         "y": [
          32,
          32,
          32,
          32,
          32,
          32,
          32
         ],
         "y0": " ",
         "yaxis": "y"
        }
       ],
       "layout": {
        "boxmode": "overlay",
        "legend": {
         "title": {
          "text": "ram (GB)"
         },
         "tracegroupgap": 0
        },
        "template": {
         "data": {
          "bar": [
           {
            "error_x": {
             "color": "#2a3f5f"
            },
            "error_y": {
             "color": "#2a3f5f"
            },
            "marker": {
             "line": {
              "color": "#E5ECF6",
              "width": 0.5
             },
             "pattern": {
              "fillmode": "overlay",
              "size": 10,
              "solidity": 0.2
             }
            },
            "type": "bar"
           }
          ],
          "barpolar": [
           {
            "marker": {
             "line": {
              "color": "#E5ECF6",
              "width": 0.5
             },
             "pattern": {
              "fillmode": "overlay",
              "size": 10,
              "solidity": 0.2
             }
            },
            "type": "barpolar"
           }
          ],
          "carpet": [
           {
            "aaxis": {
             "endlinecolor": "#2a3f5f",
             "gridcolor": "white",
             "linecolor": "white",
             "minorgridcolor": "white",
             "startlinecolor": "#2a3f5f"
            },
            "baxis": {
             "endlinecolor": "#2a3f5f",
             "gridcolor": "white",
             "linecolor": "white",
             "minorgridcolor": "white",
             "startlinecolor": "#2a3f5f"
            },
            "type": "carpet"
           }
          ],
          "choropleth": [
           {
            "colorbar": {
             "outlinewidth": 0,
             "ticks": ""
            },
            "type": "choropleth"
           }
          ],
          "contour": [
           {
            "colorbar": {
             "outlinewidth": 0,
             "ticks": ""
            },
            "colorscale": [
             [
              0,
              "#0d0887"
             ],
             [
              0.1111111111111111,
              "#46039f"
             ],
             [
              0.2222222222222222,
              "#7201a8"
             ],
             [
              0.3333333333333333,
              "#9c179e"
             ],
             [
              0.4444444444444444,
              "#bd3786"
             ],
             [
              0.5555555555555556,
              "#d8576b"
             ],
             [
              0.6666666666666666,
              "#ed7953"
             ],
             [
              0.7777777777777778,
              "#fb9f3a"
             ],
             [
              0.8888888888888888,
              "#fdca26"
             ],
             [
              1,
              "#f0f921"
             ]
            ],
            "type": "contour"
           }
          ],
          "contourcarpet": [
           {
            "colorbar": {
             "outlinewidth": 0,
             "ticks": ""
            },
            "type": "contourcarpet"
           }
          ],
          "heatmap": [
           {
            "colorbar": {
             "outlinewidth": 0,
             "ticks": ""
            },
            "colorscale": [
             [
              0,
              "#0d0887"
             ],
             [
              0.1111111111111111,
              "#46039f"
             ],
             [
              0.2222222222222222,
              "#7201a8"
             ],
             [
              0.3333333333333333,
              "#9c179e"
             ],
             [
              0.4444444444444444,
              "#bd3786"
             ],
             [
              0.5555555555555556,
              "#d8576b"
             ],
             [
              0.6666666666666666,
              "#ed7953"
             ],
             [
              0.7777777777777778,
              "#fb9f3a"
             ],
             [
              0.8888888888888888,
              "#fdca26"
             ],
             [
              1,
              "#f0f921"
             ]
            ],
            "type": "heatmap"
           }
          ],
          "heatmapgl": [
           {
            "colorbar": {
             "outlinewidth": 0,
             "ticks": ""
            },
            "colorscale": [
             [
              0,
              "#0d0887"
             ],
             [
              0.1111111111111111,
              "#46039f"
             ],
             [
              0.2222222222222222,
              "#7201a8"
             ],
             [
              0.3333333333333333,
              "#9c179e"
             ],
             [
              0.4444444444444444,
              "#bd3786"
             ],
             [
              0.5555555555555556,
              "#d8576b"
             ],
             [
              0.6666666666666666,
              "#ed7953"
             ],
             [
              0.7777777777777778,
              "#fb9f3a"
             ],
             [
              0.8888888888888888,
              "#fdca26"
             ],
             [
              1,
              "#f0f921"
             ]
            ],
            "type": "heatmapgl"
           }
          ],
          "histogram": [
           {
            "marker": {
             "pattern": {
              "fillmode": "overlay",
              "size": 10,
              "solidity": 0.2
             }
            },
            "type": "histogram"
           }
          ],
          "histogram2d": [
           {
            "colorbar": {
             "outlinewidth": 0,
             "ticks": ""
            },
            "colorscale": [
             [
              0,
              "#0d0887"
             ],
             [
              0.1111111111111111,
              "#46039f"
             ],
             [
              0.2222222222222222,
              "#7201a8"
             ],
             [
              0.3333333333333333,
              "#9c179e"
             ],
             [
              0.4444444444444444,
              "#bd3786"
             ],
             [
              0.5555555555555556,
              "#d8576b"
             ],
             [
              0.6666666666666666,
              "#ed7953"
             ],
             [
              0.7777777777777778,
              "#fb9f3a"
             ],
             [
              0.8888888888888888,
              "#fdca26"
             ],
             [
              1,
              "#f0f921"
             ]
            ],
            "type": "histogram2d"
           }
          ],
          "histogram2dcontour": [
           {
            "colorbar": {
             "outlinewidth": 0,
             "ticks": ""
            },
            "colorscale": [
             [
              0,
              "#0d0887"
             ],
             [
              0.1111111111111111,
              "#46039f"
             ],
             [
              0.2222222222222222,
              "#7201a8"
             ],
             [
              0.3333333333333333,
              "#9c179e"
             ],
             [
              0.4444444444444444,
              "#bd3786"
             ],
             [
              0.5555555555555556,
              "#d8576b"
             ],
             [
              0.6666666666666666,
              "#ed7953"
             ],
             [
              0.7777777777777778,
              "#fb9f3a"
             ],
             [
              0.8888888888888888,
              "#fdca26"
             ],
             [
              1,
              "#f0f921"
             ]
            ],
            "type": "histogram2dcontour"
           }
          ],
          "mesh3d": [
           {
            "colorbar": {
             "outlinewidth": 0,
             "ticks": ""
            },
            "type": "mesh3d"
           }
          ],
          "parcoords": [
           {
            "line": {
             "colorbar": {
              "outlinewidth": 0,
              "ticks": ""
             }
            },
            "type": "parcoords"
           }
          ],
          "pie": [
           {
            "automargin": true,
            "type": "pie"
           }
          ],
          "scatter": [
           {
            "fillpattern": {
             "fillmode": "overlay",
             "size": 10,
             "solidity": 0.2
            },
            "type": "scatter"
           }
          ],
          "scatter3d": [
           {
            "line": {
             "colorbar": {
              "outlinewidth": 0,
              "ticks": ""
             }
            },
            "marker": {
             "colorbar": {
              "outlinewidth": 0,
              "ticks": ""
             }
            },
            "type": "scatter3d"
           }
          ],
          "scattercarpet": [
           {
            "marker": {
             "colorbar": {
              "outlinewidth": 0,
              "ticks": ""
             }
            },
            "type": "scattercarpet"
           }
          ],
          "scattergeo": [
           {
            "marker": {
             "colorbar": {
              "outlinewidth": 0,
              "ticks": ""
             }
            },
            "type": "scattergeo"
           }
          ],
          "scattergl": [
           {
            "marker": {
             "colorbar": {
              "outlinewidth": 0,
              "ticks": ""
             }
            },
            "type": "scattergl"
           }
          ],
          "scattermapbox": [
           {
            "marker": {
             "colorbar": {
              "outlinewidth": 0,
              "ticks": ""
             }
            },
            "type": "scattermapbox"
           }
          ],
          "scatterpolar": [
           {
            "marker": {
             "colorbar": {
              "outlinewidth": 0,
              "ticks": ""
             }
            },
            "type": "scatterpolar"
           }
          ],
          "scatterpolargl": [
           {
            "marker": {
             "colorbar": {
              "outlinewidth": 0,
              "ticks": ""
             }
            },
            "type": "scatterpolargl"
           }
          ],
          "scatterternary": [
           {
            "marker": {
             "colorbar": {
              "outlinewidth": 0,
              "ticks": ""
             }
            },
            "type": "scatterternary"
           }
          ],
          "surface": [
           {
            "colorbar": {
             "outlinewidth": 0,
             "ticks": ""
            },
            "colorscale": [
             [
              0,
              "#0d0887"
             ],
             [
              0.1111111111111111,
              "#46039f"
             ],
             [
              0.2222222222222222,
              "#7201a8"
             ],
             [
              0.3333333333333333,
              "#9c179e"
             ],
             [
              0.4444444444444444,
              "#bd3786"
             ],
             [
              0.5555555555555556,
              "#d8576b"
             ],
             [
              0.6666666666666666,
              "#ed7953"
             ],
             [
              0.7777777777777778,
              "#fb9f3a"
             ],
             [
              0.8888888888888888,
              "#fdca26"
             ],
             [
              1,
              "#f0f921"
             ]
            ],
            "type": "surface"
           }
          ],
          "table": [
           {
            "cells": {
             "fill": {
              "color": "#EBF0F8"
             },
             "line": {
              "color": "white"
             }
            },
            "header": {
             "fill": {
              "color": "#C8D4E3"
             },
             "line": {
              "color": "white"
             }
            },
            "type": "table"
           }
          ]
         },
         "layout": {
          "annotationdefaults": {
           "arrowcolor": "#2a3f5f",
           "arrowhead": 0,
           "arrowwidth": 1
          },
          "autotypenumbers": "strict",
          "coloraxis": {
           "colorbar": {
            "outlinewidth": 0,
            "ticks": ""
           }
          },
          "colorscale": {
           "diverging": [
            [
             0,
             "#8e0152"
            ],
            [
             0.1,
             "#c51b7d"
            ],
            [
             0.2,
             "#de77ae"
            ],
            [
             0.3,
             "#f1b6da"
            ],
            [
             0.4,
             "#fde0ef"
            ],
            [
             0.5,
             "#f7f7f7"
            ],
            [
             0.6,
             "#e6f5d0"
            ],
            [
             0.7,
             "#b8e186"
            ],
            [
             0.8,
             "#7fbc41"
            ],
            [
             0.9,
             "#4d9221"
            ],
            [
             1,
             "#276419"
            ]
           ],
           "sequential": [
            [
             0,
             "#0d0887"
            ],
            [
             0.1111111111111111,
             "#46039f"
            ],
            [
             0.2222222222222222,
             "#7201a8"
            ],
            [
             0.3333333333333333,
             "#9c179e"
            ],
            [
             0.4444444444444444,
             "#bd3786"
            ],
            [
             0.5555555555555556,
             "#d8576b"
            ],
            [
             0.6666666666666666,
             "#ed7953"
            ],
            [
             0.7777777777777778,
             "#fb9f3a"
            ],
            [
             0.8888888888888888,
             "#fdca26"
            ],
            [
             1,
             "#f0f921"
            ]
           ],
           "sequentialminus": [
            [
             0,
             "#0d0887"
            ],
            [
             0.1111111111111111,
             "#46039f"
            ],
            [
             0.2222222222222222,
             "#7201a8"
            ],
            [
             0.3333333333333333,
             "#9c179e"
            ],
            [
             0.4444444444444444,
             "#bd3786"
            ],
            [
             0.5555555555555556,
             "#d8576b"
            ],
            [
             0.6666666666666666,
             "#ed7953"
            ],
            [
             0.7777777777777778,
             "#fb9f3a"
            ],
            [
             0.8888888888888888,
             "#fdca26"
            ],
            [
             1,
             "#f0f921"
            ]
           ]
          },
          "colorway": [
           "#636efa",
           "#EF553B",
           "#00cc96",
           "#ab63fa",
           "#FFA15A",
           "#19d3f3",
           "#FF6692",
           "#B6E880",
           "#FF97FF",
           "#FECB52"
          ],
          "font": {
           "color": "#2a3f5f"
          },
          "geo": {
           "bgcolor": "white",
           "lakecolor": "white",
           "landcolor": "#E5ECF6",
           "showlakes": true,
           "showland": true,
           "subunitcolor": "white"
          },
          "hoverlabel": {
           "align": "left"
          },
          "hovermode": "closest",
          "mapbox": {
           "style": "light"
          },
          "paper_bgcolor": "white",
          "plot_bgcolor": "#E5ECF6",
          "polar": {
           "angularaxis": {
            "gridcolor": "white",
            "linecolor": "white",
            "ticks": ""
           },
           "bgcolor": "#E5ECF6",
           "radialaxis": {
            "gridcolor": "white",
            "linecolor": "white",
            "ticks": ""
           }
          },
          "scene": {
           "xaxis": {
            "backgroundcolor": "#E5ECF6",
            "gridcolor": "white",
            "gridwidth": 2,
            "linecolor": "white",
            "showbackground": true,
            "ticks": "",
            "zerolinecolor": "white"
           },
           "yaxis": {
            "backgroundcolor": "#E5ECF6",
            "gridcolor": "white",
            "gridwidth": 2,
            "linecolor": "white",
            "showbackground": true,
            "ticks": "",
            "zerolinecolor": "white"
           },
           "zaxis": {
            "backgroundcolor": "#E5ECF6",
            "gridcolor": "white",
            "gridwidth": 2,
            "linecolor": "white",
            "showbackground": true,
            "ticks": "",
            "zerolinecolor": "white"
           }
          },
          "shapedefaults": {
           "line": {
            "color": "#2a3f5f"
           }
          },
          "ternary": {
           "aaxis": {
            "gridcolor": "white",
            "linecolor": "white",
            "ticks": ""
           },
           "baxis": {
            "gridcolor": "white",
            "linecolor": "white",
            "ticks": ""
           },
           "bgcolor": "#E5ECF6",
           "caxis": {
            "gridcolor": "white",
            "linecolor": "white",
            "ticks": ""
           }
          },
          "title": {
           "x": 0.05
          },
          "xaxis": {
           "automargin": true,
           "gridcolor": "white",
           "linecolor": "white",
           "ticks": "",
           "title": {
            "standoff": 15
           },
           "zerolinecolor": "white",
           "zerolinewidth": 2
          },
          "yaxis": {
           "automargin": true,
           "gridcolor": "white",
           "linecolor": "white",
           "ticks": "",
           "title": {
            "standoff": 15
           },
           "zerolinecolor": "white",
           "zerolinewidth": 2
          }
         }
        },
        "title": {
         "text": "Зависимость рейтинга от объема оперативной памяти"
        },
        "xaxis": {
         "anchor": "y",
         "domain": [
          0,
          1
         ],
         "title": {
          "text": "rating"
         }
        },
        "yaxis": {
         "anchor": "x",
         "categoryarray": [
          32,
          4,
          8,
          16
         ],
         "categoryorder": "array",
         "domain": [
          0,
          1
         ],
         "title": {
          "text": "ram (GB)"
         }
        }
       }
      }
     },
     "metadata": {},
     "output_type": "display_data"
    }
   ],
   "source": [
    "# гистограмма распределения ram\n",
    "hist = px.histogram(\n",
    "    data_cleaned,\n",
    "    x='ram (GB)',\n",
    "    color_discrete_sequence=px.colors.diverging.Tealrose,\n",
    "    title=f'Распределение переменной объем оперативной памяти'\n",
    ")\n",
    "hist.show()\n",
    "hist.write_html(\"plotly/ram.html\")\n",
    "\n",
    "# взамисвязь рейтинга с объемом памяти\n",
    "box = px.box(\n",
    "    data_frame=data_cleaned,\n",
    "    x='rating',\n",
    "    y='ram (GB)',\n",
    "    color='ram (GB)',\n",
    "    orientation='h',\n",
    "    color_discrete_sequence=px.colors.diverging.Tealrose[::2],\n",
    "    title='Зависимость рейтинга от объема оперативной памяти'\n",
    ")\n",
    "box.show()\n",
    "box.write_html(\"plotly/box_rating_ram.html\")"
   ]
  },
  {
   "cell_type": "markdown",
   "metadata": {},
   "source": [
    "Между рейтингом и объемом оперативной пямяти слабая положительная связь. Наибольшая медиана наблюдается для оперативной пямяти 32 Гб, однако в данных только 7 таких экземляров, поэтому надежнее опираться на более многочисленную выборку и вторую по медианному значению рейтинга - **16 Гб**."
   ]
  },
  {
   "cell_type": "markdown",
   "metadata": {},
   "source": [
    "Попробуем выявить связь рейтинга и размера экрана."
   ]
  },
  {
   "cell_type": "code",
   "execution_count": 23,
   "metadata": {},
   "outputs": [
    {
     "data": {
      "application/vnd.plotly.v1+json": {
       "config": {
        "plotlyServerURL": "https://plot.ly"
       },
       "data": [
        {
         "alignmentgroup": "True",
         "bingroup": "x",
         "hovertemplate": "display(in inch)=%{x}<br>count=%{y}<extra></extra>",
         "legendgroup": "",
         "marker": {
          "color": "rgb(0, 147, 146)",
          "pattern": {
           "shape": ""
          }
         },
         "name": "",
         "offsetgroup": "",
         "orientation": "v",
         "showlegend": false,
         "type": "histogram",
         "x": [
          15.6,
          15.6,
          15.6,
          15.6,
          14,
          13.3,
          14,
          15.6,
          15.6,
          15.6,
          14,
          15.6,
          15.6,
          15.6,
          14,
          14,
          15.6,
          15.6,
          14,
          13.3,
          15.6,
          15.6,
          15.6,
          14,
          14,
          14,
          15.6,
          14,
          15.6,
          15.6,
          15.6,
          15.6,
          15.6,
          15.6,
          15.6,
          14,
          14,
          14,
          15.6,
          14,
          17.3,
          14,
          15.6,
          14,
          15.6,
          14,
          15.6,
          15.6,
          14,
          15.6,
          14,
          15.6,
          15.6,
          14,
          15.6,
          15.6,
          13.3,
          15.6,
          15.6,
          15.6,
          14,
          15.6,
          11.6,
          14,
          16,
          14,
          14,
          14,
          14,
          15.6,
          15.6,
          15.6,
          14,
          15.6,
          15.6,
          15.6,
          15.6,
          16.1,
          15.6,
          15.6,
          13.6,
          13.6,
          13.6,
          14,
          15.6,
          14,
          14,
          13.4,
          14,
          17.3,
          15.6,
          13.3,
          15.6,
          15.6,
          15.6,
          15.6,
          15.6,
          14,
          14,
          14,
          14,
          14,
          15.6,
          15.6,
          15.6,
          15.6,
          14,
          15.6,
          13.3,
          15.6,
          15.6,
          15.6,
          16.2,
          15.6,
          15.6,
          15.6,
          15.6,
          15.6,
          14,
          15.6,
          15.6,
          15.6,
          15.6,
          14,
          15.6,
          14,
          15.6,
          15.6,
          14,
          15.6,
          15.6,
          14,
          15.6,
          15.6,
          14,
          14.2,
          15.6,
          14,
          15.6,
          13.3,
          15.6,
          15.6,
          15.6,
          14,
          15.6,
          13.3,
          15.6,
          15.6,
          15.6,
          14,
          15.6,
          15.6,
          13.3,
          14,
          15.6,
          15.6,
          15.6,
          14,
          15.6,
          15.6,
          13.3,
          14,
          15.6,
          15.6,
          15.6,
          14,
          15.6,
          13.3,
          15.6,
          15.6,
          14,
          15.6,
          15.6,
          15.6,
          15.6,
          15.6,
          13.3,
          15.6,
          15.6,
          15.6,
          15.6,
          14,
          14,
          15.6,
          16.2,
          15.6,
          15.6,
          15.6,
          15.6,
          15.6,
          15.6,
          15.6,
          16.1,
          15.6,
          14,
          15.6,
          15.6,
          14,
          15.6,
          16,
          13.6,
          14,
          15.6,
          13.3,
          15.6,
          15.6,
          16.1,
          15.6,
          15.6,
          13.3,
          15.6,
          15.6,
          15.6,
          14,
          15.6,
          15.6,
          15.6,
          15.6,
          17.3,
          15.6,
          15.6,
          14,
          15.6,
          17.3,
          16,
          14,
          13.3,
          14,
          15.6,
          14,
          17.3,
          14,
          14,
          15.6,
          15.6,
          15.6,
          16.2,
          13.3,
          15.6,
          16,
          15.6,
          14,
          15.6,
          14,
          15.6,
          13.3,
          15.6,
          15.6,
          15.6,
          14.1,
          15.6,
          15.6,
          14,
          15.6,
          16,
          15.6,
          15.6,
          13.3,
          15.6,
          14.2,
          15.6,
          15.6,
          14,
          15.6,
          15.6,
          15.6,
          15.6,
          15.6,
          15.6,
          15.6,
          15.6,
          15.6,
          14,
          14,
          14,
          14.96,
          15.6,
          16.2,
          15.6,
          15.6,
          15.6,
          15.6,
          15.6,
          15.6,
          15.6,
          15.6,
          14,
          15.6,
          15.6,
          15.6,
          16,
          15.6,
          15.6,
          14,
          11.6,
          13.3,
          15.6,
          15.6,
          11.6,
          15.6,
          15.6,
          14,
          13.3,
          14,
          15.6,
          14,
          14,
          11.6,
          15.6,
          14,
          14,
          15.6,
          15.6,
          15.6,
          14.96,
          15.6,
          15.6,
          15.6,
          15.6,
          15.6,
          15.6,
          15.6,
          15.6,
          15.6,
          15.6,
          15.6,
          14,
          13.3,
          15.6,
          14,
          15.6,
          15.6,
          15.6,
          14,
          15.6,
          15.6,
          15.6,
          14,
          35,
          15.6,
          15.6,
          15.6,
          15.6,
          14,
          13.3,
          15.6,
          16.6,
          15.6,
          14.96,
          14,
          14,
          15.6,
          14,
          15,
          15.6,
          15.6,
          15.6,
          13.3,
          15.6,
          14,
          15.6,
          15.6,
          14,
          15.6,
          15.6,
          15.6,
          15.6,
          15.6,
          15.6,
          15.6,
          14,
          13.3,
          13.4,
          15.6,
          14.1,
          14,
          16.1,
          14,
          15.6,
          14,
          14,
          14,
          15.6,
          15.6,
          15.6,
          14,
          15.6,
          15.6,
          15.6,
          15.6,
          14,
          15.6,
          15.6,
          14,
          15.6,
          13.3,
          15.6,
          15.6,
          14.1,
          15.6,
          15.6,
          15.6,
          14,
          14,
          14,
          15.6,
          15.6,
          15.6,
          13.3,
          17.3,
          15.6,
          15.6,
          15.6,
          15.6,
          15.6,
          14,
          15.6,
          15.6,
          14,
          15.6,
          15.6,
          15.6,
          14,
          15.6,
          16.1,
          15.6,
          14.1,
          15.6,
          15.6,
          14,
          15.6,
          14,
          17.3,
          15.6,
          15.6,
          14,
          14,
          13.3,
          15.6,
          15.6,
          13.3,
          15.6,
          17.3,
          15.6,
          15.6,
          15.6,
          13.3,
          15.6,
          15.6,
          17.3,
          16.1,
          13.3,
          15.6,
          15.6,
          15.6,
          15.6,
          15,
          15.6,
          11.6,
          15.6,
          16,
          15.6,
          11.6,
          14,
          15.6,
          15.6,
          14,
          35,
          15.6,
          15.6,
          15.6,
          14,
          15.6,
          15.6,
          14,
          14,
          15.6,
          15.6,
          15.6,
          15.6,
          15.6,
          13.3,
          15.6,
          14,
          15.6,
          15.6,
          15.6,
          15.6,
          14,
          15.6,
          14,
          15.6,
          15.6,
          14,
          15.6,
          14.96,
          15.6,
          15.6,
          14,
          15.6,
          15.6,
          14,
          11.6,
          15.6,
          15.6,
          15.6,
          15.6,
          14,
          15.6,
          15.6,
          13.3,
          15.6,
          15.6,
          14,
          14,
          15.6,
          14,
          15.6,
          15.6,
          14,
          11.6,
          15.6,
          15.6,
          15.6,
          14,
          14,
          14,
          15.6,
          11.6,
          14,
          15.6
         ],
         "xaxis": "x",
         "yaxis": "y"
        }
       ],
       "layout": {
        "barmode": "relative",
        "legend": {
         "tracegroupgap": 0
        },
        "template": {
         "data": {
          "bar": [
           {
            "error_x": {
             "color": "#2a3f5f"
            },
            "error_y": {
             "color": "#2a3f5f"
            },
            "marker": {
             "line": {
              "color": "#E5ECF6",
              "width": 0.5
             },
             "pattern": {
              "fillmode": "overlay",
              "size": 10,
              "solidity": 0.2
             }
            },
            "type": "bar"
           }
          ],
          "barpolar": [
           {
            "marker": {
             "line": {
              "color": "#E5ECF6",
              "width": 0.5
             },
             "pattern": {
              "fillmode": "overlay",
              "size": 10,
              "solidity": 0.2
             }
            },
            "type": "barpolar"
           }
          ],
          "carpet": [
           {
            "aaxis": {
             "endlinecolor": "#2a3f5f",
             "gridcolor": "white",
             "linecolor": "white",
             "minorgridcolor": "white",
             "startlinecolor": "#2a3f5f"
            },
            "baxis": {
             "endlinecolor": "#2a3f5f",
             "gridcolor": "white",
             "linecolor": "white",
             "minorgridcolor": "white",
             "startlinecolor": "#2a3f5f"
            },
            "type": "carpet"
           }
          ],
          "choropleth": [
           {
            "colorbar": {
             "outlinewidth": 0,
             "ticks": ""
            },
            "type": "choropleth"
           }
          ],
          "contour": [
           {
            "colorbar": {
             "outlinewidth": 0,
             "ticks": ""
            },
            "colorscale": [
             [
              0,
              "#0d0887"
             ],
             [
              0.1111111111111111,
              "#46039f"
             ],
             [
              0.2222222222222222,
              "#7201a8"
             ],
             [
              0.3333333333333333,
              "#9c179e"
             ],
             [
              0.4444444444444444,
              "#bd3786"
             ],
             [
              0.5555555555555556,
              "#d8576b"
             ],
             [
              0.6666666666666666,
              "#ed7953"
             ],
             [
              0.7777777777777778,
              "#fb9f3a"
             ],
             [
              0.8888888888888888,
              "#fdca26"
             ],
             [
              1,
              "#f0f921"
             ]
            ],
            "type": "contour"
           }
          ],
          "contourcarpet": [
           {
            "colorbar": {
             "outlinewidth": 0,
             "ticks": ""
            },
            "type": "contourcarpet"
           }
          ],
          "heatmap": [
           {
            "colorbar": {
             "outlinewidth": 0,
             "ticks": ""
            },
            "colorscale": [
             [
              0,
              "#0d0887"
             ],
             [
              0.1111111111111111,
              "#46039f"
             ],
             [
              0.2222222222222222,
              "#7201a8"
             ],
             [
              0.3333333333333333,
              "#9c179e"
             ],
             [
              0.4444444444444444,
              "#bd3786"
             ],
             [
              0.5555555555555556,
              "#d8576b"
             ],
             [
              0.6666666666666666,
              "#ed7953"
             ],
             [
              0.7777777777777778,
              "#fb9f3a"
             ],
             [
              0.8888888888888888,
              "#fdca26"
             ],
             [
              1,
              "#f0f921"
             ]
            ],
            "type": "heatmap"
           }
          ],
          "heatmapgl": [
           {
            "colorbar": {
             "outlinewidth": 0,
             "ticks": ""
            },
            "colorscale": [
             [
              0,
              "#0d0887"
             ],
             [
              0.1111111111111111,
              "#46039f"
             ],
             [
              0.2222222222222222,
              "#7201a8"
             ],
             [
              0.3333333333333333,
              "#9c179e"
             ],
             [
              0.4444444444444444,
              "#bd3786"
             ],
             [
              0.5555555555555556,
              "#d8576b"
             ],
             [
              0.6666666666666666,
              "#ed7953"
             ],
             [
              0.7777777777777778,
              "#fb9f3a"
             ],
             [
              0.8888888888888888,
              "#fdca26"
             ],
             [
              1,
              "#f0f921"
             ]
            ],
            "type": "heatmapgl"
           }
          ],
          "histogram": [
           {
            "marker": {
             "pattern": {
              "fillmode": "overlay",
              "size": 10,
              "solidity": 0.2
             }
            },
            "type": "histogram"
           }
          ],
          "histogram2d": [
           {
            "colorbar": {
             "outlinewidth": 0,
             "ticks": ""
            },
            "colorscale": [
             [
              0,
              "#0d0887"
             ],
             [
              0.1111111111111111,
              "#46039f"
             ],
             [
              0.2222222222222222,
              "#7201a8"
             ],
             [
              0.3333333333333333,
              "#9c179e"
             ],
             [
              0.4444444444444444,
              "#bd3786"
             ],
             [
              0.5555555555555556,
              "#d8576b"
             ],
             [
              0.6666666666666666,
              "#ed7953"
             ],
             [
              0.7777777777777778,
              "#fb9f3a"
             ],
             [
              0.8888888888888888,
              "#fdca26"
             ],
             [
              1,
              "#f0f921"
             ]
            ],
            "type": "histogram2d"
           }
          ],
          "histogram2dcontour": [
           {
            "colorbar": {
             "outlinewidth": 0,
             "ticks": ""
            },
            "colorscale": [
             [
              0,
              "#0d0887"
             ],
             [
              0.1111111111111111,
              "#46039f"
             ],
             [
              0.2222222222222222,
              "#7201a8"
             ],
             [
              0.3333333333333333,
              "#9c179e"
             ],
             [
              0.4444444444444444,
              "#bd3786"
             ],
             [
              0.5555555555555556,
              "#d8576b"
             ],
             [
              0.6666666666666666,
              "#ed7953"
             ],
             [
              0.7777777777777778,
              "#fb9f3a"
             ],
             [
              0.8888888888888888,
              "#fdca26"
             ],
             [
              1,
              "#f0f921"
             ]
            ],
            "type": "histogram2dcontour"
           }
          ],
          "mesh3d": [
           {
            "colorbar": {
             "outlinewidth": 0,
             "ticks": ""
            },
            "type": "mesh3d"
           }
          ],
          "parcoords": [
           {
            "line": {
             "colorbar": {
              "outlinewidth": 0,
              "ticks": ""
             }
            },
            "type": "parcoords"
           }
          ],
          "pie": [
           {
            "automargin": true,
            "type": "pie"
           }
          ],
          "scatter": [
           {
            "fillpattern": {
             "fillmode": "overlay",
             "size": 10,
             "solidity": 0.2
            },
            "type": "scatter"
           }
          ],
          "scatter3d": [
           {
            "line": {
             "colorbar": {
              "outlinewidth": 0,
              "ticks": ""
             }
            },
            "marker": {
             "colorbar": {
              "outlinewidth": 0,
              "ticks": ""
             }
            },
            "type": "scatter3d"
           }
          ],
          "scattercarpet": [
           {
            "marker": {
             "colorbar": {
              "outlinewidth": 0,
              "ticks": ""
             }
            },
            "type": "scattercarpet"
           }
          ],
          "scattergeo": [
           {
            "marker": {
             "colorbar": {
              "outlinewidth": 0,
              "ticks": ""
             }
            },
            "type": "scattergeo"
           }
          ],
          "scattergl": [
           {
            "marker": {
             "colorbar": {
              "outlinewidth": 0,
              "ticks": ""
             }
            },
            "type": "scattergl"
           }
          ],
          "scattermapbox": [
           {
            "marker": {
             "colorbar": {
              "outlinewidth": 0,
              "ticks": ""
             }
            },
            "type": "scattermapbox"
           }
          ],
          "scatterpolar": [
           {
            "marker": {
             "colorbar": {
              "outlinewidth": 0,
              "ticks": ""
             }
            },
            "type": "scatterpolar"
           }
          ],
          "scatterpolargl": [
           {
            "marker": {
             "colorbar": {
              "outlinewidth": 0,
              "ticks": ""
             }
            },
            "type": "scatterpolargl"
           }
          ],
          "scatterternary": [
           {
            "marker": {
             "colorbar": {
              "outlinewidth": 0,
              "ticks": ""
             }
            },
            "type": "scatterternary"
           }
          ],
          "surface": [
           {
            "colorbar": {
             "outlinewidth": 0,
             "ticks": ""
            },
            "colorscale": [
             [
              0,
              "#0d0887"
             ],
             [
              0.1111111111111111,
              "#46039f"
             ],
             [
              0.2222222222222222,
              "#7201a8"
             ],
             [
              0.3333333333333333,
              "#9c179e"
             ],
             [
              0.4444444444444444,
              "#bd3786"
             ],
             [
              0.5555555555555556,
              "#d8576b"
             ],
             [
              0.6666666666666666,
              "#ed7953"
             ],
             [
              0.7777777777777778,
              "#fb9f3a"
             ],
             [
              0.8888888888888888,
              "#fdca26"
             ],
             [
              1,
              "#f0f921"
             ]
            ],
            "type": "surface"
           }
          ],
          "table": [
           {
            "cells": {
             "fill": {
              "color": "#EBF0F8"
             },
             "line": {
              "color": "white"
             }
            },
            "header": {
             "fill": {
              "color": "#C8D4E3"
             },
             "line": {
              "color": "white"
             }
            },
            "type": "table"
           }
          ]
         },
         "layout": {
          "annotationdefaults": {
           "arrowcolor": "#2a3f5f",
           "arrowhead": 0,
           "arrowwidth": 1
          },
          "autotypenumbers": "strict",
          "coloraxis": {
           "colorbar": {
            "outlinewidth": 0,
            "ticks": ""
           }
          },
          "colorscale": {
           "diverging": [
            [
             0,
             "#8e0152"
            ],
            [
             0.1,
             "#c51b7d"
            ],
            [
             0.2,
             "#de77ae"
            ],
            [
             0.3,
             "#f1b6da"
            ],
            [
             0.4,
             "#fde0ef"
            ],
            [
             0.5,
             "#f7f7f7"
            ],
            [
             0.6,
             "#e6f5d0"
            ],
            [
             0.7,
             "#b8e186"
            ],
            [
             0.8,
             "#7fbc41"
            ],
            [
             0.9,
             "#4d9221"
            ],
            [
             1,
             "#276419"
            ]
           ],
           "sequential": [
            [
             0,
             "#0d0887"
            ],
            [
             0.1111111111111111,
             "#46039f"
            ],
            [
             0.2222222222222222,
             "#7201a8"
            ],
            [
             0.3333333333333333,
             "#9c179e"
            ],
            [
             0.4444444444444444,
             "#bd3786"
            ],
            [
             0.5555555555555556,
             "#d8576b"
            ],
            [
             0.6666666666666666,
             "#ed7953"
            ],
            [
             0.7777777777777778,
             "#fb9f3a"
            ],
            [
             0.8888888888888888,
             "#fdca26"
            ],
            [
             1,
             "#f0f921"
            ]
           ],
           "sequentialminus": [
            [
             0,
             "#0d0887"
            ],
            [
             0.1111111111111111,
             "#46039f"
            ],
            [
             0.2222222222222222,
             "#7201a8"
            ],
            [
             0.3333333333333333,
             "#9c179e"
            ],
            [
             0.4444444444444444,
             "#bd3786"
            ],
            [
             0.5555555555555556,
             "#d8576b"
            ],
            [
             0.6666666666666666,
             "#ed7953"
            ],
            [
             0.7777777777777778,
             "#fb9f3a"
            ],
            [
             0.8888888888888888,
             "#fdca26"
            ],
            [
             1,
             "#f0f921"
            ]
           ]
          },
          "colorway": [
           "#636efa",
           "#EF553B",
           "#00cc96",
           "#ab63fa",
           "#FFA15A",
           "#19d3f3",
           "#FF6692",
           "#B6E880",
           "#FF97FF",
           "#FECB52"
          ],
          "font": {
           "color": "#2a3f5f"
          },
          "geo": {
           "bgcolor": "white",
           "lakecolor": "white",
           "landcolor": "#E5ECF6",
           "showlakes": true,
           "showland": true,
           "subunitcolor": "white"
          },
          "hoverlabel": {
           "align": "left"
          },
          "hovermode": "closest",
          "mapbox": {
           "style": "light"
          },
          "paper_bgcolor": "white",
          "plot_bgcolor": "#E5ECF6",
          "polar": {
           "angularaxis": {
            "gridcolor": "white",
            "linecolor": "white",
            "ticks": ""
           },
           "bgcolor": "#E5ECF6",
           "radialaxis": {
            "gridcolor": "white",
            "linecolor": "white",
            "ticks": ""
           }
          },
          "scene": {
           "xaxis": {
            "backgroundcolor": "#E5ECF6",
            "gridcolor": "white",
            "gridwidth": 2,
            "linecolor": "white",
            "showbackground": true,
            "ticks": "",
            "zerolinecolor": "white"
           },
           "yaxis": {
            "backgroundcolor": "#E5ECF6",
            "gridcolor": "white",
            "gridwidth": 2,
            "linecolor": "white",
            "showbackground": true,
            "ticks": "",
            "zerolinecolor": "white"
           },
           "zaxis": {
            "backgroundcolor": "#E5ECF6",
            "gridcolor": "white",
            "gridwidth": 2,
            "linecolor": "white",
            "showbackground": true,
            "ticks": "",
            "zerolinecolor": "white"
           }
          },
          "shapedefaults": {
           "line": {
            "color": "#2a3f5f"
           }
          },
          "ternary": {
           "aaxis": {
            "gridcolor": "white",
            "linecolor": "white",
            "ticks": ""
           },
           "baxis": {
            "gridcolor": "white",
            "linecolor": "white",
            "ticks": ""
           },
           "bgcolor": "#E5ECF6",
           "caxis": {
            "gridcolor": "white",
            "linecolor": "white",
            "ticks": ""
           }
          },
          "title": {
           "x": 0.05
          },
          "xaxis": {
           "automargin": true,
           "gridcolor": "white",
           "linecolor": "white",
           "ticks": "",
           "title": {
            "standoff": 15
           },
           "zerolinecolor": "white",
           "zerolinewidth": 2
          },
          "yaxis": {
           "automargin": true,
           "gridcolor": "white",
           "linecolor": "white",
           "ticks": "",
           "title": {
            "standoff": 15
           },
           "zerolinecolor": "white",
           "zerolinewidth": 2
          }
         }
        },
        "title": {
         "text": "Распределение переменной размер экрана"
        },
        "xaxis": {
         "anchor": "y",
         "domain": [
          0,
          1
         ],
         "title": {
          "text": "display(in inch)"
         }
        },
        "yaxis": {
         "anchor": "x",
         "domain": [
          0,
          1
         ],
         "title": {
          "text": "count"
         }
        }
       }
      }
     },
     "metadata": {},
     "output_type": "display_data"
    }
   ],
   "source": [
    "# гистограмма распределения ram\n",
    "hist = px.histogram(\n",
    "    data_cleaned,\n",
    "    x='display(in inch)',\n",
    "    color_discrete_sequence=px.colors.diverging.Tealrose,\n",
    "    title=f'Распределение переменной размер экрана'\n",
    ")\n",
    "hist.show()\n",
    "\n",
    "displays = data_cleaned['display(in inch)'].value_counts()\n",
    "displays.head()\n",
    "hist.write_html(\"plotly/display.html\")"
   ]
  },
  {
   "cell_type": "markdown",
   "metadata": {},
   "source": [
    "Так как распределение рамеров крайне неравномерное, то будет малоинформативно брать в расчет редкие значения. Рассмотрим те, что встречаются в датасете больше 10 раз"
   ]
  },
  {
   "cell_type": "code",
   "execution_count": 24,
   "metadata": {},
   "outputs": [
    {
     "data": {
      "application/vnd.plotly.v1+json": {
       "config": {
        "plotlyServerURL": "https://plot.ly"
       },
       "data": [
        {
         "alignmentgroup": "True",
         "hovertemplate": "display(in inch)=%{y}<br>rating=%{x}<extra></extra>",
         "legendgroup": "15.6",
         "marker": {
          "color": "rgb(0, 147, 146)"
         },
         "name": "15.6",
         "notched": false,
         "offsetgroup": "15.6",
         "orientation": "h",
         "showlegend": true,
         "type": "box",
         "x": [
          4.5,
          4.4,
          4.4,
          4.3,
          4,
          4.1,
          4.2,
          4.1,
          4.1,
          4.1,
          4.3,
          4.4,
          4.2,
          4.3,
          4.2,
          4.3,
          4.4,
          4.3,
          4.5,
          4.4,
          4.5,
          4.2,
          4.3,
          4.2,
          4.2,
          4.2,
          4.3,
          4.5,
          4.2,
          4.5,
          4.4,
          3.8,
          4.4,
          4.3,
          4.5,
          4.3,
          3.7,
          4.2,
          4.5,
          4.2,
          4.5,
          4.3,
          4,
          4.5,
          4.5,
          4.7,
          4.5,
          4.5,
          4.4,
          4.1,
          4.6,
          4.3,
          4.5,
          4.4,
          4.2,
          4.5,
          3.1,
          4.4,
          3.8,
          4.5,
          4.5,
          3.9,
          4,
          4.4,
          4.3,
          4.5,
          4.3,
          3.9,
          4.3,
          4.3,
          4.1,
          4,
          4.3,
          4.6,
          4.2,
          4.5,
          4.5,
          4.1,
          4,
          4.4,
          4.2,
          5,
          4.5,
          4.5,
          4.2,
          5,
          4.4,
          4,
          4.4,
          4.1,
          4.1,
          4.4,
          4.2,
          3.7,
          4.4,
          4.2,
          4.3,
          4.5,
          4.4,
          4.5,
          4.4,
          4.6,
          4,
          4.5,
          4.5,
          4.6,
          4.4,
          5,
          4.2,
          4.2,
          4.4,
          4.6,
          4.5,
          4.8,
          3.8,
          5,
          3.6,
          4.6,
          4.6,
          4.3,
          4.1,
          4.6,
          4.1,
          4.5,
          4.2,
          4.4,
          4,
          4.4,
          4.6,
          4.6,
          3.7,
          4.3,
          4.4,
          4.3,
          4.5,
          4.6,
          4.5,
          4,
          4,
          4.1,
          4.4,
          4,
          3.9,
          4.1,
          5,
          5,
          4,
          3.7,
          3.6,
          4.2,
          4.4,
          4.5,
          4.7,
          3.6,
          4.6,
          4.1,
          4.6,
          4,
          4.6,
          4,
          4.3,
          4.1,
          4.9,
          4.4,
          3.8,
          4.4,
          4.3,
          4.6,
          4,
          4.4,
          4.1,
          3.9,
          4.6,
          4.5,
          4.1,
          4,
          4.7,
          4.4,
          4.4,
          4,
          4.3,
          4.4,
          4,
          3.8,
          4.5,
          4.8,
          4.7,
          4.4,
          4.3,
          3.7,
          4.4,
          4.3,
          4,
          4.5,
          4.4,
          4.5,
          4.8,
          3.9,
          5,
          4.2,
          4.1,
          4,
          3,
          4.1,
          4.5,
          3.9,
          4,
          4,
          4.2,
          4.3,
          4,
          4.3,
          4.9,
          4.4,
          4.5,
          4.2,
          4.3,
          4.4,
          4.1,
          4.3,
          4.4,
          4.5,
          4.3,
          4.3,
          4.4,
          4.5,
          4.4,
          4.2,
          3.9,
          4.4,
          4.3,
          4,
          4.1,
          4.5,
          5,
          4.3,
          4.1,
          4.5,
          4.4,
          5,
          3.7,
          4.1,
          4.4,
          4.3,
          4.3,
          4.3,
          4.3,
          4.8,
          4.3,
          4.6,
          4.5,
          4.6,
          3.9,
          4.8,
          4.4,
          3.7,
          4.5,
          4.6,
          4.4,
          4.1,
          4,
          3.5,
          4.1,
          4.4,
          4.1,
          3.5,
          3.7,
          4,
          4.1,
          4.3,
          4.5,
          3.8,
          3.7,
          4.5,
          3.5,
          4.3,
          4.4,
          4.3,
          3.6,
          4,
          4,
          4.1,
          1.6,
          4.2,
          4.1,
          4,
          4.2,
          3.3,
          4.1,
          4.4,
          3.8,
          4.5,
          4,
          4.4,
          4.1,
          4.4,
          4,
          4,
          4.5,
          4.8,
          3.9,
          4,
          4,
          4.7,
          4.3,
          4,
          4.2,
          4.4,
          4.3,
          3.7,
          4.7,
          4.1,
          3.8,
          4,
          3.6,
          4,
          4
         ],
         "x0": " ",
         "xaxis": "x",
         "y": [
          15.6,
          15.6,
          15.6,
          15.6,
          15.6,
          15.6,
          15.6,
          15.6,
          15.6,
          15.6,
          15.6,
          15.6,
          15.6,
          15.6,
          15.6,
          15.6,
          15.6,
          15.6,
          15.6,
          15.6,
          15.6,
          15.6,
          15.6,
          15.6,
          15.6,
          15.6,
          15.6,
          15.6,
          15.6,
          15.6,
          15.6,
          15.6,
          15.6,
          15.6,
          15.6,
          15.6,
          15.6,
          15.6,
          15.6,
          15.6,
          15.6,
          15.6,
          15.6,
          15.6,
          15.6,
          15.6,
          15.6,
          15.6,
          15.6,
          15.6,
          15.6,
          15.6,
          15.6,
          15.6,
          15.6,
          15.6,
          15.6,
          15.6,
          15.6,
          15.6,
          15.6,
          15.6,
          15.6,
          15.6,
          15.6,
          15.6,
          15.6,
          15.6,
          15.6,
          15.6,
          15.6,
          15.6,
          15.6,
          15.6,
          15.6,
          15.6,
          15.6,
          15.6,
          15.6,
          15.6,
          15.6,
          15.6,
          15.6,
          15.6,
          15.6,
          15.6,
          15.6,
          15.6,
          15.6,
          15.6,
          15.6,
          15.6,
          15.6,
          15.6,
          15.6,
          15.6,
          15.6,
          15.6,
          15.6,
          15.6,
          15.6,
          15.6,
          15.6,
          15.6,
          15.6,
          15.6,
          15.6,
          15.6,
          15.6,
          15.6,
          15.6,
          15.6,
          15.6,
          15.6,
          15.6,
          15.6,
          15.6,
          15.6,
          15.6,
          15.6,
          15.6,
          15.6,
          15.6,
          15.6,
          15.6,
          15.6,
          15.6,
          15.6,
          15.6,
          15.6,
          15.6,
          15.6,
          15.6,
          15.6,
          15.6,
          15.6,
          15.6,
          15.6,
          15.6,
          15.6,
          15.6,
          15.6,
          15.6,
          15.6,
          15.6,
          15.6,
          15.6,
          15.6,
          15.6,
          15.6,
          15.6,
          15.6,
          15.6,
          15.6,
          15.6,
          15.6,
          15.6,
          15.6,
          15.6,
          15.6,
          15.6,
          15.6,
          15.6,
          15.6,
          15.6,
          15.6,
          15.6,
          15.6,
          15.6,
          15.6,
          15.6,
          15.6,
          15.6,
          15.6,
          15.6,
          15.6,
          15.6,
          15.6,
          15.6,
          15.6,
          15.6,
          15.6,
          15.6,
          15.6,
          15.6,
          15.6,
          15.6,
          15.6,
          15.6,
          15.6,
          15.6,
          15.6,
          15.6,
          15.6,
          15.6,
          15.6,
          15.6,
          15.6,
          15.6,
          15.6,
          15.6,
          15.6,
          15.6,
          15.6,
          15.6,
          15.6,
          15.6,
          15.6,
          15.6,
          15.6,
          15.6,
          15.6,
          15.6,
          15.6,
          15.6,
          15.6,
          15.6,
          15.6,
          15.6,
          15.6,
          15.6,
          15.6,
          15.6,
          15.6,
          15.6,
          15.6,
          15.6,
          15.6,
          15.6,
          15.6,
          15.6,
          15.6,
          15.6,
          15.6,
          15.6,
          15.6,
          15.6,
          15.6,
          15.6,
          15.6,
          15.6,
          15.6,
          15.6,
          15.6,
          15.6,
          15.6,
          15.6,
          15.6,
          15.6,
          15.6,
          15.6,
          15.6,
          15.6,
          15.6,
          15.6,
          15.6,
          15.6,
          15.6,
          15.6,
          15.6,
          15.6,
          15.6,
          15.6,
          15.6,
          15.6,
          15.6,
          15.6,
          15.6,
          15.6,
          15.6,
          15.6,
          15.6,
          15.6,
          15.6,
          15.6,
          15.6,
          15.6,
          15.6,
          15.6,
          15.6,
          15.6,
          15.6,
          15.6,
          15.6,
          15.6,
          15.6,
          15.6,
          15.6,
          15.6,
          15.6,
          15.6,
          15.6,
          15.6,
          15.6,
          15.6,
          15.6,
          15.6,
          15.6,
          15.6,
          15.6,
          15.6,
          15.6,
          15.6,
          15.6,
          15.6,
          15.6,
          15.6,
          15.6,
          15.6,
          15.6,
          15.6,
          15.6,
          15.6,
          15.6,
          15.6,
          15.6,
          15.6
         ],
         "y0": " ",
         "yaxis": "y"
        },
        {
         "alignmentgroup": "True",
         "hovertemplate": "display(in inch)=%{y}<br>rating=%{x}<extra></extra>",
         "legendgroup": "14.0",
         "marker": {
          "color": "rgb(177, 199, 179)"
         },
         "name": "14.0",
         "notched": false,
         "offsetgroup": "14.0",
         "orientation": "h",
         "showlegend": true,
         "type": "box",
         "x": [
          3.8,
          4.1,
          5,
          4.4,
          4.2,
          4.4,
          4.2,
          4.4,
          4,
          4.2,
          4.2,
          4.2,
          4.5,
          4.4,
          4.4,
          4.1,
          4.2,
          4.3,
          4.7,
          5,
          3.9,
          3.6,
          4.3,
          4,
          4.8,
          4.1,
          4.3,
          4.5,
          4.2,
          4.6,
          5,
          4.4,
          4.2,
          4.2,
          4.4,
          4.3,
          4.4,
          4.5,
          4.4,
          4,
          4.3,
          4.4,
          4,
          4.2,
          3.8,
          4.2,
          4.2,
          4.5,
          4.2,
          4.2,
          4.4,
          3.9,
          3.7,
          4.5,
          3.8,
          4.4,
          4.2,
          4.2,
          4.3,
          4.1,
          3.7,
          4.3,
          4.2,
          4.7,
          3.9,
          4.2,
          4.3,
          4.7,
          4.2,
          3.7,
          4.2,
          4.2,
          4.3,
          4.5,
          4.5,
          4.1,
          4.2,
          5,
          4.4,
          4.3,
          4.4,
          4.8,
          5,
          5,
          4.1,
          4.6,
          3.9,
          4.3,
          4.5,
          4.5,
          3.7,
          3.9,
          4.1,
          4.4,
          3.8,
          4.5,
          4,
          4.2,
          4.3,
          3.6,
          4.1,
          4.2,
          4.1,
          4,
          4.2,
          4.1,
          4,
          4,
          4.4,
          4.5,
          4.8,
          4.4,
          4.7,
          3.8,
          4.6,
          4.4,
          3.8,
          4.5,
          4.1,
          4.4,
          4,
          4.4,
          4,
          3.8,
          3.7,
          3.8,
          4.5
         ],
         "x0": " ",
         "xaxis": "x",
         "y": [
          14,
          14,
          14,
          14,
          14,
          14,
          14,
          14,
          14,
          14,
          14,
          14,
          14,
          14,
          14,
          14,
          14,
          14,
          14,
          14,
          14,
          14,
          14,
          14,
          14,
          14,
          14,
          14,
          14,
          14,
          14,
          14,
          14,
          14,
          14,
          14,
          14,
          14,
          14,
          14,
          14,
          14,
          14,
          14,
          14,
          14,
          14,
          14,
          14,
          14,
          14,
          14,
          14,
          14,
          14,
          14,
          14,
          14,
          14,
          14,
          14,
          14,
          14,
          14,
          14,
          14,
          14,
          14,
          14,
          14,
          14,
          14,
          14,
          14,
          14,
          14,
          14,
          14,
          14,
          14,
          14,
          14,
          14,
          14,
          14,
          14,
          14,
          14,
          14,
          14,
          14,
          14,
          14,
          14,
          14,
          14,
          14,
          14,
          14,
          14,
          14,
          14,
          14,
          14,
          14,
          14,
          14,
          14,
          14,
          14,
          14,
          14,
          14,
          14,
          14,
          14,
          14,
          14,
          14,
          14,
          14,
          14,
          14,
          14,
          14,
          14,
          14
         ],
         "y0": " ",
         "yaxis": "y"
        },
        {
         "alignmentgroup": "True",
         "hovertemplate": "display(in inch)=%{y}<br>rating=%{x}<extra></extra>",
         "legendgroup": "13.3",
         "marker": {
          "color": "rgb(229, 185, 173)"
         },
         "name": "13.3",
         "notched": false,
         "offsetgroup": "13.3",
         "orientation": "h",
         "showlegend": true,
         "type": "box",
         "x": [
          4.7,
          4.7,
          4.7,
          4.7,
          4.7,
          4.5,
          4.7,
          4.7,
          4.7,
          4.7,
          4.7,
          4.6,
          4.7,
          4.6,
          3.8,
          4.4,
          4.3,
          4.5,
          4.2,
          4.3,
          4.4,
          4.5,
          3.7,
          4.3,
          4.3,
          3,
          3.3,
          4.2,
          4.5,
          3.3,
          5
         ],
         "x0": " ",
         "xaxis": "x",
         "y": [
          13.3,
          13.3,
          13.3,
          13.3,
          13.3,
          13.3,
          13.3,
          13.3,
          13.3,
          13.3,
          13.3,
          13.3,
          13.3,
          13.3,
          13.3,
          13.3,
          13.3,
          13.3,
          13.3,
          13.3,
          13.3,
          13.3,
          13.3,
          13.3,
          13.3,
          13.3,
          13.3,
          13.3,
          13.3,
          13.3,
          13.3
         ],
         "y0": " ",
         "yaxis": "y"
        }
       ],
       "layout": {
        "boxmode": "overlay",
        "legend": {
         "title": {
          "text": "display(in inch)"
         },
         "tracegroupgap": 0
        },
        "template": {
         "data": {
          "bar": [
           {
            "error_x": {
             "color": "#2a3f5f"
            },
            "error_y": {
             "color": "#2a3f5f"
            },
            "marker": {
             "line": {
              "color": "#E5ECF6",
              "width": 0.5
             },
             "pattern": {
              "fillmode": "overlay",
              "size": 10,
              "solidity": 0.2
             }
            },
            "type": "bar"
           }
          ],
          "barpolar": [
           {
            "marker": {
             "line": {
              "color": "#E5ECF6",
              "width": 0.5
             },
             "pattern": {
              "fillmode": "overlay",
              "size": 10,
              "solidity": 0.2
             }
            },
            "type": "barpolar"
           }
          ],
          "carpet": [
           {
            "aaxis": {
             "endlinecolor": "#2a3f5f",
             "gridcolor": "white",
             "linecolor": "white",
             "minorgridcolor": "white",
             "startlinecolor": "#2a3f5f"
            },
            "baxis": {
             "endlinecolor": "#2a3f5f",
             "gridcolor": "white",
             "linecolor": "white",
             "minorgridcolor": "white",
             "startlinecolor": "#2a3f5f"
            },
            "type": "carpet"
           }
          ],
          "choropleth": [
           {
            "colorbar": {
             "outlinewidth": 0,
             "ticks": ""
            },
            "type": "choropleth"
           }
          ],
          "contour": [
           {
            "colorbar": {
             "outlinewidth": 0,
             "ticks": ""
            },
            "colorscale": [
             [
              0,
              "#0d0887"
             ],
             [
              0.1111111111111111,
              "#46039f"
             ],
             [
              0.2222222222222222,
              "#7201a8"
             ],
             [
              0.3333333333333333,
              "#9c179e"
             ],
             [
              0.4444444444444444,
              "#bd3786"
             ],
             [
              0.5555555555555556,
              "#d8576b"
             ],
             [
              0.6666666666666666,
              "#ed7953"
             ],
             [
              0.7777777777777778,
              "#fb9f3a"
             ],
             [
              0.8888888888888888,
              "#fdca26"
             ],
             [
              1,
              "#f0f921"
             ]
            ],
            "type": "contour"
           }
          ],
          "contourcarpet": [
           {
            "colorbar": {
             "outlinewidth": 0,
             "ticks": ""
            },
            "type": "contourcarpet"
           }
          ],
          "heatmap": [
           {
            "colorbar": {
             "outlinewidth": 0,
             "ticks": ""
            },
            "colorscale": [
             [
              0,
              "#0d0887"
             ],
             [
              0.1111111111111111,
              "#46039f"
             ],
             [
              0.2222222222222222,
              "#7201a8"
             ],
             [
              0.3333333333333333,
              "#9c179e"
             ],
             [
              0.4444444444444444,
              "#bd3786"
             ],
             [
              0.5555555555555556,
              "#d8576b"
             ],
             [
              0.6666666666666666,
              "#ed7953"
             ],
             [
              0.7777777777777778,
              "#fb9f3a"
             ],
             [
              0.8888888888888888,
              "#fdca26"
             ],
             [
              1,
              "#f0f921"
             ]
            ],
            "type": "heatmap"
           }
          ],
          "heatmapgl": [
           {
            "colorbar": {
             "outlinewidth": 0,
             "ticks": ""
            },
            "colorscale": [
             [
              0,
              "#0d0887"
             ],
             [
              0.1111111111111111,
              "#46039f"
             ],
             [
              0.2222222222222222,
              "#7201a8"
             ],
             [
              0.3333333333333333,
              "#9c179e"
             ],
             [
              0.4444444444444444,
              "#bd3786"
             ],
             [
              0.5555555555555556,
              "#d8576b"
             ],
             [
              0.6666666666666666,
              "#ed7953"
             ],
             [
              0.7777777777777778,
              "#fb9f3a"
             ],
             [
              0.8888888888888888,
              "#fdca26"
             ],
             [
              1,
              "#f0f921"
             ]
            ],
            "type": "heatmapgl"
           }
          ],
          "histogram": [
           {
            "marker": {
             "pattern": {
              "fillmode": "overlay",
              "size": 10,
              "solidity": 0.2
             }
            },
            "type": "histogram"
           }
          ],
          "histogram2d": [
           {
            "colorbar": {
             "outlinewidth": 0,
             "ticks": ""
            },
            "colorscale": [
             [
              0,
              "#0d0887"
             ],
             [
              0.1111111111111111,
              "#46039f"
             ],
             [
              0.2222222222222222,
              "#7201a8"
             ],
             [
              0.3333333333333333,
              "#9c179e"
             ],
             [
              0.4444444444444444,
              "#bd3786"
             ],
             [
              0.5555555555555556,
              "#d8576b"
             ],
             [
              0.6666666666666666,
              "#ed7953"
             ],
             [
              0.7777777777777778,
              "#fb9f3a"
             ],
             [
              0.8888888888888888,
              "#fdca26"
             ],
             [
              1,
              "#f0f921"
             ]
            ],
            "type": "histogram2d"
           }
          ],
          "histogram2dcontour": [
           {
            "colorbar": {
             "outlinewidth": 0,
             "ticks": ""
            },
            "colorscale": [
             [
              0,
              "#0d0887"
             ],
             [
              0.1111111111111111,
              "#46039f"
             ],
             [
              0.2222222222222222,
              "#7201a8"
             ],
             [
              0.3333333333333333,
              "#9c179e"
             ],
             [
              0.4444444444444444,
              "#bd3786"
             ],
             [
              0.5555555555555556,
              "#d8576b"
             ],
             [
              0.6666666666666666,
              "#ed7953"
             ],
             [
              0.7777777777777778,
              "#fb9f3a"
             ],
             [
              0.8888888888888888,
              "#fdca26"
             ],
             [
              1,
              "#f0f921"
             ]
            ],
            "type": "histogram2dcontour"
           }
          ],
          "mesh3d": [
           {
            "colorbar": {
             "outlinewidth": 0,
             "ticks": ""
            },
            "type": "mesh3d"
           }
          ],
          "parcoords": [
           {
            "line": {
             "colorbar": {
              "outlinewidth": 0,
              "ticks": ""
             }
            },
            "type": "parcoords"
           }
          ],
          "pie": [
           {
            "automargin": true,
            "type": "pie"
           }
          ],
          "scatter": [
           {
            "fillpattern": {
             "fillmode": "overlay",
             "size": 10,
             "solidity": 0.2
            },
            "type": "scatter"
           }
          ],
          "scatter3d": [
           {
            "line": {
             "colorbar": {
              "outlinewidth": 0,
              "ticks": ""
             }
            },
            "marker": {
             "colorbar": {
              "outlinewidth": 0,
              "ticks": ""
             }
            },
            "type": "scatter3d"
           }
          ],
          "scattercarpet": [
           {
            "marker": {
             "colorbar": {
              "outlinewidth": 0,
              "ticks": ""
             }
            },
            "type": "scattercarpet"
           }
          ],
          "scattergeo": [
           {
            "marker": {
             "colorbar": {
              "outlinewidth": 0,
              "ticks": ""
             }
            },
            "type": "scattergeo"
           }
          ],
          "scattergl": [
           {
            "marker": {
             "colorbar": {
              "outlinewidth": 0,
              "ticks": ""
             }
            },
            "type": "scattergl"
           }
          ],
          "scattermapbox": [
           {
            "marker": {
             "colorbar": {
              "outlinewidth": 0,
              "ticks": ""
             }
            },
            "type": "scattermapbox"
           }
          ],
          "scatterpolar": [
           {
            "marker": {
             "colorbar": {
              "outlinewidth": 0,
              "ticks": ""
             }
            },
            "type": "scatterpolar"
           }
          ],
          "scatterpolargl": [
           {
            "marker": {
             "colorbar": {
              "outlinewidth": 0,
              "ticks": ""
             }
            },
            "type": "scatterpolargl"
           }
          ],
          "scatterternary": [
           {
            "marker": {
             "colorbar": {
              "outlinewidth": 0,
              "ticks": ""
             }
            },
            "type": "scatterternary"
           }
          ],
          "surface": [
           {
            "colorbar": {
             "outlinewidth": 0,
             "ticks": ""
            },
            "colorscale": [
             [
              0,
              "#0d0887"
             ],
             [
              0.1111111111111111,
              "#46039f"
             ],
             [
              0.2222222222222222,
              "#7201a8"
             ],
             [
              0.3333333333333333,
              "#9c179e"
             ],
             [
              0.4444444444444444,
              "#bd3786"
             ],
             [
              0.5555555555555556,
              "#d8576b"
             ],
             [
              0.6666666666666666,
              "#ed7953"
             ],
             [
              0.7777777777777778,
              "#fb9f3a"
             ],
             [
              0.8888888888888888,
              "#fdca26"
             ],
             [
              1,
              "#f0f921"
             ]
            ],
            "type": "surface"
           }
          ],
          "table": [
           {
            "cells": {
             "fill": {
              "color": "#EBF0F8"
             },
             "line": {
              "color": "white"
             }
            },
            "header": {
             "fill": {
              "color": "#C8D4E3"
             },
             "line": {
              "color": "white"
             }
            },
            "type": "table"
           }
          ]
         },
         "layout": {
          "annotationdefaults": {
           "arrowcolor": "#2a3f5f",
           "arrowhead": 0,
           "arrowwidth": 1
          },
          "autotypenumbers": "strict",
          "coloraxis": {
           "colorbar": {
            "outlinewidth": 0,
            "ticks": ""
           }
          },
          "colorscale": {
           "diverging": [
            [
             0,
             "#8e0152"
            ],
            [
             0.1,
             "#c51b7d"
            ],
            [
             0.2,
             "#de77ae"
            ],
            [
             0.3,
             "#f1b6da"
            ],
            [
             0.4,
             "#fde0ef"
            ],
            [
             0.5,
             "#f7f7f7"
            ],
            [
             0.6,
             "#e6f5d0"
            ],
            [
             0.7,
             "#b8e186"
            ],
            [
             0.8,
             "#7fbc41"
            ],
            [
             0.9,
             "#4d9221"
            ],
            [
             1,
             "#276419"
            ]
           ],
           "sequential": [
            [
             0,
             "#0d0887"
            ],
            [
             0.1111111111111111,
             "#46039f"
            ],
            [
             0.2222222222222222,
             "#7201a8"
            ],
            [
             0.3333333333333333,
             "#9c179e"
            ],
            [
             0.4444444444444444,
             "#bd3786"
            ],
            [
             0.5555555555555556,
             "#d8576b"
            ],
            [
             0.6666666666666666,
             "#ed7953"
            ],
            [
             0.7777777777777778,
             "#fb9f3a"
            ],
            [
             0.8888888888888888,
             "#fdca26"
            ],
            [
             1,
             "#f0f921"
            ]
           ],
           "sequentialminus": [
            [
             0,
             "#0d0887"
            ],
            [
             0.1111111111111111,
             "#46039f"
            ],
            [
             0.2222222222222222,
             "#7201a8"
            ],
            [
             0.3333333333333333,
             "#9c179e"
            ],
            [
             0.4444444444444444,
             "#bd3786"
            ],
            [
             0.5555555555555556,
             "#d8576b"
            ],
            [
             0.6666666666666666,
             "#ed7953"
            ],
            [
             0.7777777777777778,
             "#fb9f3a"
            ],
            [
             0.8888888888888888,
             "#fdca26"
            ],
            [
             1,
             "#f0f921"
            ]
           ]
          },
          "colorway": [
           "#636efa",
           "#EF553B",
           "#00cc96",
           "#ab63fa",
           "#FFA15A",
           "#19d3f3",
           "#FF6692",
           "#B6E880",
           "#FF97FF",
           "#FECB52"
          ],
          "font": {
           "color": "#2a3f5f"
          },
          "geo": {
           "bgcolor": "white",
           "lakecolor": "white",
           "landcolor": "#E5ECF6",
           "showlakes": true,
           "showland": true,
           "subunitcolor": "white"
          },
          "hoverlabel": {
           "align": "left"
          },
          "hovermode": "closest",
          "mapbox": {
           "style": "light"
          },
          "paper_bgcolor": "white",
          "plot_bgcolor": "#E5ECF6",
          "polar": {
           "angularaxis": {
            "gridcolor": "white",
            "linecolor": "white",
            "ticks": ""
           },
           "bgcolor": "#E5ECF6",
           "radialaxis": {
            "gridcolor": "white",
            "linecolor": "white",
            "ticks": ""
           }
          },
          "scene": {
           "xaxis": {
            "backgroundcolor": "#E5ECF6",
            "gridcolor": "white",
            "gridwidth": 2,
            "linecolor": "white",
            "showbackground": true,
            "ticks": "",
            "zerolinecolor": "white"
           },
           "yaxis": {
            "backgroundcolor": "#E5ECF6",
            "gridcolor": "white",
            "gridwidth": 2,
            "linecolor": "white",
            "showbackground": true,
            "ticks": "",
            "zerolinecolor": "white"
           },
           "zaxis": {
            "backgroundcolor": "#E5ECF6",
            "gridcolor": "white",
            "gridwidth": 2,
            "linecolor": "white",
            "showbackground": true,
            "ticks": "",
            "zerolinecolor": "white"
           }
          },
          "shapedefaults": {
           "line": {
            "color": "#2a3f5f"
           }
          },
          "ternary": {
           "aaxis": {
            "gridcolor": "white",
            "linecolor": "white",
            "ticks": ""
           },
           "baxis": {
            "gridcolor": "white",
            "linecolor": "white",
            "ticks": ""
           },
           "bgcolor": "#E5ECF6",
           "caxis": {
            "gridcolor": "white",
            "linecolor": "white",
            "ticks": ""
           }
          },
          "title": {
           "x": 0.05
          },
          "xaxis": {
           "automargin": true,
           "gridcolor": "white",
           "linecolor": "white",
           "ticks": "",
           "title": {
            "standoff": 15
           },
           "zerolinecolor": "white",
           "zerolinewidth": 2
          },
          "yaxis": {
           "automargin": true,
           "gridcolor": "white",
           "linecolor": "white",
           "ticks": "",
           "title": {
            "standoff": 15
           },
           "zerolinecolor": "white",
           "zerolinewidth": 2
          }
         }
        },
        "title": {
         "text": "Зависимость рейтинга от размера экрана"
        },
        "xaxis": {
         "anchor": "y",
         "domain": [
          0,
          1
         ],
         "title": {
          "text": "rating"
         }
        },
        "yaxis": {
         "anchor": "x",
         "categoryarray": [
          13.3,
          14,
          15.6
         ],
         "categoryorder": "array",
         "domain": [
          0,
          1
         ],
         "title": {
          "text": "display(in inch)"
         }
        }
       }
      }
     },
     "metadata": {},
     "output_type": "display_data"
    }
   ],
   "source": [
    "# возьмем 3 наиболее распространенных размера\n",
    "box_data = pd.DataFrame()\n",
    "for dis in displays.head(3).index:\n",
    "    box_data = pd.concat([box_data, data_cleaned[data_cleaned['display(in inch)']==dis]])\n",
    "\n",
    "box = px.box(\n",
    "    data_frame=box_data,\n",
    "    x='rating',\n",
    "    y='display(in inch)',\n",
    "    color='display(in inch)',\n",
    "    orientation='h',\n",
    "    color_discrete_sequence=px.colors.diverging.Tealrose[::2],\n",
    "    title='Зависимость рейтинга от размера экрана'\n",
    ")\n",
    "box.show()\n",
    "box.write_html(\"plotly/box_rating_display.html\")"
   ]
  },
  {
   "cell_type": "markdown",
   "metadata": {},
   "source": [
    "Наиболее распространены размеры 15.6, 14 и 13.3 дюймов. Для большинства ноутбуков с экраном 14 дюймов значения рейтинга лежат в интервале от 3.7 до 4.8, то есть 5.0 здесь скорее выброс, а медианное значение рейтинга для этой группы меньше, чем для **15.6 и 13.3**. Эти два размера будем считать оптимальными. **15.6** - самый популярный, и медиана рейтинга 4.3, что равно медиане оценкок по всему датасету. А **13.3** может быть в приоритете из-за меньшего размера и веса для пользователей, кто часто носит ноутбук с собой, это ткаже стоит учитывать, к тому же медиана рейтинга для данного размера больше - 4.5"
   ]
  },
  {
   "cell_type": "markdown",
   "metadata": {},
   "source": [
    "## 4. Матрица корреляции и heatmap для нее"
   ]
  },
  {
   "cell_type": "code",
   "execution_count": 25,
   "metadata": {},
   "outputs": [
    {
     "data": {
      "text/html": [
       "<div>\n",
       "<style scoped>\n",
       "    .dataframe tbody tr th:only-of-type {\n",
       "        vertical-align: middle;\n",
       "    }\n",
       "\n",
       "    .dataframe tbody tr th {\n",
       "        vertical-align: top;\n",
       "    }\n",
       "\n",
       "    .dataframe thead th {\n",
       "        text-align: right;\n",
       "    }\n",
       "</style>\n",
       "<table border=\"1\" class=\"dataframe\">\n",
       "  <thead>\n",
       "    <tr style=\"text-align: right;\">\n",
       "      <th></th>\n",
       "      <th>price(in Rs.)</th>\n",
       "      <th>display(in inch)</th>\n",
       "      <th>rating</th>\n",
       "      <th>no_of_ratings</th>\n",
       "      <th>no_of_reviews</th>\n",
       "      <th>ram (GB)</th>\n",
       "      <th>HDD</th>\n",
       "      <th>SSD</th>\n",
       "      <th>storage (GB)</th>\n",
       "    </tr>\n",
       "  </thead>\n",
       "  <tbody>\n",
       "    <tr>\n",
       "      <th>price(in Rs.)</th>\n",
       "      <td>1.000000</td>\n",
       "      <td>0.078550</td>\n",
       "      <td>0.321031</td>\n",
       "      <td>-0.121662</td>\n",
       "      <td>-0.126380</td>\n",
       "      <td>0.701763</td>\n",
       "      <td>-0.110181</td>\n",
       "      <td>0.133024</td>\n",
       "      <td>0.349205</td>\n",
       "    </tr>\n",
       "    <tr>\n",
       "      <th>display(in inch)</th>\n",
       "      <td>0.078550</td>\n",
       "      <td>1.000000</td>\n",
       "      <td>0.013906</td>\n",
       "      <td>-0.084972</td>\n",
       "      <td>-0.078826</td>\n",
       "      <td>0.083590</td>\n",
       "      <td>0.099757</td>\n",
       "      <td>0.005451</td>\n",
       "      <td>0.159986</td>\n",
       "    </tr>\n",
       "    <tr>\n",
       "      <th>rating</th>\n",
       "      <td>0.321031</td>\n",
       "      <td>0.013906</td>\n",
       "      <td>1.000000</td>\n",
       "      <td>0.074955</td>\n",
       "      <td>0.062850</td>\n",
       "      <td>0.293458</td>\n",
       "      <td>-0.232080</td>\n",
       "      <td>0.277323</td>\n",
       "      <td>-0.051254</td>\n",
       "    </tr>\n",
       "    <tr>\n",
       "      <th>no_of_ratings</th>\n",
       "      <td>-0.121662</td>\n",
       "      <td>-0.084972</td>\n",
       "      <td>0.074955</td>\n",
       "      <td>1.000000</td>\n",
       "      <td>0.978092</td>\n",
       "      <td>-0.172299</td>\n",
       "      <td>0.043333</td>\n",
       "      <td>-0.086237</td>\n",
       "      <td>-0.077491</td>\n",
       "    </tr>\n",
       "    <tr>\n",
       "      <th>no_of_reviews</th>\n",
       "      <td>-0.126380</td>\n",
       "      <td>-0.078826</td>\n",
       "      <td>0.062850</td>\n",
       "      <td>0.978092</td>\n",
       "      <td>1.000000</td>\n",
       "      <td>-0.169990</td>\n",
       "      <td>0.066448</td>\n",
       "      <td>-0.099467</td>\n",
       "      <td>-0.057660</td>\n",
       "    </tr>\n",
       "    <tr>\n",
       "      <th>ram (GB)</th>\n",
       "      <td>0.701763</td>\n",
       "      <td>0.083590</td>\n",
       "      <td>0.293458</td>\n",
       "      <td>-0.172299</td>\n",
       "      <td>-0.169990</td>\n",
       "      <td>1.000000</td>\n",
       "      <td>-0.167978</td>\n",
       "      <td>0.187269</td>\n",
       "      <td>0.249168</td>\n",
       "    </tr>\n",
       "    <tr>\n",
       "      <th>HDD</th>\n",
       "      <td>-0.110181</td>\n",
       "      <td>0.099757</td>\n",
       "      <td>-0.232080</td>\n",
       "      <td>0.043333</td>\n",
       "      <td>0.066448</td>\n",
       "      <td>-0.167978</td>\n",
       "      <td>1.000000</td>\n",
       "      <td>-0.655088</td>\n",
       "      <td>0.631692</td>\n",
       "    </tr>\n",
       "    <tr>\n",
       "      <th>SSD</th>\n",
       "      <td>0.133024</td>\n",
       "      <td>0.005451</td>\n",
       "      <td>0.277323</td>\n",
       "      <td>-0.086237</td>\n",
       "      <td>-0.099467</td>\n",
       "      <td>0.187269</td>\n",
       "      <td>-0.655088</td>\n",
       "      <td>1.000000</td>\n",
       "      <td>-0.314365</td>\n",
       "    </tr>\n",
       "    <tr>\n",
       "      <th>storage (GB)</th>\n",
       "      <td>0.349205</td>\n",
       "      <td>0.159986</td>\n",
       "      <td>-0.051254</td>\n",
       "      <td>-0.077491</td>\n",
       "      <td>-0.057660</td>\n",
       "      <td>0.249168</td>\n",
       "      <td>0.631692</td>\n",
       "      <td>-0.314365</td>\n",
       "      <td>1.000000</td>\n",
       "    </tr>\n",
       "  </tbody>\n",
       "</table>\n",
       "</div>"
      ],
      "text/plain": [
       "                  price(in Rs.)  display(in inch)    rating  no_of_ratings  \\\n",
       "price(in Rs.)          1.000000          0.078550  0.321031      -0.121662   \n",
       "display(in inch)       0.078550          1.000000  0.013906      -0.084972   \n",
       "rating                 0.321031          0.013906  1.000000       0.074955   \n",
       "no_of_ratings         -0.121662         -0.084972  0.074955       1.000000   \n",
       "no_of_reviews         -0.126380         -0.078826  0.062850       0.978092   \n",
       "ram (GB)               0.701763          0.083590  0.293458      -0.172299   \n",
       "HDD                   -0.110181          0.099757 -0.232080       0.043333   \n",
       "SSD                    0.133024          0.005451  0.277323      -0.086237   \n",
       "storage (GB)           0.349205          0.159986 -0.051254      -0.077491   \n",
       "\n",
       "                  no_of_reviews  ram (GB)       HDD       SSD  storage (GB)  \n",
       "price(in Rs.)         -0.126380  0.701763 -0.110181  0.133024      0.349205  \n",
       "display(in inch)      -0.078826  0.083590  0.099757  0.005451      0.159986  \n",
       "rating                 0.062850  0.293458 -0.232080  0.277323     -0.051254  \n",
       "no_of_ratings          0.978092 -0.172299  0.043333 -0.086237     -0.077491  \n",
       "no_of_reviews          1.000000 -0.169990  0.066448 -0.099467     -0.057660  \n",
       "ram (GB)              -0.169990  1.000000 -0.167978  0.187269      0.249168  \n",
       "HDD                    0.066448 -0.167978  1.000000 -0.655088      0.631692  \n",
       "SSD                   -0.099467  0.187269 -0.655088  1.000000     -0.314365  \n",
       "storage (GB)          -0.057660  0.249168  0.631692 -0.314365      1.000000  "
      ]
     },
     "execution_count": 25,
     "metadata": {},
     "output_type": "execute_result"
    }
   ],
   "source": [
    "corr = data_cleaned.corr(numeric_only=True)\n",
    "corr"
   ]
  },
  {
   "cell_type": "code",
   "execution_count": 26,
   "metadata": {},
   "outputs": [
    {
     "data": {
      "application/vnd.plotly.v1+json": {
       "config": {
        "plotlyServerURL": "https://plot.ly"
       },
       "data": [
        {
         "coloraxis": "coloraxis",
         "hovertemplate": "x: %{x}<br>y: %{y}<br>color: %{z}<extra></extra>",
         "name": "0",
         "type": "heatmap",
         "x": [
          "price(in Rs.)",
          "display(in inch)",
          "no_of_ratings",
          "no_of_reviews",
          "ram (GB)",
          "HDD",
          "SSD",
          "storage (GB)"
         ],
         "xaxis": "x",
         "y": [
          "price(in Rs.)",
          "display(in inch)",
          "no_of_ratings",
          "no_of_reviews",
          "ram (GB)",
          "HDD",
          "SSD",
          "storage (GB)"
         ],
         "yaxis": "y",
         "z": [
          [
           1,
           0.0785495261731877,
           -0.12166238736971341,
           -0.12637990876766483,
           0.7017629259862376,
           -0.11018056572302828,
           0.1330236593460326,
           0.34920490093844725
          ],
          [
           0.0785495261731877,
           1,
           -0.08497154170484168,
           -0.07882618569818448,
           0.08359024925749338,
           0.09975665094137752,
           0.0054506966801393195,
           0.15998622644826654
          ],
          [
           -0.12166238736971341,
           -0.08497154170484168,
           1,
           0.9780917061576966,
           -0.17229886002008638,
           0.043333395301042715,
           -0.08623670966538602,
           -0.0774910772212567
          ],
          [
           -0.12637990876766483,
           -0.07882618569818448,
           0.9780917061576966,
           1,
           -0.16999025474403548,
           0.06644820429995188,
           -0.09946726808865711,
           -0.05766021321355167
          ],
          [
           0.7017629259862376,
           0.08359024925749338,
           -0.17229886002008638,
           -0.16999025474403548,
           1,
           -0.1679779170341333,
           0.18726862382176174,
           0.2491682873923026
          ],
          [
           -0.11018056572302828,
           0.09975665094137752,
           0.043333395301042715,
           0.06644820429995188,
           -0.1679779170341333,
           1,
           -0.6550882234745206,
           0.631692395793737
          ],
          [
           0.1330236593460326,
           0.0054506966801393195,
           -0.08623670966538602,
           -0.09946726808865711,
           0.18726862382176174,
           -0.6550882234745206,
           1,
           -0.3143649538931026
          ],
          [
           0.34920490093844725,
           0.15998622644826654,
           -0.0774910772212567,
           -0.05766021321355167,
           0.2491682873923026,
           0.631692395793737,
           -0.3143649538931026,
           1
          ]
         ]
        }
       ],
       "layout": {
        "coloraxis": {
         "colorscale": [
          [
           0,
           "rgb(0, 147, 146)"
          ],
          [
           0.16666666666666666,
           "rgb(114, 170, 161)"
          ],
          [
           0.3333333333333333,
           "rgb(177, 199, 179)"
          ],
          [
           0.5,
           "rgb(241, 234, 200)"
          ],
          [
           0.6666666666666666,
           "rgb(229, 185, 173)"
          ],
          [
           0.8333333333333334,
           "rgb(217, 137, 148)"
          ],
          [
           1,
           "rgb(208, 88, 126)"
          ]
         ]
        },
        "template": {
         "data": {
          "bar": [
           {
            "error_x": {
             "color": "#2a3f5f"
            },
            "error_y": {
             "color": "#2a3f5f"
            },
            "marker": {
             "line": {
              "color": "#E5ECF6",
              "width": 0.5
             },
             "pattern": {
              "fillmode": "overlay",
              "size": 10,
              "solidity": 0.2
             }
            },
            "type": "bar"
           }
          ],
          "barpolar": [
           {
            "marker": {
             "line": {
              "color": "#E5ECF6",
              "width": 0.5
             },
             "pattern": {
              "fillmode": "overlay",
              "size": 10,
              "solidity": 0.2
             }
            },
            "type": "barpolar"
           }
          ],
          "carpet": [
           {
            "aaxis": {
             "endlinecolor": "#2a3f5f",
             "gridcolor": "white",
             "linecolor": "white",
             "minorgridcolor": "white",
             "startlinecolor": "#2a3f5f"
            },
            "baxis": {
             "endlinecolor": "#2a3f5f",
             "gridcolor": "white",
             "linecolor": "white",
             "minorgridcolor": "white",
             "startlinecolor": "#2a3f5f"
            },
            "type": "carpet"
           }
          ],
          "choropleth": [
           {
            "colorbar": {
             "outlinewidth": 0,
             "ticks": ""
            },
            "type": "choropleth"
           }
          ],
          "contour": [
           {
            "colorbar": {
             "outlinewidth": 0,
             "ticks": ""
            },
            "colorscale": [
             [
              0,
              "#0d0887"
             ],
             [
              0.1111111111111111,
              "#46039f"
             ],
             [
              0.2222222222222222,
              "#7201a8"
             ],
             [
              0.3333333333333333,
              "#9c179e"
             ],
             [
              0.4444444444444444,
              "#bd3786"
             ],
             [
              0.5555555555555556,
              "#d8576b"
             ],
             [
              0.6666666666666666,
              "#ed7953"
             ],
             [
              0.7777777777777778,
              "#fb9f3a"
             ],
             [
              0.8888888888888888,
              "#fdca26"
             ],
             [
              1,
              "#f0f921"
             ]
            ],
            "type": "contour"
           }
          ],
          "contourcarpet": [
           {
            "colorbar": {
             "outlinewidth": 0,
             "ticks": ""
            },
            "type": "contourcarpet"
           }
          ],
          "heatmap": [
           {
            "colorbar": {
             "outlinewidth": 0,
             "ticks": ""
            },
            "colorscale": [
             [
              0,
              "#0d0887"
             ],
             [
              0.1111111111111111,
              "#46039f"
             ],
             [
              0.2222222222222222,
              "#7201a8"
             ],
             [
              0.3333333333333333,
              "#9c179e"
             ],
             [
              0.4444444444444444,
              "#bd3786"
             ],
             [
              0.5555555555555556,
              "#d8576b"
             ],
             [
              0.6666666666666666,
              "#ed7953"
             ],
             [
              0.7777777777777778,
              "#fb9f3a"
             ],
             [
              0.8888888888888888,
              "#fdca26"
             ],
             [
              1,
              "#f0f921"
             ]
            ],
            "type": "heatmap"
           }
          ],
          "heatmapgl": [
           {
            "colorbar": {
             "outlinewidth": 0,
             "ticks": ""
            },
            "colorscale": [
             [
              0,
              "#0d0887"
             ],
             [
              0.1111111111111111,
              "#46039f"
             ],
             [
              0.2222222222222222,
              "#7201a8"
             ],
             [
              0.3333333333333333,
              "#9c179e"
             ],
             [
              0.4444444444444444,
              "#bd3786"
             ],
             [
              0.5555555555555556,
              "#d8576b"
             ],
             [
              0.6666666666666666,
              "#ed7953"
             ],
             [
              0.7777777777777778,
              "#fb9f3a"
             ],
             [
              0.8888888888888888,
              "#fdca26"
             ],
             [
              1,
              "#f0f921"
             ]
            ],
            "type": "heatmapgl"
           }
          ],
          "histogram": [
           {
            "marker": {
             "pattern": {
              "fillmode": "overlay",
              "size": 10,
              "solidity": 0.2
             }
            },
            "type": "histogram"
           }
          ],
          "histogram2d": [
           {
            "colorbar": {
             "outlinewidth": 0,
             "ticks": ""
            },
            "colorscale": [
             [
              0,
              "#0d0887"
             ],
             [
              0.1111111111111111,
              "#46039f"
             ],
             [
              0.2222222222222222,
              "#7201a8"
             ],
             [
              0.3333333333333333,
              "#9c179e"
             ],
             [
              0.4444444444444444,
              "#bd3786"
             ],
             [
              0.5555555555555556,
              "#d8576b"
             ],
             [
              0.6666666666666666,
              "#ed7953"
             ],
             [
              0.7777777777777778,
              "#fb9f3a"
             ],
             [
              0.8888888888888888,
              "#fdca26"
             ],
             [
              1,
              "#f0f921"
             ]
            ],
            "type": "histogram2d"
           }
          ],
          "histogram2dcontour": [
           {
            "colorbar": {
             "outlinewidth": 0,
             "ticks": ""
            },
            "colorscale": [
             [
              0,
              "#0d0887"
             ],
             [
              0.1111111111111111,
              "#46039f"
             ],
             [
              0.2222222222222222,
              "#7201a8"
             ],
             [
              0.3333333333333333,
              "#9c179e"
             ],
             [
              0.4444444444444444,
              "#bd3786"
             ],
             [
              0.5555555555555556,
              "#d8576b"
             ],
             [
              0.6666666666666666,
              "#ed7953"
             ],
             [
              0.7777777777777778,
              "#fb9f3a"
             ],
             [
              0.8888888888888888,
              "#fdca26"
             ],
             [
              1,
              "#f0f921"
             ]
            ],
            "type": "histogram2dcontour"
           }
          ],
          "mesh3d": [
           {
            "colorbar": {
             "outlinewidth": 0,
             "ticks": ""
            },
            "type": "mesh3d"
           }
          ],
          "parcoords": [
           {
            "line": {
             "colorbar": {
              "outlinewidth": 0,
              "ticks": ""
             }
            },
            "type": "parcoords"
           }
          ],
          "pie": [
           {
            "automargin": true,
            "type": "pie"
           }
          ],
          "scatter": [
           {
            "fillpattern": {
             "fillmode": "overlay",
             "size": 10,
             "solidity": 0.2
            },
            "type": "scatter"
           }
          ],
          "scatter3d": [
           {
            "line": {
             "colorbar": {
              "outlinewidth": 0,
              "ticks": ""
             }
            },
            "marker": {
             "colorbar": {
              "outlinewidth": 0,
              "ticks": ""
             }
            },
            "type": "scatter3d"
           }
          ],
          "scattercarpet": [
           {
            "marker": {
             "colorbar": {
              "outlinewidth": 0,
              "ticks": ""
             }
            },
            "type": "scattercarpet"
           }
          ],
          "scattergeo": [
           {
            "marker": {
             "colorbar": {
              "outlinewidth": 0,
              "ticks": ""
             }
            },
            "type": "scattergeo"
           }
          ],
          "scattergl": [
           {
            "marker": {
             "colorbar": {
              "outlinewidth": 0,
              "ticks": ""
             }
            },
            "type": "scattergl"
           }
          ],
          "scattermapbox": [
           {
            "marker": {
             "colorbar": {
              "outlinewidth": 0,
              "ticks": ""
             }
            },
            "type": "scattermapbox"
           }
          ],
          "scatterpolar": [
           {
            "marker": {
             "colorbar": {
              "outlinewidth": 0,
              "ticks": ""
             }
            },
            "type": "scatterpolar"
           }
          ],
          "scatterpolargl": [
           {
            "marker": {
             "colorbar": {
              "outlinewidth": 0,
              "ticks": ""
             }
            },
            "type": "scatterpolargl"
           }
          ],
          "scatterternary": [
           {
            "marker": {
             "colorbar": {
              "outlinewidth": 0,
              "ticks": ""
             }
            },
            "type": "scatterternary"
           }
          ],
          "surface": [
           {
            "colorbar": {
             "outlinewidth": 0,
             "ticks": ""
            },
            "colorscale": [
             [
              0,
              "#0d0887"
             ],
             [
              0.1111111111111111,
              "#46039f"
             ],
             [
              0.2222222222222222,
              "#7201a8"
             ],
             [
              0.3333333333333333,
              "#9c179e"
             ],
             [
              0.4444444444444444,
              "#bd3786"
             ],
             [
              0.5555555555555556,
              "#d8576b"
             ],
             [
              0.6666666666666666,
              "#ed7953"
             ],
             [
              0.7777777777777778,
              "#fb9f3a"
             ],
             [
              0.8888888888888888,
              "#fdca26"
             ],
             [
              1,
              "#f0f921"
             ]
            ],
            "type": "surface"
           }
          ],
          "table": [
           {
            "cells": {
             "fill": {
              "color": "#EBF0F8"
             },
             "line": {
              "color": "white"
             }
            },
            "header": {
             "fill": {
              "color": "#C8D4E3"
             },
             "line": {
              "color": "white"
             }
            },
            "type": "table"
           }
          ]
         },
         "layout": {
          "annotationdefaults": {
           "arrowcolor": "#2a3f5f",
           "arrowhead": 0,
           "arrowwidth": 1
          },
          "autotypenumbers": "strict",
          "coloraxis": {
           "colorbar": {
            "outlinewidth": 0,
            "ticks": ""
           }
          },
          "colorscale": {
           "diverging": [
            [
             0,
             "#8e0152"
            ],
            [
             0.1,
             "#c51b7d"
            ],
            [
             0.2,
             "#de77ae"
            ],
            [
             0.3,
             "#f1b6da"
            ],
            [
             0.4,
             "#fde0ef"
            ],
            [
             0.5,
             "#f7f7f7"
            ],
            [
             0.6,
             "#e6f5d0"
            ],
            [
             0.7,
             "#b8e186"
            ],
            [
             0.8,
             "#7fbc41"
            ],
            [
             0.9,
             "#4d9221"
            ],
            [
             1,
             "#276419"
            ]
           ],
           "sequential": [
            [
             0,
             "#0d0887"
            ],
            [
             0.1111111111111111,
             "#46039f"
            ],
            [
             0.2222222222222222,
             "#7201a8"
            ],
            [
             0.3333333333333333,
             "#9c179e"
            ],
            [
             0.4444444444444444,
             "#bd3786"
            ],
            [
             0.5555555555555556,
             "#d8576b"
            ],
            [
             0.6666666666666666,
             "#ed7953"
            ],
            [
             0.7777777777777778,
             "#fb9f3a"
            ],
            [
             0.8888888888888888,
             "#fdca26"
            ],
            [
             1,
             "#f0f921"
            ]
           ],
           "sequentialminus": [
            [
             0,
             "#0d0887"
            ],
            [
             0.1111111111111111,
             "#46039f"
            ],
            [
             0.2222222222222222,
             "#7201a8"
            ],
            [
             0.3333333333333333,
             "#9c179e"
            ],
            [
             0.4444444444444444,
             "#bd3786"
            ],
            [
             0.5555555555555556,
             "#d8576b"
            ],
            [
             0.6666666666666666,
             "#ed7953"
            ],
            [
             0.7777777777777778,
             "#fb9f3a"
            ],
            [
             0.8888888888888888,
             "#fdca26"
            ],
            [
             1,
             "#f0f921"
            ]
           ]
          },
          "colorway": [
           "#636efa",
           "#EF553B",
           "#00cc96",
           "#ab63fa",
           "#FFA15A",
           "#19d3f3",
           "#FF6692",
           "#B6E880",
           "#FF97FF",
           "#FECB52"
          ],
          "font": {
           "color": "#2a3f5f"
          },
          "geo": {
           "bgcolor": "white",
           "lakecolor": "white",
           "landcolor": "#E5ECF6",
           "showlakes": true,
           "showland": true,
           "subunitcolor": "white"
          },
          "hoverlabel": {
           "align": "left"
          },
          "hovermode": "closest",
          "mapbox": {
           "style": "light"
          },
          "paper_bgcolor": "white",
          "plot_bgcolor": "#E5ECF6",
          "polar": {
           "angularaxis": {
            "gridcolor": "white",
            "linecolor": "white",
            "ticks": ""
           },
           "bgcolor": "#E5ECF6",
           "radialaxis": {
            "gridcolor": "white",
            "linecolor": "white",
            "ticks": ""
           }
          },
          "scene": {
           "xaxis": {
            "backgroundcolor": "#E5ECF6",
            "gridcolor": "white",
            "gridwidth": 2,
            "linecolor": "white",
            "showbackground": true,
            "ticks": "",
            "zerolinecolor": "white"
           },
           "yaxis": {
            "backgroundcolor": "#E5ECF6",
            "gridcolor": "white",
            "gridwidth": 2,
            "linecolor": "white",
            "showbackground": true,
            "ticks": "",
            "zerolinecolor": "white"
           },
           "zaxis": {
            "backgroundcolor": "#E5ECF6",
            "gridcolor": "white",
            "gridwidth": 2,
            "linecolor": "white",
            "showbackground": true,
            "ticks": "",
            "zerolinecolor": "white"
           }
          },
          "shapedefaults": {
           "line": {
            "color": "#2a3f5f"
           }
          },
          "ternary": {
           "aaxis": {
            "gridcolor": "white",
            "linecolor": "white",
            "ticks": ""
           },
           "baxis": {
            "gridcolor": "white",
            "linecolor": "white",
            "ticks": ""
           },
           "bgcolor": "#E5ECF6",
           "caxis": {
            "gridcolor": "white",
            "linecolor": "white",
            "ticks": ""
           }
          },
          "title": {
           "x": 0.05
          },
          "xaxis": {
           "automargin": true,
           "gridcolor": "white",
           "linecolor": "white",
           "ticks": "",
           "title": {
            "standoff": 15
           },
           "zerolinecolor": "white",
           "zerolinewidth": 2
          },
          "yaxis": {
           "automargin": true,
           "gridcolor": "white",
           "linecolor": "white",
           "ticks": "",
           "title": {
            "standoff": 15
           },
           "zerolinecolor": "white",
           "zerolinewidth": 2
          }
         }
        },
        "title": {
         "text": "Матрица корреляции (исключая рейтинг) - тепловая карта"
        },
        "xaxis": {
         "anchor": "y",
         "constrain": "domain",
         "domain": [
          0,
          1
         ],
         "scaleanchor": "y"
        },
        "yaxis": {
         "anchor": "x",
         "autorange": "reversed",
         "constrain": "domain",
         "domain": [
          0,
          1
         ]
        }
       }
      }
     },
     "metadata": {},
     "output_type": "display_data"
    },
    {
     "data": {
      "application/vnd.plotly.v1+json": {
       "config": {
        "plotlyServerURL": "https://plot.ly"
       },
       "data": [
        {
         "alignmentgroup": "True",
         "hovertemplate": "index=%{x}<br>value=%{y}<extra></extra>",
         "legendgroup": "price(in Rs.)",
         "marker": {
          "color": "rgb(0, 147, 146)",
          "pattern": {
           "shape": ""
          }
         },
         "name": "price(in Rs.)",
         "offsetgroup": "price(in Rs.)",
         "orientation": "v",
         "showlegend": true,
         "textposition": "auto",
         "type": "bar",
         "x": [
          "price(in Rs.)"
         ],
         "xaxis": "x",
         "y": [
          0.3210305580361109
         ],
         "yaxis": "y"
        },
        {
         "alignmentgroup": "True",
         "hovertemplate": "index=%{x}<br>value=%{y}<extra></extra>",
         "legendgroup": "ram (GB)",
         "marker": {
          "color": "rgb(114, 170, 161)",
          "pattern": {
           "shape": ""
          }
         },
         "name": "ram (GB)",
         "offsetgroup": "ram (GB)",
         "orientation": "v",
         "showlegend": true,
         "textposition": "auto",
         "type": "bar",
         "x": [
          "ram (GB)"
         ],
         "xaxis": "x",
         "y": [
          0.2934581590671457
         ],
         "yaxis": "y"
        },
        {
         "alignmentgroup": "True",
         "hovertemplate": "index=%{x}<br>value=%{y}<extra></extra>",
         "legendgroup": "SSD",
         "marker": {
          "color": "rgb(177, 199, 179)",
          "pattern": {
           "shape": ""
          }
         },
         "name": "SSD",
         "offsetgroup": "SSD",
         "orientation": "v",
         "showlegend": true,
         "textposition": "auto",
         "type": "bar",
         "x": [
          "SSD"
         ],
         "xaxis": "x",
         "y": [
          0.2773226202472639
         ],
         "yaxis": "y"
        },
        {
         "alignmentgroup": "True",
         "hovertemplate": "index=%{x}<br>value=%{y}<extra></extra>",
         "legendgroup": "no_of_ratings",
         "marker": {
          "color": "rgb(241, 234, 200)",
          "pattern": {
           "shape": ""
          }
         },
         "name": "no_of_ratings",
         "offsetgroup": "no_of_ratings",
         "orientation": "v",
         "showlegend": true,
         "textposition": "auto",
         "type": "bar",
         "x": [
          "no_of_ratings"
         ],
         "xaxis": "x",
         "y": [
          0.07495530710671502
         ],
         "yaxis": "y"
        },
        {
         "alignmentgroup": "True",
         "hovertemplate": "index=%{x}<br>value=%{y}<extra></extra>",
         "legendgroup": "no_of_reviews",
         "marker": {
          "color": "rgb(229, 185, 173)",
          "pattern": {
           "shape": ""
          }
         },
         "name": "no_of_reviews",
         "offsetgroup": "no_of_reviews",
         "orientation": "v",
         "showlegend": true,
         "textposition": "auto",
         "type": "bar",
         "x": [
          "no_of_reviews"
         ],
         "xaxis": "x",
         "y": [
          0.06284965134523683
         ],
         "yaxis": "y"
        },
        {
         "alignmentgroup": "True",
         "hovertemplate": "index=%{x}<br>value=%{y}<extra></extra>",
         "legendgroup": "display(in inch)",
         "marker": {
          "color": "rgb(217, 137, 148)",
          "pattern": {
           "shape": ""
          }
         },
         "name": "display(in inch)",
         "offsetgroup": "display(in inch)",
         "orientation": "v",
         "showlegend": true,
         "textposition": "auto",
         "type": "bar",
         "x": [
          "display(in inch)"
         ],
         "xaxis": "x",
         "y": [
          0.013906287229026176
         ],
         "yaxis": "y"
        },
        {
         "alignmentgroup": "True",
         "hovertemplate": "index=%{x}<br>value=%{y}<extra></extra>",
         "legendgroup": "storage (GB)",
         "marker": {
          "color": "rgb(208, 88, 126)",
          "pattern": {
           "shape": ""
          }
         },
         "name": "storage (GB)",
         "offsetgroup": "storage (GB)",
         "orientation": "v",
         "showlegend": true,
         "textposition": "auto",
         "type": "bar",
         "x": [
          "storage (GB)"
         ],
         "xaxis": "x",
         "y": [
          -0.05125433069917784
         ],
         "yaxis": "y"
        },
        {
         "alignmentgroup": "True",
         "hovertemplate": "index=%{x}<br>value=%{y}<extra></extra>",
         "legendgroup": "HDD",
         "marker": {
          "color": "rgb(0, 147, 146)",
          "pattern": {
           "shape": ""
          }
         },
         "name": "HDD",
         "offsetgroup": "HDD",
         "orientation": "v",
         "showlegend": true,
         "textposition": "auto",
         "type": "bar",
         "x": [
          "HDD"
         ],
         "xaxis": "x",
         "y": [
          -0.2320802698564842
         ],
         "yaxis": "y"
        }
       ],
       "layout": {
        "barmode": "relative",
        "legend": {
         "title": {
          "text": "index"
         },
         "tracegroupgap": 0
        },
        "template": {
         "data": {
          "bar": [
           {
            "error_x": {
             "color": "#2a3f5f"
            },
            "error_y": {
             "color": "#2a3f5f"
            },
            "marker": {
             "line": {
              "color": "#E5ECF6",
              "width": 0.5
             },
             "pattern": {
              "fillmode": "overlay",
              "size": 10,
              "solidity": 0.2
             }
            },
            "type": "bar"
           }
          ],
          "barpolar": [
           {
            "marker": {
             "line": {
              "color": "#E5ECF6",
              "width": 0.5
             },
             "pattern": {
              "fillmode": "overlay",
              "size": 10,
              "solidity": 0.2
             }
            },
            "type": "barpolar"
           }
          ],
          "carpet": [
           {
            "aaxis": {
             "endlinecolor": "#2a3f5f",
             "gridcolor": "white",
             "linecolor": "white",
             "minorgridcolor": "white",
             "startlinecolor": "#2a3f5f"
            },
            "baxis": {
             "endlinecolor": "#2a3f5f",
             "gridcolor": "white",
             "linecolor": "white",
             "minorgridcolor": "white",
             "startlinecolor": "#2a3f5f"
            },
            "type": "carpet"
           }
          ],
          "choropleth": [
           {
            "colorbar": {
             "outlinewidth": 0,
             "ticks": ""
            },
            "type": "choropleth"
           }
          ],
          "contour": [
           {
            "colorbar": {
             "outlinewidth": 0,
             "ticks": ""
            },
            "colorscale": [
             [
              0,
              "#0d0887"
             ],
             [
              0.1111111111111111,
              "#46039f"
             ],
             [
              0.2222222222222222,
              "#7201a8"
             ],
             [
              0.3333333333333333,
              "#9c179e"
             ],
             [
              0.4444444444444444,
              "#bd3786"
             ],
             [
              0.5555555555555556,
              "#d8576b"
             ],
             [
              0.6666666666666666,
              "#ed7953"
             ],
             [
              0.7777777777777778,
              "#fb9f3a"
             ],
             [
              0.8888888888888888,
              "#fdca26"
             ],
             [
              1,
              "#f0f921"
             ]
            ],
            "type": "contour"
           }
          ],
          "contourcarpet": [
           {
            "colorbar": {
             "outlinewidth": 0,
             "ticks": ""
            },
            "type": "contourcarpet"
           }
          ],
          "heatmap": [
           {
            "colorbar": {
             "outlinewidth": 0,
             "ticks": ""
            },
            "colorscale": [
             [
              0,
              "#0d0887"
             ],
             [
              0.1111111111111111,
              "#46039f"
             ],
             [
              0.2222222222222222,
              "#7201a8"
             ],
             [
              0.3333333333333333,
              "#9c179e"
             ],
             [
              0.4444444444444444,
              "#bd3786"
             ],
             [
              0.5555555555555556,
              "#d8576b"
             ],
             [
              0.6666666666666666,
              "#ed7953"
             ],
             [
              0.7777777777777778,
              "#fb9f3a"
             ],
             [
              0.8888888888888888,
              "#fdca26"
             ],
             [
              1,
              "#f0f921"
             ]
            ],
            "type": "heatmap"
           }
          ],
          "heatmapgl": [
           {
            "colorbar": {
             "outlinewidth": 0,
             "ticks": ""
            },
            "colorscale": [
             [
              0,
              "#0d0887"
             ],
             [
              0.1111111111111111,
              "#46039f"
             ],
             [
              0.2222222222222222,
              "#7201a8"
             ],
             [
              0.3333333333333333,
              "#9c179e"
             ],
             [
              0.4444444444444444,
              "#bd3786"
             ],
             [
              0.5555555555555556,
              "#d8576b"
             ],
             [
              0.6666666666666666,
              "#ed7953"
             ],
             [
              0.7777777777777778,
              "#fb9f3a"
             ],
             [
              0.8888888888888888,
              "#fdca26"
             ],
             [
              1,
              "#f0f921"
             ]
            ],
            "type": "heatmapgl"
           }
          ],
          "histogram": [
           {
            "marker": {
             "pattern": {
              "fillmode": "overlay",
              "size": 10,
              "solidity": 0.2
             }
            },
            "type": "histogram"
           }
          ],
          "histogram2d": [
           {
            "colorbar": {
             "outlinewidth": 0,
             "ticks": ""
            },
            "colorscale": [
             [
              0,
              "#0d0887"
             ],
             [
              0.1111111111111111,
              "#46039f"
             ],
             [
              0.2222222222222222,
              "#7201a8"
             ],
             [
              0.3333333333333333,
              "#9c179e"
             ],
             [
              0.4444444444444444,
              "#bd3786"
             ],
             [
              0.5555555555555556,
              "#d8576b"
             ],
             [
              0.6666666666666666,
              "#ed7953"
             ],
             [
              0.7777777777777778,
              "#fb9f3a"
             ],
             [
              0.8888888888888888,
              "#fdca26"
             ],
             [
              1,
              "#f0f921"
             ]
            ],
            "type": "histogram2d"
           }
          ],
          "histogram2dcontour": [
           {
            "colorbar": {
             "outlinewidth": 0,
             "ticks": ""
            },
            "colorscale": [
             [
              0,
              "#0d0887"
             ],
             [
              0.1111111111111111,
              "#46039f"
             ],
             [
              0.2222222222222222,
              "#7201a8"
             ],
             [
              0.3333333333333333,
              "#9c179e"
             ],
             [
              0.4444444444444444,
              "#bd3786"
             ],
             [
              0.5555555555555556,
              "#d8576b"
             ],
             [
              0.6666666666666666,
              "#ed7953"
             ],
             [
              0.7777777777777778,
              "#fb9f3a"
             ],
             [
              0.8888888888888888,
              "#fdca26"
             ],
             [
              1,
              "#f0f921"
             ]
            ],
            "type": "histogram2dcontour"
           }
          ],
          "mesh3d": [
           {
            "colorbar": {
             "outlinewidth": 0,
             "ticks": ""
            },
            "type": "mesh3d"
           }
          ],
          "parcoords": [
           {
            "line": {
             "colorbar": {
              "outlinewidth": 0,
              "ticks": ""
             }
            },
            "type": "parcoords"
           }
          ],
          "pie": [
           {
            "automargin": true,
            "type": "pie"
           }
          ],
          "scatter": [
           {
            "fillpattern": {
             "fillmode": "overlay",
             "size": 10,
             "solidity": 0.2
            },
            "type": "scatter"
           }
          ],
          "scatter3d": [
           {
            "line": {
             "colorbar": {
              "outlinewidth": 0,
              "ticks": ""
             }
            },
            "marker": {
             "colorbar": {
              "outlinewidth": 0,
              "ticks": ""
             }
            },
            "type": "scatter3d"
           }
          ],
          "scattercarpet": [
           {
            "marker": {
             "colorbar": {
              "outlinewidth": 0,
              "ticks": ""
             }
            },
            "type": "scattercarpet"
           }
          ],
          "scattergeo": [
           {
            "marker": {
             "colorbar": {
              "outlinewidth": 0,
              "ticks": ""
             }
            },
            "type": "scattergeo"
           }
          ],
          "scattergl": [
           {
            "marker": {
             "colorbar": {
              "outlinewidth": 0,
              "ticks": ""
             }
            },
            "type": "scattergl"
           }
          ],
          "scattermapbox": [
           {
            "marker": {
             "colorbar": {
              "outlinewidth": 0,
              "ticks": ""
             }
            },
            "type": "scattermapbox"
           }
          ],
          "scatterpolar": [
           {
            "marker": {
             "colorbar": {
              "outlinewidth": 0,
              "ticks": ""
             }
            },
            "type": "scatterpolar"
           }
          ],
          "scatterpolargl": [
           {
            "marker": {
             "colorbar": {
              "outlinewidth": 0,
              "ticks": ""
             }
            },
            "type": "scatterpolargl"
           }
          ],
          "scatterternary": [
           {
            "marker": {
             "colorbar": {
              "outlinewidth": 0,
              "ticks": ""
             }
            },
            "type": "scatterternary"
           }
          ],
          "surface": [
           {
            "colorbar": {
             "outlinewidth": 0,
             "ticks": ""
            },
            "colorscale": [
             [
              0,
              "#0d0887"
             ],
             [
              0.1111111111111111,
              "#46039f"
             ],
             [
              0.2222222222222222,
              "#7201a8"
             ],
             [
              0.3333333333333333,
              "#9c179e"
             ],
             [
              0.4444444444444444,
              "#bd3786"
             ],
             [
              0.5555555555555556,
              "#d8576b"
             ],
             [
              0.6666666666666666,
              "#ed7953"
             ],
             [
              0.7777777777777778,
              "#fb9f3a"
             ],
             [
              0.8888888888888888,
              "#fdca26"
             ],
             [
              1,
              "#f0f921"
             ]
            ],
            "type": "surface"
           }
          ],
          "table": [
           {
            "cells": {
             "fill": {
              "color": "#EBF0F8"
             },
             "line": {
              "color": "white"
             }
            },
            "header": {
             "fill": {
              "color": "#C8D4E3"
             },
             "line": {
              "color": "white"
             }
            },
            "type": "table"
           }
          ]
         },
         "layout": {
          "annotationdefaults": {
           "arrowcolor": "#2a3f5f",
           "arrowhead": 0,
           "arrowwidth": 1
          },
          "autotypenumbers": "strict",
          "coloraxis": {
           "colorbar": {
            "outlinewidth": 0,
            "ticks": ""
           }
          },
          "colorscale": {
           "diverging": [
            [
             0,
             "#8e0152"
            ],
            [
             0.1,
             "#c51b7d"
            ],
            [
             0.2,
             "#de77ae"
            ],
            [
             0.3,
             "#f1b6da"
            ],
            [
             0.4,
             "#fde0ef"
            ],
            [
             0.5,
             "#f7f7f7"
            ],
            [
             0.6,
             "#e6f5d0"
            ],
            [
             0.7,
             "#b8e186"
            ],
            [
             0.8,
             "#7fbc41"
            ],
            [
             0.9,
             "#4d9221"
            ],
            [
             1,
             "#276419"
            ]
           ],
           "sequential": [
            [
             0,
             "#0d0887"
            ],
            [
             0.1111111111111111,
             "#46039f"
            ],
            [
             0.2222222222222222,
             "#7201a8"
            ],
            [
             0.3333333333333333,
             "#9c179e"
            ],
            [
             0.4444444444444444,
             "#bd3786"
            ],
            [
             0.5555555555555556,
             "#d8576b"
            ],
            [
             0.6666666666666666,
             "#ed7953"
            ],
            [
             0.7777777777777778,
             "#fb9f3a"
            ],
            [
             0.8888888888888888,
             "#fdca26"
            ],
            [
             1,
             "#f0f921"
            ]
           ],
           "sequentialminus": [
            [
             0,
             "#0d0887"
            ],
            [
             0.1111111111111111,
             "#46039f"
            ],
            [
             0.2222222222222222,
             "#7201a8"
            ],
            [
             0.3333333333333333,
             "#9c179e"
            ],
            [
             0.4444444444444444,
             "#bd3786"
            ],
            [
             0.5555555555555556,
             "#d8576b"
            ],
            [
             0.6666666666666666,
             "#ed7953"
            ],
            [
             0.7777777777777778,
             "#fb9f3a"
            ],
            [
             0.8888888888888888,
             "#fdca26"
            ],
            [
             1,
             "#f0f921"
            ]
           ]
          },
          "colorway": [
           "#636efa",
           "#EF553B",
           "#00cc96",
           "#ab63fa",
           "#FFA15A",
           "#19d3f3",
           "#FF6692",
           "#B6E880",
           "#FF97FF",
           "#FECB52"
          ],
          "font": {
           "color": "#2a3f5f"
          },
          "geo": {
           "bgcolor": "white",
           "lakecolor": "white",
           "landcolor": "#E5ECF6",
           "showlakes": true,
           "showland": true,
           "subunitcolor": "white"
          },
          "hoverlabel": {
           "align": "left"
          },
          "hovermode": "closest",
          "mapbox": {
           "style": "light"
          },
          "paper_bgcolor": "white",
          "plot_bgcolor": "#E5ECF6",
          "polar": {
           "angularaxis": {
            "gridcolor": "white",
            "linecolor": "white",
            "ticks": ""
           },
           "bgcolor": "#E5ECF6",
           "radialaxis": {
            "gridcolor": "white",
            "linecolor": "white",
            "ticks": ""
           }
          },
          "scene": {
           "xaxis": {
            "backgroundcolor": "#E5ECF6",
            "gridcolor": "white",
            "gridwidth": 2,
            "linecolor": "white",
            "showbackground": true,
            "ticks": "",
            "zerolinecolor": "white"
           },
           "yaxis": {
            "backgroundcolor": "#E5ECF6",
            "gridcolor": "white",
            "gridwidth": 2,
            "linecolor": "white",
            "showbackground": true,
            "ticks": "",
            "zerolinecolor": "white"
           },
           "zaxis": {
            "backgroundcolor": "#E5ECF6",
            "gridcolor": "white",
            "gridwidth": 2,
            "linecolor": "white",
            "showbackground": true,
            "ticks": "",
            "zerolinecolor": "white"
           }
          },
          "shapedefaults": {
           "line": {
            "color": "#2a3f5f"
           }
          },
          "ternary": {
           "aaxis": {
            "gridcolor": "white",
            "linecolor": "white",
            "ticks": ""
           },
           "baxis": {
            "gridcolor": "white",
            "linecolor": "white",
            "ticks": ""
           },
           "bgcolor": "#E5ECF6",
           "caxis": {
            "gridcolor": "white",
            "linecolor": "white",
            "ticks": ""
           }
          },
          "title": {
           "x": 0.05
          },
          "xaxis": {
           "automargin": true,
           "gridcolor": "white",
           "linecolor": "white",
           "ticks": "",
           "title": {
            "standoff": 15
           },
           "zerolinecolor": "white",
           "zerolinewidth": 2
          },
          "yaxis": {
           "automargin": true,
           "gridcolor": "white",
           "linecolor": "white",
           "ticks": "",
           "title": {
            "standoff": 15
           },
           "zerolinecolor": "white",
           "zerolinewidth": 2
          }
         }
        },
        "title": {
         "text": "Диаграмма корреляций рейтинга с остальными переменными"
        },
        "xaxis": {
         "anchor": "y",
         "categoryarray": [
          "price(in Rs.)",
          "ram (GB)",
          "SSD",
          "no_of_ratings",
          "no_of_reviews",
          "display(in inch)",
          "storage (GB)",
          "HDD"
         ],
         "categoryorder": "array",
         "domain": [
          0,
          1
         ],
         "title": {
          "text": "index"
         }
        },
        "yaxis": {
         "anchor": "x",
         "domain": [
          0,
          1
         ],
         "title": {
          "text": "value"
         }
        }
       }
      }
     },
     "metadata": {},
     "output_type": "display_data"
    }
   ],
   "source": [
    "# матрица для признаков, исключая рейтинг\n",
    "fig = px.imshow(\n",
    "    corr.drop('rating').drop('rating', axis=1),\n",
    "    color_continuous_scale=px.colors.diverging.Tealrose,\n",
    "    title='Матрица корреляции (исключая рейтинг) - тепловая карта')\n",
    "fig.show()\n",
    "fig.write_html(\"plotly/corr.html\")\n",
    "\n",
    "# корреляции с рейтингом\n",
    "rating_corr = corr['rating'].sort_values(ascending=False)[1:]\n",
    "bar = px.bar(rating_corr,\n",
    "             color=rating_corr.index,\n",
    "             color_discrete_sequence=px.colors.diverging.Tealrose,\n",
    "             title='Диаграмма корреляций рейтинга с остальными переменными')\n",
    "bar.show()\n",
    "bar.write_html(\"plotly/rating_corr.html\")"
   ]
  },
  {
   "cell_type": "markdown",
   "metadata": {},
   "source": [
    "Сильная корреляция наблюдается между количеством отзывов и оценок, что логично: когда пишут отзыв обычно ставят и оценку. Также есть средняя связь объема системной памяти и типом ее носителя (чаще встречаются твердотельные накопители SSD; реже бывает оба типа сразу, но это увеличивает общий объем). Обнаруживается корреляция 0.7 между цены с оперативной памятью и слабая корреляция (0.35) с системной памятью, то есть можно предположить, что цена помышается при большей доступной памяти.\n",
    "\n",
    "Переменная рейтинга слабо (~0.3) коррелирует с ценой и с оперативной памятью, и еще более слабо - с SSD (положительно) и HDD (отрицательно), что подтверждает ранее сделанные выводы."
   ]
  },
  {
   "cell_type": "markdown",
   "metadata": {},
   "source": [
    "## 5. Общий вывод по исследуемому датасету\n",
    "\n",
    "В результате анализа выделены оптимальные параметры для ноутбука:\n",
    "- операционная система - MAC OS или Windows 11 (последняя более рспространена)\n",
    "- тип хранения системной памяти - твердотельный накопитель (SSD)\n",
    "- объем системной памяти - 1 Тб и 512 Гб (последний более рспространен)\n",
    "- объем оперативной памяти - 16 Гб\n",
    "- размер экрана - 13.3 и 15.6 дюймов (последний более рспространен)\n",
    "\n",
    "Возможные способы применения полученных результатов анализа данных:\n",
    " 1. рекомендация производителям ноутбуков выбирать популярные параметры: системная память - SSD 512 Гб, экран - 15.6 дюймов, оперативная память - 16 Гб, операционная система - Windows 11 (или выпускать компьютер без ОС, с возможностью установки желаемой системы при покупке). При этом следует учитывать и другие варианты, например, большие объемы памяти или меньший размер дисплея, которые могут быть актуальны для отдельных групп покупателей.\n",
    " \n",
    " 2. для покупателей данные о рейтинге в зависимости от различных параметров могут помочь при выборе нового ноутбука. Основываясь на приведенных выше характеристиках, отобранных по медианным значениям рейтинга и по частоте встречаемости, пользователь может выбрать оптимальные параметры, необходимые для его задач, а также учесть распределение торговых марок (среди рассмотренных в датасете приоритетным брендом является ASUS). Для конкретизации выбора уже, конечно, потребуется прочитать отзывы на выделенные модели ноутбуков."
   ]
  }
 ],
 "metadata": {
  "kernelspec": {
   "display_name": "Python 3",
   "language": "python",
   "name": "python3"
  },
  "language_info": {
   "codemirror_mode": {
    "name": "ipython",
    "version": 3
   },
   "file_extension": ".py",
   "mimetype": "text/x-python",
   "name": "python",
   "nbconvert_exporter": "python",
   "pygments_lexer": "ipython3",
   "version": "3.9.10"
  }
 },
 "nbformat": 4,
 "nbformat_minor": 2
}
