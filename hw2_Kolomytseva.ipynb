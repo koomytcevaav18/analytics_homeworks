{
  "cells": [
    {
      "cell_type": "markdown",
      "metadata": {
        "id": "onfETwlMbmpz"
      },
      "source": [
        "# Аналитика данных. Домашнее задание 2. Коломыцева Анна"
      ]
    },
    {
      "cell_type": "code",
      "execution_count": 2,
      "metadata": {
        "id": "0UW3Go3nbmp3"
      },
      "outputs": [],
      "source": [
        "# импортируем библиотеки\n",
        "import numpy as np\n",
        "import pandas as pd\n",
        "from scipy import stats\n",
        "import matplotlib.pyplot as plt"
      ]
    },
    {
      "cell_type": "code",
      "execution_count": 3,
      "metadata": {
        "id": "5_IZ5VRIbmp5"
      },
      "outputs": [],
      "source": [
        "# считываем данные в dataframe, используя шаблон адреса url_template, перебирая года в цикле\n",
        "tennis_df = pd.read_csv('https://raw.githubusercontent.com/JeffSackmann/tennis_atp/master/atp_matches_1968.csv')\n",
        "url_template = 'https://raw.githubusercontent.com/JeffSackmann/tennis_atp/master/atp_matches_{}.csv'\n",
        "\n",
        "for year in range(1969, 2024):\n",
        "    df_to_append = pd.read_csv(url_template.format(year))\n",
        "    tennis_df = pd.concat([tennis_df, df_to_append])"
      ]
    },
    {
      "cell_type": "code",
      "execution_count": 4,
      "metadata": {
        "colab": {
          "base_uri": "https://localhost:8080/",
          "height": 255
        },
        "id": "rq8sPODObmp6",
        "outputId": "6694d8a3-e64d-4e88-c553-93fbd0a089be"
      },
      "outputs": [
        {
          "data": {
            "text/html": [
              "<div>\n",
              "<style scoped>\n",
              "    .dataframe tbody tr th:only-of-type {\n",
              "        vertical-align: middle;\n",
              "    }\n",
              "\n",
              "    .dataframe tbody tr th {\n",
              "        vertical-align: top;\n",
              "    }\n",
              "\n",
              "    .dataframe thead th {\n",
              "        text-align: right;\n",
              "    }\n",
              "</style>\n",
              "<table border=\"1\" class=\"dataframe\">\n",
              "  <thead>\n",
              "    <tr style=\"text-align: right;\">\n",
              "      <th></th>\n",
              "      <th>tourney_id</th>\n",
              "      <th>tourney_name</th>\n",
              "      <th>surface</th>\n",
              "      <th>draw_size</th>\n",
              "      <th>tourney_level</th>\n",
              "      <th>tourney_date</th>\n",
              "      <th>match_num</th>\n",
              "      <th>winner_id</th>\n",
              "      <th>winner_seed</th>\n",
              "      <th>winner_entry</th>\n",
              "      <th>...</th>\n",
              "      <th>l_1stIn</th>\n",
              "      <th>l_1stWon</th>\n",
              "      <th>l_2ndWon</th>\n",
              "      <th>l_SvGms</th>\n",
              "      <th>l_bpSaved</th>\n",
              "      <th>l_bpFaced</th>\n",
              "      <th>winner_rank</th>\n",
              "      <th>winner_rank_points</th>\n",
              "      <th>loser_rank</th>\n",
              "      <th>loser_rank_points</th>\n",
              "    </tr>\n",
              "  </thead>\n",
              "  <tbody>\n",
              "    <tr>\n",
              "      <th>3045</th>\n",
              "      <td>1991-D006</td>\n",
              "      <td>Davis Cup WG PO: GBR vs AUT</td>\n",
              "      <td>Grass</td>\n",
              "      <td>4.0</td>\n",
              "      <td>D</td>\n",
              "      <td>19910920</td>\n",
              "      <td>2</td>\n",
              "      <td>101783</td>\n",
              "      <td>NaN</td>\n",
              "      <td>NaN</td>\n",
              "      <td>...</td>\n",
              "      <td>NaN</td>\n",
              "      <td>NaN</td>\n",
              "      <td>NaN</td>\n",
              "      <td>NaN</td>\n",
              "      <td>NaN</td>\n",
              "      <td>NaN</td>\n",
              "      <td>324.0</td>\n",
              "      <td>67.0</td>\n",
              "      <td>38.0</td>\n",
              "      <td>768.0</td>\n",
              "    </tr>\n",
              "    <tr>\n",
              "      <th>2954</th>\n",
              "      <td>2005-D007</td>\n",
              "      <td>Davis Cup WG R1: ROU vs BLR</td>\n",
              "      <td>Clay</td>\n",
              "      <td>4.0</td>\n",
              "      <td>D</td>\n",
              "      <td>20050304</td>\n",
              "      <td>2</td>\n",
              "      <td>102318</td>\n",
              "      <td>NaN</td>\n",
              "      <td>NaN</td>\n",
              "      <td>...</td>\n",
              "      <td>NaN</td>\n",
              "      <td>NaN</td>\n",
              "      <td>NaN</td>\n",
              "      <td>NaN</td>\n",
              "      <td>NaN</td>\n",
              "      <td>NaN</td>\n",
              "      <td>24.0</td>\n",
              "      <td>1210.0</td>\n",
              "      <td>168.0</td>\n",
              "      <td>266.0</td>\n",
              "    </tr>\n",
              "    <tr>\n",
              "      <th>180</th>\n",
              "      <td>1990-580</td>\n",
              "      <td>Australian Open</td>\n",
              "      <td>Hard</td>\n",
              "      <td>128.0</td>\n",
              "      <td>G</td>\n",
              "      <td>19900115</td>\n",
              "      <td>57</td>\n",
              "      <td>101036</td>\n",
              "      <td>16.0</td>\n",
              "      <td>NaN</td>\n",
              "      <td>...</td>\n",
              "      <td>NaN</td>\n",
              "      <td>NaN</td>\n",
              "      <td>NaN</td>\n",
              "      <td>NaN</td>\n",
              "      <td>NaN</td>\n",
              "      <td>NaN</td>\n",
              "      <td>25.0</td>\n",
              "      <td>613.0</td>\n",
              "      <td>64.0</td>\n",
              "      <td>325.0</td>\n",
              "    </tr>\n",
              "    <tr>\n",
              "      <th>556</th>\n",
              "      <td>1983-321</td>\n",
              "      <td>Stuttgart Outdoor</td>\n",
              "      <td>Clay</td>\n",
              "      <td>32.0</td>\n",
              "      <td>A</td>\n",
              "      <td>19830711</td>\n",
              "      <td>28</td>\n",
              "      <td>100579</td>\n",
              "      <td>NaN</td>\n",
              "      <td>NaN</td>\n",
              "      <td>...</td>\n",
              "      <td>NaN</td>\n",
              "      <td>NaN</td>\n",
              "      <td>NaN</td>\n",
              "      <td>NaN</td>\n",
              "      <td>NaN</td>\n",
              "      <td>NaN</td>\n",
              "      <td>40.0</td>\n",
              "      <td>NaN</td>\n",
              "      <td>NaN</td>\n",
              "      <td>NaN</td>\n",
              "    </tr>\n",
              "    <tr>\n",
              "      <th>409</th>\n",
              "      <td>2005-321</td>\n",
              "      <td>Stuttgart</td>\n",
              "      <td>Clay</td>\n",
              "      <td>48.0</td>\n",
              "      <td>A</td>\n",
              "      <td>20050718</td>\n",
              "      <td>13</td>\n",
              "      <td>102783</td>\n",
              "      <td>NaN</td>\n",
              "      <td>NaN</td>\n",
              "      <td>...</td>\n",
              "      <td>50.0</td>\n",
              "      <td>25.0</td>\n",
              "      <td>18.0</td>\n",
              "      <td>11.0</td>\n",
              "      <td>7.0</td>\n",
              "      <td>11.0</td>\n",
              "      <td>89.0</td>\n",
              "      <td>450.0</td>\n",
              "      <td>122.0</td>\n",
              "      <td>353.0</td>\n",
              "    </tr>\n",
              "  </tbody>\n",
              "</table>\n",
              "<p>5 rows × 49 columns</p>\n",
              "</div>"
            ],
            "text/plain": [
              "     tourney_id                 tourney_name surface  draw_size tourney_level  \\\n",
              "3045  1991-D006  Davis Cup WG PO: GBR vs AUT   Grass        4.0             D   \n",
              "2954  2005-D007  Davis Cup WG R1: ROU vs BLR    Clay        4.0             D   \n",
              "180    1990-580              Australian Open    Hard      128.0             G   \n",
              "556    1983-321            Stuttgart Outdoor    Clay       32.0             A   \n",
              "409    2005-321                    Stuttgart    Clay       48.0             A   \n",
              "\n",
              "      tourney_date  match_num  winner_id  winner_seed winner_entry  ...  \\\n",
              "3045      19910920          2     101783          NaN          NaN  ...   \n",
              "2954      20050304          2     102318          NaN          NaN  ...   \n",
              "180       19900115         57     101036         16.0          NaN  ...   \n",
              "556       19830711         28     100579          NaN          NaN  ...   \n",
              "409       20050718         13     102783          NaN          NaN  ...   \n",
              "\n",
              "     l_1stIn l_1stWon  l_2ndWon l_SvGms  l_bpSaved  l_bpFaced  winner_rank  \\\n",
              "3045     NaN      NaN       NaN     NaN        NaN        NaN        324.0   \n",
              "2954     NaN      NaN       NaN     NaN        NaN        NaN         24.0   \n",
              "180      NaN      NaN       NaN     NaN        NaN        NaN         25.0   \n",
              "556      NaN      NaN       NaN     NaN        NaN        NaN         40.0   \n",
              "409     50.0     25.0      18.0    11.0        7.0       11.0         89.0   \n",
              "\n",
              "     winner_rank_points loser_rank loser_rank_points  \n",
              "3045               67.0       38.0             768.0  \n",
              "2954             1210.0      168.0             266.0  \n",
              "180               613.0       64.0             325.0  \n",
              "556                 NaN        NaN               NaN  \n",
              "409               450.0      122.0             353.0  \n",
              "\n",
              "[5 rows x 49 columns]"
            ]
          },
          "metadata": {},
          "output_type": "display_data"
        }
      ],
      "source": [
        "display(tennis_df.sample(5))"
      ]
    },
    {
      "cell_type": "code",
      "execution_count": 5,
      "metadata": {
        "colab": {
          "base_uri": "https://localhost:8080/"
        },
        "id": "Z_VIc7kYbmp6",
        "outputId": "4b739874-2db3-4ff1-f51d-e1fa83b7e879"
      },
      "outputs": [
        {
          "name": "stdout",
          "output_type": "stream",
          "text": [
            "<class 'pandas.core.frame.DataFrame'>\n",
            "Int64Index: 191920 entries, 0 to 2985\n",
            "Data columns (total 49 columns):\n",
            " #   Column              Non-Null Count   Dtype  \n",
            "---  ------              --------------   -----  \n",
            " 0   tourney_id          191920 non-null  object \n",
            " 1   tourney_name        191920 non-null  object \n",
            " 2   surface             188930 non-null  object \n",
            " 3   draw_size           191085 non-null  float64\n",
            " 4   tourney_level       191920 non-null  object \n",
            " 5   tourney_date        191920 non-null  int64  \n",
            " 6   match_num           191920 non-null  int64  \n",
            " 7   winner_id           191920 non-null  int64  \n",
            " 8   winner_seed         70926 non-null   float64\n",
            " 9   winner_entry        16743 non-null   object \n",
            " 10  winner_name         191920 non-null  object \n",
            " 11  winner_hand         191910 non-null  object \n",
            " 12  winner_ht           175012 non-null  float64\n",
            " 13  winner_ioc          191912 non-null  object \n",
            " 14  winner_age          190610 non-null  float64\n",
            " 15  loser_id            191920 non-null  int64  \n",
            " 16  loser_seed          36099 non-null   float64\n",
            " 17  loser_entry         28424 non-null   object \n",
            " 18  loser_name          191920 non-null  object \n",
            " 19  loser_hand          191871 non-null  object \n",
            " 20  loser_ht            162260 non-null  float64\n",
            " 21  loser_ioc           191848 non-null  object \n",
            " 22  loser_age           187266 non-null  float64\n",
            " 23  score               191911 non-null  object \n",
            " 24  best_of             191920 non-null  int64  \n",
            " 25  round               191920 non-null  object \n",
            " 26  minutes             92267 non-null   float64\n",
            " 27  w_ace               95035 non-null   float64\n",
            " 28  w_df                95034 non-null   float64\n",
            " 29  w_svpt              95034 non-null   float64\n",
            " 30  w_1stIn             95034 non-null   float64\n",
            " 31  w_1stWon            95034 non-null   float64\n",
            " 32  w_2ndWon            95034 non-null   float64\n",
            " 33  w_SvGms             95035 non-null   float64\n",
            " 34  w_bpSaved           95034 non-null   float64\n",
            " 35  w_bpFaced           95034 non-null   float64\n",
            " 36  l_ace               95034 non-null   float64\n",
            " 37  l_df                95035 non-null   float64\n",
            " 38  l_svpt              95034 non-null   float64\n",
            " 39  l_1stIn             95034 non-null   float64\n",
            " 40  l_1stWon            95034 non-null   float64\n",
            " 41  l_2ndWon            95034 non-null   float64\n",
            " 42  l_SvGms             95035 non-null   float64\n",
            " 43  l_bpSaved           95034 non-null   float64\n",
            " 44  l_bpFaced           95034 non-null   float64\n",
            " 45  winner_rank         156162 non-null  float64\n",
            " 46  winner_rank_points  108939 non-null  float64\n",
            " 47  loser_rank          147790 non-null  float64\n",
            " 48  loser_rank_points   107310 non-null  float64\n",
            "dtypes: float64(30), int64(5), object(14)\n",
            "memory usage: 73.2+ MB\n"
          ]
        }
      ],
      "source": [
        "tennis_df.info()"
      ]
    },
    {
      "cell_type": "code",
      "execution_count": 6,
      "metadata": {
        "colab": {
          "base_uri": "https://localhost:8080/",
          "height": 443
        },
        "id": "Z7a0exIPbmp7",
        "outputId": "6492be33-9b36-4c5a-9fdd-05fc3db774ef"
      },
      "outputs": [
        {
          "data": {
            "text/html": [
              "<div>\n",
              "<style scoped>\n",
              "    .dataframe tbody tr th:only-of-type {\n",
              "        vertical-align: middle;\n",
              "    }\n",
              "\n",
              "    .dataframe tbody tr th {\n",
              "        vertical-align: top;\n",
              "    }\n",
              "\n",
              "    .dataframe thead th {\n",
              "        text-align: right;\n",
              "    }\n",
              "</style>\n",
              "<table border=\"1\" class=\"dataframe\">\n",
              "  <thead>\n",
              "    <tr style=\"text-align: right;\">\n",
              "      <th></th>\n",
              "      <th>tourney_id</th>\n",
              "      <th>tourney_name</th>\n",
              "      <th>surface</th>\n",
              "      <th>draw_size</th>\n",
              "      <th>tourney_level</th>\n",
              "      <th>tourney_date</th>\n",
              "      <th>match_num</th>\n",
              "      <th>winner_id</th>\n",
              "      <th>winner_seed</th>\n",
              "      <th>winner_entry</th>\n",
              "      <th>...</th>\n",
              "      <th>l_1stIn</th>\n",
              "      <th>l_1stWon</th>\n",
              "      <th>l_2ndWon</th>\n",
              "      <th>l_SvGms</th>\n",
              "      <th>l_bpSaved</th>\n",
              "      <th>l_bpFaced</th>\n",
              "      <th>winner_rank</th>\n",
              "      <th>winner_rank_points</th>\n",
              "      <th>loser_rank</th>\n",
              "      <th>loser_rank_points</th>\n",
              "    </tr>\n",
              "  </thead>\n",
              "  <tbody>\n",
              "    <tr>\n",
              "      <th>count</th>\n",
              "      <td>191920</td>\n",
              "      <td>191920</td>\n",
              "      <td>188930</td>\n",
              "      <td>191085.000000</td>\n",
              "      <td>191920</td>\n",
              "      <td>1.919200e+05</td>\n",
              "      <td>191920.000000</td>\n",
              "      <td>191920.000000</td>\n",
              "      <td>70926.000000</td>\n",
              "      <td>16743</td>\n",
              "      <td>...</td>\n",
              "      <td>95034.000000</td>\n",
              "      <td>95034.000000</td>\n",
              "      <td>95034.000000</td>\n",
              "      <td>95035.000000</td>\n",
              "      <td>95034.000000</td>\n",
              "      <td>95034.000000</td>\n",
              "      <td>156162.000000</td>\n",
              "      <td>108939.000000</td>\n",
              "      <td>147790.000000</td>\n",
              "      <td>107310.000000</td>\n",
              "    </tr>\n",
              "    <tr>\n",
              "      <th>unique</th>\n",
              "      <td>8303</td>\n",
              "      <td>4098</td>\n",
              "      <td>4</td>\n",
              "      <td>NaN</td>\n",
              "      <td>5</td>\n",
              "      <td>NaN</td>\n",
              "      <td>NaN</td>\n",
              "      <td>NaN</td>\n",
              "      <td>NaN</td>\n",
              "      <td>7</td>\n",
              "      <td>...</td>\n",
              "      <td>NaN</td>\n",
              "      <td>NaN</td>\n",
              "      <td>NaN</td>\n",
              "      <td>NaN</td>\n",
              "      <td>NaN</td>\n",
              "      <td>NaN</td>\n",
              "      <td>NaN</td>\n",
              "      <td>NaN</td>\n",
              "      <td>NaN</td>\n",
              "      <td>NaN</td>\n",
              "    </tr>\n",
              "    <tr>\n",
              "      <th>top</th>\n",
              "      <td>2020-520</td>\n",
              "      <td>Roland Garros</td>\n",
              "      <td>Hard</td>\n",
              "      <td>NaN</td>\n",
              "      <td>A</td>\n",
              "      <td>NaN</td>\n",
              "      <td>NaN</td>\n",
              "      <td>NaN</td>\n",
              "      <td>NaN</td>\n",
              "      <td>Q</td>\n",
              "      <td>...</td>\n",
              "      <td>NaN</td>\n",
              "      <td>NaN</td>\n",
              "      <td>NaN</td>\n",
              "      <td>NaN</td>\n",
              "      <td>NaN</td>\n",
              "      <td>NaN</td>\n",
              "      <td>NaN</td>\n",
              "      <td>NaN</td>\n",
              "      <td>NaN</td>\n",
              "      <td>NaN</td>\n",
              "    </tr>\n",
              "    <tr>\n",
              "      <th>freq</th>\n",
              "      <td>127</td>\n",
              "      <td>7064</td>\n",
              "      <td>76518</td>\n",
              "      <td>NaN</td>\n",
              "      <td>126189</td>\n",
              "      <td>NaN</td>\n",
              "      <td>NaN</td>\n",
              "      <td>NaN</td>\n",
              "      <td>NaN</td>\n",
              "      <td>10397</td>\n",
              "      <td>...</td>\n",
              "      <td>NaN</td>\n",
              "      <td>NaN</td>\n",
              "      <td>NaN</td>\n",
              "      <td>NaN</td>\n",
              "      <td>NaN</td>\n",
              "      <td>NaN</td>\n",
              "      <td>NaN</td>\n",
              "      <td>NaN</td>\n",
              "      <td>NaN</td>\n",
              "      <td>NaN</td>\n",
              "    </tr>\n",
              "    <tr>\n",
              "      <th>mean</th>\n",
              "      <td>NaN</td>\n",
              "      <td>NaN</td>\n",
              "      <td>NaN</td>\n",
              "      <td>53.088479</td>\n",
              "      <td>NaN</td>\n",
              "      <td>1.993711e+07</td>\n",
              "      <td>79.398656</td>\n",
              "      <td>104499.014537</td>\n",
              "      <td>6.308279</td>\n",
              "      <td>NaN</td>\n",
              "      <td>...</td>\n",
              "      <td>48.089421</td>\n",
              "      <td>31.962361</td>\n",
              "      <td>14.972936</td>\n",
              "      <td>12.206229</td>\n",
              "      <td>4.808942</td>\n",
              "      <td>8.730570</td>\n",
              "      <td>75.262266</td>\n",
              "      <td>1375.872589</td>\n",
              "      <td>112.914778</td>\n",
              "      <td>865.961504</td>\n",
              "    </tr>\n",
              "    <tr>\n",
              "      <th>std</th>\n",
              "      <td>NaN</td>\n",
              "      <td>NaN</td>\n",
              "      <td>NaN</td>\n",
              "      <td>36.645414</td>\n",
              "      <td>NaN</td>\n",
              "      <td>1.581156e+05</td>\n",
              "      <td>111.963129</td>\n",
              "      <td>13664.799449</td>\n",
              "      <td>5.547887</td>\n",
              "      <td>NaN</td>\n",
              "      <td>...</td>\n",
              "      <td>19.378619</td>\n",
              "      <td>14.447415</td>\n",
              "      <td>7.207299</td>\n",
              "      <td>4.131171</td>\n",
              "      <td>3.275134</td>\n",
              "      <td>4.132557</td>\n",
              "      <td>121.010337</td>\n",
              "      <td>1729.710794</td>\n",
              "      <td>162.623743</td>\n",
              "      <td>993.834468</td>\n",
              "    </tr>\n",
              "    <tr>\n",
              "      <th>min</th>\n",
              "      <td>NaN</td>\n",
              "      <td>NaN</td>\n",
              "      <td>NaN</td>\n",
              "      <td>2.000000</td>\n",
              "      <td>NaN</td>\n",
              "      <td>1.967123e+07</td>\n",
              "      <td>1.000000</td>\n",
              "      <td>100001.000000</td>\n",
              "      <td>1.000000</td>\n",
              "      <td>NaN</td>\n",
              "      <td>...</td>\n",
              "      <td>0.000000</td>\n",
              "      <td>0.000000</td>\n",
              "      <td>0.000000</td>\n",
              "      <td>0.000000</td>\n",
              "      <td>-6.000000</td>\n",
              "      <td>0.000000</td>\n",
              "      <td>1.000000</td>\n",
              "      <td>0.000000</td>\n",
              "      <td>1.000000</td>\n",
              "      <td>0.000000</td>\n",
              "    </tr>\n",
              "    <tr>\n",
              "      <th>25%</th>\n",
              "      <td>NaN</td>\n",
              "      <td>NaN</td>\n",
              "      <td>NaN</td>\n",
              "      <td>32.000000</td>\n",
              "      <td>NaN</td>\n",
              "      <td>1.980051e+07</td>\n",
              "      <td>11.000000</td>\n",
              "      <td>100417.000000</td>\n",
              "      <td>2.000000</td>\n",
              "      <td>NaN</td>\n",
              "      <td>...</td>\n",
              "      <td>34.000000</td>\n",
              "      <td>22.000000</td>\n",
              "      <td>10.000000</td>\n",
              "      <td>9.000000</td>\n",
              "      <td>2.000000</td>\n",
              "      <td>6.000000</td>\n",
              "      <td>17.000000</td>\n",
              "      <td>494.000000</td>\n",
              "      <td>37.000000</td>\n",
              "      <td>365.000000</td>\n",
              "    </tr>\n",
              "    <tr>\n",
              "      <th>50%</th>\n",
              "      <td>NaN</td>\n",
              "      <td>NaN</td>\n",
              "      <td>NaN</td>\n",
              "      <td>32.000000</td>\n",
              "      <td>NaN</td>\n",
              "      <td>1.993052e+07</td>\n",
              "      <td>25.000000</td>\n",
              "      <td>101733.000000</td>\n",
              "      <td>5.000000</td>\n",
              "      <td>NaN</td>\n",
              "      <td>...</td>\n",
              "      <td>45.000000</td>\n",
              "      <td>30.000000</td>\n",
              "      <td>14.000000</td>\n",
              "      <td>11.000000</td>\n",
              "      <td>4.000000</td>\n",
              "      <td>8.000000</td>\n",
              "      <td>45.000000</td>\n",
              "      <td>850.000000</td>\n",
              "      <td>70.000000</td>\n",
              "      <td>635.000000</td>\n",
              "    </tr>\n",
              "    <tr>\n",
              "      <th>75%</th>\n",
              "      <td>NaN</td>\n",
              "      <td>NaN</td>\n",
              "      <td>NaN</td>\n",
              "      <td>64.000000</td>\n",
              "      <td>NaN</td>\n",
              "      <td>2.007032e+07</td>\n",
              "      <td>94.000000</td>\n",
              "      <td>103990.000000</td>\n",
              "      <td>8.000000</td>\n",
              "      <td>NaN</td>\n",
              "      <td>...</td>\n",
              "      <td>58.000000</td>\n",
              "      <td>40.000000</td>\n",
              "      <td>19.000000</td>\n",
              "      <td>15.000000</td>\n",
              "      <td>7.000000</td>\n",
              "      <td>11.000000</td>\n",
              "      <td>86.000000</td>\n",
              "      <td>1540.000000</td>\n",
              "      <td>118.000000</td>\n",
              "      <td>1015.000000</td>\n",
              "    </tr>\n",
              "    <tr>\n",
              "      <th>max</th>\n",
              "      <td>NaN</td>\n",
              "      <td>NaN</td>\n",
              "      <td>NaN</td>\n",
              "      <td>128.000000</td>\n",
              "      <td>NaN</td>\n",
              "      <td>2.023113e+07</td>\n",
              "      <td>1701.000000</td>\n",
              "      <td>212428.000000</td>\n",
              "      <td>35.000000</td>\n",
              "      <td>NaN</td>\n",
              "      <td>...</td>\n",
              "      <td>328.000000</td>\n",
              "      <td>284.000000</td>\n",
              "      <td>101.000000</td>\n",
              "      <td>91.000000</td>\n",
              "      <td>28.000000</td>\n",
              "      <td>38.000000</td>\n",
              "      <td>2101.000000</td>\n",
              "      <td>16950.000000</td>\n",
              "      <td>2159.000000</td>\n",
              "      <td>16950.000000</td>\n",
              "    </tr>\n",
              "  </tbody>\n",
              "</table>\n",
              "<p>11 rows × 49 columns</p>\n",
              "</div>"
            ],
            "text/plain": [
              "       tourney_id   tourney_name surface      draw_size tourney_level  \\\n",
              "count      191920         191920  188930  191085.000000        191920   \n",
              "unique       8303           4098       4            NaN             5   \n",
              "top      2020-520  Roland Garros    Hard            NaN             A   \n",
              "freq          127           7064   76518            NaN        126189   \n",
              "mean          NaN            NaN     NaN      53.088479           NaN   \n",
              "std           NaN            NaN     NaN      36.645414           NaN   \n",
              "min           NaN            NaN     NaN       2.000000           NaN   \n",
              "25%           NaN            NaN     NaN      32.000000           NaN   \n",
              "50%           NaN            NaN     NaN      32.000000           NaN   \n",
              "75%           NaN            NaN     NaN      64.000000           NaN   \n",
              "max           NaN            NaN     NaN     128.000000           NaN   \n",
              "\n",
              "        tourney_date      match_num      winner_id   winner_seed winner_entry  \\\n",
              "count   1.919200e+05  191920.000000  191920.000000  70926.000000        16743   \n",
              "unique           NaN            NaN            NaN           NaN            7   \n",
              "top              NaN            NaN            NaN           NaN            Q   \n",
              "freq             NaN            NaN            NaN           NaN        10397   \n",
              "mean    1.993711e+07      79.398656  104499.014537      6.308279          NaN   \n",
              "std     1.581156e+05     111.963129   13664.799449      5.547887          NaN   \n",
              "min     1.967123e+07       1.000000  100001.000000      1.000000          NaN   \n",
              "25%     1.980051e+07      11.000000  100417.000000      2.000000          NaN   \n",
              "50%     1.993052e+07      25.000000  101733.000000      5.000000          NaN   \n",
              "75%     2.007032e+07      94.000000  103990.000000      8.000000          NaN   \n",
              "max     2.023113e+07    1701.000000  212428.000000     35.000000          NaN   \n",
              "\n",
              "        ...       l_1stIn      l_1stWon      l_2ndWon       l_SvGms  \\\n",
              "count   ...  95034.000000  95034.000000  95034.000000  95035.000000   \n",
              "unique  ...           NaN           NaN           NaN           NaN   \n",
              "top     ...           NaN           NaN           NaN           NaN   \n",
              "freq    ...           NaN           NaN           NaN           NaN   \n",
              "mean    ...     48.089421     31.962361     14.972936     12.206229   \n",
              "std     ...     19.378619     14.447415      7.207299      4.131171   \n",
              "min     ...      0.000000      0.000000      0.000000      0.000000   \n",
              "25%     ...     34.000000     22.000000     10.000000      9.000000   \n",
              "50%     ...     45.000000     30.000000     14.000000     11.000000   \n",
              "75%     ...     58.000000     40.000000     19.000000     15.000000   \n",
              "max     ...    328.000000    284.000000    101.000000     91.000000   \n",
              "\n",
              "           l_bpSaved     l_bpFaced    winner_rank winner_rank_points  \\\n",
              "count   95034.000000  95034.000000  156162.000000      108939.000000   \n",
              "unique           NaN           NaN            NaN                NaN   \n",
              "top              NaN           NaN            NaN                NaN   \n",
              "freq             NaN           NaN            NaN                NaN   \n",
              "mean        4.808942      8.730570      75.262266        1375.872589   \n",
              "std         3.275134      4.132557     121.010337        1729.710794   \n",
              "min        -6.000000      0.000000       1.000000           0.000000   \n",
              "25%         2.000000      6.000000      17.000000         494.000000   \n",
              "50%         4.000000      8.000000      45.000000         850.000000   \n",
              "75%         7.000000     11.000000      86.000000        1540.000000   \n",
              "max        28.000000     38.000000    2101.000000       16950.000000   \n",
              "\n",
              "           loser_rank loser_rank_points  \n",
              "count   147790.000000     107310.000000  \n",
              "unique            NaN               NaN  \n",
              "top               NaN               NaN  \n",
              "freq              NaN               NaN  \n",
              "mean       112.914778        865.961504  \n",
              "std        162.623743        993.834468  \n",
              "min          1.000000          0.000000  \n",
              "25%         37.000000        365.000000  \n",
              "50%         70.000000        635.000000  \n",
              "75%        118.000000       1015.000000  \n",
              "max       2159.000000      16950.000000  \n",
              "\n",
              "[11 rows x 49 columns]"
            ]
          },
          "execution_count": 6,
          "metadata": {},
          "output_type": "execute_result"
        }
      ],
      "source": [
        "tennis_df.describe(include='all')"
      ]
    },
    {
      "cell_type": "code",
      "execution_count": 7,
      "metadata": {
        "colab": {
          "base_uri": "https://localhost:8080/"
        },
        "id": "gtj1TN_Bbmp8",
        "outputId": "2540c601-00e1-4f58-de97-795bb6a991d8"
      },
      "outputs": [
        {
          "name": "stdout",
          "output_type": "stream",
          "text": [
            "Число найденных дубликатов: 0\n",
            "Результирующее число записей: 191920\n"
          ]
        }
      ],
      "source": [
        "# найдем и удалим дубликаты\n",
        "def dedupp(df):\n",
        "    dupl_columns = list(df.columns)\n",
        "\n",
        "    mask = df.duplicated(subset=dupl_columns)\n",
        "    df_duplicates = df[mask]\n",
        "    print(f'Число найденных дубликатов: {df_duplicates.shape[0]}')\n",
        "\n",
        "    dedupped = df.drop_duplicates(subset=dupl_columns)\n",
        "    print(f'Результирующее число записей: {dedupped.shape[0]}')\n",
        "    return dedupped\n",
        "\n",
        "tennis_dedupped = dedupp(tennis_df)"
      ]
    },
    {
      "cell_type": "markdown",
      "metadata": {
        "id": "J0G9sr1Obmp8"
      },
      "source": [
        "явные дубликаты отсутствуют"
      ]
    },
    {
      "cell_type": "code",
      "execution_count": 8,
      "metadata": {
        "colab": {
          "base_uri": "https://localhost:8080/",
          "height": 1000
        },
        "id": "1smIJ0tVbmp9",
        "outputId": "ab5414a4-d258-4764-8c03-7a649b9f80ce"
      },
      "outputs": [
        {
          "data": {
            "text/plain": [
              "winner_entry          91.276053\n",
              "loser_entry           85.189662\n",
              "loser_seed            81.190600\n",
              "winner_seed           63.043977\n",
              "minutes               51.924239\n",
              "w_1stIn               50.482493\n",
              "l_ace                 50.482493\n",
              "w_2ndWon              50.482493\n",
              "w_1stWon              50.482493\n",
              "w_bpFaced             50.482493\n",
              "w_svpt                50.482493\n",
              "w_df                  50.482493\n",
              "l_1stIn               50.482493\n",
              "l_svpt                50.482493\n",
              "w_bpSaved             50.482493\n",
              "l_1stWon              50.482493\n",
              "l_2ndWon              50.482493\n",
              "l_bpSaved             50.482493\n",
              "l_bpFaced             50.482493\n",
              "l_df                  50.481972\n",
              "w_ace                 50.481972\n",
              "l_SvGms               50.481972\n",
              "w_SvGms               50.481972\n",
              "loser_rank_points     44.086078\n",
              "winner_rank_points    43.237286\n",
              "loser_rank            22.993956\n",
              "winner_rank           18.631722\n",
              "loser_ht              15.454356\n",
              "winner_ht              8.809921\n",
              "loser_age              2.424969\n",
              "surface                1.557941\n",
              "winner_age             0.682576\n",
              "draw_size              0.435077\n",
              "loser_ioc              0.037516\n",
              "loser_hand             0.025531\n",
              "winner_hand            0.005211\n",
              "score                  0.004689\n",
              "winner_ioc             0.004168\n",
              "dtype: float64"
            ]
          },
          "metadata": {},
          "output_type": "display_data"
        },
        {
          "data": {
            "image/png": "[encoded data removed]",
            "text/plain": [
              "<Figure size 1000x400 with 1 Axes>"
            ]
          },
          "metadata": {},
          "output_type": "display_data"
        }
      ],
      "source": [
        "# рассмотрим распределение пропущенных значений\n",
        "cols_null_percent = tennis_dedupped.isnull().mean() * 100\n",
        "cols_with_null = cols_null_percent[cols_null_percent>0].sort_values(ascending=False)\n",
        "display(cols_with_null)\n",
        "cols_with_null.plot(\n",
        "    kind='bar',\n",
        "    figsize=(10, 4),\n",
        "    title='Распределение пропусков в данных'\n",
        ");"
      ]
    },
    {
      "cell_type": "code",
      "execution_count": 9,
      "metadata": {
        "id": "4cVwxN-Mbmp-"
      },
      "outputs": [],
      "source": [
        "# создаём копию исходной таблицы\n",
        "#tennis_new = tennis_dedupped.copy()\n",
        "\n",
        "# отбрасываем столбцы с числом пропусков более 60%\n",
        "#n = tennis_new.shape[0] #число строк в таблице\n",
        "#thresh = n*0.4\n",
        "#tennis_new = tennis_new.dropna(thresh=thresh, axis=1)"
      ]
    },
    {
      "cell_type": "code",
      "execution_count": 10,
      "metadata": {
        "id": "PPgVEsgxbmp_"
      },
      "outputs": [],
      "source": [
        "#tennis_new.info()"
      ]
    },
    {
      "cell_type": "markdown",
      "metadata": {
        "id": "n71qknDzbmp_"
      },
      "source": [
        "## Задача 1а:\n",
        "узнать, как много значит ранг игрока в теннисе, проверить следующее утверждение:\n",
        "\n",
        "Если ранг игрока выше более, чем на 20 позиций, то в среднем он будет выигрывать с большей вероятностью. (Если хотите проверить статистически — формируйте выборку как отклонение от ожидаемого количества побед при случайном исходе)"
      ]
    },
    {
      "cell_type": "code",
      "execution_count": 11,
      "metadata": {
        "colab": {
          "base_uri": "https://localhost:8080/",
          "height": 206
        },
        "id": "TuSBF7z8bmp_",
        "outputId": "349041f3-d45d-4f7f-bc4d-1479e905be96"
      },
      "outputs": [
        {
          "data": {
            "text/html": [
              "<div>\n",
              "<style scoped>\n",
              "    .dataframe tbody tr th:only-of-type {\n",
              "        vertical-align: middle;\n",
              "    }\n",
              "\n",
              "    .dataframe tbody tr th {\n",
              "        vertical-align: top;\n",
              "    }\n",
              "\n",
              "    .dataframe thead th {\n",
              "        text-align: right;\n",
              "    }\n",
              "</style>\n",
              "<table border=\"1\" class=\"dataframe\">\n",
              "  <thead>\n",
              "    <tr style=\"text-align: right;\">\n",
              "      <th></th>\n",
              "      <th>tourney_id</th>\n",
              "      <th>winner_id</th>\n",
              "      <th>winner_rank</th>\n",
              "      <th>loser_id</th>\n",
              "      <th>loser_rank</th>\n",
              "      <th>match_num</th>\n",
              "    </tr>\n",
              "  </thead>\n",
              "  <tbody>\n",
              "    <tr>\n",
              "      <th>1613</th>\n",
              "      <td>1990-439</td>\n",
              "      <td>101772</td>\n",
              "      <td>74.0</td>\n",
              "      <td>101117</td>\n",
              "      <td>93.0</td>\n",
              "      <td>27</td>\n",
              "    </tr>\n",
              "    <tr>\n",
              "      <th>2378</th>\n",
              "      <td>2004-560</td>\n",
              "      <td>102905</td>\n",
              "      <td>97.0</td>\n",
              "      <td>104166</td>\n",
              "      <td>109.0</td>\n",
              "      <td>50</td>\n",
              "    </tr>\n",
              "    <tr>\n",
              "      <th>252</th>\n",
              "      <td>1979-301</td>\n",
              "      <td>100259</td>\n",
              "      <td>45.0</td>\n",
              "      <td>100230</td>\n",
              "      <td>271.0</td>\n",
              "      <td>1</td>\n",
              "    </tr>\n",
              "    <tr>\n",
              "      <th>1124</th>\n",
              "      <td>1984-339</td>\n",
              "      <td>100551</td>\n",
              "      <td>75.0</td>\n",
              "      <td>100568</td>\n",
              "      <td>133.0</td>\n",
              "      <td>13</td>\n",
              "    </tr>\n",
              "    <tr>\n",
              "      <th>164</th>\n",
              "      <td>1987-303</td>\n",
              "      <td>100809</td>\n",
              "      <td>210.0</td>\n",
              "      <td>101332</td>\n",
              "      <td>148.0</td>\n",
              "      <td>10</td>\n",
              "    </tr>\n",
              "  </tbody>\n",
              "</table>\n",
              "</div>"
            ],
            "text/plain": [
              "     tourney_id  winner_id  winner_rank  loser_id  loser_rank  match_num\n",
              "1613   1990-439     101772         74.0    101117        93.0         27\n",
              "2378   2004-560     102905         97.0    104166       109.0         50\n",
              "252    1979-301     100259         45.0    100230       271.0          1\n",
              "1124   1984-339     100551         75.0    100568       133.0         13\n",
              "164    1987-303     100809        210.0    101332       148.0         10"
            ]
          },
          "metadata": {},
          "output_type": "display_data"
        }
      ],
      "source": [
        "df_1a = tennis_df[['tourney_id', 'winner_id', 'winner_rank', 'loser_id', 'loser_rank', 'match_num']].dropna()\n",
        "display(df_1a.sample(5))"
      ]
    },
    {
      "cell_type": "markdown",
      "metadata": {
        "id": "w5yMV1ZnbmqA"
      },
      "source": [
        "**Для проверки утверждения 1а:**\n",
        "- Сформируем две выборки игроков: первая выборка - игроки с рангом, отличающимся более чем на 20 позиций от противника, вторая - игроки с близким рангом к противнику.\n",
        "- Вычислим отклонение фактического количества побед от ожидаемого для каждого игрока.\n",
        "- Если в первой выборке (ранг выше более чем на 20 позиций) среднее отклонение значительно выше, чем во второй выборке, то это подтверждает гипотезу о большей вероятности выигрыша у игроков с более высоким рангом.\n",
        "\n",
        "$H_0$: среднее отклонение фактического количества побед от ожидаемого в первой выборке не больше, чем во второй<br>\n",
        "$H_a$: Если ранг игрока выше более, чем на 20 позиций, то в среднем он будет выигрывать с большей вероятностью, т.е. при  winner_rank > loser_rank+20 среднее отклонение выше<br>\n",
        "Пусть уровень значимости $\\alpha = 0.05$"
      ]
    },
    {
      "cell_type": "code",
      "execution_count": 12,
      "metadata": {
        "id": "FnGESzulbmqA"
      },
      "outputs": [],
      "source": [
        "# две выборки игроков: первая выборка - игроки с рангом, отличающимся более чем на 20 позиций от противника\n",
        "df_1a['higher_rank_win'] = (df_1a['winner_rank'] - df_1a['loser_rank']) > 20\n",
        "# фактическое количество побед для каждого игрока в выборках\n",
        "more20 = (df_1a[df_1a['higher_rank_win']==True]\n",
        ".groupby(['winner_id'])\n",
        ".agg({'match_num':'count'})\n",
        ".reset_index()\n",
        ".rename(columns={'match_num': 'victory_count', 'winner_id': 'id'}))\n",
        "# вторая - игроки с близким рангом к противнику\n",
        "less20 = (df_1a[df_1a['higher_rank_win']==False]\n",
        ".groupby(['winner_id'])\n",
        ".agg({'match_num':'count'})\n",
        ".reset_index()\n",
        ".rename(columns={'match_num': 'victory_count', 'winner_id': 'id'}))"
      ]
    },
    {
      "cell_type": "code",
      "execution_count": 13,
      "metadata": {
        "id": "fGxTJA0LbmqA"
      },
      "outputs": [],
      "source": [
        "# фактическое количество поражений для каждого игрока в выборках\n",
        "loser_more20 = (df_1a[df_1a['higher_rank_win']==True]\n",
        ".groupby(['loser_id'])\n",
        ".agg({'match_num':'count'})\n",
        ".reset_index()\n",
        ".rename(columns={'match_num': 'loss_count', 'loser_id': 'id'}))\n",
        "# вторая - игроки с близким рангом к противнику\n",
        "loser_less20 = (df_1a[df_1a['higher_rank_win']==False]\n",
        ".groupby(['loser_id'])\n",
        ".agg({'match_num':'count'})\n",
        ".reset_index()\n",
        ".rename(columns={'match_num': 'loss_count', 'loser_id': 'id'}))\n",
        "\n",
        "# объединим таблицы\n",
        "more20 = more20.merge(loser_more20, on='id')\n",
        "less20 = less20.merge(loser_less20, on='id')"
      ]
    },
    {
      "cell_type": "code",
      "execution_count": 14,
      "metadata": {
        "colab": {
          "base_uri": "https://localhost:8080/",
          "height": 395
        },
        "id": "3mH5lB9ubmqB",
        "outputId": "a9be3abc-86f6-482a-d5fd-274bdbc632b5"
      },
      "outputs": [
        {
          "data": {
            "text/html": [
              "<div>\n",
              "<style scoped>\n",
              "    .dataframe tbody tr th:only-of-type {\n",
              "        vertical-align: middle;\n",
              "    }\n",
              "\n",
              "    .dataframe tbody tr th {\n",
              "        vertical-align: top;\n",
              "    }\n",
              "\n",
              "    .dataframe thead th {\n",
              "        text-align: right;\n",
              "    }\n",
              "</style>\n",
              "<table border=\"1\" class=\"dataframe\">\n",
              "  <thead>\n",
              "    <tr style=\"text-align: right;\">\n",
              "      <th></th>\n",
              "      <th>id</th>\n",
              "      <th>victory_count</th>\n",
              "      <th>loss_count</th>\n",
              "      <th>all_games</th>\n",
              "      <th>victory_expected</th>\n",
              "      <th>deviation</th>\n",
              "    </tr>\n",
              "  </thead>\n",
              "  <tbody>\n",
              "    <tr>\n",
              "      <th>1490</th>\n",
              "      <td>109303</td>\n",
              "      <td>1</td>\n",
              "      <td>1</td>\n",
              "      <td>2</td>\n",
              "      <td>1.0</td>\n",
              "      <td>0.0</td>\n",
              "    </tr>\n",
              "    <tr>\n",
              "      <th>1430</th>\n",
              "      <td>106071</td>\n",
              "      <td>41</td>\n",
              "      <td>44</td>\n",
              "      <td>85</td>\n",
              "      <td>42.5</td>\n",
              "      <td>1.5</td>\n",
              "    </tr>\n",
              "    <tr>\n",
              "      <th>1561</th>\n",
              "      <td>133018</td>\n",
              "      <td>1</td>\n",
              "      <td>3</td>\n",
              "      <td>4</td>\n",
              "      <td>2.0</td>\n",
              "      <td>1.0</td>\n",
              "    </tr>\n",
              "    <tr>\n",
              "      <th>1570</th>\n",
              "      <td>144719</td>\n",
              "      <td>24</td>\n",
              "      <td>26</td>\n",
              "      <td>50</td>\n",
              "      <td>25.0</td>\n",
              "      <td>1.0</td>\n",
              "    </tr>\n",
              "    <tr>\n",
              "      <th>828</th>\n",
              "      <td>102339</td>\n",
              "      <td>6</td>\n",
              "      <td>2</td>\n",
              "      <td>8</td>\n",
              "      <td>4.0</td>\n",
              "      <td>-2.0</td>\n",
              "    </tr>\n",
              "  </tbody>\n",
              "</table>\n",
              "</div>"
            ],
            "text/plain": [
              "          id  victory_count  loss_count  all_games  victory_expected  \\\n",
              "1490  109303              1           1          2               1.0   \n",
              "1430  106071             41          44         85              42.5   \n",
              "1561  133018              1           3          4               2.0   \n",
              "1570  144719             24          26         50              25.0   \n",
              "828   102339              6           2          8               4.0   \n",
              "\n",
              "      deviation  \n",
              "1490        0.0  \n",
              "1430        1.5  \n",
              "1561        1.0  \n",
              "1570        1.0  \n",
              "828        -2.0  "
            ]
          },
          "metadata": {},
          "output_type": "display_data"
        },
        {
          "data": {
            "text/html": [
              "<div>\n",
              "<style scoped>\n",
              "    .dataframe tbody tr th:only-of-type {\n",
              "        vertical-align: middle;\n",
              "    }\n",
              "\n",
              "    .dataframe tbody tr th {\n",
              "        vertical-align: top;\n",
              "    }\n",
              "\n",
              "    .dataframe thead th {\n",
              "        text-align: right;\n",
              "    }\n",
              "</style>\n",
              "<table border=\"1\" class=\"dataframe\">\n",
              "  <thead>\n",
              "    <tr style=\"text-align: right;\">\n",
              "      <th></th>\n",
              "      <th>id</th>\n",
              "      <th>victory_count</th>\n",
              "      <th>loss_count</th>\n",
              "      <th>all_games</th>\n",
              "      <th>victory_expected</th>\n",
              "      <th>deviation</th>\n",
              "    </tr>\n",
              "  </thead>\n",
              "  <tbody>\n",
              "    <tr>\n",
              "      <th>406</th>\n",
              "      <td>100792</td>\n",
              "      <td>7</td>\n",
              "      <td>9</td>\n",
              "      <td>16</td>\n",
              "      <td>8.0</td>\n",
              "      <td>1.0</td>\n",
              "    </tr>\n",
              "    <tr>\n",
              "      <th>1579</th>\n",
              "      <td>105239</td>\n",
              "      <td>1</td>\n",
              "      <td>5</td>\n",
              "      <td>6</td>\n",
              "      <td>3.0</td>\n",
              "      <td>2.0</td>\n",
              "    </tr>\n",
              "    <tr>\n",
              "      <th>1729</th>\n",
              "      <td>106252</td>\n",
              "      <td>1</td>\n",
              "      <td>2</td>\n",
              "      <td>3</td>\n",
              "      <td>1.5</td>\n",
              "      <td>0.5</td>\n",
              "    </tr>\n",
              "    <tr>\n",
              "      <th>1659</th>\n",
              "      <td>105806</td>\n",
              "      <td>11</td>\n",
              "      <td>30</td>\n",
              "      <td>41</td>\n",
              "      <td>20.5</td>\n",
              "      <td>9.5</td>\n",
              "    </tr>\n",
              "    <tr>\n",
              "      <th>286</th>\n",
              "      <td>100523</td>\n",
              "      <td>3</td>\n",
              "      <td>19</td>\n",
              "      <td>22</td>\n",
              "      <td>11.0</td>\n",
              "      <td>8.0</td>\n",
              "    </tr>\n",
              "  </tbody>\n",
              "</table>\n",
              "</div>"
            ],
            "text/plain": [
              "          id  victory_count  loss_count  all_games  victory_expected  \\\n",
              "406   100792              7           9         16               8.0   \n",
              "1579  105239              1           5          6               3.0   \n",
              "1729  106252              1           2          3               1.5   \n",
              "1659  105806             11          30         41              20.5   \n",
              "286   100523              3          19         22              11.0   \n",
              "\n",
              "      deviation  \n",
              "406         1.0  \n",
              "1579        2.0  \n",
              "1729        0.5  \n",
              "1659        9.5  \n",
              "286         8.0  "
            ]
          },
          "metadata": {},
          "output_type": "display_data"
        }
      ],
      "source": [
        "# всего игр сыграно каждым игроком\n",
        "more20['all_games'] = (more20['victory_count'] + more20['loss_count'])\n",
        "less20['all_games'] = (less20['victory_count'] + less20['loss_count'])\n",
        "\n",
        "# ожидаемое количество побед для каждого игрока\n",
        "more20['victory_expected'] = 0.5 * (more20['victory_count'] + more20['loss_count'])\n",
        "less20['victory_expected'] = 0.5 * (less20['victory_count'] + less20['loss_count'])\n",
        "\n",
        "# отклонение фактического количества побед от ожидаемого для каждого игрока\n",
        "more20['deviation'] = more20['victory_expected'] - more20['victory_count']\n",
        "less20['deviation'] = less20['victory_expected'] - less20['victory_count']\n",
        "\n",
        "display(more20.sample(5), less20.sample(5))"
      ]
    },
    {
      "cell_type": "markdown",
      "metadata": {
        "id": "NU4GGHlUbmqB"
      },
      "source": [
        "**Проверим данные - столбец deviation - на нормальность**"
      ]
    },
    {
      "cell_type": "code",
      "execution_count": 15,
      "metadata": {
        "colab": {
          "base_uri": "https://localhost:8080/"
        },
        "id": "iagsQ3vTbmqB",
        "outputId": "02335116-7d66-45e4-b323-2bfdd1f0096e"
      },
      "outputs": [
        {
          "name": "stdout",
          "output_type": "stream",
          "text": [
            "Тест Д’Агостино p=0.000\n",
            "Тест Шапиро-Уилка p=0.000\n",
            "Данные не распределены нормально (мы отвергаем H0)\n",
            "False\n",
            "Тест Д’Агостино p=0.000\n",
            "Тест Шапиро-Уилка p=0.000\n",
            "Данные не распределены нормально (мы отвергаем H0)\n",
            "False\n"
          ]
        }
      ],
      "source": [
        "from scipy.stats import shapiro # тест на нормальность распределения Шапиро\n",
        "from scipy.stats import normaltest # тест на нормальность распределения Деагостино\n",
        "from scipy.stats import anderson # тест Андерсона-Дарлинга\n",
        "# https://docs.scipy.org/doc/scipy-0.19.0/reference/generated/scipy.stats.anderson.html#scipy.stats.anderson\n",
        "\n",
        "# функция проверки на нормальность\n",
        "def normal(data, alpha = 0.05):\n",
        "    H0 = 'Данные распределены нормально'\n",
        "    Ha = 'Данные не распределены нормально (мы отвергаем H0)'\n",
        "\n",
        "    _, p2 = normaltest(data)\n",
        "    #normaltest возвращает двустороннюю вероятность для проверки гипотезы\n",
        "    print('Тест Д’Агостино p=%.3f' % p2)\n",
        "\n",
        "    if data.shape[0] < 5000:\n",
        "        _, p1 = shapiro(data)\n",
        "        print('Тест Шапиро-Уилка p=%.3f' % p1)\n",
        "        # Интерпретация\n",
        "        if p1 > alpha and p2 > alpha/2:\n",
        "            print(H0)\n",
        "            return True\n",
        "        else:\n",
        "            print(Ha)\n",
        "            return False\n",
        "    else: # Для N > 5000 значение p в тесте Шапиро может быть неточным. Используем тест Андерсона Дарлинга.\n",
        "        p1, crit_values, signif_level = anderson(data)\n",
        "        # Критическое значение для нашего α равно:\n",
        "        critical_value = crit_values[signif_level.tolist().index(alpha*100)]\n",
        "        print('Тест Андерсона-Дарлинга p=%.3f' % p1, 'critical_value=%.3f' % critical_value)\n",
        "        # Если тестовая статистика p1 не превышает критического значения, результаты не являются значимыми, не отвергаем нулевую гипотезу.\n",
        "        # Интерпретация\n",
        "        if p1 <= critical_value and p2 > alpha/2:\n",
        "            print(H0)\n",
        "            return True\n",
        "        else:\n",
        "            print(Ha)\n",
        "            return False\n",
        "\n",
        "print(normal(more20['deviation']))\n",
        "print(normal(less20['deviation']))"
      ]
    },
    {
      "cell_type": "markdown",
      "metadata": {
        "id": "-761cYj3bmqB"
      },
      "source": [
        "Используем **U-критерий Манна-Уитни**, который применяется для оценки различий между двумя независимыми выборками по уровню какого-либо количественного признака. U-критерий Манна-Уитни является непараметрическим критерием, поэтому не требует наличия нормального распределения сравниваемых совокупностей; подходит для сравнения малых выборок.\n",
        "Этот тест позволяет провести одностороннюю проверку гипотезы о том, что среднее значение в одной выборке больше среднего значения в другой выборке.\n",
        "\n",
        "https://medstatistic.ru/methods/methods2.html\n",
        "https://docs.scipy.org/doc/scipy/reference/generated/scipy.stats.mannwhitneyu.html\n",
        "\n",
        "Параметр alternative:\n",
        "- 'two-sided' используется, если вы хотите проверить, отличаются ли выборки вообще (в любом направлении).\n",
        "- 'less' используется, если вы предполагаете, что медиана первой выборки меньше медианы второй.\n",
        "- 'greater' используется, если вы предполагаете, что медиана первой выборки больше медианы второй."
      ]
    },
    {
      "cell_type": "code",
      "execution_count": 16,
      "metadata": {
        "colab": {
          "base_uri": "https://localhost:8080/"
        },
        "id": "C8Cu0gYxbmqC",
        "outputId": "db27b372-a852-4b80-e2b6-356d9ee8d492"
      },
      "outputs": [
        {
          "name": "stdout",
          "output_type": "stream",
          "text": [
            "U-статистика: 842044.5\n",
            "p-значение: 1.0\n",
            "Нулевая гипотеза:Среднее отклонений для more20 не больше медианы для выборки less20\n",
            "Альтернативная гипотеза:Среднее отклонений для more20 больше медианы для выборки less20\n",
            "Не отвергаем нулевую гипотезу: Среднее отклонений для more20 не больше медианы для выборки less20 при a = 0.05.\n"
          ]
        }
      ],
      "source": [
        "from scipy.stats import mannwhitneyu\n",
        "stat, p = mannwhitneyu(more20['deviation'], less20['deviation'], alternative='greater')\n",
        "alpha = 0.05\n",
        "# Вывод результатов\n",
        "print(f'U-статистика: {stat}')\n",
        "print(f'p-значение: {p}')\n",
        "\n",
        "# Формулировка гипотез\n",
        "H0 = 'Среднее отклонений для more20 не больше медианы для выборки less20'\n",
        "H1 = 'Среднее отклонений для more20 больше медианы для выборки less20'\n",
        "print(f'Нулевая гипотеза:{H0}')\n",
        "print(f'Альтернативная гипотеза:{H1}')\n",
        "\n",
        "# Сравнение p-значения с уровнем значимости\n",
        "if p < alpha:\n",
        "    print(f'Отвергаем нулевую гипотезу: {H0} при a = {alpha}.')\n",
        "    print(f'Принимаем альтернативную гипотезу: {H1} при a = {alpha}.')\n",
        "else:\n",
        "    print(f'Не отвергаем нулевую гипотезу: {H0} при a = {alpha}.')"
      ]
    },
    {
      "cell_type": "markdown",
      "metadata": {
        "id": "cXVN1CPebmqC"
      },
      "source": [
        "**Результат**: не отвергли нулевую гипотезу и не можем утверждать, что если ранг игрока выше более, чем на 20 позиций, то в среднем он будет выигрывать с большей вероятностью."
      ]
    },
    {
      "cell_type": "markdown",
      "metadata": {
        "id": "L92gUONCbmqC"
      },
      "source": [
        "## Задача 1б:\n",
        "узнать, как много значит ранг игрока в теннисе, проверить следующее утверждение:\n",
        "\n",
        "Если ранг игрока находится в окне +-5 позиций, то вероятность победы будет значительно отличаться от гипотезы из предыдущего случая. Для проверки статистической значимости выборку можно сделать как среднее по годам (например, с 1980 по 2022г.). Подумайте, как правильно сформировать репрезентативную выборку."
      ]
    },
    {
      "cell_type": "markdown",
      "metadata": {
        "id": "qKKjTAPnbmqC"
      },
      "source": [
        "**Для проверки утверждения 1б:**\n",
        "- Сформируем две выборки игроков: первая выборка - игроки с рангом, отличающимся более чем на 20 позиций от противника, вторая - игроки с рангом, отличающимся не более чем на 5 позиций от противника.\n",
        "- Если в первой выборке (ранг выше более чем на 20 позиций) среднее отклонение значительно выше, чем во второй выборке, то это подтверждает гипотезу о большей вероятности выигрыша у игроков с более высоким рангом.\n",
        "\n",
        "$H_0$: вероятности победы для групп с рангами, отличающимися не более чем на 5 позиций, и с рангам, отличающимися более чем на 20 позиций, не будут значительно отличаться<br>\n",
        "$H_a$: вероятность победы игроков с рангами, отличающимися не более чем на 5 позиций, будет меньше, чем в случае, когда ранги различаются более чем на 20 позиций.\n",
        "\n",
        "Пусть уровень значимости $\\alpha = 0.05$\n"
      ]
    },
    {
      "cell_type": "code",
      "execution_count": 17,
      "metadata": {
        "colab": {
          "base_uri": "https://localhost:8080/",
          "height": 395
        },
        "id": "EdnRj_kObmqC",
        "outputId": "465b24e8-bd6a-462f-e8a7-1ad0792154bb"
      },
      "outputs": [
        {
          "data": {
            "text/html": [
              "<div>\n",
              "<style scoped>\n",
              "    .dataframe tbody tr th:only-of-type {\n",
              "        vertical-align: middle;\n",
              "    }\n",
              "\n",
              "    .dataframe tbody tr th {\n",
              "        vertical-align: top;\n",
              "    }\n",
              "\n",
              "    .dataframe thead th {\n",
              "        text-align: right;\n",
              "    }\n",
              "</style>\n",
              "<table border=\"1\" class=\"dataframe\">\n",
              "  <thead>\n",
              "    <tr style=\"text-align: right;\">\n",
              "      <th></th>\n",
              "      <th>id</th>\n",
              "      <th>victory_count</th>\n",
              "      <th>loss_count</th>\n",
              "      <th>all_games</th>\n",
              "      <th>victory_expected</th>\n",
              "      <th>deviation</th>\n",
              "      <th>victory_probability</th>\n",
              "    </tr>\n",
              "  </thead>\n",
              "  <tbody>\n",
              "    <tr>\n",
              "      <th>338</th>\n",
              "      <td>100752</td>\n",
              "      <td>50</td>\n",
              "      <td>52</td>\n",
              "      <td>102</td>\n",
              "      <td>51.0</td>\n",
              "      <td>1.0</td>\n",
              "      <td>0.490196</td>\n",
              "    </tr>\n",
              "    <tr>\n",
              "      <th>190</th>\n",
              "      <td>100354</td>\n",
              "      <td>28</td>\n",
              "      <td>9</td>\n",
              "      <td>37</td>\n",
              "      <td>18.5</td>\n",
              "      <td>-9.5</td>\n",
              "      <td>0.756757</td>\n",
              "    </tr>\n",
              "    <tr>\n",
              "      <th>967</th>\n",
              "      <td>103103</td>\n",
              "      <td>39</td>\n",
              "      <td>117</td>\n",
              "      <td>156</td>\n",
              "      <td>78.0</td>\n",
              "      <td>39.0</td>\n",
              "      <td>0.250000</td>\n",
              "    </tr>\n",
              "    <tr>\n",
              "      <th>272</th>\n",
              "      <td>100579</td>\n",
              "      <td>30</td>\n",
              "      <td>29</td>\n",
              "      <td>59</td>\n",
              "      <td>29.5</td>\n",
              "      <td>-0.5</td>\n",
              "      <td>0.508475</td>\n",
              "    </tr>\n",
              "    <tr>\n",
              "      <th>791</th>\n",
              "      <td>102158</td>\n",
              "      <td>26</td>\n",
              "      <td>68</td>\n",
              "      <td>94</td>\n",
              "      <td>47.0</td>\n",
              "      <td>21.0</td>\n",
              "      <td>0.276596</td>\n",
              "    </tr>\n",
              "  </tbody>\n",
              "</table>\n",
              "</div>"
            ],
            "text/plain": [
              "         id  victory_count  loss_count  all_games  victory_expected  \\\n",
              "338  100752             50          52        102              51.0   \n",
              "190  100354             28           9         37              18.5   \n",
              "967  103103             39         117        156              78.0   \n",
              "272  100579             30          29         59              29.5   \n",
              "791  102158             26          68         94              47.0   \n",
              "\n",
              "     deviation  victory_probability  \n",
              "338        1.0             0.490196  \n",
              "190       -9.5             0.756757  \n",
              "967       39.0             0.250000  \n",
              "272       -0.5             0.508475  \n",
              "791       21.0             0.276596  "
            ]
          },
          "metadata": {},
          "output_type": "display_data"
        },
        {
          "data": {
            "text/html": [
              "<div>\n",
              "<style scoped>\n",
              "    .dataframe tbody tr th:only-of-type {\n",
              "        vertical-align: middle;\n",
              "    }\n",
              "\n",
              "    .dataframe tbody tr th {\n",
              "        vertical-align: top;\n",
              "    }\n",
              "\n",
              "    .dataframe thead th {\n",
              "        text-align: right;\n",
              "    }\n",
              "</style>\n",
              "<table border=\"1\" class=\"dataframe\">\n",
              "  <thead>\n",
              "    <tr style=\"text-align: right;\">\n",
              "      <th></th>\n",
              "      <th>id</th>\n",
              "      <th>victory_count</th>\n",
              "      <th>loss_count</th>\n",
              "      <th>all_games</th>\n",
              "      <th>victory_probability</th>\n",
              "    </tr>\n",
              "  </thead>\n",
              "  <tbody>\n",
              "    <tr>\n",
              "      <th>1374</th>\n",
              "      <td>104479</td>\n",
              "      <td>1</td>\n",
              "      <td>3</td>\n",
              "      <td>4</td>\n",
              "      <td>0.250000</td>\n",
              "    </tr>\n",
              "    <tr>\n",
              "      <th>1108</th>\n",
              "      <td>103193</td>\n",
              "      <td>19</td>\n",
              "      <td>51</td>\n",
              "      <td>70</td>\n",
              "      <td>0.271429</td>\n",
              "    </tr>\n",
              "    <tr>\n",
              "      <th>409</th>\n",
              "      <td>100829</td>\n",
              "      <td>105</td>\n",
              "      <td>113</td>\n",
              "      <td>218</td>\n",
              "      <td>0.481651</td>\n",
              "    </tr>\n",
              "    <tr>\n",
              "      <th>386</th>\n",
              "      <td>100776</td>\n",
              "      <td>1</td>\n",
              "      <td>14</td>\n",
              "      <td>15</td>\n",
              "      <td>0.066667</td>\n",
              "    </tr>\n",
              "    <tr>\n",
              "      <th>342</th>\n",
              "      <td>100657</td>\n",
              "      <td>30</td>\n",
              "      <td>52</td>\n",
              "      <td>82</td>\n",
              "      <td>0.365854</td>\n",
              "    </tr>\n",
              "  </tbody>\n",
              "</table>\n",
              "</div>"
            ],
            "text/plain": [
              "          id  victory_count  loss_count  all_games  victory_probability\n",
              "1374  104479              1           3          4             0.250000\n",
              "1108  103193             19          51         70             0.271429\n",
              "409   100829            105         113        218             0.481651\n",
              "386   100776              1          14         15             0.066667\n",
              "342   100657             30          52         82             0.365854"
            ]
          },
          "metadata": {},
          "output_type": "display_data"
        }
      ],
      "source": [
        "# две выборки игроков:\n",
        "# первую выборку - игроки с рангом, отличающимся более чем на 20 позиций от противника - уже создали в задаче 1а\n",
        "# вторая выборка - игроки с рангом, отличающимся не более чем на 5 позиций от противника\n",
        "df_1a['lower_rank_win'] = (df_1a['winner_rank'] - df_1a['loser_rank']) <= 5\n",
        "# фактическое количество побед для каждого игрока в выборке\n",
        "less5 = (df_1a[df_1a['lower_rank_win']==True]\n",
        ".groupby(['winner_id'])\n",
        ".agg({'match_num':'count'})\n",
        ".reset_index()\n",
        ".rename(columns={'match_num': 'victory_count', 'winner_id': 'id'}))\n",
        "# количество поражений в выборке\n",
        "loser_less5 = (df_1a[df_1a['lower_rank_win']==True]\n",
        ".groupby(['loser_id'])\n",
        ".agg({'match_num':'count'})\n",
        ".reset_index()\n",
        ".rename(columns={'match_num': 'loss_count', 'loser_id': 'id'}))\n",
        "\n",
        "# объединим таблицы\n",
        "less5 = less5.merge(loser_less5, on='id')\n",
        "# всего игр сыграно каждым игроком в выборке\n",
        "less5['all_games'] = (less5['victory_count'] + less5['loss_count'])\n",
        "\n",
        "more20['victory_probability'] = more20['victory_count']/more20['all_games']\n",
        "less5['victory_probability'] = less5['victory_count']/less5['all_games']\n",
        "\n",
        "display(more20.sample(5), less5.sample(5))"
      ]
    },
    {
      "cell_type": "markdown",
      "metadata": {
        "id": "qAfeFxCUbmqD"
      },
      "source": [
        "**Проверим данные - столбец victory_probability - на нормальность**"
      ]
    },
    {
      "cell_type": "code",
      "execution_count": 18,
      "metadata": {
        "colab": {
          "base_uri": "https://localhost:8080/"
        },
        "id": "unsHNTBxbmqD",
        "outputId": "a3349bdb-6660-477e-9bd6-5d6b55f7fc41"
      },
      "outputs": [
        {
          "name": "stdout",
          "output_type": "stream",
          "text": [
            "Тест Д’Агостино p=0.000\n",
            "Тест Шапиро-Уилка p=0.000\n",
            "Данные не распределены нормально (мы отвергаем H0)\n",
            "False\n",
            "Тест Д’Агостино p=0.000\n",
            "Тест Шапиро-Уилка p=0.000\n",
            "Данные не распределены нормально (мы отвергаем H0)\n",
            "False\n"
          ]
        }
      ],
      "source": [
        "print(normal(more20['victory_probability']))\n",
        "print(normal(less5['victory_probability']))"
      ]
    },
    {
      "cell_type": "markdown",
      "metadata": {
        "id": "YmZSbPWCbmqD"
      },
      "source": [
        "Используем **U-критерий Манна-Уитни**\n",
        "https://medstatistic.ru/methods/methods2.html\n",
        "https://docs.scipy.org/doc/scipy/reference/generated/scipy.stats.mannwhitneyu.html\n",
        "\n",
        "alternative: {‘two-sided’, ‘less’, ‘greater’}"
      ]
    },
    {
      "cell_type": "code",
      "execution_count": 19,
      "metadata": {
        "colab": {
          "base_uri": "https://localhost:8080/"
        },
        "id": "ehmY1AuSbmqD",
        "outputId": "716b9d95-e2a8-4906-d902-cadd53bac003"
      },
      "outputs": [
        {
          "name": "stdout",
          "output_type": "stream",
          "text": [
            "U-статистика: 570639.0\n",
            "p-значение: 9.17461195195338e-245\n",
            "Нулевая гипотеза:Вероятности победы для more20 и для less5 не отличается значительно\n",
            "Альтернативная гипотеза:Вероятность победы для less5 меньше, чем для more20\n",
            "Отвергаем нулевую гипотезу: Вероятности победы для more20 и для less5 не отличается значительно при a = 0.05.\n",
            "Принимаем альтернативную гипотезу: Вероятность победы для less5 меньше, чем для more20 при a = 0.05.\n"
          ]
        }
      ],
      "source": [
        "stat, p = mannwhitneyu(less5['victory_probability'], more20['victory_probability'], alternative='less')\n",
        "alpha = 0.05\n",
        "# Вывод результатов\n",
        "print(f'U-статистика: {stat}')\n",
        "print(f'p-значение: {p}')\n",
        "\n",
        "# Формулировка гипотез\n",
        "H0 = 'Вероятности победы для more20 и для less5 не отличается значительно'\n",
        "H1 = 'Вероятность победы для less5 меньше, чем для more20'\n",
        "print(f'Нулевая гипотеза:{H0}')\n",
        "print(f'Альтернативная гипотеза:{H1}')\n",
        "\n",
        "# Сравнение p-значения с уровнем значимости\n",
        "if p < alpha:\n",
        "    print(f'Отвергаем нулевую гипотезу: {H0} при a = {alpha}.')\n",
        "    print(f'Принимаем альтернативную гипотезу: {H1} при a = {alpha}.')\n",
        "else:\n",
        "    print(f'Не отвергаем нулевую гипотезу: {H0} при a = {alpha}.')"
      ]
    },
    {
      "cell_type": "markdown",
      "metadata": {
        "id": "O0rm6nTrbmqE"
      },
      "source": [
        "**Результат**: принимаем гипотезу, что вероятность победы игроков с рангами, отличающимися не более чем на 5 позиций, будет меньше, чем в случае, когда ранги различаются более чем на 20 позиций."
      ]
    },
    {
      "cell_type": "markdown",
      "metadata": {
        "id": "W1X8JO-vbmqE"
      },
      "source": [
        "## Задача 2:\n",
        "Правда ли, что среднее количество сетов, которое необходимо любому игроку для победы в матче, сокращается со временем? Разбейте данные на две группы — с 1980 до 2001 гг. и 2002-2022 гг. Как изменилось среднее количество сетов, которое победитель затратил на игру? Является ли разница средних этих двух выборок статистически значимой?"
      ]
    },
    {
      "cell_type": "code",
      "execution_count": 20,
      "metadata": {
        "colab": {
          "base_uri": "https://localhost:8080/",
          "height": 206
        },
        "id": "JZx1xH16bmqE",
        "outputId": "a43538ad-5e32-4886-c372-10cc610d4582"
      },
      "outputs": [
        {
          "data": {
            "text/html": [
              "<div>\n",
              "<style scoped>\n",
              "    .dataframe tbody tr th:only-of-type {\n",
              "        vertical-align: middle;\n",
              "    }\n",
              "\n",
              "    .dataframe tbody tr th {\n",
              "        vertical-align: top;\n",
              "    }\n",
              "\n",
              "    .dataframe thead th {\n",
              "        text-align: right;\n",
              "    }\n",
              "</style>\n",
              "<table border=\"1\" class=\"dataframe\">\n",
              "  <thead>\n",
              "    <tr style=\"text-align: right;\">\n",
              "      <th></th>\n",
              "      <th>tourney_date</th>\n",
              "      <th>score</th>\n",
              "      <th>winner_id</th>\n",
              "      <th>best_of</th>\n",
              "      <th>year</th>\n",
              "    </tr>\n",
              "  </thead>\n",
              "  <tbody>\n",
              "    <tr>\n",
              "      <th>625</th>\n",
              "      <td>20130218</td>\n",
              "      <td>7-6(6) 6-4</td>\n",
              "      <td>103163</td>\n",
              "      <td>3</td>\n",
              "      <td>2013</td>\n",
              "    </tr>\n",
              "    <tr>\n",
              "      <th>1885</th>\n",
              "      <td>19760524</td>\n",
              "      <td>6-4 7-5</td>\n",
              "      <td>100286</td>\n",
              "      <td>3</td>\n",
              "      <td>1976</td>\n",
              "    </tr>\n",
              "    <tr>\n",
              "      <th>694</th>\n",
              "      <td>20180226</td>\n",
              "      <td>6-3 6-4</td>\n",
              "      <td>105138</td>\n",
              "      <td>3</td>\n",
              "      <td>2018</td>\n",
              "    </tr>\n",
              "    <tr>\n",
              "      <th>2455</th>\n",
              "      <td>19781106</td>\n",
              "      <td>6-3 6-1</td>\n",
              "      <td>100437</td>\n",
              "      <td>3</td>\n",
              "      <td>1978</td>\n",
              "    </tr>\n",
              "    <tr>\n",
              "      <th>402</th>\n",
              "      <td>20001016</td>\n",
              "      <td>7-6(4) 6-7(5) 7-6(7)</td>\n",
              "      <td>102845</td>\n",
              "      <td>3</td>\n",
              "      <td>2000</td>\n",
              "    </tr>\n",
              "  </tbody>\n",
              "</table>\n",
              "</div>"
            ],
            "text/plain": [
              "      tourney_date                 score  winner_id  best_of  year\n",
              "625       20130218            7-6(6) 6-4     103163        3  2013\n",
              "1885      19760524               6-4 7-5     100286        3  1976\n",
              "694       20180226               6-3 6-4     105138        3  2018\n",
              "2455      19781106               6-3 6-1     100437        3  1978\n",
              "402       20001016  7-6(4) 6-7(5) 7-6(7)     102845        3  2000"
            ]
          },
          "metadata": {},
          "output_type": "display_data"
        }
      ],
      "source": [
        "df_2 = tennis_df[['tourney_date', 'score', 'winner_id', 'best_of']].dropna()\n",
        "df_2['year'] = pd.DatetimeIndex(pd.to_datetime(df_2['tourney_date'], format=\"%Y%m%d\")).year\n",
        "display(df_2.sample(5))"
      ]
    },
    {
      "cell_type": "markdown",
      "metadata": {
        "id": "t2sJ-EiGbmqE"
      },
      "source": [
        "- количество сетов рассчитать, используя признак score\n",
        "- собрать данные о количестве сетов, сыгранных победителями в матчах\n",
        "- разделить данные на две группы: 1980-2001 и 2002-2022\n",
        "- сравнить средние значения для каждой группы"
      ]
    },
    {
      "cell_type": "code",
      "execution_count": 21,
      "metadata": {
        "colab": {
          "base_uri": "https://localhost:8080/",
          "height": 206
        },
        "id": "wKe1IjYHbmqE",
        "outputId": "ce13e1be-268d-419b-8aff-a998e3d0faf3"
      },
      "outputs": [
        {
          "data": {
            "text/html": [
              "<div>\n",
              "<style scoped>\n",
              "    .dataframe tbody tr th:only-of-type {\n",
              "        vertical-align: middle;\n",
              "    }\n",
              "\n",
              "    .dataframe tbody tr th {\n",
              "        vertical-align: top;\n",
              "    }\n",
              "\n",
              "    .dataframe thead th {\n",
              "        text-align: right;\n",
              "    }\n",
              "</style>\n",
              "<table border=\"1\" class=\"dataframe\">\n",
              "  <thead>\n",
              "    <tr style=\"text-align: right;\">\n",
              "      <th></th>\n",
              "      <th>tourney_date</th>\n",
              "      <th>score</th>\n",
              "      <th>winner_id</th>\n",
              "      <th>best_of</th>\n",
              "      <th>year</th>\n",
              "      <th>sets_count</th>\n",
              "    </tr>\n",
              "  </thead>\n",
              "  <tbody>\n",
              "    <tr>\n",
              "      <th>2472</th>\n",
              "      <td>19990816</td>\n",
              "      <td>6-4 6-2</td>\n",
              "      <td>102839</td>\n",
              "      <td>3</td>\n",
              "      <td>1999</td>\n",
              "      <td>2</td>\n",
              "    </tr>\n",
              "    <tr>\n",
              "      <th>3741</th>\n",
              "      <td>19800331</td>\n",
              "      <td>6-3 6-4</td>\n",
              "      <td>100280</td>\n",
              "      <td>3</td>\n",
              "      <td>1980</td>\n",
              "      <td>2</td>\n",
              "    </tr>\n",
              "    <tr>\n",
              "      <th>807</th>\n",
              "      <td>19900316</td>\n",
              "      <td>6-2 2-6 6-4</td>\n",
              "      <td>101222</td>\n",
              "      <td>3</td>\n",
              "      <td>1990</td>\n",
              "      <td>3</td>\n",
              "    </tr>\n",
              "    <tr>\n",
              "      <th>1633</th>\n",
              "      <td>20090223</td>\n",
              "      <td>7-5 6-1</td>\n",
              "      <td>103970</td>\n",
              "      <td>3</td>\n",
              "      <td>2009</td>\n",
              "      <td>2</td>\n",
              "    </tr>\n",
              "    <tr>\n",
              "      <th>768</th>\n",
              "      <td>19990322</td>\n",
              "      <td>6-3 1-6 6-3</td>\n",
              "      <td>103182</td>\n",
              "      <td>3</td>\n",
              "      <td>1999</td>\n",
              "      <td>3</td>\n",
              "    </tr>\n",
              "  </tbody>\n",
              "</table>\n",
              "</div>"
            ],
            "text/plain": [
              "      tourney_date        score  winner_id  best_of  year  sets_count\n",
              "2472      19990816      6-4 6-2     102839        3  1999           2\n",
              "3741      19800331      6-3 6-4     100280        3  1980           2\n",
              "807       19900316  6-2 2-6 6-4     101222        3  1990           3\n",
              "1633      20090223      7-5 6-1     103970        3  2009           2\n",
              "768       19990322  6-3 1-6 6-3     103182        3  1999           3"
            ]
          },
          "metadata": {},
          "output_type": "display_data"
        }
      ],
      "source": [
        "# признак с количеством сетов, тех, где явно указан счет партии в сете\n",
        "import re\n",
        "def count_sets_with_scores(score):\n",
        "    sets = re.findall(r'\\d+-\\d+', score)\n",
        "    return len(sets)\n",
        "\n",
        "df_2['sets_count'] = df_2['score'].apply(count_sets_with_scores)\n",
        "\n",
        "display(df_2.sample(5))"
      ]
    },
    {
      "cell_type": "code",
      "execution_count": 22,
      "metadata": {
        "id": "Ye1VrkxvbmqE"
      },
      "outputs": [],
      "source": [
        "# разделим данные на две группы: 1980-2001 и 2002-2022\n",
        "sample1980_2001 = df_2[(df_2['year'] >= 1980) & (df_2['year'] <= 2001)].reset_index(drop=True)\n",
        "sample2002_2022 = df_2[(df_2['year'] >= 2002) & (df_2['year'] <= 2022)].reset_index(drop=True)"
      ]
    },
    {
      "cell_type": "markdown",
      "metadata": {
        "id": "vlUj2w57bmqF"
      },
      "source": [
        "Найдем и удалим дубликаты"
      ]
    },
    {
      "cell_type": "code",
      "execution_count": 23,
      "metadata": {
        "colab": {
          "base_uri": "https://localhost:8080/"
        },
        "id": "xxtqMoz_bmqF",
        "outputId": "f9db383e-0741-49e8-fe2a-3324cc677eae"
      },
      "outputs": [
        {
          "name": "stdout",
          "output_type": "stream",
          "text": [
            "Число найденных дубликатов: 750\n",
            "Результирующее число записей: 79391\n",
            "Число найденных дубликатов: 473\n",
            "Результирующее число записей: 61593\n"
          ]
        }
      ],
      "source": [
        "sample1980_2001 = dedupp(sample1980_2001)\n",
        "sample2002_2022 = dedupp(sample2002_2022)"
      ]
    },
    {
      "cell_type": "markdown",
      "metadata": {
        "id": "1MRfTkmzbmqF"
      },
      "source": [
        "**Проверим данные - столбец sets_count - на нормальность**"
      ]
    },
    {
      "cell_type": "code",
      "execution_count": 24,
      "metadata": {
        "colab": {
          "base_uri": "https://localhost:8080/"
        },
        "id": "bkHjyWOlbmqF",
        "outputId": "71ed2938-edbd-4199-bc1a-9a7ddda2d760"
      },
      "outputs": [
        {
          "name": "stdout",
          "output_type": "stream",
          "text": [
            "Тест Д’Агостино p=0.000\n",
            "Тест Андерсона-Дарлинга p=7824.959 critical_value=0.787\n",
            "Данные не распределены нормально (мы отвергаем H0)\n",
            "False\n",
            "Тест Д’Агостино p=0.000\n",
            "Тест Андерсона-Дарлинга p=5524.548 critical_value=0.787\n",
            "Данные не распределены нормально (мы отвергаем H0)\n",
            "False\n"
          ]
        }
      ],
      "source": [
        "print(normal(sample1980_2001['sets_count']))\n",
        "print(normal(sample2002_2022['sets_count']))"
      ]
    },
    {
      "cell_type": "markdown",
      "metadata": {
        "id": "EAoEFGZpbmqK"
      },
      "source": [
        "Используем **U-критерий Манна-Уитни**\n",
        "\n",
        "U-критерий Манна-Уитни является непараметрическим критерием и не требует наличия нормального распределения сравниваемых совокупностей; подходит для сравнения малых независимых выборок. Условием для применения U-критерия Манна-Уитни является отсутствие в сравниваемых группах совпадающих значений признака (все числа – разные) или очень малое число таких совпадений.\n",
        "\n",
        "Если после разделения каждая из подвыборок не содержит парных наблюдений, то они будут считаться независимыми в контексте статистического анализа. В таком случае, чтобы сравнить средние количества сетов между двумя независимыми выборками, можно использовать t-тест (если данные удовлетворяют условиям применения t-теста), или непараметрический U-тест Манна-Уитни. Поскольку проведенный тест Андерсона-Дарлинга и тест Деагостино не указали на нормальность распределений, подходит тест Мана-Уитни\n",
        "\n",
        "https://medstatistic.ru/methods/methods2.html\n",
        "https://docs.scipy.org/doc/scipy/reference/generated/scipy.stats.mannwhitneyu.html\n",
        "\n",
        "alternative: {‘two-sided’, ‘less’, ‘greater’}"
      ]
    },
    {
      "cell_type": "code",
      "execution_count": 25,
      "metadata": {
        "colab": {
          "base_uri": "https://localhost:8080/"
        },
        "id": "siL_M7a8bmqK",
        "outputId": "25e96381-03cb-4d1f-d8e7-bfd0a2805f55"
      },
      "outputs": [
        {
          "name": "stdout",
          "output_type": "stream",
          "text": [
            "U-статистика: 2396483116.5\n",
            "p-значение: 1.3954891962874986e-12\n",
            "Нулевая гипотеза:Среднее число сетов для выборок 1980-2001 и 2002-2022 не отличается значительно\n",
            "Альтернативная гипотеза:Среднее число сетов изменилось в 2002-2022 годах по сравнению с 1980-2001\n",
            "Отвергаем нулевую гипотезу: Среднее число сетов для выборок 1980-2001 и 2002-2022 не отличается значительно при a = 0.05.\n",
            "Принимаем альтернативную гипотезу: Среднее число сетов изменилось в 2002-2022 годах по сравнению с 1980-2001 при a = 0.05.\n",
            "Альтернативная гипотеза:Среднее число сетов уменьшилось в 2002-2022 годах по сравнению с 1980-2001\n",
            "U-статистика: 2396483116.5\n",
            "p-значение: 6.977445981437493e-13\n",
            "Отвергаем нулевую гипотезу: Среднее число сетов для выборок 1980-2001 и 2002-2022 не отличается значительно при a = 0.05.\n",
            "Принимаем альтернативную гипотезу: Среднее число сетов уменьшилось в 2002-2022 годах по сравнению с 1980-2001 при a = 0.05.\n"
          ]
        }
      ],
      "source": [
        "stat, p = mannwhitneyu(sample1980_2001['sets_count'], sample2002_2022['sets_count'], alternative='two-sided')\n",
        "alpha = 0.05\n",
        "# Вывод результатов\n",
        "print(f'U-статистика: {stat}')\n",
        "print(f'p-значение: {p}')\n",
        "\n",
        "# Формулировка гипотез\n",
        "H0 = 'Среднее число сетов для выборок 1980-2001 и 2002-2022 не отличается значительно'\n",
        "H1 = 'Среднее число сетов изменилось в 2002-2022 годах по сравнению с 1980-2001'\n",
        "print(f'Нулевая гипотеза:{H0}')\n",
        "print(f'Альтернативная гипотеза:{H1}')\n",
        "\n",
        "# Сравнение p-значения с уровнем значимости\n",
        "if p < alpha:\n",
        "    print(f'Отвергаем нулевую гипотезу: {H0} при a = {alpha}.')\n",
        "    print(f'Принимаем альтернативную гипотезу: {H1} при a = {alpha}.')\n",
        "else:\n",
        "    print(f'Не отвергаем нулевую гипотезу: {H0} при a = {alpha}.')\n",
        "\n",
        "H2 = 'Среднее число сетов уменьшилось в 2002-2022 годах по сравнению с 1980-2001'\n",
        "print(f'Альтернативная гипотеза:{H2}')\n",
        "\n",
        "stat, p = mannwhitneyu(sample1980_2001['sets_count'], sample2002_2022['sets_count'], alternative='less')\n",
        "alpha = 0.05\n",
        "# Вывод результатов\n",
        "print(f'U-статистика: {stat}')\n",
        "print(f'p-значение: {p}')\n",
        "\n",
        "# Сравнение p-значения с уровнем значимости\n",
        "if p < alpha:\n",
        "    print(f'Отвергаем нулевую гипотезу: {H0} при a = {alpha}.')\n",
        "    print(f'Принимаем альтернативную гипотезу: {H2} при a = {alpha}.')\n",
        "else:\n",
        "    print(f'Не отвергаем нулевую гипотезу: {H0} при a = {alpha}.')"
      ]
    },
    {
      "cell_type": "markdown",
      "metadata": {
        "id": "AVUs-d0fbmqK"
      },
      "source": [
        "**Результат**: принимаем гипотезу, что среднее число сетов уменьшилось в 2002-2022 годах по сравнению с 1980-2001"
      ]
    },
    {
      "cell_type": "markdown",
      "metadata": {
        "id": "X3dE6AUDbmqK"
      },
      "source": [
        "## Задача 3:\n",
        "У вас появились сомнения — не является ли результат, который вы посчитали на предыдущем шаге, некорректным. Кажется, что на это мог повлиять формат самого матча — best of 3 или best of 5. Оставьте только матчи best of 5 (колонка best_of) и определите — является ли разница среднего количества сетов, которое сыграл победитель, значимой для выборок матчей по 1980 до 2001 гг. и 2002-2022 гг. Выбор статистического теста обоснуйте."
      ]
    },
    {
      "cell_type": "code",
      "execution_count": 26,
      "metadata": {
        "colab": {
          "base_uri": "https://localhost:8080/",
          "height": 395
        },
        "id": "mvek8B4rbmqK",
        "outputId": "d9e86576-9b5a-427f-da57-faddcc956268"
      },
      "outputs": [
        {
          "data": {
            "text/html": [
              "<div>\n",
              "<style scoped>\n",
              "    .dataframe tbody tr th:only-of-type {\n",
              "        vertical-align: middle;\n",
              "    }\n",
              "\n",
              "    .dataframe tbody tr th {\n",
              "        vertical-align: top;\n",
              "    }\n",
              "\n",
              "    .dataframe thead th {\n",
              "        text-align: right;\n",
              "    }\n",
              "</style>\n",
              "<table border=\"1\" class=\"dataframe\">\n",
              "  <thead>\n",
              "    <tr style=\"text-align: right;\">\n",
              "      <th></th>\n",
              "      <th>tourney_date</th>\n",
              "      <th>score</th>\n",
              "      <th>winner_id</th>\n",
              "      <th>best_of</th>\n",
              "      <th>year</th>\n",
              "      <th>sets_count</th>\n",
              "    </tr>\n",
              "  </thead>\n",
              "  <tbody>\n",
              "    <tr>\n",
              "      <th>860</th>\n",
              "      <td>19810901</td>\n",
              "      <td>3-6 6-3 6-4 3-6 6-3</td>\n",
              "      <td>100611</td>\n",
              "      <td>5</td>\n",
              "      <td>1981</td>\n",
              "      <td>5</td>\n",
              "    </tr>\n",
              "    <tr>\n",
              "      <th>341</th>\n",
              "      <td>19800826</td>\n",
              "      <td>2-6 1-6 7-6 4-2 RET</td>\n",
              "      <td>100477</td>\n",
              "      <td>5</td>\n",
              "      <td>1980</td>\n",
              "      <td>4</td>\n",
              "    </tr>\n",
              "    <tr>\n",
              "      <th>9514</th>\n",
              "      <td>19930118</td>\n",
              "      <td>7-6(3) 6-1 7-5</td>\n",
              "      <td>101195</td>\n",
              "      <td>5</td>\n",
              "      <td>1993</td>\n",
              "      <td>3</td>\n",
              "    </tr>\n",
              "    <tr>\n",
              "      <th>3309</th>\n",
              "      <td>19850527</td>\n",
              "      <td>7-6 5-7 6-1 6-3</td>\n",
              "      <td>101276</td>\n",
              "      <td>5</td>\n",
              "      <td>1985</td>\n",
              "      <td>4</td>\n",
              "    </tr>\n",
              "    <tr>\n",
              "      <th>14185</th>\n",
              "      <td>19990524</td>\n",
              "      <td>6-4 1-6 6-3 6-1</td>\n",
              "      <td>102271</td>\n",
              "      <td>5</td>\n",
              "      <td>1999</td>\n",
              "      <td>4</td>\n",
              "    </tr>\n",
              "  </tbody>\n",
              "</table>\n",
              "</div>"
            ],
            "text/plain": [
              "       tourney_date                score  winner_id  best_of  year  sets_count\n",
              "860        19810901  3-6 6-3 6-4 3-6 6-3     100611        5  1981           5\n",
              "341        19800826  2-6 1-6 7-6 4-2 RET     100477        5  1980           4\n",
              "9514       19930118       7-6(3) 6-1 7-5     101195        5  1993           3\n",
              "3309       19850527      7-6 5-7 6-1 6-3     101276        5  1985           4\n",
              "14185      19990524      6-4 1-6 6-3 6-1     102271        5  1999           4"
            ]
          },
          "metadata": {},
          "output_type": "display_data"
        },
        {
          "data": {
            "text/html": [
              "<div>\n",
              "<style scoped>\n",
              "    .dataframe tbody tr th:only-of-type {\n",
              "        vertical-align: middle;\n",
              "    }\n",
              "\n",
              "    .dataframe tbody tr th {\n",
              "        vertical-align: top;\n",
              "    }\n",
              "\n",
              "    .dataframe thead th {\n",
              "        text-align: right;\n",
              "    }\n",
              "</style>\n",
              "<table border=\"1\" class=\"dataframe\">\n",
              "  <thead>\n",
              "    <tr style=\"text-align: right;\">\n",
              "      <th></th>\n",
              "      <th>tourney_date</th>\n",
              "      <th>score</th>\n",
              "      <th>winner_id</th>\n",
              "      <th>best_of</th>\n",
              "      <th>year</th>\n",
              "      <th>sets_count</th>\n",
              "    </tr>\n",
              "  </thead>\n",
              "  <tbody>\n",
              "    <tr>\n",
              "      <th>12759</th>\n",
              "      <td>20190826</td>\n",
              "      <td>6-3 6-4 6-4</td>\n",
              "      <td>132283</td>\n",
              "      <td>5</td>\n",
              "      <td>2019</td>\n",
              "      <td>3</td>\n",
              "    </tr>\n",
              "    <tr>\n",
              "      <th>11107</th>\n",
              "      <td>20161125</td>\n",
              "      <td>6-7(4) 2-6 7-5 6-4 6-3</td>\n",
              "      <td>105223</td>\n",
              "      <td>5</td>\n",
              "      <td>2016</td>\n",
              "      <td>5</td>\n",
              "    </tr>\n",
              "    <tr>\n",
              "      <th>12455</th>\n",
              "      <td>20190114</td>\n",
              "      <td>6-4 7-6(8) 7-6(2)</td>\n",
              "      <td>105936</td>\n",
              "      <td>5</td>\n",
              "      <td>2019</td>\n",
              "      <td>3</td>\n",
              "    </tr>\n",
              "    <tr>\n",
              "      <th>4151</th>\n",
              "      <td>20070827</td>\n",
              "      <td>6-7(3) 6-4 7-6(4) 6-2</td>\n",
              "      <td>103970</td>\n",
              "      <td>5</td>\n",
              "      <td>2007</td>\n",
              "      <td>4</td>\n",
              "    </tr>\n",
              "    <tr>\n",
              "      <th>11388</th>\n",
              "      <td>20170529</td>\n",
              "      <td>6-4 6-0 3-6 6-1</td>\n",
              "      <td>105379</td>\n",
              "      <td>5</td>\n",
              "      <td>2017</td>\n",
              "      <td>4</td>\n",
              "    </tr>\n",
              "  </tbody>\n",
              "</table>\n",
              "</div>"
            ],
            "text/plain": [
              "       tourney_date                   score  winner_id  best_of  year  \\\n",
              "12759      20190826             6-3 6-4 6-4     132283        5  2019   \n",
              "11107      20161125  6-7(4) 2-6 7-5 6-4 6-3     105223        5  2016   \n",
              "12455      20190114       6-4 7-6(8) 7-6(2)     105936        5  2019   \n",
              "4151       20070827   6-7(3) 6-4 7-6(4) 6-2     103970        5  2007   \n",
              "11388      20170529         6-4 6-0 3-6 6-1     105379        5  2017   \n",
              "\n",
              "       sets_count  \n",
              "12759           3  \n",
              "11107           5  \n",
              "12455           3  \n",
              "4151            4  \n",
              "11388           4  "
            ]
          },
          "metadata": {},
          "output_type": "display_data"
        }
      ],
      "source": [
        "# фильтруем выборки из предыдущей задачи по best of 5\n",
        "sample1980_2001_3 = sample1980_2001[sample1980_2001['best_of'] == 5].reset_index(drop=True)\n",
        "sample2002_2022_3 = sample2002_2022[sample2002_2022['best_of'] == 5].reset_index(drop=True)\n",
        "\n",
        "display(sample1980_2001_3.sample(5), sample2002_2022_3.sample(5))"
      ]
    },
    {
      "cell_type": "markdown",
      "metadata": {
        "id": "0n84NP79bmqL"
      },
      "source": [
        "**Проверим данные - столбец sets_count - на нормальность**"
      ]
    },
    {
      "cell_type": "code",
      "execution_count": 27,
      "metadata": {
        "colab": {
          "base_uri": "https://localhost:8080/"
        },
        "id": "nRIbvSFqbmqL",
        "outputId": "88bb2cda-aacc-495d-f2d9-7100a3e0ba29"
      },
      "outputs": [
        {
          "name": "stdout",
          "output_type": "stream",
          "text": [
            "Тест Д’Агостино p=0.000\n",
            "Тест Андерсона-Дарлинга p=7824.959 critical_value=0.787\n",
            "Данные не распределены нормально (мы отвергаем H0)\n",
            "False\n",
            "Тест Д’Агостино p=0.000\n",
            "Тест Андерсона-Дарлинга p=5524.548 critical_value=0.787\n",
            "Данные не распределены нормально (мы отвергаем H0)\n",
            "False\n"
          ]
        }
      ],
      "source": [
        "print(normal(sample1980_2001['sets_count']))\n",
        "print(normal(sample2002_2022['sets_count']))"
      ]
    },
    {
      "cell_type": "markdown",
      "metadata": {
        "id": "Ei6NpzXnbmqL"
      },
      "source": [
        "Используем **U-критерий Манна-Уитни**\n",
        "\n",
        "U-критерий Манна-Уитни является непараметрическим критерием и не требует наличия нормального распределения сравниваемых совокупностей; подходит для сравнения малых независимых выборок. Условием для применения U-критерия Манна-Уитни является отсутствие в сравниваемых группах совпадающих значений признака (все числа – разные) или очень малое число таких совпадений.\n",
        "\n",
        "Если после разделения каждая из подвыборок не содержит парных наблюдений, то они будут считаться независимыми в контексте статистического анализа. В таком случае, чтобы сравнить средние количества сетов между двумя независимыми выборками, можно использовать t-тест (если данные удовлетворяют условиям применения t-теста), или непараметрический U-тест Манна-Уитни. Поскольку проведенный тест Андерсона-Дарлинга и тест Деагостино не указали на нормальность распределений, подходит тест Мана-Уитни\n",
        "\n",
        "https://medstatistic.ru/methods/methods2.html\n",
        "https://docs.scipy.org/doc/scipy/reference/generated/scipy.stats.mannwhitneyu.html\n",
        "\n",
        "alternative: {‘two-sided’, ‘less’, ‘greater’}"
      ]
    },
    {
      "cell_type": "code",
      "execution_count": 28,
      "metadata": {
        "colab": {
          "base_uri": "https://localhost:8080/"
        },
        "id": "SJEv211XbmqL",
        "outputId": "546e5fe8-65fc-4ed6-aef9-653b77a28c2c"
      },
      "outputs": [
        {
          "name": "stdout",
          "output_type": "stream",
          "text": [
            "U-статистика: 2396483116.5\n",
            "p-значение: 1.3954891962874986e-12\n",
            "Нулевая гипотеза:Среднее число сетов для выборок 1980-2001 и 2002-2022 не отличается значительно\n",
            "Альтернативная гипотеза:Среднее число сетов изменилось в 2002-2022 годах по сравнению с 1980-2001\n",
            "Отвергаем нулевую гипотезу: Среднее число сетов для выборок 1980-2001 и 2002-2022 не отличается значительно при a = 0.05.\n",
            "Принимаем альтернативную гипотезу: Среднее число сетов изменилось в 2002-2022 годах по сравнению с 1980-2001 при a = 0.05.\n",
            "Альтернативная гипотеза:Среднее число сетов уменьшилось в 2002-2022 годах по сравнению с 1980-2001\n",
            "U-статистика: 2396483116.5\n",
            "p-значение: 6.977445981437493e-13\n",
            "Отвергаем нулевую гипотезу: Среднее число сетов для выборок 1980-2001 и 2002-2022 не отличается значительно при a = 0.05.\n",
            "Принимаем альтернативную гипотезу: Среднее число сетов уменьшилось в 2002-2022 годах по сравнению с 1980-2001 при a = 0.05.\n"
          ]
        }
      ],
      "source": [
        "stat, p = mannwhitneyu(sample1980_2001['sets_count'], sample2002_2022['sets_count'], alternative='two-sided')\n",
        "alpha = 0.05\n",
        "# Вывод результатов\n",
        "print(f'U-статистика: {stat}')\n",
        "print(f'p-значение: {p}')\n",
        "\n",
        "# Формулировка гипотез\n",
        "H0 = 'Среднее число сетов для выборок 1980-2001 и 2002-2022 не отличается значительно'\n",
        "H1 = 'Среднее число сетов изменилось в 2002-2022 годах по сравнению с 1980-2001'\n",
        "print(f'Нулевая гипотеза:{H0}')\n",
        "print(f'Альтернативная гипотеза:{H1}')\n",
        "\n",
        "# Сравнение p-значения с уровнем значимости\n",
        "if p < alpha:\n",
        "    print(f'Отвергаем нулевую гипотезу: {H0} при a = {alpha}.')\n",
        "    print(f'Принимаем альтернативную гипотезу: {H1} при a = {alpha}.')\n",
        "else:\n",
        "    print(f'Не отвергаем нулевую гипотезу: {H0} при a = {alpha}.')\n",
        "\n",
        "H2 = 'Среднее число сетов уменьшилось в 2002-2022 годах по сравнению с 1980-2001'\n",
        "print(f'Альтернативная гипотеза:{H2}')\n",
        "\n",
        "stat, p = mannwhitneyu(sample1980_2001['sets_count'], sample2002_2022['sets_count'], alternative='less')\n",
        "alpha = 0.05\n",
        "# Вывод результатов\n",
        "print(f'U-статистика: {stat}')\n",
        "print(f'p-значение: {p}')\n",
        "\n",
        "# Сравнение p-значения с уровнем значимости\n",
        "if p < alpha:\n",
        "    print(f'Отвергаем нулевую гипотезу: {H0} при a = {alpha}.')\n",
        "    print(f'Принимаем альтернативную гипотезу: {H2} при a = {alpha}.')\n",
        "else:\n",
        "    print(f'Не отвергаем нулевую гипотезу: {H0} при a = {alpha}.')"
      ]
    },
    {
      "cell_type": "markdown",
      "metadata": {
        "id": "8ejB1oStbmqL"
      },
      "source": [
        "## Задача 4:\n",
        "Вы хотите изучить психологическую устойчивость профессиональных игроков в теннис. Одним из важных показателей такой устойчивости будет доля выигранных брейк-поинтов. Возьмите трех игроков (они необязательно должны играть в одно и то же время. Можете взять игроков, которые сильно отличаются по рангу, а можете взять примерно равных игроков), для каждого из них посчитайте долю выигранных брейк поинтов (колонки, заканчивающиеся на bpFaced и bpSaved) отдельно в победных и проигранных матчах за минимум 10 лет (можно больше, но годы должны идти подряд). Постройте box-plot’ы для этих статистик для каждого из игроков. Являются ли эти распределения по годам (по победным и по проигранным матчам) независимыми для каждого из игроков? Если сравнивать эту статистику между игроками — будет ли разница в средних для проигранных и выигранных матчей значимой попарно между всеми игроками? Выбор статистического теста обоснуйте."
      ]
    },
    {
      "cell_type": "markdown",
      "metadata": {
        "id": "4wTH26FKbmqM"
      },
      "source": [
        "- Выберите трех игроков с разным рангом или примерно равным уровнем игры.\n",
        "- Для каждого игрока соберите данные о сыгранных матчах за период минимум 10 лет подряд. Данные должны включать количество брейк-поинтов, полученных игроком (bpFaced), и количество отыгранных брейк-поинтов (bpSaved) в каждом матче.\n",
        "- Для каждого игрока разделите матчи на две группы: выигранные и проигранные.\n",
        "- Посчитайте долю выигранных брейк-поинтов в каждой группе матчей за каждый год:\n",
        "- Доля выигранных брейк-поинтов = bpSaved / bpFaced"
      ]
    },
    {
      "cell_type": "code",
      "execution_count": 29,
      "metadata": {
        "colab": {
          "base_uri": "https://localhost:8080/",
          "height": 412
        },
        "id": "dumHa-4IbmqM",
        "outputId": "472b22fb-2168-4473-b61e-62dcfc76ab32"
      },
      "outputs": [
        {
          "data": {
            "text/plain": [
              "[103819, 104925, 104745]"
            ]
          },
          "metadata": {},
          "output_type": "display_data"
        },
        {
          "data": {
            "text/html": [
              "<div>\n",
              "<style scoped>\n",
              "    .dataframe tbody tr th:only-of-type {\n",
              "        vertical-align: middle;\n",
              "    }\n",
              "\n",
              "    .dataframe tbody tr th {\n",
              "        vertical-align: top;\n",
              "    }\n",
              "\n",
              "    .dataframe thead th {\n",
              "        text-align: right;\n",
              "    }\n",
              "</style>\n",
              "<table border=\"1\" class=\"dataframe\">\n",
              "  <thead>\n",
              "    <tr style=\"text-align: right;\">\n",
              "      <th></th>\n",
              "      <th>tourney_date</th>\n",
              "      <th>winner_id</th>\n",
              "      <th>loser_id</th>\n",
              "      <th>w_bpSaved</th>\n",
              "      <th>w_bpFaced</th>\n",
              "      <th>l_bpSaved</th>\n",
              "      <th>l_bpFaced</th>\n",
              "      <th>winner_rank</th>\n",
              "      <th>loser_rank</th>\n",
              "      <th>year</th>\n",
              "    </tr>\n",
              "  </thead>\n",
              "  <tbody>\n",
              "    <tr>\n",
              "      <th>700</th>\n",
              "      <td>20081026</td>\n",
              "      <td>104745</td>\n",
              "      <td>104792</td>\n",
              "      <td>9.0</td>\n",
              "      <td>9.0</td>\n",
              "      <td>1.0</td>\n",
              "      <td>4.0</td>\n",
              "      <td>1.0</td>\n",
              "      <td>16.0</td>\n",
              "      <td>2008</td>\n",
              "    </tr>\n",
              "    <tr>\n",
              "      <th>1290</th>\n",
              "      <td>20150510</td>\n",
              "      <td>104925</td>\n",
              "      <td>105064</td>\n",
              "      <td>0.0</td>\n",
              "      <td>2.0</td>\n",
              "      <td>8.0</td>\n",
              "      <td>12.0</td>\n",
              "      <td>1.0</td>\n",
              "      <td>68.0</td>\n",
              "      <td>2015</td>\n",
              "    </tr>\n",
              "    <tr>\n",
              "      <th>1303</th>\n",
              "      <td>20150510</td>\n",
              "      <td>103819</td>\n",
              "      <td>104527</td>\n",
              "      <td>1.0</td>\n",
              "      <td>2.0</td>\n",
              "      <td>2.0</td>\n",
              "      <td>6.0</td>\n",
              "      <td>2.0</td>\n",
              "      <td>9.0</td>\n",
              "      <td>2015</td>\n",
              "    </tr>\n",
              "    <tr>\n",
              "      <th>1419</th>\n",
              "      <td>20230529</td>\n",
              "      <td>104925</td>\n",
              "      <td>111575</td>\n",
              "      <td>8.0</td>\n",
              "      <td>10.0</td>\n",
              "      <td>4.0</td>\n",
              "      <td>8.0</td>\n",
              "      <td>3.0</td>\n",
              "      <td>11.0</td>\n",
              "      <td>2023</td>\n",
              "    </tr>\n",
              "    <tr>\n",
              "      <th>2228</th>\n",
              "      <td>20100809</td>\n",
              "      <td>104745</td>\n",
              "      <td>104259</td>\n",
              "      <td>3.0</td>\n",
              "      <td>4.0</td>\n",
              "      <td>5.0</td>\n",
              "      <td>7.0</td>\n",
              "      <td>1.0</td>\n",
              "      <td>37.0</td>\n",
              "      <td>2010</td>\n",
              "    </tr>\n",
              "  </tbody>\n",
              "</table>\n",
              "</div>"
            ],
            "text/plain": [
              "      tourney_date  winner_id  loser_id  w_bpSaved  w_bpFaced  l_bpSaved  \\\n",
              "700       20081026     104745    104792        9.0        9.0        1.0   \n",
              "1290      20150510     104925    105064        0.0        2.0        8.0   \n",
              "1303      20150510     103819    104527        1.0        2.0        2.0   \n",
              "1419      20230529     104925    111575        8.0       10.0        4.0   \n",
              "2228      20100809     104745    104259        3.0        4.0        5.0   \n",
              "\n",
              "      l_bpFaced  winner_rank  loser_rank  year  \n",
              "700         4.0          1.0        16.0  2008  \n",
              "1290       12.0          1.0        68.0  2015  \n",
              "1303        6.0          2.0         9.0  2015  \n",
              "1419        8.0          3.0        11.0  2023  \n",
              "2228        7.0          1.0        37.0  2010  "
            ]
          },
          "metadata": {},
          "output_type": "display_data"
        },
        {
          "data": {
            "text/html": [
              "<div>\n",
              "<style scoped>\n",
              "    .dataframe tbody tr th:only-of-type {\n",
              "        vertical-align: middle;\n",
              "    }\n",
              "\n",
              "    .dataframe tbody tr th {\n",
              "        vertical-align: top;\n",
              "    }\n",
              "\n",
              "    .dataframe thead th {\n",
              "        text-align: right;\n",
              "    }\n",
              "</style>\n",
              "<table border=\"1\" class=\"dataframe\">\n",
              "  <thead>\n",
              "    <tr style=\"text-align: right;\">\n",
              "      <th></th>\n",
              "      <th>tourney_date</th>\n",
              "      <th>winner_id</th>\n",
              "      <th>loser_id</th>\n",
              "      <th>w_bpSaved</th>\n",
              "      <th>w_bpFaced</th>\n",
              "      <th>l_bpSaved</th>\n",
              "      <th>l_bpFaced</th>\n",
              "      <th>winner_rank</th>\n",
              "      <th>loser_rank</th>\n",
              "      <th>year</th>\n",
              "    </tr>\n",
              "  </thead>\n",
              "  <tbody>\n",
              "    <tr>\n",
              "      <th>1737</th>\n",
              "      <td>20160627</td>\n",
              "      <td>105023</td>\n",
              "      <td>104925</td>\n",
              "      <td>14.0</td>\n",
              "      <td>17.0</td>\n",
              "      <td>11.0</td>\n",
              "      <td>15.0</td>\n",
              "      <td>41.0</td>\n",
              "      <td>1.0</td>\n",
              "      <td>2016</td>\n",
              "    </tr>\n",
              "    <tr>\n",
              "      <th>1057</th>\n",
              "      <td>20040209</td>\n",
              "      <td>104339</td>\n",
              "      <td>104745</td>\n",
              "      <td>0.0</td>\n",
              "      <td>0.0</td>\n",
              "      <td>5.0</td>\n",
              "      <td>8.0</td>\n",
              "      <td>107.0</td>\n",
              "      <td>41.0</td>\n",
              "      <td>2004</td>\n",
              "    </tr>\n",
              "    <tr>\n",
              "      <th>1081</th>\n",
              "      <td>20080420</td>\n",
              "      <td>103819</td>\n",
              "      <td>104925</td>\n",
              "      <td>3.0</td>\n",
              "      <td>4.0</td>\n",
              "      <td>2.0</td>\n",
              "      <td>5.0</td>\n",
              "      <td>1.0</td>\n",
              "      <td>3.0</td>\n",
              "      <td>2008</td>\n",
              "    </tr>\n",
              "    <tr>\n",
              "      <th>2566</th>\n",
              "      <td>20050117</td>\n",
              "      <td>103498</td>\n",
              "      <td>104925</td>\n",
              "      <td>0.0</td>\n",
              "      <td>1.0</td>\n",
              "      <td>4.0</td>\n",
              "      <td>13.0</td>\n",
              "      <td>4.0</td>\n",
              "      <td>188.0</td>\n",
              "      <td>2005</td>\n",
              "    </tr>\n",
              "    <tr>\n",
              "      <th>263</th>\n",
              "      <td>20160118</td>\n",
              "      <td>104925</td>\n",
              "      <td>103819</td>\n",
              "      <td>3.0</td>\n",
              "      <td>4.0</td>\n",
              "      <td>4.0</td>\n",
              "      <td>9.0</td>\n",
              "      <td>1.0</td>\n",
              "      <td>3.0</td>\n",
              "      <td>2016</td>\n",
              "    </tr>\n",
              "  </tbody>\n",
              "</table>\n",
              "</div>"
            ],
            "text/plain": [
              "      tourney_date  winner_id  loser_id  w_bpSaved  w_bpFaced  l_bpSaved  \\\n",
              "1737      20160627     105023    104925       14.0       17.0       11.0   \n",
              "1057      20040209     104339    104745        0.0        0.0        5.0   \n",
              "1081      20080420     103819    104925        3.0        4.0        2.0   \n",
              "2566      20050117     103498    104925        0.0        1.0        4.0   \n",
              "263       20160118     104925    103819        3.0        4.0        4.0   \n",
              "\n",
              "      l_bpFaced  winner_rank  loser_rank  year  \n",
              "1737       15.0         41.0         1.0  2016  \n",
              "1057        8.0        107.0        41.0  2004  \n",
              "1081        5.0          1.0         3.0  2008  \n",
              "2566       13.0          4.0       188.0  2005  \n",
              "263         9.0          1.0         3.0  2016  "
            ]
          },
          "metadata": {},
          "output_type": "display_data"
        }
      ],
      "source": [
        "df_4 = tennis_df[['tourney_date', 'winner_id', 'loser_id', 'w_bpSaved', 'w_bpFaced', 'l_bpSaved', 'l_bpFaced', 'winner_rank', 'loser_rank']].dropna()\n",
        "df_4['year'] = pd.DatetimeIndex(pd.to_datetime(df_4['tourney_date'], format=\"%Y%m%d\")).year\n",
        "\n",
        "# выбираем наиболее частые winner_id\n",
        "ids = list(df_4.winner_id.value_counts().head(3).index)\n",
        "display(ids)\n",
        "\n",
        "# разделите матчи на две группы: выигранные и проигранные\n",
        "win_matches = df_4[df_4['winner_id'].isin(ids)]\n",
        "loss_matches = df_4[df_4['loser_id'].isin(ids)]\n",
        "\n",
        "display(win_matches.sample(5), loss_matches.sample(5))"
      ]
    },
    {
      "cell_type": "code",
      "execution_count": 30,
      "metadata": {
        "id": "D5B-wU6ubmqM"
      },
      "outputs": [],
      "source": [
        "matches_grouped = pd.DataFrame()\n",
        "# группируя по годам и игрокам считаем долю выигранных брейк-поинтов = bpSaved / bpFaced\n",
        "for id in ids:\n",
        "    current = (win_matches[win_matches['winner_id'] == id]\n",
        "                        .groupby(['year'])\n",
        "                        .agg({'w_bpSaved': 'sum', 'w_bpFaced': 'sum'}))\n",
        "    # доля выигранных брейк-поинтов в выигранных матчах\n",
        "    current['bp_won'] = current['w_bpSaved']/current['w_bpFaced']\n",
        "    current['id'] = id\n",
        "    current = current.drop(['w_bpSaved', 'w_bpFaced'], axis=1)\n",
        "    loss_current = (loss_matches[loss_matches['loser_id'] == id]\n",
        "                        .groupby(['year'])\n",
        "                        .agg({'l_bpSaved': 'sum', 'l_bpFaced': 'sum'}))\n",
        "    # доля выигранных брейк-поинтов в проигранных матчах\n",
        "    loss_current['bp_loss'] = loss_current['l_bpSaved']/loss_current['l_bpFaced']\n",
        "    loss_current = loss_current.drop(['l_bpSaved', 'l_bpFaced'], axis=1)\n",
        "    current = current.merge(loss_current, on='year')\n",
        "    matches_grouped = pd.concat([matches_grouped, current])\n"
      ]
    },
    {
      "cell_type": "code",
      "execution_count": 31,
      "metadata": {
        "colab": {
          "base_uri": "https://localhost:8080/",
          "height": 493
        },
        "id": "8i_R6s08bmqM",
        "outputId": "73c22e1d-8a35-4767-905a-05ab4815cb11"
      },
      "outputs": [
        {
          "data": {
            "image/png": "[encoded data removed]",
            "text/plain": [
              "<Figure size 640x480 with 1 Axes>"
            ]
          },
          "metadata": {},
          "output_type": "display_data"
        }
      ],
      "source": [
        "matches_grouped_plot = matches_grouped.groupby(['year', 'id']).size().unstack().plot(kind='bar', stacked=False, width=0.8, color=['red', 'blue', 'lightgreen']);\n",
        "matches_grouped_plot.set_title('Распределение наличия матчей по годам для каждого игрока');\n",
        "matches_grouped_plot.set_xlabel('Год');"
      ]
    },
    {
      "cell_type": "code",
      "execution_count": 32,
      "metadata": {
        "colab": {
          "base_uri": "https://localhost:8080/",
          "height": 1000
        },
        "id": "XiUJDDMBbmqN",
        "outputId": "fb7301d7-62ef-445c-c359-dac25a960c84"
      },
      "outputs": [
        {
          "data": {
            "text/html": [
              "<div>\n",
              "<style scoped>\n",
              "    .dataframe tbody tr th:only-of-type {\n",
              "        vertical-align: middle;\n",
              "    }\n",
              "\n",
              "    .dataframe tbody tr th {\n",
              "        vertical-align: top;\n",
              "    }\n",
              "\n",
              "    .dataframe thead th {\n",
              "        text-align: right;\n",
              "    }\n",
              "</style>\n",
              "<table border=\"1\" class=\"dataframe\">\n",
              "  <thead>\n",
              "    <tr style=\"text-align: right;\">\n",
              "      <th></th>\n",
              "      <th>bp_won</th>\n",
              "      <th>id</th>\n",
              "      <th>bp_loss</th>\n",
              "    </tr>\n",
              "    <tr>\n",
              "      <th>year</th>\n",
              "      <th></th>\n",
              "      <th></th>\n",
              "      <th></th>\n",
              "    </tr>\n",
              "  </thead>\n",
              "  <tbody>\n",
              "    <tr>\n",
              "      <th>2006</th>\n",
              "      <td>0.718841</td>\n",
              "      <td>103819</td>\n",
              "      <td>0.555556</td>\n",
              "    </tr>\n",
              "    <tr>\n",
              "      <th>2007</th>\n",
              "      <td>0.682731</td>\n",
              "      <td>103819</td>\n",
              "      <td>0.559322</td>\n",
              "    </tr>\n",
              "    <tr>\n",
              "      <th>2008</th>\n",
              "      <td>0.725118</td>\n",
              "      <td>103819</td>\n",
              "      <td>0.611511</td>\n",
              "    </tr>\n",
              "    <tr>\n",
              "      <th>2009</th>\n",
              "      <td>0.760563</td>\n",
              "      <td>103819</td>\n",
              "      <td>0.542056</td>\n",
              "    </tr>\n",
              "    <tr>\n",
              "      <th>2010</th>\n",
              "      <td>0.736842</td>\n",
              "      <td>103819</td>\n",
              "      <td>0.563107</td>\n",
              "    </tr>\n",
              "    <tr>\n",
              "      <th>2011</th>\n",
              "      <td>0.698718</td>\n",
              "      <td>103819</td>\n",
              "      <td>0.576577</td>\n",
              "    </tr>\n",
              "    <tr>\n",
              "      <th>2012</th>\n",
              "      <td>0.744292</td>\n",
              "      <td>103819</td>\n",
              "      <td>0.525000</td>\n",
              "    </tr>\n",
              "    <tr>\n",
              "      <th>2013</th>\n",
              "      <td>0.721212</td>\n",
              "      <td>103819</td>\n",
              "      <td>0.594937</td>\n",
              "    </tr>\n",
              "    <tr>\n",
              "      <th>2014</th>\n",
              "      <td>0.725962</td>\n",
              "      <td>103819</td>\n",
              "      <td>0.648936</td>\n",
              "    </tr>\n",
              "    <tr>\n",
              "      <th>2015</th>\n",
              "      <td>0.719178</td>\n",
              "      <td>103819</td>\n",
              "      <td>0.621951</td>\n",
              "    </tr>\n",
              "    <tr>\n",
              "      <th>2016</th>\n",
              "      <td>0.704918</td>\n",
              "      <td>103819</td>\n",
              "      <td>0.553191</td>\n",
              "    </tr>\n",
              "    <tr>\n",
              "      <th>2017</th>\n",
              "      <td>0.703911</td>\n",
              "      <td>103819</td>\n",
              "      <td>0.454545</td>\n",
              "    </tr>\n",
              "    <tr>\n",
              "      <th>2018</th>\n",
              "      <td>0.701299</td>\n",
              "      <td>103819</td>\n",
              "      <td>0.637931</td>\n",
              "    </tr>\n",
              "    <tr>\n",
              "      <th>2019</th>\n",
              "      <td>0.773006</td>\n",
              "      <td>103819</td>\n",
              "      <td>0.582278</td>\n",
              "    </tr>\n",
              "    <tr>\n",
              "      <th>2006</th>\n",
              "      <td>0.678161</td>\n",
              "      <td>104925</td>\n",
              "      <td>0.576923</td>\n",
              "    </tr>\n",
              "    <tr>\n",
              "      <th>2007</th>\n",
              "      <td>0.695402</td>\n",
              "      <td>104925</td>\n",
              "      <td>0.541667</td>\n",
              "    </tr>\n",
              "    <tr>\n",
              "      <th>2008</th>\n",
              "      <td>0.706107</td>\n",
              "      <td>104925</td>\n",
              "      <td>0.591304</td>\n",
              "    </tr>\n",
              "    <tr>\n",
              "      <th>2009</th>\n",
              "      <td>0.688312</td>\n",
              "      <td>104925</td>\n",
              "      <td>0.600000</td>\n",
              "    </tr>\n",
              "    <tr>\n",
              "      <th>2010</th>\n",
              "      <td>0.699346</td>\n",
              "      <td>104925</td>\n",
              "      <td>0.631016</td>\n",
              "    </tr>\n",
              "    <tr>\n",
              "      <th>2011</th>\n",
              "      <td>0.662207</td>\n",
              "      <td>104925</td>\n",
              "      <td>0.596154</td>\n",
              "    </tr>\n",
              "    <tr>\n",
              "      <th>2012</th>\n",
              "      <td>0.704969</td>\n",
              "      <td>104925</td>\n",
              "      <td>0.493827</td>\n",
              "    </tr>\n",
              "    <tr>\n",
              "      <th>2013</th>\n",
              "      <td>0.676230</td>\n",
              "      <td>104925</td>\n",
              "      <td>0.583333</td>\n",
              "    </tr>\n",
              "    <tr>\n",
              "      <th>2014</th>\n",
              "      <td>0.666667</td>\n",
              "      <td>104925</td>\n",
              "      <td>0.491525</td>\n",
              "    </tr>\n",
              "    <tr>\n",
              "      <th>2015</th>\n",
              "      <td>0.675497</td>\n",
              "      <td>104925</td>\n",
              "      <td>0.714286</td>\n",
              "    </tr>\n",
              "    <tr>\n",
              "      <th>2016</th>\n",
              "      <td>0.688963</td>\n",
              "      <td>104925</td>\n",
              "      <td>0.621622</td>\n",
              "    </tr>\n",
              "    <tr>\n",
              "      <th>2017</th>\n",
              "      <td>0.629870</td>\n",
              "      <td>104925</td>\n",
              "      <td>0.625000</td>\n",
              "    </tr>\n",
              "    <tr>\n",
              "      <th>2018</th>\n",
              "      <td>0.682028</td>\n",
              "      <td>104925</td>\n",
              "      <td>0.568627</td>\n",
              "    </tr>\n",
              "    <tr>\n",
              "      <th>2019</th>\n",
              "      <td>0.707182</td>\n",
              "      <td>104925</td>\n",
              "      <td>0.511364</td>\n",
              "    </tr>\n",
              "    <tr>\n",
              "      <th>2006</th>\n",
              "      <td>0.705882</td>\n",
              "      <td>104745</td>\n",
              "      <td>0.593750</td>\n",
              "    </tr>\n",
              "    <tr>\n",
              "      <th>2007</th>\n",
              "      <td>0.711538</td>\n",
              "      <td>104745</td>\n",
              "      <td>0.500000</td>\n",
              "    </tr>\n",
              "    <tr>\n",
              "      <th>2008</th>\n",
              "      <td>0.719595</td>\n",
              "      <td>104745</td>\n",
              "      <td>0.566265</td>\n",
              "    </tr>\n",
              "    <tr>\n",
              "      <th>2009</th>\n",
              "      <td>0.697595</td>\n",
              "      <td>104745</td>\n",
              "      <td>0.526316</td>\n",
              "    </tr>\n",
              "    <tr>\n",
              "      <th>2010</th>\n",
              "      <td>0.724806</td>\n",
              "      <td>104745</td>\n",
              "      <td>0.562500</td>\n",
              "    </tr>\n",
              "    <tr>\n",
              "      <th>2011</th>\n",
              "      <td>0.697279</td>\n",
              "      <td>104745</td>\n",
              "      <td>0.514085</td>\n",
              "    </tr>\n",
              "    <tr>\n",
              "      <th>2012</th>\n",
              "      <td>0.765363</td>\n",
              "      <td>104745</td>\n",
              "      <td>0.509091</td>\n",
              "    </tr>\n",
              "    <tr>\n",
              "      <th>2013</th>\n",
              "      <td>0.693291</td>\n",
              "      <td>104745</td>\n",
              "      <td>0.671875</td>\n",
              "    </tr>\n",
              "    <tr>\n",
              "      <th>2014</th>\n",
              "      <td>0.715000</td>\n",
              "      <td>104745</td>\n",
              "      <td>0.560440</td>\n",
              "    </tr>\n",
              "    <tr>\n",
              "      <th>2015</th>\n",
              "      <td>0.677903</td>\n",
              "      <td>104745</td>\n",
              "      <td>0.525316</td>\n",
              "    </tr>\n",
              "    <tr>\n",
              "      <th>2016</th>\n",
              "      <td>0.681592</td>\n",
              "      <td>104745</td>\n",
              "      <td>0.600000</td>\n",
              "    </tr>\n",
              "    <tr>\n",
              "      <th>2017</th>\n",
              "      <td>0.741036</td>\n",
              "      <td>104745</td>\n",
              "      <td>0.592105</td>\n",
              "    </tr>\n",
              "    <tr>\n",
              "      <th>2018</th>\n",
              "      <td>0.701299</td>\n",
              "      <td>104745</td>\n",
              "      <td>0.709677</td>\n",
              "    </tr>\n",
              "    <tr>\n",
              "      <th>2019</th>\n",
              "      <td>0.710843</td>\n",
              "      <td>104745</td>\n",
              "      <td>0.593220</td>\n",
              "    </tr>\n",
              "  </tbody>\n",
              "</table>\n",
              "</div>"
            ],
            "text/plain": [
              "        bp_won      id   bp_loss\n",
              "year                            \n",
              "2006  0.718841  103819  0.555556\n",
              "2007  0.682731  103819  0.559322\n",
              "2008  0.725118  103819  0.611511\n",
              "2009  0.760563  103819  0.542056\n",
              "2010  0.736842  103819  0.563107\n",
              "2011  0.698718  103819  0.576577\n",
              "2012  0.744292  103819  0.525000\n",
              "2013  0.721212  103819  0.594937\n",
              "2014  0.725962  103819  0.648936\n",
              "2015  0.719178  103819  0.621951\n",
              "2016  0.704918  103819  0.553191\n",
              "2017  0.703911  103819  0.454545\n",
              "2018  0.701299  103819  0.637931\n",
              "2019  0.773006  103819  0.582278\n",
              "2006  0.678161  104925  0.576923\n",
              "2007  0.695402  104925  0.541667\n",
              "2008  0.706107  104925  0.591304\n",
              "2009  0.688312  104925  0.600000\n",
              "2010  0.699346  104925  0.631016\n",
              "2011  0.662207  104925  0.596154\n",
              "2012  0.704969  104925  0.493827\n",
              "2013  0.676230  104925  0.583333\n",
              "2014  0.666667  104925  0.491525\n",
              "2015  0.675497  104925  0.714286\n",
              "2016  0.688963  104925  0.621622\n",
              "2017  0.629870  104925  0.625000\n",
              "2018  0.682028  104925  0.568627\n",
              "2019  0.707182  104925  0.511364\n",
              "2006  0.705882  104745  0.593750\n",
              "2007  0.711538  104745  0.500000\n",
              "2008  0.719595  104745  0.566265\n",
              "2009  0.697595  104745  0.526316\n",
              "2010  0.724806  104745  0.562500\n",
              "2011  0.697279  104745  0.514085\n",
              "2012  0.765363  104745  0.509091\n",
              "2013  0.693291  104745  0.671875\n",
              "2014  0.715000  104745  0.560440\n",
              "2015  0.677903  104745  0.525316\n",
              "2016  0.681592  104745  0.600000\n",
              "2017  0.741036  104745  0.592105\n",
              "2018  0.701299  104745  0.709677\n",
              "2019  0.710843  104745  0.593220"
            ]
          },
          "metadata": {},
          "output_type": "display_data"
        }
      ],
      "source": [
        "# выберем года с 2006 по 2019\n",
        "matches_grouped = matches_grouped[(matches_grouped.index < 2020)&(matches_grouped.index>=2006)]\n",
        "display(matches_grouped)"
      ]
    },
    {
      "cell_type": "code",
      "execution_count": 33,
      "metadata": {
        "colab": {
          "base_uri": "https://localhost:8080/",
          "height": 460
        },
        "id": "2PPtssafbmqN",
        "outputId": "4f4d9184-13bb-4262-c41f-0e0dfbfadc2a"
      },
      "outputs": [
        {
          "data": {
            "text/plain": [
              "<Figure size 640x480 with 0 Axes>"
            ]
          },
          "metadata": {},
          "output_type": "display_data"
        },
        {
          "data": {
            "image/png": "[encoded data removed]",
            "text/plain": [
              "<Figure size 640x480 with 4 Axes>"
            ]
          },
          "metadata": {},
          "output_type": "display_data"
        }
      ],
      "source": [
        "# Строим боксплоты для каждого столбца\n",
        "plt.figure()\n",
        "matches_grouped.groupby('id')[['bp_won', 'bp_loss']].boxplot()\n",
        "plt.show()"
      ]
    },
    {
      "cell_type": "markdown",
      "metadata": {
        "id": "HyyAzfEkbmqN"
      },
      "source": [
        "Являются ли эти распределения по годам (по победным и по проигранным матчам) независимыми для каждого из игроков?\n",
        "\n",
        "$Н_0$ - распределения по годам (по победным и по проигранным матчам) независимы для каждого из игроков\n",
        "\n",
        "$Н_a$ - распределения по годам (по победным и по проигранным матчам) зависимы хотя бы для одного игрока\n",
        "\n",
        "$alpha = 0.05$\n",
        "\n",
        "Для решения этого вопроса воспользуемся тестом на независимость из семейства тестов хи-квадрата (https://docs.scipy.org/doc/scipy/reference/generated/scipy.stats.chi2_contingency.html) — это непараметрический, одновыборочный тест, который проверяет наличие связи между двумя переменными."
      ]
    },
    {
      "cell_type": "code",
      "execution_count": 34,
      "metadata": {
        "colab": {
          "base_uri": "https://localhost:8080/"
        },
        "id": "b_Z37o0-bmqN",
        "outputId": "a98f8249-2625-4954-8373-f128507b1318"
      },
      "outputs": [
        {
          "name": "stdout",
          "output_type": "stream",
          "text": [
            "Нулевая гипотеза:Распределения по годам независимы для игрока\n",
            "Альтернативная гипотеза:Распределения по годам зависимы для данного игрока\n",
            "Для игрока 103819 принимаем нулевую гипотезу. Распределения по годам независимы для игрока\n",
            "Для игрока 104925 принимаем нулевую гипотезу. Распределения по годам независимы для игрока\n",
            "Для игрока 104745 принимаем нулевую гипотезу. Распределения по годам независимы для игрока\n"
          ]
        }
      ],
      "source": [
        "from scipy.stats import chi2_contingency\n",
        "\n",
        "H0 = 'Распределения по годам независимы для игрока'\n",
        "H1 = 'Распределения по годам зависимы для данного игрока'\n",
        "alpha = 0.05\n",
        "print(f'Нулевая гипотеза:{H0}')\n",
        "print(f'Альтернативная гипотеза:{H1}')\n",
        "\n",
        "for id in ids:\n",
        "    # вычисляем результат теста\n",
        "    result1 = chi2_contingency(matches_grouped[matches_grouped['id'] == id].iloc[:, [0, 2]])\n",
        "\n",
        "    # сравниваем полученное p-value с уровнем значимости\n",
        "    if (result1.pvalue > alpha):\n",
        "        print(\"Для игрока {} принимаем нулевую гипотезу. {}\".format(id, H0))\n",
        "\n",
        "    else:\n",
        "        print(\"Для игрока {} отвергаем нулевую гипотезу. Альтернативная гипотеза. H1: {}\".format(id, H1))"
      ]
    },
    {
      "cell_type": "markdown",
      "metadata": {
        "id": "GCNO7bwVbmqO"
      },
      "source": [
        "Попарная между игроками независимоть распределений"
      ]
    },
    {
      "cell_type": "code",
      "execution_count": 35,
      "metadata": {
        "colab": {
          "base_uri": "https://localhost:8080/"
        },
        "id": "o-ihLKBHbmqO",
        "outputId": "0ed3022e-36e8-4e6f-d849-dc88357bdf21"
      },
      "outputs": [
        {
          "name": "stdout",
          "output_type": "stream",
          "text": [
            "Нулевая гипотеза:Распределения по годам независимы для каждой пары игроков\n",
            "Альтернативная гипотеза:Распределения по годам зависимы хотя бы для одного игрока\n",
            "Принимаем нулевую гипотезу. Распределения по годам независимы для каждой пары игроков\n"
          ]
        }
      ],
      "source": [
        "H0 = 'Распределения по годам независимы для каждой пары игроков'\n",
        "H1 = 'Распределения по годам зависимы хотя бы для одного игрока'\n",
        "alpha = 0.05\n",
        "print(f'Нулевая гипотеза:{H0}')\n",
        "print(f'Альтернативная гипотеза:{H1}')\n",
        "\n",
        "# вычисляем результат теста\n",
        "result1 = chi2_contingency(matches_grouped.iloc[0:14, 0], matches_grouped.iloc[14:28, 0])\n",
        "result2 = chi2_contingency(matches_grouped.iloc[0:14, 0], matches_grouped.iloc[28:42, 0])\n",
        "result3 = chi2_contingency(matches_grouped.iloc[28:42, 0], matches_grouped.iloc[14:28, 0])\n",
        "result4 = chi2_contingency(matches_grouped.iloc[0:14, 2], matches_grouped.iloc[14:28, 2])\n",
        "result5 = chi2_contingency(matches_grouped.iloc[0:14, 2], matches_grouped.iloc[28:42, 2])\n",
        "result6 = chi2_contingency(matches_grouped.iloc[28:42, 2], matches_grouped.iloc[14:28, 2])\n",
        "\n",
        "# сравниваем полученное p-value с уровнем значимости\n",
        "if (result1.pvalue > alpha) & (result2.pvalue > alpha) & \\\n",
        "    (result3.pvalue > alpha) & (result4.pvalue > alpha) & \\\n",
        "    (result5.pvalue > alpha) & (result6.pvalue > alpha):\n",
        "    print(\"Принимаем нулевую гипотезу. {}\".format(H0))\n",
        "\n",
        "else:\n",
        "    print(\"Отвергаем нулевую гипотезу.\")\n",
        "    print(\"Альтернативная гипотеза. H1: {}\".format(H1))"
      ]
    },
    {
      "cell_type": "markdown",
      "metadata": {
        "id": "SoAhrKxYbmqO"
      },
      "source": [
        "Если сравнивать эту статистику между игроками — будет ли разница в средних для проигранных и выигранных матчей значимой попарно между всеми игроками?\n",
        "Для сравнения долей выигранных брейк-поинтов между игроками можно использовать тест Краскела-Уоллиса (https://docs.scipy.org/doc/scipy/reference/generated/scipy.stats.kruskal.html#scipy.stats.kruskal) для независимых выборок.\n",
        "\n",
        "$Н_0$ - средние доли выигранных брейк-поинтов одинаковы\n",
        "\n",
        "$Н_a$ - средние доли выигранных брейк-поинтов различны\n",
        "\n",
        "$alpha = 0.05$\n"
      ]
    },
    {
      "cell_type": "code",
      "execution_count": 36,
      "metadata": {
        "colab": {
          "base_uri": "https://localhost:8080/"
        },
        "id": "BQBTXXh8bmqO",
        "outputId": "57364c7f-ce10-461e-c692-08d5f6641aa1"
      },
      "outputs": [
        {
          "name": "stdout",
          "output_type": "stream",
          "text": [
            "Нулевая гипотеза:средние доли выигранных брейк-поинтов одинаковы\n",
            "Альтернативная гипотеза:средние доли выигранных брейк-поинтов различны\n",
            "Сравнение для игроков 103819 и 104925: Принимаем нулевую гипотезу: средние доли выигранных брейк-поинтов одинаковы.\n",
            "Сравнение для игроков 103819 и 104745: Принимаем нулевую гипотезу: средние доли выигранных брейк-поинтов одинаковы.\n",
            "Сравнение для игроков 104925 и 104745: Принимаем нулевую гипотезу: средние доли выигранных брейк-поинтов одинаковы.\n"
          ]
        }
      ],
      "source": [
        "from scipy.stats import kruskal\n",
        "\n",
        "H0 = 'средние доли выигранных брейк-поинтов одинаковы'\n",
        "H1 = 'средние доли выигранных брейк-поинтов различны'\n",
        "alpha = 0.05\n",
        "print(f'Нулевая гипотеза:{H0}')\n",
        "print(f'Альтернативная гипотеза:{H1}')\n",
        "\n",
        "# Попарные сравнения с помощью теста Манна-Уитни с поправкой Бонферрони\n",
        "for i in range(len(ids)):\n",
        "    for j in range(i+1, len(ids)):\n",
        "        player1_data = matches_grouped[matches_grouped['id'] == ids[i]].iloc[:, [0, 2]]\n",
        "        player2_data = matches_grouped[matches_grouped['id'] == ids[j]].iloc[:, [0, 2]]\n",
        "        statistic, p_value = kruskal(player1_data.iloc[0], player2_data.iloc[0])\n",
        "        result = \"Отвергаем нулевую гипотезу: средние доли выигранных брейк-поинтов различны.\" if p_value < 0.05 else \"Принимаем нулевую гипотезу: средние доли выигранных брейк-поинтов одинаковы.\"\n",
        "        print(f\"Сравнение для игроков {ids[i]} и {ids[j]}: {result}\")"
      ]
    },
    {
      "cell_type": "markdown",
      "metadata": {
        "id": "WvwtOpl9bmqO"
      },
      "source": [
        "**Результат:**\n",
        "\n",
        "- Распределения по годам (по победным и по проигранным матчам) являются независимыми для каждого из игроков\n",
        "\n",
        "- Нет значимой разницы в средних долях выигранных брейк-поинтов для проигранных и выигранных матчейпопарно между всеми игроками"
      ]
    },
    {
      "cell_type": "markdown",
      "metadata": {
        "id": "nVFC68CpbmqP"
      },
      "source": [
        "## Задача 5:\n",
        "У вас есть гипотеза, что доля выигранных брейк-поинтов связана с вероятностью победить в игре. Соберите статистику, где для каждого матча будет собран его исход (победа/поражение) и доля выигранных брейк-поинтов (не забудьте, что в матче два игрока). Разделите долю выигранных брейкпоинтов на группы выше/ниже медианы и, используя информацию о исходе матча, проверьте зависимость между количеством выигранных брейкпоинтов и результатом матча. Насколько сильна эта зависимость? Выбор статистического теста обоснуйте.\n",
        "\n",
        "1. Создайте новый признак, который будет отражать долю выигранных брейк-поинтов для каждого игрока в матче. Доля выигранных брейк-поинтов = bpSaved / bpFaced\n",
        "\n",
        "2. После этого разделите выборку на две группы: матчи, где игроки выиграли брейк-поинты больше или равно медианы, и матчи, где они выиграли меньше медианы.\n",
        "\n",
        "3. Составьте таблицу сопряжённости, где строки будут представлять долю выигранных брейк-поинтов (выше/ниже медианы), а столбцы — исход матча (победа/поражение)."
      ]
    },
    {
      "cell_type": "code",
      "execution_count": 37,
      "metadata": {
        "colab": {
          "base_uri": "https://localhost:8080/",
          "height": 241
        },
        "id": "fRxPxDwrbmqP",
        "outputId": "9ac45cba-3258-4acf-a4a9-578f8f906cc1"
      },
      "outputs": [
        {
          "data": {
            "text/html": [
              "<div>\n",
              "<style scoped>\n",
              "    .dataframe tbody tr th:only-of-type {\n",
              "        vertical-align: middle;\n",
              "    }\n",
              "\n",
              "    .dataframe tbody tr th {\n",
              "        vertical-align: top;\n",
              "    }\n",
              "\n",
              "    .dataframe thead th {\n",
              "        text-align: right;\n",
              "    }\n",
              "</style>\n",
              "<table border=\"1\" class=\"dataframe\">\n",
              "  <thead>\n",
              "    <tr style=\"text-align: right;\">\n",
              "      <th></th>\n",
              "      <th>tourney_id</th>\n",
              "      <th>match_num</th>\n",
              "      <th>winner_id</th>\n",
              "      <th>loser_id</th>\n",
              "      <th>bp_won</th>\n",
              "      <th>bp_loss</th>\n",
              "    </tr>\n",
              "  </thead>\n",
              "  <tbody>\n",
              "    <tr>\n",
              "      <th>2467</th>\n",
              "      <td>1994-418</td>\n",
              "      <td>7</td>\n",
              "      <td>101482</td>\n",
              "      <td>102201</td>\n",
              "      <td>0.857143</td>\n",
              "      <td>0.333333</td>\n",
              "    </tr>\n",
              "    <tr>\n",
              "      <th>194</th>\n",
              "      <td>2013-580</td>\n",
              "      <td>56</td>\n",
              "      <td>104755</td>\n",
              "      <td>103656</td>\n",
              "      <td>0.000000</td>\n",
              "      <td>0.400000</td>\n",
              "    </tr>\n",
              "    <tr>\n",
              "      <th>2386</th>\n",
              "      <td>2017-560</td>\n",
              "      <td>213</td>\n",
              "      <td>126094</td>\n",
              "      <td>105676</td>\n",
              "      <td>0.333333</td>\n",
              "      <td>0.375000</td>\n",
              "    </tr>\n",
              "    <tr>\n",
              "      <th>2424</th>\n",
              "      <td>2011-560</td>\n",
              "      <td>75</td>\n",
              "      <td>104338</td>\n",
              "      <td>103285</td>\n",
              "      <td>0.750000</td>\n",
              "      <td>0.500000</td>\n",
              "    </tr>\n",
              "    <tr>\n",
              "      <th>1715</th>\n",
              "      <td>2010-540</td>\n",
              "      <td>45</td>\n",
              "      <td>104468</td>\n",
              "      <td>104739</td>\n",
              "      <td>0.750000</td>\n",
              "      <td>0.571429</td>\n",
              "    </tr>\n",
              "  </tbody>\n",
              "</table>\n",
              "</div>"
            ],
            "text/plain": [
              "     tourney_id  match_num  winner_id  loser_id    bp_won   bp_loss\n",
              "2467   1994-418          7     101482    102201  0.857143  0.333333\n",
              "194    2013-580         56     104755    103656  0.000000  0.400000\n",
              "2386   2017-560        213     126094    105676  0.333333  0.375000\n",
              "2424   2011-560         75     104338    103285  0.750000  0.500000\n",
              "1715   2010-540         45     104468    104739  0.750000  0.571429"
            ]
          },
          "metadata": {},
          "output_type": "display_data"
        },
        {
          "data": {
            "text/plain": [
              "0.667"
            ]
          },
          "metadata": {},
          "output_type": "display_data"
        },
        {
          "data": {
            "text/plain": [
              "0.533"
            ]
          },
          "metadata": {},
          "output_type": "display_data"
        }
      ],
      "source": [
        "df_5 = tennis_df[['tourney_id', 'match_num', 'winner_id', 'loser_id', 'w_bpSaved', 'w_bpFaced', 'l_bpSaved', 'l_bpFaced']].dropna()\n",
        "df_5['bp_won'] = df_5['w_bpSaved']/df_5['w_bpFaced']\n",
        "df_5['bp_loss'] = df_5['l_bpSaved']/df_5['l_bpFaced']\n",
        "df_5 = df_5.drop(['w_bpSaved', 'w_bpFaced', 'l_bpSaved', 'l_bpFaced'], axis=1).dropna()\n",
        "display(df_5.sample(5))\n",
        "\n",
        "# Посчитаем медиану по win_bp\n",
        "median_bp_won = df_5['bp_won'].median()\n",
        "median_bp_loss = df_5['bp_loss'].median()\n",
        "display(round(median_bp_won, 3), round(median_bp_loss, 3))"
      ]
    },
    {
      "cell_type": "code",
      "execution_count": 38,
      "metadata": {
        "id": "adUcE7EVbmqP"
      },
      "outputs": [],
      "source": [
        "# Разделим датасет по выигранным и проигранным матчам\n",
        "winners_data = (df_5[['tourney_id', 'match_num', 'winner_id', 'bp_won']]\n",
        "                .rename(columns={'winner_id': 'id', 'bp_won': 'bp'}))\n",
        "losers_data = (df_5[['tourney_id', 'match_num', 'loser_id', 'bp_loss']]\n",
        "               .rename(columns={'loser_id': 'id', 'bp_loss': 'bp'}))\n",
        "\n",
        "# разделим выборку на две группы: матчи, где bp больше или равно медианы (True), и матчи, где bp меньше медианы (False)\n",
        "winners_data['median_bp'] = winners_data['bp'] >= median_bp_won\n",
        "losers_data['median_bp'] = losers_data['bp'] >= median_bp_loss"
      ]
    },
    {
      "cell_type": "code",
      "execution_count": 39,
      "metadata": {
        "colab": {
          "base_uri": "https://localhost:8080/",
          "height": 112
        },
        "id": "sXhLXphLdCW-",
        "outputId": "073997f5-289a-4100-dc79-cca027c7d161"
      },
      "outputs": [
        {
          "data": {
            "text/html": [
              "<div>\n",
              "<style scoped>\n",
              "    .dataframe tbody tr th:only-of-type {\n",
              "        vertical-align: middle;\n",
              "    }\n",
              "\n",
              "    .dataframe tbody tr th {\n",
              "        vertical-align: top;\n",
              "    }\n",
              "\n",
              "    .dataframe thead th {\n",
              "        text-align: right;\n",
              "    }\n",
              "</style>\n",
              "<table border=\"1\" class=\"dataframe\">\n",
              "  <thead>\n",
              "    <tr style=\"text-align: right;\">\n",
              "      <th></th>\n",
              "      <th>winners_data</th>\n",
              "      <th>losers_data</th>\n",
              "      <th>median</th>\n",
              "    </tr>\n",
              "  </thead>\n",
              "  <tbody>\n",
              "    <tr>\n",
              "      <th>0</th>\n",
              "      <td>50875</td>\n",
              "      <td>43188</td>\n",
              "      <td>more_median</td>\n",
              "    </tr>\n",
              "    <tr>\n",
              "      <th>1</th>\n",
              "      <td>35485</td>\n",
              "      <td>43172</td>\n",
              "      <td>less_median</td>\n",
              "    </tr>\n",
              "  </tbody>\n",
              "</table>\n",
              "</div>"
            ],
            "text/plain": [
              "   winners_data  losers_data       median\n",
              "0         50875        43188  more_median\n",
              "1         35485        43172  less_median"
            ]
          },
          "metadata": {},
          "output_type": "display_data"
        }
      ],
      "source": [
        "contingency_table = pd.DataFrame(data={'winners_data': winners_data['median_bp'].value_counts().values,\n",
        "                                       'losers_data': losers_data['median_bp'].value_counts().values,\n",
        "                                       'median': ['more_median', 'less_median']})\n",
        "display(contingency_table)"
      ]
    },
    {
      "cell_type": "code",
      "execution_count": 40,
      "metadata": {
        "colab": {
          "base_uri": "https://localhost:8080/",
          "height": 425
        },
        "id": "oWYztDcngvfQ",
        "outputId": "190a4b5d-37aa-486b-8fcb-04a72827500d"
      },
      "outputs": [
        {
          "data": {
            "image/png": "[encoded data removed]",
            "text/plain": [
              "<Figure size 640x480 with 1 Axes>"
            ]
          },
          "metadata": {},
          "output_type": "display_data"
        }
      ],
      "source": [
        "count_of_games = contingency_table.plot(kind='bar')\n",
        "plt.ylabel('Количество наблюдений')\n",
        "plt.legend(title='Доля выигранных брейкпоинтов')\n",
        "plt.show()"
      ]
    },
    {
      "cell_type": "code",
      "execution_count": 41,
      "metadata": {
        "colab": {
          "base_uri": "https://localhost:8080/"
        },
        "id": "RiZr_Hp_hVYB",
        "outputId": "23b671fe-57b4-4eb3-e4a3-8c4bcaf585c7"
      },
      "outputs": [
        {
          "name": "stdout",
          "output_type": "stream",
          "text": [
            "Тест Д’Агостино p=0.000\n",
            "Тест Андерсона-Дарлинга p=1811.808 critical_value=0.787\n",
            "Данные не распределены нормально (мы отвергаем H0)\n",
            "Тест Д’Агостино p=nan\n",
            "Тест Андерсона-Дарлинга p=nan critical_value=0.787\n",
            "Данные не распределены нормально (мы отвергаем H0)\n"
          ]
        },
        {
          "name": "stderr",
          "output_type": "stream",
          "text": [
            "c:\\Users\\Анна\\AppData\\Local\\Programs\\Python\\Python39\\lib\\site-packages\\scipy\\stats\\_stats_py.py:1070: RuntimeWarning: invalid value encountered in subtract\n",
            "  a_zero_mean = a - mean\n",
            "c:\\Users\\Анна\\AppData\\Local\\Programs\\Python\\Python39\\lib\\site-packages\\scipy\\stats\\_morestats.py:2121: RuntimeWarning: invalid value encountered in subtract\n",
            "  w = (y - xbar) / s\n",
            "c:\\Users\\Анна\\AppData\\Local\\Programs\\Python\\Python39\\lib\\site-packages\\scipy\\stats\\_distn_infrastructure.py:1498: RuntimeWarning: invalid value encountered in subtract\n",
            "  x = (asarray(x)-loc) / scale\n"
          ]
        },
        {
          "data": {
            "text/plain": [
              "False"
            ]
          },
          "execution_count": 41,
          "metadata": {},
          "output_type": "execute_result"
        }
      ],
      "source": [
        "normal(winners_data['bp'])\n",
        "normal(losers_data['bp'])"
      ]
    },
    {
      "cell_type": "markdown",
      "metadata": {
        "id": "sa_vD5i_hxZr"
      },
      "source": [
        "Так как распределение данных отлично от нормального, выберем тест Манна-Уитни, т.к. он является непараметрическим тестом, который не требует нормальности распределения данных. Так же этот тест может использоваться для анализа бинарных данных, таких как количество побед и поражений, что соответствует задаче."
      ]
    },
    {
      "cell_type": "code",
      "execution_count": 42,
      "metadata": {
        "colab": {
          "base_uri": "https://localhost:8080/"
        },
        "id": "WdC5czGbhngl",
        "outputId": "cd357212-cf4c-4729-cd88-981536bfc8bc"
      },
      "outputs": [
        {
          "name": "stdout",
          "output_type": "stream",
          "text": [
            "Нулевая гипотеза:Соотношения долей брейкпоинтов (больше / меньше медианы) -  в группах 0 и 1 равны\n",
            "Альтернативная гипотеза:Доля брейкпоинтов больше медианы -  в группе 0 выше, чем в группе 1\n",
            "U-статистика: 4031281355.5\n",
            "p-значение: 3.1095998430468134e-302\n",
            "Отвергаем нулевую гипотезу: Соотношения долей брейкпоинтов (больше / меньше медианы) -  в группах 0 и 1 равны при a = 0.05.\n",
            "Принимаем альтернативную гипотезу: Доля брейкпоинтов больше медианы -  в группе 0 выше, чем в группе 1 при a = 0.05.\n"
          ]
        }
      ],
      "source": [
        "# гипотезы\n",
        "H0 = 'Соотношения долей брейкпоинтов (больше / меньше медианы) -  в группах 0 и 1 равны'\n",
        "H1 = 'Доля брейкпоинтов больше медианы -  в группе 0 выше, чем в группе 1'\n",
        "alpha = 0.05\n",
        "print(f'Нулевая гипотеза:{H0}')\n",
        "print(f'Альтернативная гипотеза:{H1}')\n",
        "\n",
        "more_median_bp_win = [1] * contingency_table.loc[0, 'winners_data'] + [0] * contingency_table.loc[0, 'losers_data']  # 1 для побед, 0 для поражений в more_median\n",
        "less_median_bp_win = [1] * contingency_table.loc[1, 'winners_data'] + [0] * contingency_table.loc[1, 'losers_data']  # 1 для побед, 0 для поражений в less_median\n",
        "\n",
        "stat, p = mannwhitneyu(more_median_bp_win, less_median_bp_win, alternative='greater')\n",
        "# Вывод результатов\n",
        "print(f'U-статистика: {stat}')\n",
        "print(f'p-значение: {p}')\n",
        "\n",
        "# Сравнение p-значения с уровнем значимости\n",
        "if p < alpha:\n",
        "    print(f'Отвергаем нулевую гипотезу: {H0} при a = {alpha}.')\n",
        "    print(f'Принимаем альтернативную гипотезу: {H1} при a = {alpha}.')\n",
        "else:\n",
        "    print(f'Не отвергаем нулевую гипотезу: {H0} при a = {alpha}.')"
      ]
    },
    {
      "cell_type": "markdown",
      "metadata": {
        "id": "SecW2Z-plAo5"
      },
      "source": [
        "**Результат:**\n",
        "\n",
        "доля выигранных брейк-поинтов связана с вероятностью победить в игре"
      ]
    }
  ],
  "metadata": {
    "colab": {
      "provenance": []
    },
    "kernelspec": {
      "display_name": "Python 3",
      "language": "python",
      "name": "python3"
    },
    "language_info": {
      "codemirror_mode": {
        "name": "ipython",
        "version": 3
      },
      "file_extension": ".py",
      "mimetype": "text/x-python",
      "name": "python",
      "nbconvert_exporter": "python",
      "pygments_lexer": "ipython3",
      "version": "3.9.10"
    }
  },
  "nbformat": 4,
  "nbformat_minor": 0
}
